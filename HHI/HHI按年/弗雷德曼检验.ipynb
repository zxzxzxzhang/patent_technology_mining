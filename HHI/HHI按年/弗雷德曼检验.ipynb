{
 "cells": [
  {
   "cell_type": "code",
   "execution_count": 2,
   "id": "d2987c94-5caf-43b7-85ad-3474b0c8eaa1",
   "metadata": {},
   "outputs": [
    {
     "data": {
      "text/html": [
       "<table class=\"dataframe\">\n",
       "<caption>A matrix: 12 × 6 of type dbl</caption>\n",
       "<thead>\n",
       "\t<tr><th scope=col>df1</th><th scope=col>df2</th><th scope=col>df3</th><th scope=col>df4</th><th scope=col>df5</th><th scope=col>df6</th></tr>\n",
       "</thead>\n",
       "<tbody>\n",
       "\t<tr><td>0.4876033</td><td>0.5000000</td><td>1.0</td><td>0</td><td>0</td><td>1.00000000</td></tr>\n",
       "\t<tr><td>0.4920635</td><td>0.4380165</td><td>1.0</td><td>1</td><td>0</td><td>0.00000000</td></tr>\n",
       "\t<tr><td>0.4644970</td><td>0.5000000</td><td>1.0</td><td>0</td><td>0</td><td>0.00000000</td></tr>\n",
       "\t<tr><td>0.2653061</td><td>0.7222222</td><td>0.0</td><td>1</td><td>1</td><td>0.00000000</td></tr>\n",
       "\t<tr><td>0.3750000</td><td>0.4320988</td><td>0.0</td><td>1</td><td>0</td><td>0.52000000</td></tr>\n",
       "\t<tr><td>0.3148148</td><td>0.5555556</td><td>0.0</td><td>0</td><td>1</td><td>0.00000000</td></tr>\n",
       "\t<tr><td>0.4833795</td><td>0.5555556</td><td>0.0</td><td>0</td><td>1</td><td>0.02040816</td></tr>\n",
       "\t<tr><td>0.5013850</td><td>0.4285714</td><td>0.0</td><td>1</td><td>1</td><td>0.00000000</td></tr>\n",
       "\t<tr><td>0.5009452</td><td>0.4687500</td><td>0.5</td><td>1</td><td>1</td><td>0.00000000</td></tr>\n",
       "\t<tr><td>0.3662741</td><td>0.3580247</td><td>1.0</td><td>1</td><td>1</td><td>0.06172840</td></tr>\n",
       "\t<tr><td>0.4516765</td><td>0.6033058</td><td>0.0</td><td>1</td><td>0</td><td>1.00000000</td></tr>\n",
       "\t<tr><td>0.4305556</td><td>0.6250000</td><td>0.0</td><td>1</td><td>1</td><td>0.00000000</td></tr>\n",
       "</tbody>\n",
       "</table>\n"
      ],
      "text/latex": [
       "A matrix: 12 × 6 of type dbl\n",
       "\\begin{tabular}{llllll}\n",
       " df1 & df2 & df3 & df4 & df5 & df6\\\\\n",
       "\\hline\n",
       "\t 0.4876033 & 0.5000000 & 1.0 & 0 & 0 & 1.00000000\\\\\n",
       "\t 0.4920635 & 0.4380165 & 1.0 & 1 & 0 & 0.00000000\\\\\n",
       "\t 0.4644970 & 0.5000000 & 1.0 & 0 & 0 & 0.00000000\\\\\n",
       "\t 0.2653061 & 0.7222222 & 0.0 & 1 & 1 & 0.00000000\\\\\n",
       "\t 0.3750000 & 0.4320988 & 0.0 & 1 & 0 & 0.52000000\\\\\n",
       "\t 0.3148148 & 0.5555556 & 0.0 & 0 & 1 & 0.00000000\\\\\n",
       "\t 0.4833795 & 0.5555556 & 0.0 & 0 & 1 & 0.02040816\\\\\n",
       "\t 0.5013850 & 0.4285714 & 0.0 & 1 & 1 & 0.00000000\\\\\n",
       "\t 0.5009452 & 0.4687500 & 0.5 & 1 & 1 & 0.00000000\\\\\n",
       "\t 0.3662741 & 0.3580247 & 1.0 & 1 & 1 & 0.06172840\\\\\n",
       "\t 0.4516765 & 0.6033058 & 0.0 & 1 & 0 & 1.00000000\\\\\n",
       "\t 0.4305556 & 0.6250000 & 0.0 & 1 & 1 & 0.00000000\\\\\n",
       "\\end{tabular}\n"
      ],
      "text/markdown": [
       "\n",
       "A matrix: 12 × 6 of type dbl\n",
       "\n",
       "| df1 | df2 | df3 | df4 | df5 | df6 |\n",
       "|---|---|---|---|---|---|\n",
       "| 0.4876033 | 0.5000000 | 1.0 | 0 | 0 | 1.00000000 |\n",
       "| 0.4920635 | 0.4380165 | 1.0 | 1 | 0 | 0.00000000 |\n",
       "| 0.4644970 | 0.5000000 | 1.0 | 0 | 0 | 0.00000000 |\n",
       "| 0.2653061 | 0.7222222 | 0.0 | 1 | 1 | 0.00000000 |\n",
       "| 0.3750000 | 0.4320988 | 0.0 | 1 | 0 | 0.52000000 |\n",
       "| 0.3148148 | 0.5555556 | 0.0 | 0 | 1 | 0.00000000 |\n",
       "| 0.4833795 | 0.5555556 | 0.0 | 0 | 1 | 0.02040816 |\n",
       "| 0.5013850 | 0.4285714 | 0.0 | 1 | 1 | 0.00000000 |\n",
       "| 0.5009452 | 0.4687500 | 0.5 | 1 | 1 | 0.00000000 |\n",
       "| 0.3662741 | 0.3580247 | 1.0 | 1 | 1 | 0.06172840 |\n",
       "| 0.4516765 | 0.6033058 | 0.0 | 1 | 0 | 1.00000000 |\n",
       "| 0.4305556 | 0.6250000 | 0.0 | 1 | 1 | 0.00000000 |\n",
       "\n"
      ],
      "text/plain": [
       "      df1       df2       df3 df4 df5 df6       \n",
       " [1,] 0.4876033 0.5000000 1.0 0   0   1.00000000\n",
       " [2,] 0.4920635 0.4380165 1.0 1   0   0.00000000\n",
       " [3,] 0.4644970 0.5000000 1.0 0   0   0.00000000\n",
       " [4,] 0.2653061 0.7222222 0.0 1   1   0.00000000\n",
       " [5,] 0.3750000 0.4320988 0.0 1   0   0.52000000\n",
       " [6,] 0.3148148 0.5555556 0.0 0   1   0.00000000\n",
       " [7,] 0.4833795 0.5555556 0.0 0   1   0.02040816\n",
       " [8,] 0.5013850 0.4285714 0.0 1   1   0.00000000\n",
       " [9,] 0.5009452 0.4687500 0.5 1   1   0.00000000\n",
       "[10,] 0.3662741 0.3580247 1.0 1   1   0.06172840\n",
       "[11,] 0.4516765 0.6033058 0.0 1   0   1.00000000\n",
       "[12,] 0.4305556 0.6250000 0.0 1   1   0.00000000"
      ]
     },
     "metadata": {},
     "output_type": "display_data"
    }
   ],
   "source": [
    "library(readxl)\n",
    "df1 <- read_excel('聚合物及其制造工艺.xlsx')\n",
    "df2 <- read_excel('薄膜及制品.xlsx')\n",
    "df3 <- read_excel('涂料和粘合剂.xlsx')\n",
    "df4 <- read_excel('纤维和浆料.xlsx')\n",
    "df5 <- read_excel('微生物或酶、其组合物.xlsx')\n",
    "df6 <- read_excel('医用、牙科用或化妆用的配置品、雪茄烟或纸烟的烟嘴.xlsx')\n",
    "\n",
    "df1 = df1$HHI\n",
    "df2 = df2$HHI\n",
    "df3 = df3$HHI\n",
    "df4 = df4$HHI\n",
    "df5 = df5$HHI\n",
    "df6 = df6$HHI\n",
    "data = cbind(df1,df2,df3,df4,df5,df6)\n",
    "data"
   ]
  },
  {
   "cell_type": "code",
   "execution_count": 18,
   "id": "b8bf3314-ff24-4337-aa20-657d22151736",
   "metadata": {},
   "outputs": [
    {
     "data": {
      "text/plain": [
       "\n",
       "\tFriedman rank sum test\n",
       "\n",
       "data:  data\n",
       "Friedman chi-squared = 5.5046, df = 5, p-value = 0.3574\n"
      ]
     },
     "metadata": {},
     "output_type": "display_data"
    }
   ],
   "source": [
    "friedman.test(data)"
   ]
  },
  {
   "cell_type": "code",
   "execution_count": 3,
   "id": "704a8613-57a4-49ee-97c2-7877316f0c0f",
   "metadata": {},
   "outputs": [],
   "source": [
    "wdata = cbind(df1,df2)"
   ]
  },
  {
   "cell_type": "code",
   "execution_count": 5,
   "id": "29aea9f7-f15f-4798-bca8-fda4fbe7f75e",
   "metadata": {},
   "outputs": [
    {
     "name": "stderr",
     "output_type": "stream",
     "text": [
      "Warning message in wilcox.test.default(wdata):\n",
      "\"cannot compute exact p-value with ties\"\n"
     ]
    },
    {
     "data": {
      "text/plain": [
       "\n",
       "\tWilcoxon signed rank test with continuity correction\n",
       "\n",
       "data:  wdata\n",
       "V = 300, p-value = 1.938e-05\n",
       "alternative hypothesis: true location is not equal to 0\n"
      ]
     },
     "metadata": {},
     "output_type": "display_data"
    }
   ],
   "source": [
    "wilcox.test(wdata)"
   ]
  },
  {
   "cell_type": "code",
   "execution_count": 10,
   "id": "a561a77d-c9df-4a34-af55-0e0f3172f489",
   "metadata": {},
   "outputs": [
    {
     "name": "stderr",
     "output_type": "stream",
     "text": [
      "Warning message in ks.test.default(df1, df2, alternative = c(\"two.sided\", \"less\", :\n",
      "\"Parameter(s) conf.level ignored\"\n"
     ]
    },
    {
     "data": {
      "text/plain": [
       "\n",
       "\tExact two-sample Kolmogorov-Smirnov test\n",
       "\n",
       "data:  df1 and df2\n",
       "D = 0.41667, p-value = 0.2558\n",
       "alternative hypothesis: two-sided\n"
      ]
     },
     "metadata": {},
     "output_type": "display_data"
    }
   ],
   "source": [
    "ks.test(df1, df2, alternative = c(\"two.sided\", \"less\", \"greater\"), \n",
    "        exact = NULL, conf.level = 0.95)"
   ]
  }
 ],
 "metadata": {
  "kernelspec": {
   "display_name": "R",
   "language": "R",
   "name": "ir"
  },
  "language_info": {
   "codemirror_mode": "r",
   "file_extension": ".r",
   "mimetype": "text/x-r-source",
   "name": "R",
   "pygments_lexer": "r",
   "version": "4.2.1"
  }
 },
 "nbformat": 4,
 "nbformat_minor": 5
}
