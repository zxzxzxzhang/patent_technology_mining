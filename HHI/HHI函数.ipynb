{
 "cells": [
  {
   "cell_type": "code",
   "execution_count": 2,
   "id": "initial_id",
   "metadata": {
    "collapsed": true,
    "ExecuteTime": {
     "end_time": "2024-02-15T16:08:10.124699900Z",
     "start_time": "2024-02-15T16:08:10.108095400Z"
    }
   },
   "outputs": [],
   "source": [
    "def hhiyear(ipc, count):\n",
    "    if count == 0:\n",
    "        return 0\n",
    "    \n",
    "    hhi = 0\n",
    "    # 计算每个公司的市场份额的平方和\n",
    "    for share in ipc:\n",
    "        hhi += (share / count) ** 2\n",
    "    return hhi"
   ]
  },
  {
   "cell_type": "markdown",
   "source": [
    "# 聚合物及其制造工艺"
   ],
   "metadata": {
    "collapsed": false
   },
   "id": "e4772159d74d2a6b"
  },
  {
   "cell_type": "code",
   "outputs": [],
   "source": [
    "count = [11, 21, 26, 21, 4, 18, 38, 19, 23, 59,39,12]"
   ],
   "metadata": {
    "collapsed": false,
    "ExecuteTime": {
     "end_time": "2024-02-01T01:32:18.804310600Z",
     "start_time": "2024-02-01T01:32:18.790455500Z"
    }
   },
   "id": "72b0cb5ff1b579ce",
   "execution_count": 22
  },
  {
   "cell_type": "code",
   "outputs": [
    {
     "name": "stdout",
     "output_type": "stream",
     "text": [
      "聚合物及其制造工艺\n",
      "0.48760330578512395\n",
      "0.49206349206349204\n",
      "0.4644970414201184\n",
      "0.26530612244897955\n",
      "0.375\n",
      "0.3148148148148148\n",
      "0.48337950138504165\n",
      "0.5013850415512465\n",
      "0.500945179584121\n",
      "0.366274059178397\n",
      "0.4516765285996056\n",
      "0.4305555555555556\n"
     ]
    }
   ],
   "source": [
    "ipc = [[1,3,7], [4,1,2,14], [3,7,16],  [2,2,6,3,8], [1,2,1], [7,4,1,6], [6,6,1,25], [1,6,12], [6,2,15], [3,19,8,29],[1,3,4,6,25],[1,5,6]]\n",
    "print('聚合物及其制造工艺')\n",
    "for sublist, num in zip(ipc, count):\n",
    "    HHI = hhiyear(sublist, num)\n",
    "    print(HHI)"
   ],
   "metadata": {
    "collapsed": false,
    "ExecuteTime": {
     "end_time": "2024-02-01T01:32:21.081595Z",
     "start_time": "2024-02-01T01:32:21.077072900Z"
    }
   },
   "id": "4bcc4994a50b5e7b",
   "execution_count": 23
  },
  {
   "cell_type": "markdown",
   "source": [
    "# 薄膜及制品"
   ],
   "metadata": {
    "collapsed": false
   },
   "id": "1d672def04159974"
  },
  {
   "cell_type": "code",
   "outputs": [],
   "source": [
    "count = [2, 11, 4, 6, 9, 3, 3, 7, 8, 9,11,4]"
   ],
   "metadata": {
    "collapsed": false,
    "ExecuteTime": {
     "end_time": "2024-02-01T01:33:45.772957Z",
     "start_time": "2024-02-01T01:33:45.754358900Z"
    }
   },
   "id": "8f64f66c4891ce9",
   "execution_count": 24
  },
  {
   "cell_type": "code",
   "outputs": [
    {
     "name": "stdout",
     "output_type": "stream",
     "text": [
      "薄膜及制品\n",
      "0.5\n",
      "0.4380165289256198\n",
      "0.5\n",
      "0.7222222222222223\n",
      "0.4320987654320988\n",
      "0.5555555555555556\n",
      "0.5555555555555556\n",
      "0.42857142857142855\n",
      "0.46875\n",
      "0.35802469135802467\n",
      "0.6033057851239669\n",
      "0.625\n"
     ]
    }
   ],
   "source": [
    "ipc = [[1,1],[1,6,4], [2,2],  [1, 5], [3,5,1], [1,2], [1,2], [1,2,4], [2,5,1], [2,3,4],[3,8],[3,1]]\n",
    "print('薄膜及制品')\n",
    "for sublist, num in zip(ipc, count):\n",
    "    HHI = hhiyear(sublist, num)\n",
    "    print(HHI)"
   ],
   "metadata": {
    "collapsed": false,
    "ExecuteTime": {
     "end_time": "2024-02-01T01:33:46.174410400Z",
     "start_time": "2024-02-01T01:33:46.147800100Z"
    }
   },
   "id": "e49011357c6509f0",
   "execution_count": 25
  },
  {
   "cell_type": "markdown",
   "source": [
    "# 微生物或酶、其组合物"
   ],
   "metadata": {
    "collapsed": false
   },
   "id": "897c037df7423c94"
  },
  {
   "cell_type": "code",
   "outputs": [],
   "source": [
    "count = [0, 0, 0, 2, 0, 1, 6, 2, 5, 6,0,3]"
   ],
   "metadata": {
    "collapsed": false,
    "ExecuteTime": {
     "end_time": "2024-02-01T01:36:29.089119200Z",
     "start_time": "2024-02-01T01:36:29.079085800Z"
    }
   },
   "id": "83ae024dbf80eb78",
   "execution_count": 28
  },
  {
   "cell_type": "code",
   "outputs": [
    {
     "name": "stdout",
     "output_type": "stream",
     "text": [
      "微生物或酶、其组合物\n",
      "0\n",
      "0\n",
      "0\n",
      "1.0\n",
      "0\n",
      "1.0\n",
      "1.0\n",
      "1.0\n",
      "1.0\n",
      "1.0\n",
      "0\n",
      "1.0\n"
     ]
    }
   ],
   "source": [
    "ipc = [[0], [0], [0], [2], [0], [1], [6], [2], [5], [6],[0],[3]]\n",
    "print('微生物或酶、其组合物')\n",
    "for sublist, num in zip(ipc, count):\n",
    "    HHI = hhiyear(sublist, num)\n",
    "    print(HHI)"
   ],
   "metadata": {
    "collapsed": false,
    "ExecuteTime": {
     "end_time": "2024-02-01T01:36:29.760071800Z",
     "start_time": "2024-02-01T01:36:29.748071900Z"
    }
   },
   "id": "ffae7a0febae899c",
   "execution_count": 29
  },
  {
   "cell_type": "markdown",
   "source": [
    "# 涂料和粘合剂"
   ],
   "metadata": {
    "collapsed": false
   },
   "id": "f6b6d11042540dc5"
  },
  {
   "cell_type": "code",
   "outputs": [],
   "source": [
    "count = [1, 2, 1, 0, 0, 0, 0, 0, 2, 1,0,0]"
   ],
   "metadata": {
    "collapsed": false,
    "ExecuteTime": {
     "end_time": "2024-02-01T01:27:43.227024300Z",
     "start_time": "2024-02-01T01:27:43.158525800Z"
    }
   },
   "id": "661407744111a355",
   "execution_count": 11
  },
  {
   "cell_type": "code",
   "outputs": [
    {
     "name": "stdout",
     "output_type": "stream",
     "text": [
      "涂料和粘合剂\n",
      "1.0\n",
      "1.0\n",
      "1.0\n",
      "0\n",
      "0\n",
      "0\n",
      "0\n",
      "0\n",
      "0.5\n",
      "1.0\n",
      "0\n",
      "0\n"
     ]
    }
   ],
   "source": [
    "ipc = [[1], [2], [1],  [0], [0], [0], [0], [0], [1, 1], [1], [0], [0]]\n",
    "print('涂料和粘合剂')\n",
    "for sublist, num in zip(ipc, count):\n",
    "    HHI = hhiyear(sublist, num)\n",
    "    print(HHI)"
   ],
   "metadata": {
    "collapsed": false,
    "ExecuteTime": {
     "end_time": "2024-02-01T01:27:43.259365100Z",
     "start_time": "2024-02-01T01:27:43.233005100Z"
    }
   },
   "id": "654a3354c374bca2",
   "execution_count": 12
  },
  {
   "cell_type": "markdown",
   "source": [
    "# 纤维和浆料"
   ],
   "metadata": {
    "collapsed": false
   },
   "id": "401a8ac5aca1df2"
  },
  {
   "cell_type": "code",
   "outputs": [],
   "source": [
    "count = [0, 3, 0, 1, 1, 0, 0, 2, 2, 2,1,1]"
   ],
   "metadata": {
    "collapsed": false,
    "ExecuteTime": {
     "end_time": "2024-02-01T01:39:25.528380400Z",
     "start_time": "2024-02-01T01:39:25.506745100Z"
    }
   },
   "id": "802f5e5364ab22b1",
   "execution_count": 32
  },
  {
   "cell_type": "code",
   "outputs": [
    {
     "name": "stdout",
     "output_type": "stream",
     "text": [
      "纤维和浆料\n",
      "0\n",
      "1.0\n",
      "0\n",
      "1.0\n",
      "1.0\n",
      "0\n",
      "0\n",
      "1.0\n",
      "1.0\n",
      "1.0\n",
      "1.0\n",
      "1.0\n"
     ]
    }
   ],
   "source": [
    "ipc = [[0], [3], [0],  [1], [1], [0], [0], [2], [2], [2], [1], [1]]\n",
    "print('纤维和浆料')\n",
    "for sublist, num in zip(ipc, count):\n",
    "    HHI = hhiyear(sublist, num)\n",
    "    print(HHI)"
   ],
   "metadata": {
    "collapsed": false,
    "ExecuteTime": {
     "end_time": "2024-02-01T01:39:27.447734500Z",
     "start_time": "2024-02-01T01:39:27.432184700Z"
    }
   },
   "id": "be13020f176a2440",
   "execution_count": 33
  },
  {
   "cell_type": "markdown",
   "source": [
    "# 医用、牙科用或化妆用的配置品、雪茄烟或纸烟的烟嘴"
   ],
   "metadata": {
    "collapsed": false
   },
   "id": "424bd2eace7423d5"
  },
  {
   "cell_type": "code",
   "outputs": [],
   "source": [
    "count = [1,0,0,2,5,1,7,2,5,9,2,0]"
   ],
   "metadata": {
    "collapsed": false,
    "ExecuteTime": {
     "end_time": "2024-02-01T01:37:33.277684400Z",
     "start_time": "2024-02-01T01:37:33.253685900Z"
    }
   },
   "id": "7278b5a0c799c32b",
   "execution_count": 30
  },
  {
   "cell_type": "code",
   "outputs": [
    {
     "name": "stdout",
     "output_type": "stream",
     "text": [
      "医用、牙科用或化妆用的配置品、雪茄烟或纸烟的烟嘴\n",
      "1.0\n",
      "0\n",
      "0\n",
      "0.0\n",
      "0.52\n",
      "0.0\n",
      "0.02040816326530612\n",
      "0.0\n",
      "0.0\n",
      "0.06172839506172839\n",
      "1.0\n",
      "0\n"
     ]
    }
   ],
   "source": [
    "ipc = [[1], [0], [0],  [0], [2,3], [0], [1], [0], [0], [1,2],[2],[0]]\n",
    "print('医用、牙科用或化妆用的配置品、雪茄烟或纸烟的烟嘴')\n",
    "for sublist, num in zip(ipc, count):\n",
    "    HHI = hhiyear(sublist, num)\n",
    "    print(HHI)"
   ],
   "metadata": {
    "collapsed": false,
    "ExecuteTime": {
     "end_time": "2024-02-01T01:37:34.487859Z",
     "start_time": "2024-02-01T01:37:34.482157600Z"
    }
   },
   "id": "247bda71adef30b1",
   "execution_count": 31
  },
  {
   "cell_type": "markdown",
   "source": [
    "# HHI"
   ],
   "metadata": {
    "collapsed": false
   },
   "id": "625937f340ac216b"
  },
  {
   "cell_type": "code",
   "outputs": [],
   "source": [
    "def hhi(ipc, count):\n",
    "    hhi = 0\n",
    "    # 计算每个公司的市场份额的平方和\n",
    "    for share in ipc:\n",
    "        hhi += (share / count) ** 2\n",
    "    # 如果IPC子列表中元素个数大于2，则将n个元素的HHI结果相加\n",
    "    return hhi"
   ],
   "metadata": {
    "collapsed": false,
    "ExecuteTime": {
     "end_time": "2024-02-15T16:10:29.536249700Z",
     "start_time": "2024-02-15T16:10:29.502923900Z"
    }
   },
   "id": "f099e659925ae71e",
   "execution_count": 8
  },
  {
   "cell_type": "code",
   "outputs": [
    {
     "data": {
      "text/plain": "0.5005059875189745"
     },
     "execution_count": 9,
     "metadata": {},
     "output_type": "execute_result"
    }
   ],
   "source": [
    "ipc = [314 ,84, 9 ,14 ,26, 15]\n",
    "count = 462\n",
    "hhi(ipc, count)"
   ],
   "metadata": {
    "collapsed": false,
    "ExecuteTime": {
     "end_time": "2024-02-15T16:10:30.024028500Z",
     "start_time": "2024-02-15T16:10:30.009805400Z"
    }
   },
   "id": "ddc7025928ad6f0",
   "execution_count": 9
  },
  {
   "cell_type": "code",
   "outputs": [],
   "source": [],
   "metadata": {
    "collapsed": false
   },
   "id": "ddbebc58d4b8ebc"
  }
 ],
 "metadata": {
  "kernelspec": {
   "display_name": "Python 3",
   "language": "python",
   "name": "python3"
  },
  "language_info": {
   "codemirror_mode": {
    "name": "ipython",
    "version": 2
   },
   "file_extension": ".py",
   "mimetype": "text/x-python",
   "name": "python",
   "nbconvert_exporter": "python",
   "pygments_lexer": "ipython2",
   "version": "2.7.6"
  }
 },
 "nbformat": 4,
 "nbformat_minor": 5
}
