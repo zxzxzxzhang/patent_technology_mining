{
 "cells": [
  {
   "cell_type": "code",
   "id": "6116d617-0959-4114-96e0-669be48cac41",
   "metadata": {
    "ExecuteTime": {
     "end_time": "2024-07-09T06:58:53.032565Z",
     "start_time": "2024-07-09T06:58:52.987302Z"
    }
   },
   "source": "options(repr.plot.width = 6, repr.plot.height = 6, repr.plot.res = 1000)",
   "outputs": [],
   "execution_count": 2
  },
  {
   "cell_type": "code",
   "id": "44fd75e6-9283-4370-a119-c6c509cb21cf",
   "metadata": {
    "ExecuteTime": {
     "end_time": "2024-07-09T06:59:28.919018Z",
     "start_time": "2024-07-09T06:59:27.986529Z"
    }
   },
   "source": [
    "# Load necessary packages\n",
    "library(readxl)\n",
    "\n",
    "# Read the data\n",
    "df <- read_excel('聚合物及其制造工艺.xlsx')\n",
    "degree = 3\n",
    "poly3 <- poly(df$Year, degree = degree)\n",
    "\n",
    "# Perform cubic regression\n",
    "fit <- lm(df$HHI ~ poly3)\n",
    "summary(fit)\n",
    "\n",
    "# Save the plot as a high-resolution JPEG file\n",
    "jpeg('Fig.jpg', width = 6, height = 6, units = 'in', res = 1000)\n",
    "\n",
    "# Plot HHI over years\n",
    "plot(df$Year, df$HHI, type = 'b', xlab = 'Year', ylab = 'HHI', col = '#1E90FF', \n",
    "     ylim = c(0, 1), frame.plot = FALSE, lty = 1, lwd = 2.5, xaxt = \"n\")\n",
    "box(bty = \"L\")\n",
    "\n",
    "# Add the regression curve\n",
    "x <- seq(min(df$Year), max(df$Year), length.out = 100)\n",
    "poly5 <- poly(x, degree = degree)  \n",
    "y <- predict(fit, list(poly3 = poly5))  \n",
    "lines(x, y, col = 'red', lty = 2, lwd = 1.5)\n",
    "\n",
    "# Construct and display the regression equation\n",
    "equation <- bquote(\n",
    "  y == .(round(fit$coefficients[1], 3)) +\n",
    "    .(round(fit$coefficients[2], 3)) * x +\n",
    "    .(round(fit$coefficients[3], 3)) * x^2 -\n",
    "    .(abs(round(fit$coefficients[4], 3))) * x^3\n",
    ")\n",
    "text(2015.6, 0.9, equation)\n",
    "\n",
    "# Add R-squared value\n",
    "text(2013, 0.8, expression(paste(\"R\"^2, \" = 0.32\")))\n",
    "\n",
    "# Customize X-axis labels\n",
    "xticks <- sort(unique(df$Year))\n",
    "axis(side = 1, at = xticks, labels = xticks, cex.axis = 0.75)\n",
    "title('Polymers and their Manufacturing Process')\n",
    "\n",
    "# Close the graphics device and save the file\n",
    "dev.off()"
   ],
   "outputs": [
    {
     "name": "stderr",
     "output_type": "stream",
     "text": [
      "Warning message:\n",
      "\"package 'readxl' was built under R version 4.2.3\"\n"
     ]
    },
    {
     "data": {
      "text/plain": [
       "\n",
       "Call:\n",
       "lm(formula = df$HHI ~ poly3)\n",
       "\n",
       "Residuals:\n",
       "     Min       1Q   Median       3Q      Max \n",
       "-0.10544 -0.04677  0.01172  0.05446  0.07398 \n",
       "\n",
       "Coefficients:\n",
       "            Estimate Std. Error t value Pr(>|t|)    \n",
       "(Intercept)  0.42779    0.02208  19.374 5.23e-08 ***\n",
       "poly31       0.00198    0.07649   0.026    0.980    \n",
       "poly32       0.07796    0.07649   1.019    0.338    \n",
       "poly33      -0.12782    0.07649  -1.671    0.133    \n",
       "---\n",
       "Signif. codes:  0 '***' 0.001 '**' 0.01 '*' 0.05 '.' 0.1 ' ' 1\n",
       "\n",
       "Residual standard error: 0.07649 on 8 degrees of freedom\n",
       "Multiple R-squared:  0.3239,\tAdjusted R-squared:  0.07031 \n",
       "F-statistic: 1.277 on 3 and 8 DF,  p-value: 0.3462\n"
      ]
     },
     "metadata": {},
     "output_type": "display_data"
    },
    {
     "data": {
      "text/html": [
       "<strong>png:</strong> 2"
      ],
      "text/markdown": "**png:** 2",
      "text/latex": "\\textbf{png:} 2",
      "text/plain": [
       "png \n",
       "  2 "
      ]
     },
     "metadata": {},
     "output_type": "display_data"
    }
   ],
   "execution_count": 4
  }
 ],
 "metadata": {
  "kernelspec": {
   "display_name": "R",
   "language": "R",
   "name": "ir"
  },
  "language_info": {
   "codemirror_mode": "r",
   "file_extension": ".r",
   "mimetype": "text/x-r-source",
   "name": "R",
   "pygments_lexer": "r",
   "version": "4.2.1"
  }
 },
 "nbformat": 4,
 "nbformat_minor": 5
}
