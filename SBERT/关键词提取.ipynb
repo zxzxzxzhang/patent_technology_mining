{
 "cells": [
  {
   "cell_type": "code",
   "outputs": [],
   "source": [
    "import pandas as pd\n",
    "\n",
    "text = 'The invention discloses a low pressure process for preparing a polymer film by extrusion blowing in which the raw material consisting of polymer and additive is fed into a multi screw extruder said raw material does not need to be compounded first and then the extrudate is directly passed in a circular die to blow the film'"
   ],
   "metadata": {
    "collapsed": false,
    "ExecuteTime": {
     "end_time": "2024-03-11T08:00:57.717838Z",
     "start_time": "2024-03-11T08:00:57.703893Z"
    }
   },
   "id": "6a5841becfd218ba",
   "execution_count": 2
  },
  {
   "cell_type": "code",
   "outputs": [],
   "source": [],
   "metadata": {
    "collapsed": false
   },
   "id": "dd06c94e5e5bafb0"
  },
  {
   "cell_type": "code",
   "outputs": [
    {
     "name": "stdout",
     "output_type": "stream",
     "text": [
      "invention discloses low pressure process preparing polymer film extrusion blowing raw material consisting polymer additive fed multi screw extruder said raw material need compounded first extrudate directly passed circular die blow film\n"
     ]
    }
   ],
   "source": [
    "from nltk.corpus import stopwords\n",
    "from nltk.tokenize import word_tokenize\n",
    "\n",
    "def filter_stopwords(text):\n",
    "    stop_words = set(stopwords.words(\"english\"))  # 使用英文的停用词表\n",
    "    tokens = word_tokenize(text)  # 分词\n",
    "    filtered_text = [word for word in tokens if word.lower() not in stop_words]  # 过滤停用词\n",
    "    return \" \".join(filtered_text)\n",
    "filtered_text = filter_stopwords(text)"
   ],
   "metadata": {
    "collapsed": false,
    "ExecuteTime": {
     "end_time": "2024-03-11T08:00:58.376697Z",
     "start_time": "2024-03-11T08:00:58.337717Z"
    }
   },
   "id": "dc9c29f42b89cd7a",
   "execution_count": 3
  },
  {
   "cell_type": "code",
   "outputs": [
    {
     "name": "stdout",
     "output_type": "stream",
     "text": [
      "('extruder', 0.4932)\n",
      "('extrusion', 0.4238)\n",
      "('polymer', 0.3466)\n",
      "('extrudate', 0.3189)\n",
      "('process', 0.2937)\n",
      "('pressure', 0.2855)\n",
      "('preparing', 0.2228)\n",
      "('blow', 0.2204)\n",
      "('raw', 0.2079)\n",
      "('film', 0.2034)\n"
     ]
    }
   ],
   "source": [
    "from keybert import KeyBERT\n",
    "\n",
    "# 初始化 KeyBERT 模型\n",
    "model = KeyBERT()\n",
    "\n",
    "# 使用 KeyBERT 模型提取关键词\n",
    "keywords = model.extract_keywords(filtered_text, keyphrase_ngram_range=(1, 1), stop_words=None, top_n=10)\n",
    "\n",
    "# 打印关键词\n",
    "for keyword in keywords:\n",
    "    print(keyword)"
   ],
   "metadata": {
    "collapsed": true,
    "ExecuteTime": {
     "end_time": "2024-03-11T08:03:14.517297Z",
     "start_time": "2024-03-11T08:03:14.266701Z"
    }
   },
   "id": "initial_id",
   "execution_count": 5
  },
  {
   "cell_type": "code",
   "outputs": [
    {
     "data": {
      "text/plain": "                               被引用专利\n0                     WO2023285348A1\n1                     WO2023038856A1\n2  WO2023018932A1 | KR1020210069087A\n3  US20210130606A1 | US20220297414A1",
      "text/html": "<div>\n<style scoped>\n    .dataframe tbody tr th:only-of-type {\n        vertical-align: middle;\n    }\n\n    .dataframe tbody tr th {\n        vertical-align: top;\n    }\n\n    .dataframe thead th {\n        text-align: right;\n    }\n</style>\n<table border=\"1\" class=\"dataframe\">\n  <thead>\n    <tr style=\"text-align: right;\">\n      <th></th>\n      <th>被引用专利</th>\n    </tr>\n  </thead>\n  <tbody>\n    <tr>\n      <th>0</th>\n      <td>WO2023285348A1</td>\n    </tr>\n    <tr>\n      <th>1</th>\n      <td>WO2023038856A1</td>\n    </tr>\n    <tr>\n      <th>2</th>\n      <td>WO2023018932A1 | KR1020210069087A</td>\n    </tr>\n    <tr>\n      <th>3</th>\n      <td>US20210130606A1 | US20220297414A1</td>\n    </tr>\n  </tbody>\n</table>\n</div>"
     },
     "execution_count": 7,
     "metadata": {},
     "output_type": "execute_result"
    }
   ],
   "source": [
    "import pandas as pd\n",
    "a = pd.read_excel('111.xlsx')\n",
    "a"
   ],
   "metadata": {
    "collapsed": false,
    "ExecuteTime": {
     "end_time": "2024-03-11T08:15:14.540875Z",
     "start_time": "2024-03-11T08:15:13.777210Z"
    }
   },
   "id": "82a0afd9a9f4ab3b",
   "execution_count": 7
  },
  {
   "cell_type": "code",
   "outputs": [
    {
     "name": "stdout",
     "output_type": "stream",
     "text": [
      "中国科学院过程工程研究所\n"
     ]
    }
   ],
   "source": [
    "unicode_text = \"\\u4e2d\\u56fd\\u79d1\\u5b66\\u9662\\u8fc7\\u7a0b\\u5de5\\u7a0b\\u7814\\u7a76\\u6240\"\n",
    "utf8_text = unicode_text.encode('utf-8')\n",
    "print(utf8_text.decode('utf-8'))  # 打印转换后的UTF-8文本"
   ],
   "metadata": {
    "collapsed": false,
    "ExecuteTime": {
     "end_time": "2024-03-11T09:04:37.047603Z",
     "start_time": "2024-03-11T09:04:37.032234Z"
    }
   },
   "id": "2be187622b4b821b",
   "execution_count": 43
  },
  {
   "cell_type": "code",
   "outputs": [
    {
     "data": {
      "text/plain": "                               被引用专利  \\\n0                     WO2023285348A1   \n1                     WO2023038856A1   \n2  WO2023018932A1 | KR1020210069087A   \n3  US20210130606A1 | US20220297414A1   \n\n                                              被引专利权人  \n0  Kaneka Corp | \\u682a\\u5f0f\\u4f1a\\u793e\\u30ab\\u...  \n1                                                NaN  \n2  O2 Partners LLC | O2 Partners LLC | O2 Partner...  \n3                                                NaN  ",
      "text/html": "<div>\n<style scoped>\n    .dataframe tbody tr th:only-of-type {\n        vertical-align: middle;\n    }\n\n    .dataframe tbody tr th {\n        vertical-align: top;\n    }\n\n    .dataframe thead th {\n        text-align: right;\n    }\n</style>\n<table border=\"1\" class=\"dataframe\">\n  <thead>\n    <tr style=\"text-align: right;\">\n      <th></th>\n      <th>被引用专利</th>\n      <th>被引专利权人</th>\n    </tr>\n  </thead>\n  <tbody>\n    <tr>\n      <th>0</th>\n      <td>WO2023285348A1</td>\n      <td>Kaneka Corp | \\u682a\\u5f0f\\u4f1a\\u793e\\u30ab\\u...</td>\n    </tr>\n    <tr>\n      <th>1</th>\n      <td>WO2023038856A1</td>\n      <td>NaN</td>\n    </tr>\n    <tr>\n      <th>2</th>\n      <td>WO2023018932A1 | KR1020210069087A</td>\n      <td>O2 Partners LLC | O2 Partners LLC | O2 Partner...</td>\n    </tr>\n    <tr>\n      <th>3</th>\n      <td>US20210130606A1 | US20220297414A1</td>\n      <td>NaN</td>\n    </tr>\n  </tbody>\n</table>\n</div>"
     },
     "execution_count": 46,
     "metadata": {},
     "output_type": "execute_result"
    }
   ],
   "source": [
    "import pandas as pd\n",
    "import re\n",
    "# 创建示例数据框 df\n",
    "df = pd.read_excel('111.xlsx')\n",
    "\n",
    "# 将Unicode列转换为UTF-8\n",
    "df['被引专利权人'] = df['被引专利权人'].str.replace('[', '').str.replace(']', '')\n",
    "\n",
    "# 打印转换后的数据框\n",
    "df"
   ],
   "metadata": {
    "collapsed": false,
    "ExecuteTime": {
     "end_time": "2024-03-11T09:07:16.747994Z",
     "start_time": "2024-03-11T09:07:16.715684Z"
    }
   },
   "id": "343ef12074fdf631",
   "execution_count": 46
  },
  {
   "cell_type": "code",
   "outputs": [
    {
     "data": {
      "text/plain": "                               被引用专利  \\\n0                     WO2023285348A1   \n1                     WO2023038856A1   \n2  WO2023018932A1 | KR1020210069087A   \n3  US20210130606A1 | US20220297414A1   \n\n                                              被引专利权人  \n0                             [Kaneka Corp, 株式会社カネカ]  \n1                                               None  \n2  [O2 Partners LLC, O2 Partners LLC, O2 Partners...  \n3                                               None  ",
      "text/html": "<div>\n<style scoped>\n    .dataframe tbody tr th:only-of-type {\n        vertical-align: middle;\n    }\n\n    .dataframe tbody tr th {\n        vertical-align: top;\n    }\n\n    .dataframe thead th {\n        text-align: right;\n    }\n</style>\n<table border=\"1\" class=\"dataframe\">\n  <thead>\n    <tr style=\"text-align: right;\">\n      <th></th>\n      <th>被引用专利</th>\n      <th>被引专利权人</th>\n    </tr>\n  </thead>\n  <tbody>\n    <tr>\n      <th>0</th>\n      <td>WO2023285348A1</td>\n      <td>[Kaneka Corp, 株式会社カネカ]</td>\n    </tr>\n    <tr>\n      <th>1</th>\n      <td>WO2023038856A1</td>\n      <td>None</td>\n    </tr>\n    <tr>\n      <th>2</th>\n      <td>WO2023018932A1 | KR1020210069087A</td>\n      <td>[O2 Partners LLC, O2 Partners LLC, O2 Partners...</td>\n    </tr>\n    <tr>\n      <th>3</th>\n      <td>US20210130606A1 | US20220297414A1</td>\n      <td>None</td>\n    </tr>\n  </tbody>\n</table>\n</div>"
     },
     "execution_count": 45,
     "metadata": {},
     "output_type": "execute_result"
    }
   ],
   "source": [
    "import pandas as pd\n",
    "import json\n",
    "\n",
    "# 定义一个函数，用于将包含多个专利权人的 Unicode 字符串转换为 UTF-8\n",
    "def unicode_str_to_utf8(unicode_str):\n",
    "    if pd.isnull(unicode_str):  # 检查是否为 NaN 值\n",
    "        return None\n",
    "    \n",
    "    patent_owners = unicode_str.split(\" | \")\n",
    "    utf8_patent_owners = [json.loads(f'\"{owner}\"') for owner in patent_owners]\n",
    "    \n",
    "    return utf8_patent_owners\n",
    "\n",
    "# 在 '被引专利权人' 列上应用转换函数\n",
    "df['被引专利权人'] = df['被引专利权人'].apply(unicode_str_to_utf8)\n",
    "\n",
    "# 显示转换后的 DataFrame\n",
    "df"
   ],
   "metadata": {
    "collapsed": false,
    "ExecuteTime": {
     "end_time": "2024-03-11T09:07:04.140835Z",
     "start_time": "2024-03-11T09:07:04.125305Z"
    }
   },
   "id": "3230cc99180d79d",
   "execution_count": 45
  },
  {
   "cell_type": "code",
   "outputs": [
    {
     "data": {
      "text/plain": "                               被引用专利  \\\n0                     WO2023285348A1   \n1                     WO2023038856A1   \n2  WO2023018932A1 | KR1020210069087A   \n3  US20210130606A1 | US20220297414A1   \n\n                                              被引专利权人  \n0                              Kaneka Corp | 株式会社カネカ  \n1                                               None  \n2  O2 Partners LLC | O2 Partners LLC | O2 Partner...  \n3                                               None  ",
      "text/html": "<div>\n<style scoped>\n    .dataframe tbody tr th:only-of-type {\n        vertical-align: middle;\n    }\n\n    .dataframe tbody tr th {\n        vertical-align: top;\n    }\n\n    .dataframe thead th {\n        text-align: right;\n    }\n</style>\n<table border=\"1\" class=\"dataframe\">\n  <thead>\n    <tr style=\"text-align: right;\">\n      <th></th>\n      <th>被引用专利</th>\n      <th>被引专利权人</th>\n    </tr>\n  </thead>\n  <tbody>\n    <tr>\n      <th>0</th>\n      <td>WO2023285348A1</td>\n      <td>Kaneka Corp | 株式会社カネカ</td>\n    </tr>\n    <tr>\n      <th>1</th>\n      <td>WO2023038856A1</td>\n      <td>None</td>\n    </tr>\n    <tr>\n      <th>2</th>\n      <td>WO2023018932A1 | KR1020210069087A</td>\n      <td>O2 Partners LLC | O2 Partners LLC | O2 Partner...</td>\n    </tr>\n    <tr>\n      <th>3</th>\n      <td>US20210130606A1 | US20220297414A1</td>\n      <td>None</td>\n    </tr>\n  </tbody>\n</table>\n</div>"
     },
     "execution_count": 48,
     "metadata": {},
     "output_type": "execute_result"
    }
   ],
   "source": [
    "import pandas as pd\n",
    "import json\n",
    "\n",
    "# 定义一个函数，用于将包含多个专利权人的 Unicode 字符串转换为 UTF-8\n",
    "def unicode_str_to_utf8(unicode_str):\n",
    "    if pd.isnull(unicode_str):  # 检查是否为 NaN 值\n",
    "        return None\n",
    "    \n",
    "    patent_owners = unicode_str.split(\" | \")\n",
    "    utf8_patent_owners = [json.loads(f'\"{owner}\"') for owner in patent_owners]\n",
    "    \n",
    "    return ' | '.join(utf8_patent_owners)  # 使用竖线将专利权人隔开\n",
    "\n",
    "# 在 '被引专利权人' 列上应用转换函数\n",
    "df['被引专利权人'] = df['被引专利权人'].apply(unicode_str_to_utf8)\n",
    "\n",
    "# 显示转换后的 DataFrame\n",
    "df"
   ],
   "metadata": {
    "collapsed": false,
    "ExecuteTime": {
     "end_time": "2024-03-11T09:07:22.544537Z",
     "start_time": "2024-03-11T09:07:22.530539Z"
    }
   },
   "id": "d304433af25071b0",
   "execution_count": 48
  },
  {
   "cell_type": "code",
   "outputs": [],
   "source": [],
   "metadata": {
    "collapsed": false
   },
   "id": "b8b368b7fbc69cdf"
  }
 ],
 "metadata": {
  "kernelspec": {
   "name": "pytorch",
   "language": "python",
   "display_name": "PyTorch"
  },
  "language_info": {
   "codemirror_mode": {
    "name": "ipython",
    "version": 2
   },
   "file_extension": ".py",
   "mimetype": "text/x-python",
   "name": "python",
   "nbconvert_exporter": "python",
   "pygments_lexer": "ipython2",
   "version": "2.7.6"
  }
 },
 "nbformat": 4,
 "nbformat_minor": 5
}
