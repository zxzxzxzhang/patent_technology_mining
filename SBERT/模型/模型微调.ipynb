{
 "cells": [
  {
   "cell_type": "code",
   "id": "initial_id",
   "metadata": {
    "collapsed": true,
    "ExecuteTime": {
     "end_time": "2024-06-16T06:04:26.552629Z",
     "start_time": "2024-06-16T06:04:19.758729Z"
    }
   },
   "source": [
    "import pandas as pd\n",
    "from sklearn.metrics.pairwise import cosine_similarity\n",
    "from sentence_transformers import SentenceTransformer\n",
    "from torch import nn, optim\n",
    "from torch.utils.data import DataLoader, Dataset\n",
    "import torch\n",
    "import re\n",
    "from nltk.corpus import stopwords"
   ],
   "execution_count": 1,
   "outputs": []
  },
  {
   "cell_type": "code",
   "source": [
    "df = pd.read_excel(r'C:\\Users\\RIC_ZX\\Desktop\\papers\\ZLW\\美国和欧盟 已筛选TAC_(poly butylene adipate-co-terephthalate) OR TAC_(PBAT).XLSX')\n",
    "df = df[['权利要求','摘要','标题']]\n",
    "# BERT的中文模型通常由512个字符的长度限制,而数据中的统计信息显示max到598，所以对于字数超过512的摘要，我们需要进行切割操作，控制字符长度在512以内\n",
    "df['摘要'] = df['摘要'].apply(lambda x: x[:512])\n",
    "#df['摘要'].str.len().describe()\n",
    "df['权利要求'] = df['权利要求'].apply(lambda x: x[:512])\n",
    "df['权利要求'].str.len().describe()\n",
    "\n",
    "summaries = df['权利要求'].tolist()\n",
    "english_summaries = []\n",
    "for summary in summaries:\n",
    "    if bool(re.search('[a-zA-Z]', summary)): # 判断是否含有英文字母\n",
    "        english_summaries.append(summary)\n",
    "# 读取Excel文件\n",
    "abstract = df['摘要'].tolist()\n",
    "title = df['标题'].tolist()\n",
    "abstracts = english_summaries + title + abstract\n",
    "\n",
    "def filter_text(text):    \n",
    "    # 去除括号及其内部内容\n",
    "    text = re.sub(r'\\([^)]*\\)', '', text)\n",
    "    # 去除所有符号和数字\n",
    "    pattern = re.compile(r'[^a-zA-Z\\s]')\n",
    "    text = pattern.sub(' ', text)\n",
    "    # 分词\n",
    "    words = text.split()\n",
    "    # 过滤停用词、标点符号以及人称代词、感叹词、连接词和介词\n",
    "    filtered_words = [word for word in words if word not in stopwords.words('english')\n",
    "                      and word.isalpha()\n",
    "                      and word not in ['I', 'you', 'he', 'she', 'it', 'we', \n",
    "                                        'they', 'me', 'him', 'her', 'us', 'them']\n",
    "                      and word not in ['!', '?', '.', ',', ';', ':']\n",
    "                      and word not in ['and', 'or', 'but', 'so', 'yet', 'for',\n",
    "                                       'nor', 'as', 'if', 'when', 'because', 'while',\n",
    "                                       'although', 'since', 'as if', 'as though']]\n",
    "    # 拼接过滤后的单词并返回\n",
    "    return ' '.join(filtered_words)\n",
    "data = [filter_text(item) for item in abstracts]"
   ],
   "metadata": {
    "collapsed": false,
    "ExecuteTime": {
     "end_time": "2024-06-16T06:04:56.274575Z",
     "start_time": "2024-06-16T06:04:34.184164Z"
    }
   },
   "id": "3708d6d4c3887948",
   "execution_count": 2,
   "outputs": []
  },
  {
   "cell_type": "code",
   "source": [
    "data"
   ],
   "metadata": {
    "collapsed": false,
    "ExecuteTime": {
     "end_time": "2024-06-16T06:04:57.274479Z",
     "start_time": "2024-06-16T06:04:57.229394Z"
    }
   },
   "id": "80a22e47e7888d18",
   "execution_count": 3,
   "outputs": []
  },
  {
   "cell_type": "code",
   "source": [
    "import torch\n",
    "from transformers import DistilBertTokenizer, DistilBertModel\n",
    "from sklearn.metrics.pairwise import cosine_similarity\n",
    "\n",
    "device = torch.device(\"cuda\")\n",
    "\n",
    "# 加载预训练模型和分词器\n",
    "tokenizer = DistilBertTokenizer.from_pretrained('all-mpnet-base-v2')\n",
    "model = DistilBertModel.from_pretrained('all-mpnet-base-v2').to(device)\n",
    "\n",
    "# 设置微调参数\n",
    "lr = 0.00002\n",
    "batch_size = 16\n",
    "num_epochs = 30\n",
    "\n",
    "# 定义优化器和损失函数\n",
    "optimizer = torch.optim.AdamW(model.parameters(), lr=lr)\n",
    "loss_fn = torch.nn.BCEWithLogitsLoss()\n",
    "\n",
    "# 开始微调\n",
    "for epoch in range(num_epochs):\n",
    "    epoch_loss = 0\n",
    "    model.train()\n",
    "    for i in range(0, len(data), batch_size):\n",
    "        # 随机抽取一条权力要求文本作为正样本\n",
    "        pos_text = data[i]\n",
    "        # 随机抽取一条非正样本，并计算其余弦相似度\n",
    "        neg_text_index = torch.randint(len(data), (1,)).item()\n",
    "        while neg_text_index == i:\n",
    "            neg_text_index = torch.randint(len(data), (1,)).item()\n",
    "        neg_text = data[neg_text_index] \n",
    "        # 将数据移动到GPU上\n",
    "        pos_vector = model(tokenizer(pos_text, return_tensors='pt')['input_ids'].to(device)).last_hidden_state.mean(dim=1)\n",
    "        neg_vector = model(tokenizer(neg_text, return_tensors='pt')['input_ids'].to(device)).last_hidden_state.mean(dim=1)\n",
    "        # 计算损失函数并进行反向传播\n",
    "        similarity = cosine_similarity(pos_vector.detach().cpu().numpy(), neg_vector.detach().cpu().numpy())[0][0]\n",
    "        labels = torch.tensor([1.0 if similarity >= 0 else 0.0], dtype=torch.float).to(device)\n",
    "        outputs = torch.sum(pos_vector * neg_vector).unsqueeze(0)\n",
    "        loss = loss_fn(outputs, labels)\n",
    "        epoch_loss += loss.item()\n",
    "        loss.backward()\n",
    "        optimizer.step()\n",
    "        optimizer.zero_grad()\n",
    "    print(\"Epoch {} loss: {}\".format(epoch+1, epoch_loss))"
   ],
   "metadata": {
    "collapsed": false
   },
   "id": "1f084eb1fcb5611f",
   "execution_count": null,
   "outputs": []
  },
  {
   "cell_type": "code",
   "source": [
    "# 加载模型\n",
    "model = DistilBertModel.from_pretrained('all-mpnet-base-v2')\n",
    "model.load_state_dict(torch.load(\"all-mpnet-base-v2_model.pth\"))"
   ],
   "metadata": {
    "collapsed": false
   },
   "id": "f0778b6640dda05c",
   "execution_count": null,
   "outputs": []
  },
  {
   "cell_type": "code",
   "source": [
    "import torch\n",
    "from transformers import MPNetTokenizer, MPNetModel\n",
    "from sklearn.metrics.pairwise import cosine_similarity\n",
    "\n",
    "device = torch.device(\"cuda\")\n",
    "\n",
    "# 加载预训练模型和分词器\n",
    "tokenizer = MPNetTokenizer.from_pretrained('all-mpnet-base-v2')\n",
    "model = MPNetModel.from_pretrained('all-mpnet-base-v2').to(device)\n",
    "\n",
    "# 设置微调参数\n",
    "lr = 0.00002\n",
    "batch_size = 32\n",
    "num_epochs = 60\n",
    "\n",
    "# 定义优化器和损失函数\n",
    "optimizer = torch.optim.AdamW(model.parameters(), lr=lr)\n",
    "loss_fn = torch.nn.BCEWithLogitsLoss()\n",
    "\n",
    "# 开始微调\n",
    "for epoch in range(num_epochs):\n",
    "    epoch_loss = 0\n",
    "    model.train()\n",
    "    for i in range(0, len(data), batch_size):\n",
    "        # 随机抽取一条权力要求文本作为正样本\n",
    "        pos_text = data[i]\n",
    "        # 随机抽取一条非正样本，并计算其余弦相似度\n",
    "        neg_text_index = torch.randint(len(data), (1,)).item()\n",
    "        while neg_text_index == i:\n",
    "            neg_text_index = torch.randint(len(data), (1,)).item()\n",
    "        neg_text = data[neg_text_index] \n",
    "        # 将数据移动到GPU上\n",
    "        pos_vector = model(tokenizer(pos_text, return_tensors='pt')['input_ids'].to(device)).last_hidden_state.mean(dim=1)\n",
    "        neg_vector = model(tokenizer(neg_text, return_tensors='pt')['input_ids'].to(device)).last_hidden_state.mean(dim=1)\n",
    "        # 计算损失函数并进行反向传播\n",
    "        similarity = cosine_similarity(pos_vector.detach().cpu().numpy(), neg_vector.detach().cpu().numpy())[0][0]\n",
    "        labels = torch.tensor([1.0 if similarity >= 0 else 0.0], dtype=torch.float).to(device)\n",
    "        outputs = torch.sum(pos_vector * neg_vector).unsqueeze(0)\n",
    "        loss = loss_fn(outputs, labels)\n",
    "        epoch_loss += loss.item()\n",
    "        loss.backward()\n",
    "        optimizer.step()\n",
    "        optimizer.zero_grad()\n",
    "    print(\"Epoch {} loss: {}\".format(epoch+1, epoch_loss))"
   ],
   "metadata": {
    "collapsed": false,
    "ExecuteTime": {
     "end_time": "2024-06-16T06:06:52.570703Z",
     "start_time": "2024-06-16T06:05:16.933821Z"
    }
   },
   "id": "9bdeccce885d7a9",
   "execution_count": 6,
   "outputs": []
  },
  {
   "cell_type": "code",
   "source": [
    "# 保存模型\n",
    "torch.save(model.state_dict(), \"all-mpnet-base-v2_model.pth\")"
   ],
   "metadata": {
    "collapsed": false,
    "ExecuteTime": {
     "end_time": "2024-03-13T06:16:13.324297Z",
     "start_time": "2024-03-13T06:16:12.409846Z"
    }
   },
   "id": "a89bdd3c7b80ffaf",
   "execution_count": 7,
   "outputs": []
  },
  {
   "cell_type": "code",
   "source": [
    "# 保存模型\n",
    "torch.save(model.state_dict(), \"all-mpnet-base-v2_60_model.pth\")"
   ],
   "metadata": {
    "collapsed": false,
    "ExecuteTime": {
     "end_time": "2024-03-13T06:51:39.221617Z",
     "start_time": "2024-03-13T06:51:38.430601Z"
    }
   },
   "id": "bfd2ccf98b25a71c",
   "execution_count": 9,
   "outputs": []
  }
 ],
 "metadata": {
  "kernelspec": {
   "name": "pytorch",
   "language": "python",
   "display_name": "PyTorch"
  },
  "language_info": {
   "codemirror_mode": {
    "name": "ipython",
    "version": 2
   },
   "file_extension": ".py",
   "mimetype": "text/x-python",
   "name": "python",
   "nbconvert_exporter": "python",
   "pygments_lexer": "ipython2",
   "version": "2.7.6"
  }
 },
 "nbformat": 4,
 "nbformat_minor": 5
}
