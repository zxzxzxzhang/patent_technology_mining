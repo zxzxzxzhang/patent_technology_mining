{
 "cells": [
  {
   "cell_type": "code",
   "execution_count": 1,
   "id": "initial_id",
   "metadata": {
    "collapsed": true,
    "ExecuteTime": {
     "end_time": "2024-03-22T13:56:51.626041Z",
     "start_time": "2024-03-22T13:56:50.350656Z"
    }
   },
   "outputs": [],
   "source": [
    "import pandas as pd\n",
    "\n",
    "# 读取 Excel 文件\n",
    "df = pd.read_excel('TR结果.xlsx')\n",
    "\n",
    "for col in df.columns:\n",
    "    # 如果列是字符串类型，就进行处理\n",
    "    if df[col].dtype == 'object':\n",
    "        # 将该列按逗号分成两列\n",
    "        new_cols = df[col].str.split(',', n=1, expand=True)\n",
    "        df[[f'{col}_part1', f'{col}_part2']] = new_cols\n",
    "\n",
    "        # 删除括号\n",
    "        df[f'{col}_part1'] = df[f'{col}_part1'].str.replace(r'\\(|\\)', '', regex=True)\n",
    "        df[f'{col}_part2'] = df[f'{col}_part2'].str.replace(r'\\(|\\)', '', regex=True)"
   ]
  },
  {
   "cell_type": "code",
   "outputs": [
    {
     "data": {
      "text/plain": "                          S0                        S1  \\\n0         ('polymer', 0.569)        ('plastics', 0.59)   \n1        ('polymers', 0.566)      ('polymers', 0.5881)   \n2      ('copolymer', 0.5246)       ('polymer', 0.5843)   \n3      ('polymeric', 0.5069)   ('plasticizer', 0.5772)   \n4       ('polyester', 0.479)    ('copolymers', 0.5705)   \n5     ('filmogenic', 0.4759)         ('plastic', 0.57)   \n6      ('invention', 0.4661)     ('copolymer', 0.5655)   \n7    ('plasticizer', 0.4457)     ('polymeric', 0.5558)   \n8           ('poly', 0.3774)  ('plasticizing', 0.5504)   \n9  ('biodegradable', 0.3752)     ('polyester', 0.5247)   \n\n                                S2                         S3  \\\n0        ('polycarbonate', 0.6319)         ('starch', 0.5205)   \n1              ('polymer', 0.5965)   ('plasticizers', 0.4215)   \n2            ('polyesters', 0.596)    ('polymerized', 0.4185)   \n3         ('polyethylene', 0.5913)     ('plasticizer', 0.406)   \n4            ('polymeric', 0.5777)    ('plasticized', 0.3991)   \n5            ('polyester', 0.5616)       ('polymers', 0.3972)   \n6  ('polyhydroxybutyrate', 0.4916)        ('polymer', 0.3964)   \n7         ('copolyesters', 0.4719)        ('starchy', 0.3722)   \n8                ('vinyl', 0.4383)      ('polymeric', 0.3639)   \n9            ('compounds', 0.4244)  ('thermoplastic', 0.3597)   \n\n                          S4                         S5  \\\n0  ('biodegradable', 0.5274)  ('advertisement', 0.4959)   \n1        ('polymer', 0.5016)       ('adhesive', 0.4558)   \n2  ('advertisement', 0.4518)      ('polyester', 0.4264)   \n3   ('polypropylene', 0.425)        ('polymer', 0.4226)   \n4          ('resin', 0.3822)  ('biodegradable', 0.4014)   \n5      ('invention', 0.3778)       ('material', 0.3528)   \n6      ('materials', 0.3673)  ('encapsulating', 0.3385)   \n7     ('insulation', 0.3555)          ('layer', 0.3278)   \n8       ('material', 0.3181)         ('coated', 0.3191)   \n9      ('cellulose', 0.2944)      ('invention', 0.2881)   \n\n                         M0                           M1  \\\n0     ('polyester', 0.5498)        ('copolymer', 0.6025)   \n1      ('footwear', 0.5435)          ('polymer', 0.5976)   \n2       ('polymer', 0.5282)       ('copolymers', 0.5935)   \n3     ('polymeric', 0.5157)     ('polyethylene', 0.5866)   \n4  ('polyethylene', 0.5085)   ('polymerization', 0.5853)   \n5      ('plastics', 0.4991)         ('polymers', 0.5842)   \n6     ('copolymer', 0.4782)  ('polyesteramides', 0.5241)   \n7     ('composite', 0.4696)         ('polymeric', 0.523)   \n8   ('accessories', 0.4601)        ('polyester', 0.5106)   \n9       ('plastic', 0.4577)     ('polyalkylene', 0.4925)   \n\n                             M2                         M3  ...  \\\n0           ('plastic', 0.4714)   ('polyethylene', 0.4948)  ...   \n1    ('depolymerizing', 0.4664)      ('polyester', 0.4762)  ...   \n2     ('biodegradable', 0.4642)        ('plastic', 0.3792)  ...   \n3  ('depolymerization', 0.4551)      ('invention', 0.3271)  ...   \n4          ('polymers', 0.4411)  ('terephthalate', 0.3248)  ...   \n5           ('polymer', 0.4365)       ('material', 0.2975)  ...   \n6         ('recycling', 0.4323)      ('degrading', 0.2927)  ...   \n7          ('copolymer', 0.421)       ('variants', 0.2705)  ...   \n8         ('polymeric', 0.4087)     ('polylactic', 0.2646)  ...   \n9      ('polyethylene', 0.4082)        ('products', 0.258)  ...   \n\n             L1_part1 L1_part2             L2_part1 L2_part2  \\\n0     'biodegradable'   0.5772          'polyester'   0.5489   \n1        'polyesters'   0.5615     'polymerization'   0.5229   \n2      'polyethylene'   0.5541        'plasticiser'   0.5173   \n3  'biodegradability'   0.5511  'thermoplastischen'    0.515   \n4         'polyester'   0.5504          'polymeric'   0.5069   \n5      'polymerizati'   0.5273        'polylactide'   0.5048   \n6    'biodegradation'   0.5187      'thermoplastic'   0.5027   \n7        'degradable'   0.5175            'molding'   0.4966   \n8  'depolymerization'   0.5133           'polyolen'   0.4814   \n9          'polymers'   0.5048            'polymer'   0.4808   \n\n           L3_part1 L3_part2         L4_part1 L4_part2            L5_part1  \\\n0        'polymers'   0.5725    'plasticiser'   0.4694           'polymer'   \n1         'polymer'   0.5611    'plasticizer'   0.4642    'depolymerizing'   \n2     'plasticizer'   0.5349       'polymers'   0.3976           'plastic'   \n3      'biopolymer'   0.5207        'polymer'   0.3843  'depolymerization'   \n4           'nylon'   0.5068  'thermoplastic'   0.3782      'polyethylene'   \n5       'polyester'   0.5052         'mixing'   0.3556          'plastics'   \n6         'plastic'   0.4948     'biopolymer'   0.3548         'polyester'   \n7  'polysaccharide'   0.4661      'extruders'   0.3544        'polyesters'   \n8   'polybutadiene'   0.4596    'biopolymers'   0.3527         'polyvinyl'   \n9   'antibacterial'   0.4425     'engineered'   0.3499           'foaming'   \n\n  L5_part2  \n0    0.612  \n1   0.6033  \n2   0.5881  \n3   0.5848  \n4   0.5789  \n5   0.5766  \n6    0.533  \n7   0.5184  \n8   0.4678  \n9   0.4525  \n\n[10 rows x 54 columns]",
      "text/html": "<div>\n<style scoped>\n    .dataframe tbody tr th:only-of-type {\n        vertical-align: middle;\n    }\n\n    .dataframe tbody tr th {\n        vertical-align: top;\n    }\n\n    .dataframe thead th {\n        text-align: right;\n    }\n</style>\n<table border=\"1\" class=\"dataframe\">\n  <thead>\n    <tr style=\"text-align: right;\">\n      <th></th>\n      <th>S0</th>\n      <th>S1</th>\n      <th>S2</th>\n      <th>S3</th>\n      <th>S4</th>\n      <th>S5</th>\n      <th>M0</th>\n      <th>M1</th>\n      <th>M2</th>\n      <th>M3</th>\n      <th>...</th>\n      <th>L1_part1</th>\n      <th>L1_part2</th>\n      <th>L2_part1</th>\n      <th>L2_part2</th>\n      <th>L3_part1</th>\n      <th>L3_part2</th>\n      <th>L4_part1</th>\n      <th>L4_part2</th>\n      <th>L5_part1</th>\n      <th>L5_part2</th>\n    </tr>\n  </thead>\n  <tbody>\n    <tr>\n      <th>0</th>\n      <td>('polymer', 0.569)</td>\n      <td>('plastics', 0.59)</td>\n      <td>('polycarbonate', 0.6319)</td>\n      <td>('starch', 0.5205)</td>\n      <td>('biodegradable', 0.5274)</td>\n      <td>('advertisement', 0.4959)</td>\n      <td>('polyester', 0.5498)</td>\n      <td>('copolymer', 0.6025)</td>\n      <td>('plastic', 0.4714)</td>\n      <td>('polyethylene', 0.4948)</td>\n      <td>...</td>\n      <td>'biodegradable'</td>\n      <td>0.5772</td>\n      <td>'polyester'</td>\n      <td>0.5489</td>\n      <td>'polymers'</td>\n      <td>0.5725</td>\n      <td>'plasticiser'</td>\n      <td>0.4694</td>\n      <td>'polymer'</td>\n      <td>0.612</td>\n    </tr>\n    <tr>\n      <th>1</th>\n      <td>('polymers', 0.566)</td>\n      <td>('polymers', 0.5881)</td>\n      <td>('polymer', 0.5965)</td>\n      <td>('plasticizers', 0.4215)</td>\n      <td>('polymer', 0.5016)</td>\n      <td>('adhesive', 0.4558)</td>\n      <td>('footwear', 0.5435)</td>\n      <td>('polymer', 0.5976)</td>\n      <td>('depolymerizing', 0.4664)</td>\n      <td>('polyester', 0.4762)</td>\n      <td>...</td>\n      <td>'polyesters'</td>\n      <td>0.5615</td>\n      <td>'polymerization'</td>\n      <td>0.5229</td>\n      <td>'polymer'</td>\n      <td>0.5611</td>\n      <td>'plasticizer'</td>\n      <td>0.4642</td>\n      <td>'depolymerizing'</td>\n      <td>0.6033</td>\n    </tr>\n    <tr>\n      <th>2</th>\n      <td>('copolymer', 0.5246)</td>\n      <td>('polymer', 0.5843)</td>\n      <td>('polyesters', 0.596)</td>\n      <td>('polymerized', 0.4185)</td>\n      <td>('advertisement', 0.4518)</td>\n      <td>('polyester', 0.4264)</td>\n      <td>('polymer', 0.5282)</td>\n      <td>('copolymers', 0.5935)</td>\n      <td>('biodegradable', 0.4642)</td>\n      <td>('plastic', 0.3792)</td>\n      <td>...</td>\n      <td>'polyethylene'</td>\n      <td>0.5541</td>\n      <td>'plasticiser'</td>\n      <td>0.5173</td>\n      <td>'plasticizer'</td>\n      <td>0.5349</td>\n      <td>'polymers'</td>\n      <td>0.3976</td>\n      <td>'plastic'</td>\n      <td>0.5881</td>\n    </tr>\n    <tr>\n      <th>3</th>\n      <td>('polymeric', 0.5069)</td>\n      <td>('plasticizer', 0.5772)</td>\n      <td>('polyethylene', 0.5913)</td>\n      <td>('plasticizer', 0.406)</td>\n      <td>('polypropylene', 0.425)</td>\n      <td>('polymer', 0.4226)</td>\n      <td>('polymeric', 0.5157)</td>\n      <td>('polyethylene', 0.5866)</td>\n      <td>('depolymerization', 0.4551)</td>\n      <td>('invention', 0.3271)</td>\n      <td>...</td>\n      <td>'biodegradability'</td>\n      <td>0.5511</td>\n      <td>'thermoplastischen'</td>\n      <td>0.515</td>\n      <td>'biopolymer'</td>\n      <td>0.5207</td>\n      <td>'polymer'</td>\n      <td>0.3843</td>\n      <td>'depolymerization'</td>\n      <td>0.5848</td>\n    </tr>\n    <tr>\n      <th>4</th>\n      <td>('polyester', 0.479)</td>\n      <td>('copolymers', 0.5705)</td>\n      <td>('polymeric', 0.5777)</td>\n      <td>('plasticized', 0.3991)</td>\n      <td>('resin', 0.3822)</td>\n      <td>('biodegradable', 0.4014)</td>\n      <td>('polyethylene', 0.5085)</td>\n      <td>('polymerization', 0.5853)</td>\n      <td>('polymers', 0.4411)</td>\n      <td>('terephthalate', 0.3248)</td>\n      <td>...</td>\n      <td>'polyester'</td>\n      <td>0.5504</td>\n      <td>'polymeric'</td>\n      <td>0.5069</td>\n      <td>'nylon'</td>\n      <td>0.5068</td>\n      <td>'thermoplastic'</td>\n      <td>0.3782</td>\n      <td>'polyethylene'</td>\n      <td>0.5789</td>\n    </tr>\n    <tr>\n      <th>5</th>\n      <td>('filmogenic', 0.4759)</td>\n      <td>('plastic', 0.57)</td>\n      <td>('polyester', 0.5616)</td>\n      <td>('polymers', 0.3972)</td>\n      <td>('invention', 0.3778)</td>\n      <td>('material', 0.3528)</td>\n      <td>('plastics', 0.4991)</td>\n      <td>('polymers', 0.5842)</td>\n      <td>('polymer', 0.4365)</td>\n      <td>('material', 0.2975)</td>\n      <td>...</td>\n      <td>'polymerizati'</td>\n      <td>0.5273</td>\n      <td>'polylactide'</td>\n      <td>0.5048</td>\n      <td>'polyester'</td>\n      <td>0.5052</td>\n      <td>'mixing'</td>\n      <td>0.3556</td>\n      <td>'plastics'</td>\n      <td>0.5766</td>\n    </tr>\n    <tr>\n      <th>6</th>\n      <td>('invention', 0.4661)</td>\n      <td>('copolymer', 0.5655)</td>\n      <td>('polyhydroxybutyrate', 0.4916)</td>\n      <td>('polymer', 0.3964)</td>\n      <td>('materials', 0.3673)</td>\n      <td>('encapsulating', 0.3385)</td>\n      <td>('copolymer', 0.4782)</td>\n      <td>('polyesteramides', 0.5241)</td>\n      <td>('recycling', 0.4323)</td>\n      <td>('degrading', 0.2927)</td>\n      <td>...</td>\n      <td>'biodegradation'</td>\n      <td>0.5187</td>\n      <td>'thermoplastic'</td>\n      <td>0.5027</td>\n      <td>'plastic'</td>\n      <td>0.4948</td>\n      <td>'biopolymer'</td>\n      <td>0.3548</td>\n      <td>'polyester'</td>\n      <td>0.533</td>\n    </tr>\n    <tr>\n      <th>7</th>\n      <td>('plasticizer', 0.4457)</td>\n      <td>('polymeric', 0.5558)</td>\n      <td>('copolyesters', 0.4719)</td>\n      <td>('starchy', 0.3722)</td>\n      <td>('insulation', 0.3555)</td>\n      <td>('layer', 0.3278)</td>\n      <td>('composite', 0.4696)</td>\n      <td>('polymeric', 0.523)</td>\n      <td>('copolymer', 0.421)</td>\n      <td>('variants', 0.2705)</td>\n      <td>...</td>\n      <td>'degradable'</td>\n      <td>0.5175</td>\n      <td>'molding'</td>\n      <td>0.4966</td>\n      <td>'polysaccharide'</td>\n      <td>0.4661</td>\n      <td>'extruders'</td>\n      <td>0.3544</td>\n      <td>'polyesters'</td>\n      <td>0.5184</td>\n    </tr>\n    <tr>\n      <th>8</th>\n      <td>('poly', 0.3774)</td>\n      <td>('plasticizing', 0.5504)</td>\n      <td>('vinyl', 0.4383)</td>\n      <td>('polymeric', 0.3639)</td>\n      <td>('material', 0.3181)</td>\n      <td>('coated', 0.3191)</td>\n      <td>('accessories', 0.4601)</td>\n      <td>('polyester', 0.5106)</td>\n      <td>('polymeric', 0.4087)</td>\n      <td>('polylactic', 0.2646)</td>\n      <td>...</td>\n      <td>'depolymerization'</td>\n      <td>0.5133</td>\n      <td>'polyolen'</td>\n      <td>0.4814</td>\n      <td>'polybutadiene'</td>\n      <td>0.4596</td>\n      <td>'biopolymers'</td>\n      <td>0.3527</td>\n      <td>'polyvinyl'</td>\n      <td>0.4678</td>\n    </tr>\n    <tr>\n      <th>9</th>\n      <td>('biodegradable', 0.3752)</td>\n      <td>('polyester', 0.5247)</td>\n      <td>('compounds', 0.4244)</td>\n      <td>('thermoplastic', 0.3597)</td>\n      <td>('cellulose', 0.2944)</td>\n      <td>('invention', 0.2881)</td>\n      <td>('plastic', 0.4577)</td>\n      <td>('polyalkylene', 0.4925)</td>\n      <td>('polyethylene', 0.4082)</td>\n      <td>('products', 0.258)</td>\n      <td>...</td>\n      <td>'polymers'</td>\n      <td>0.5048</td>\n      <td>'polymer'</td>\n      <td>0.4808</td>\n      <td>'antibacterial'</td>\n      <td>0.4425</td>\n      <td>'engineered'</td>\n      <td>0.3499</td>\n      <td>'foaming'</td>\n      <td>0.4525</td>\n    </tr>\n  </tbody>\n</table>\n<p>10 rows × 54 columns</p>\n</div>"
     },
     "execution_count": 2,
     "metadata": {},
     "output_type": "execute_result"
    }
   ],
   "source": [
    "df"
   ],
   "metadata": {
    "collapsed": false,
    "ExecuteTime": {
     "end_time": "2024-03-22T13:56:51.657521Z",
     "start_time": "2024-03-22T13:56:51.628120Z"
    }
   },
   "id": "9bec633c754119d",
   "execution_count": 2
  },
  {
   "cell_type": "code",
   "outputs": [],
   "source": [
    "# 保存结果到新的 Excel 文件\n",
    "df.to_excel('output.xlsx', index=False)"
   ],
   "metadata": {
    "collapsed": false,
    "ExecuteTime": {
     "end_time": "2024-03-22T13:56:51.705171Z",
     "start_time": "2024-03-22T13:56:51.659187Z"
    }
   },
   "id": "c7421480384f362b",
   "execution_count": 3
  },
  {
   "cell_type": "code",
   "outputs": [
    {
     "name": "stdout",
     "output_type": "stream",
     "text": [
      "被\"|\"隔开的字符串数量为： 29\n"
     ]
    }
   ],
   "source": [
    "input_string = \"Cambond Ltd | Fraunhofer-Gesellschaft zur Förderung der angewandten Forschung e.V. | University Of Guelph | Csir | FRAUNHOFER-GESELLSCHAFT zur Förderung der angewandten Forschung e.V. | Double Double D, Llc | Ye pingshan | Novadelta - Comércio E Indústria De Cafés, Lda | Smrc Automotive Holdings Netherlands Bv | Hangshi Technology Development Hangzhou Co Ltd | Changzhou Longjun Skypurl Environment Protection Technology Co ltd | Ningbo Baifude Environmental Protection Technology Co ltd | Coda Intellectual Property B V | Coda Intellectual Property B.V. | Beijing University of Chemical Technology | Ric3D S R L | Tchibo GmbH | Sichuan University of Science & Engineering | Suzhou Sairong Architectural Decoration Engineering Co ltd | Shenyang University of Chemical Technology | Hangzhou Mietro New Material Technology Co ltd | Chestnut Natural Capital Ltd | Shaanxi University of Science & Technology |  KINGFA SCI. & TECH. CO., LTD. | Société des Produits Nestlé S.A. | Sulapac Oy | Wuwu Technology Shenzhen Co ltd | Qidong Haizhonggang Building Material Co ltd | Suzhou Hesumei Technology Co., Ltd.\"\n",
    "split_strings = input_string.split(\" | \")\n",
    "num_strings = len(split_strings)\n",
    "print(\"被\\\"|\\\"隔开的字符串数量为：\", num_strings)\n"
   ],
   "metadata": {
    "collapsed": false,
    "ExecuteTime": {
     "end_time": "2024-03-10T12:57:31.549089Z",
     "start_time": "2024-03-10T12:57:31.532704Z"
    }
   },
   "id": "1bde0e81f8cf1fce",
   "execution_count": 6
  },
  {
   "cell_type": "code",
   "outputs": [],
   "source": [
    " "
   ],
   "metadata": {
    "collapsed": false
   },
   "id": "533b92b0bbfb28f1"
  }
 ],
 "metadata": {
  "kernelspec": {
   "display_name": "Python 3",
   "language": "python",
   "name": "python3"
  },
  "language_info": {
   "codemirror_mode": {
    "name": "ipython",
    "version": 2
   },
   "file_extension": ".py",
   "mimetype": "text/x-python",
   "name": "python",
   "nbconvert_exporter": "python",
   "pygments_lexer": "ipython2",
   "version": "2.7.6"
  }
 },
 "nbformat": 4,
 "nbformat_minor": 5
}
