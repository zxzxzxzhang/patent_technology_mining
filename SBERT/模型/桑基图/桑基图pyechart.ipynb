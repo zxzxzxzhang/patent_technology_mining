{
 "cells": [
  {
   "cell_type": "code",
   "id": "initial_id",
   "metadata": {
    "collapsed": true,
    "ExecuteTime": {
     "end_time": "2024-06-26T14:38:43.606190Z",
     "start_time": "2024-06-26T14:38:43.593267Z"
    }
   },
   "source": [
    "import pandas as pd"
   ],
   "outputs": [],
   "execution_count": 26
  },
  {
   "cell_type": "code",
   "source": "df1 = pd.read_excel(\"all_mpnet_base_v2结果.xlsx\")",
   "metadata": {
    "collapsed": false,
    "ExecuteTime": {
     "end_time": "2024-06-26T14:38:43.759493Z",
     "start_time": "2024-06-26T14:38:43.733291Z"
    }
   },
   "id": "f7e16b5aa9af347c",
   "outputs": [],
   "execution_count": 27
  },
  {
   "cell_type": "code",
   "source": [
    "import re\n",
    "# 合并df1、df2和df3的值到一个列表中\n",
    "mylist1 = list(df1.values.flatten())\n",
    "# 使用正则表达式提取所有单引号内的内容\n",
    "pattern = re.compile(r\"'(.*?)'\")\n",
    "content_set = set()\n",
    "for item in mylist1:\n",
    "    content_set.update(pattern.findall(item))\n",
    "# 将集合转换为列表\n",
    "content_list = list(content_set)\n",
    "# 打印结果\n",
    "len(content_list)"
   ],
   "metadata": {
    "collapsed": false,
    "ExecuteTime": {
     "end_time": "2024-06-26T14:38:43.929123Z",
     "start_time": "2024-06-26T14:38:43.911027Z"
    }
   },
   "id": "eb8d8de972141fac",
   "outputs": [
    {
     "data": {
      "text/plain": [
       "87"
      ]
     },
     "execution_count": 28,
     "metadata": {},
     "output_type": "execute_result"
    }
   ],
   "execution_count": 28
  },
  {
   "cell_type": "code",
   "source": "content = pd.DataFrame(content_list, columns=['words'])",
   "metadata": {
    "collapsed": false,
    "ExecuteTime": {
     "end_time": "2024-06-26T14:38:44.098467Z",
     "start_time": "2024-06-26T14:38:44.077654Z"
    }
   },
   "id": "8ee5e38635c72135",
   "outputs": [],
   "execution_count": 29
  },
  {
   "cell_type": "code",
   "source": [
    "content[df1.columns] = None"
   ],
   "metadata": {
    "collapsed": false,
    "ExecuteTime": {
     "end_time": "2024-06-26T14:38:44.251309Z",
     "start_time": "2024-06-26T14:38:44.242238Z"
    }
   },
   "id": "6a0e7e905a045efe",
   "outputs": [],
   "execution_count": 30
  },
  {
   "cell_type": "code",
   "source": [
    "# 遍历每一列\n",
    "for j, column in enumerate(df1.columns):\n",
    "    # 获取当前列的数据\n",
    "    column_data = df1[column]\n",
    "    # 遍历每一个元素\n",
    "    for i, value in enumerate(column_data):\n",
    "        pattern = re.compile(r\"'(.*?)'\")\n",
    "        element_list = pattern.findall(value)\n",
    "        element = ''.join(element_list)\n",
    "        pattern2 = re.compile(r', (.*?)\\)')\n",
    "        element_list2 = pattern2.findall(value)\n",
    "        element2 = float(element_list2[0])\n",
    "        # 检查元素是否存在于 content 中\n",
    "        if element in content['words'].tolist():\n",
    "            # 如果存在，则将值追加到对应的列\n",
    "            content.loc[element, df1.columns[j]] = element2"
   ],
   "metadata": {
    "collapsed": false,
    "ExecuteTime": {
     "end_time": "2024-06-26T14:38:44.483698Z",
     "start_time": "2024-06-26T14:38:44.411341Z"
    }
   },
   "id": "cbdc03f27b6ee6c5",
   "outputs": [],
   "execution_count": 31
  },
  {
   "cell_type": "code",
   "source": "# content.to_excel(\"content.xlsx\")",
   "metadata": {
    "collapsed": false,
    "ExecuteTime": {
     "end_time": "2024-06-26T14:38:44.622102Z",
     "start_time": "2024-06-26T14:38:44.613099Z"
    }
   },
   "id": "c6e2adcc7416de1a",
   "outputs": [],
   "execution_count": 32
  },
  {
   "metadata": {
    "ExecuteTime": {
     "end_time": "2024-06-26T14:38:57.401688Z",
     "start_time": "2024-06-26T14:38:57.378903Z"
    }
   },
   "cell_type": "code",
   "source": [
    "df2 = content.drop(content.index[0:len(content_list)])\n",
    "df2 = df2.drop(columns=['words'])\n",
    "df2"
   ],
   "id": "ba91033ab5e43efb",
   "outputs": [
    {
     "data": {
      "text/plain": [
       "                 S0      S1      S2      S3      S4      S5      M0      M1  \\\n",
       "polymer       0.569  0.5843  0.5965  0.3964  0.5016  0.4226  0.5282  0.5976   \n",
       "polymers      0.566  0.5881     NaN  0.3972     NaN     NaN     NaN  0.5842   \n",
       "copolymer    0.5246  0.5655     NaN     NaN     NaN     NaN  0.4782  0.6025   \n",
       "polymeric    0.5069  0.5558  0.5777  0.3639     NaN     NaN  0.5157   0.523   \n",
       "polyester     0.479  0.5247  0.5616     NaN     NaN  0.4264  0.5498  0.5106   \n",
       "...             ...     ...     ...     ...     ...     ...     ...     ...   \n",
       "extruders       NaN     NaN     NaN     NaN     NaN     NaN     NaN     NaN   \n",
       "biopolymers     NaN     NaN     NaN     NaN     NaN     NaN     NaN     NaN   \n",
       "engineered      NaN     NaN     NaN     NaN     NaN     NaN     NaN     NaN   \n",
       "polyvinyl       NaN     NaN     NaN     NaN     NaN     NaN     NaN     NaN   \n",
       "foaming         NaN     NaN     NaN     NaN     NaN     NaN     NaN     NaN   \n",
       "\n",
       "                 M2      M3      M4      M5   L0      L1      L2      L3  \\\n",
       "polymer      0.4365     NaN  0.5035  0.6296  NaN     NaN  0.4808  0.5611   \n",
       "polymers     0.4411     NaN  0.5019  0.6259  NaN  0.5048     NaN  0.5725   \n",
       "copolymer     0.421     NaN     NaN  0.5855  NaN     NaN     NaN     NaN   \n",
       "polymeric    0.4087     NaN  0.4664  0.5898  NaN     NaN  0.5069     NaN   \n",
       "polyester       NaN  0.4762  0.5237     NaN  NaN  0.5504  0.5489  0.5052   \n",
       "...             ...     ...     ...     ...  ...     ...     ...     ...   \n",
       "extruders       NaN     NaN     NaN     NaN  NaN     NaN     NaN     NaN   \n",
       "biopolymers     NaN     NaN     NaN     NaN  NaN     NaN     NaN     NaN   \n",
       "engineered      NaN     NaN     NaN     NaN  NaN     NaN     NaN     NaN   \n",
       "polyvinyl       NaN     NaN     NaN     NaN  NaN     NaN     NaN     NaN   \n",
       "foaming         NaN     NaN     NaN     NaN  NaN     NaN     NaN     NaN   \n",
       "\n",
       "                 L4      L5  \n",
       "polymer      0.3843   0.612  \n",
       "polymers     0.3976     NaN  \n",
       "copolymer       NaN     NaN  \n",
       "polymeric       NaN     NaN  \n",
       "polyester       NaN   0.533  \n",
       "...             ...     ...  \n",
       "extruders    0.3544     NaN  \n",
       "biopolymers  0.3527     NaN  \n",
       "engineered   0.3499     NaN  \n",
       "polyvinyl       NaN  0.4678  \n",
       "foaming         NaN  0.4525  \n",
       "\n",
       "[87 rows x 18 columns]"
      ],
      "text/html": [
       "<div>\n",
       "<style scoped>\n",
       "    .dataframe tbody tr th:only-of-type {\n",
       "        vertical-align: middle;\n",
       "    }\n",
       "\n",
       "    .dataframe tbody tr th {\n",
       "        vertical-align: top;\n",
       "    }\n",
       "\n",
       "    .dataframe thead th {\n",
       "        text-align: right;\n",
       "    }\n",
       "</style>\n",
       "<table border=\"1\" class=\"dataframe\">\n",
       "  <thead>\n",
       "    <tr style=\"text-align: right;\">\n",
       "      <th></th>\n",
       "      <th>S0</th>\n",
       "      <th>S1</th>\n",
       "      <th>S2</th>\n",
       "      <th>S3</th>\n",
       "      <th>S4</th>\n",
       "      <th>S5</th>\n",
       "      <th>M0</th>\n",
       "      <th>M1</th>\n",
       "      <th>M2</th>\n",
       "      <th>M3</th>\n",
       "      <th>M4</th>\n",
       "      <th>M5</th>\n",
       "      <th>L0</th>\n",
       "      <th>L1</th>\n",
       "      <th>L2</th>\n",
       "      <th>L3</th>\n",
       "      <th>L4</th>\n",
       "      <th>L5</th>\n",
       "    </tr>\n",
       "  </thead>\n",
       "  <tbody>\n",
       "    <tr>\n",
       "      <th>polymer</th>\n",
       "      <td>0.569</td>\n",
       "      <td>0.5843</td>\n",
       "      <td>0.5965</td>\n",
       "      <td>0.3964</td>\n",
       "      <td>0.5016</td>\n",
       "      <td>0.4226</td>\n",
       "      <td>0.5282</td>\n",
       "      <td>0.5976</td>\n",
       "      <td>0.4365</td>\n",
       "      <td>NaN</td>\n",
       "      <td>0.5035</td>\n",
       "      <td>0.6296</td>\n",
       "      <td>NaN</td>\n",
       "      <td>NaN</td>\n",
       "      <td>0.4808</td>\n",
       "      <td>0.5611</td>\n",
       "      <td>0.3843</td>\n",
       "      <td>0.612</td>\n",
       "    </tr>\n",
       "    <tr>\n",
       "      <th>polymers</th>\n",
       "      <td>0.566</td>\n",
       "      <td>0.5881</td>\n",
       "      <td>NaN</td>\n",
       "      <td>0.3972</td>\n",
       "      <td>NaN</td>\n",
       "      <td>NaN</td>\n",
       "      <td>NaN</td>\n",
       "      <td>0.5842</td>\n",
       "      <td>0.4411</td>\n",
       "      <td>NaN</td>\n",
       "      <td>0.5019</td>\n",
       "      <td>0.6259</td>\n",
       "      <td>NaN</td>\n",
       "      <td>0.5048</td>\n",
       "      <td>NaN</td>\n",
       "      <td>0.5725</td>\n",
       "      <td>0.3976</td>\n",
       "      <td>NaN</td>\n",
       "    </tr>\n",
       "    <tr>\n",
       "      <th>copolymer</th>\n",
       "      <td>0.5246</td>\n",
       "      <td>0.5655</td>\n",
       "      <td>NaN</td>\n",
       "      <td>NaN</td>\n",
       "      <td>NaN</td>\n",
       "      <td>NaN</td>\n",
       "      <td>0.4782</td>\n",
       "      <td>0.6025</td>\n",
       "      <td>0.421</td>\n",
       "      <td>NaN</td>\n",
       "      <td>NaN</td>\n",
       "      <td>0.5855</td>\n",
       "      <td>NaN</td>\n",
       "      <td>NaN</td>\n",
       "      <td>NaN</td>\n",
       "      <td>NaN</td>\n",
       "      <td>NaN</td>\n",
       "      <td>NaN</td>\n",
       "    </tr>\n",
       "    <tr>\n",
       "      <th>polymeric</th>\n",
       "      <td>0.5069</td>\n",
       "      <td>0.5558</td>\n",
       "      <td>0.5777</td>\n",
       "      <td>0.3639</td>\n",
       "      <td>NaN</td>\n",
       "      <td>NaN</td>\n",
       "      <td>0.5157</td>\n",
       "      <td>0.523</td>\n",
       "      <td>0.4087</td>\n",
       "      <td>NaN</td>\n",
       "      <td>0.4664</td>\n",
       "      <td>0.5898</td>\n",
       "      <td>NaN</td>\n",
       "      <td>NaN</td>\n",
       "      <td>0.5069</td>\n",
       "      <td>NaN</td>\n",
       "      <td>NaN</td>\n",
       "      <td>NaN</td>\n",
       "    </tr>\n",
       "    <tr>\n",
       "      <th>polyester</th>\n",
       "      <td>0.479</td>\n",
       "      <td>0.5247</td>\n",
       "      <td>0.5616</td>\n",
       "      <td>NaN</td>\n",
       "      <td>NaN</td>\n",
       "      <td>0.4264</td>\n",
       "      <td>0.5498</td>\n",
       "      <td>0.5106</td>\n",
       "      <td>NaN</td>\n",
       "      <td>0.4762</td>\n",
       "      <td>0.5237</td>\n",
       "      <td>NaN</td>\n",
       "      <td>NaN</td>\n",
       "      <td>0.5504</td>\n",
       "      <td>0.5489</td>\n",
       "      <td>0.5052</td>\n",
       "      <td>NaN</td>\n",
       "      <td>0.533</td>\n",
       "    </tr>\n",
       "    <tr>\n",
       "      <th>...</th>\n",
       "      <td>...</td>\n",
       "      <td>...</td>\n",
       "      <td>...</td>\n",
       "      <td>...</td>\n",
       "      <td>...</td>\n",
       "      <td>...</td>\n",
       "      <td>...</td>\n",
       "      <td>...</td>\n",
       "      <td>...</td>\n",
       "      <td>...</td>\n",
       "      <td>...</td>\n",
       "      <td>...</td>\n",
       "      <td>...</td>\n",
       "      <td>...</td>\n",
       "      <td>...</td>\n",
       "      <td>...</td>\n",
       "      <td>...</td>\n",
       "      <td>...</td>\n",
       "    </tr>\n",
       "    <tr>\n",
       "      <th>extruders</th>\n",
       "      <td>NaN</td>\n",
       "      <td>NaN</td>\n",
       "      <td>NaN</td>\n",
       "      <td>NaN</td>\n",
       "      <td>NaN</td>\n",
       "      <td>NaN</td>\n",
       "      <td>NaN</td>\n",
       "      <td>NaN</td>\n",
       "      <td>NaN</td>\n",
       "      <td>NaN</td>\n",
       "      <td>NaN</td>\n",
       "      <td>NaN</td>\n",
       "      <td>NaN</td>\n",
       "      <td>NaN</td>\n",
       "      <td>NaN</td>\n",
       "      <td>NaN</td>\n",
       "      <td>0.3544</td>\n",
       "      <td>NaN</td>\n",
       "    </tr>\n",
       "    <tr>\n",
       "      <th>biopolymers</th>\n",
       "      <td>NaN</td>\n",
       "      <td>NaN</td>\n",
       "      <td>NaN</td>\n",
       "      <td>NaN</td>\n",
       "      <td>NaN</td>\n",
       "      <td>NaN</td>\n",
       "      <td>NaN</td>\n",
       "      <td>NaN</td>\n",
       "      <td>NaN</td>\n",
       "      <td>NaN</td>\n",
       "      <td>NaN</td>\n",
       "      <td>NaN</td>\n",
       "      <td>NaN</td>\n",
       "      <td>NaN</td>\n",
       "      <td>NaN</td>\n",
       "      <td>NaN</td>\n",
       "      <td>0.3527</td>\n",
       "      <td>NaN</td>\n",
       "    </tr>\n",
       "    <tr>\n",
       "      <th>engineered</th>\n",
       "      <td>NaN</td>\n",
       "      <td>NaN</td>\n",
       "      <td>NaN</td>\n",
       "      <td>NaN</td>\n",
       "      <td>NaN</td>\n",
       "      <td>NaN</td>\n",
       "      <td>NaN</td>\n",
       "      <td>NaN</td>\n",
       "      <td>NaN</td>\n",
       "      <td>NaN</td>\n",
       "      <td>NaN</td>\n",
       "      <td>NaN</td>\n",
       "      <td>NaN</td>\n",
       "      <td>NaN</td>\n",
       "      <td>NaN</td>\n",
       "      <td>NaN</td>\n",
       "      <td>0.3499</td>\n",
       "      <td>NaN</td>\n",
       "    </tr>\n",
       "    <tr>\n",
       "      <th>polyvinyl</th>\n",
       "      <td>NaN</td>\n",
       "      <td>NaN</td>\n",
       "      <td>NaN</td>\n",
       "      <td>NaN</td>\n",
       "      <td>NaN</td>\n",
       "      <td>NaN</td>\n",
       "      <td>NaN</td>\n",
       "      <td>NaN</td>\n",
       "      <td>NaN</td>\n",
       "      <td>NaN</td>\n",
       "      <td>NaN</td>\n",
       "      <td>NaN</td>\n",
       "      <td>NaN</td>\n",
       "      <td>NaN</td>\n",
       "      <td>NaN</td>\n",
       "      <td>NaN</td>\n",
       "      <td>NaN</td>\n",
       "      <td>0.4678</td>\n",
       "    </tr>\n",
       "    <tr>\n",
       "      <th>foaming</th>\n",
       "      <td>NaN</td>\n",
       "      <td>NaN</td>\n",
       "      <td>NaN</td>\n",
       "      <td>NaN</td>\n",
       "      <td>NaN</td>\n",
       "      <td>NaN</td>\n",
       "      <td>NaN</td>\n",
       "      <td>NaN</td>\n",
       "      <td>NaN</td>\n",
       "      <td>NaN</td>\n",
       "      <td>NaN</td>\n",
       "      <td>NaN</td>\n",
       "      <td>NaN</td>\n",
       "      <td>NaN</td>\n",
       "      <td>NaN</td>\n",
       "      <td>NaN</td>\n",
       "      <td>NaN</td>\n",
       "      <td>0.4525</td>\n",
       "    </tr>\n",
       "  </tbody>\n",
       "</table>\n",
       "<p>87 rows × 18 columns</p>\n",
       "</div>"
      ]
     },
     "execution_count": 33,
     "metadata": {},
     "output_type": "execute_result"
    }
   ],
   "execution_count": 33
  },
  {
   "cell_type": "code",
   "source": [
    "from scipy.spatial import distance\n",
    "import pandas as pd\n",
    "\n",
    "# 将缺失值设置为0\n",
    "df2_filled = df2.fillna(0)\n",
    "\n",
    "# 计算两两之间的余弦相似度\n",
    "similarity_matrix = pd.DataFrame(columns=df2_filled.columns, index=df2_filled.columns)\n",
    "for col1 in df2_filled.columns:\n",
    "    for col2 in df2_filled.columns:\n",
    "        if col1 != col2:\n",
    "            vec1 = df2_filled[col1].tolist()\n",
    "            vec2 = df2_filled[col2].tolist()\n",
    "            similarity = 1 - distance.cosine(vec1, vec2)\n",
    "            similarity_matrix.at[col1, col2] = similarity"
   ],
   "metadata": {
    "collapsed": false,
    "ExecuteTime": {
     "end_time": "2024-06-26T14:39:03.656137Z",
     "start_time": "2024-06-26T14:39:03.388158Z"
    }
   },
   "id": "83bb4e8d2309a6bb",
   "outputs": [
    {
     "name": "stderr",
     "output_type": "stream",
     "text": [
      "C:\\Users\\RIC_ZX\\AppData\\Local\\Temp\\ipykernel_46456\\18459170.py:5: FutureWarning: Downcasting object dtype arrays on .fillna, .ffill, .bfill is deprecated and will change in a future version. Call result.infer_objects(copy=False) instead. To opt-in to the future behavior, set `pd.set_option('future.no_silent_downcasting', True)`\n",
      "  df2_filled = df2.fillna(0)\n"
     ]
    }
   ],
   "execution_count": 34
  },
  {
   "cell_type": "code",
   "source": [
    "similarity_matrix.to_excel(\"similarity_matrix.xlsx\")"
   ],
   "metadata": {
    "collapsed": false,
    "ExecuteTime": {
     "end_time": "2024-06-26T14:39:44.270109Z",
     "start_time": "2024-06-26T14:39:44.236803Z"
    }
   },
   "id": "bb1192585e5792b9",
   "outputs": [],
   "execution_count": 36
  },
  {
   "cell_type": "code",
   "execution_count": 25,
   "outputs": [],
   "source": [
    "similarities_1_2 = pd.read_excel(\"S_M.xlsx\", header=None)\n",
    "similarities_2_3 = pd.read_excel(\"M_L.xlsx\", header=None)"
   ],
   "metadata": {
    "collapsed": false,
    "ExecuteTime": {
     "end_time": "2024-03-13T07:20:16.806177Z",
     "start_time": "2024-03-13T07:20:16.770212Z"
    }
   },
   "id": "35e456e489622c95"
  },
  {
   "cell_type": "code",
   "execution_count": 26,
   "outputs": [
    {
     "data": {
      "text/plain": "          0         1         2         3         4         5\n0  0.443941  0.552056  0.516651  0.226417  0.441299  0.454620\n1  0.599505  0.605480  0.498358  0.235697  0.398395  0.408828\n2  0.448617  0.424094  0.308239  0.296406  0.438858  0.319723\n3  0.193919  0.287948  0.276298  0.000000  0.280875  0.290966\n4  0.129817  0.131348  0.258672  0.154205  0.217295  0.129325\n5  0.234849  0.215811  0.216600  0.297706  0.226305  0.114112",
      "text/html": "<div>\n<style scoped>\n    .dataframe tbody tr th:only-of-type {\n        vertical-align: middle;\n    }\n\n    .dataframe tbody tr th {\n        vertical-align: top;\n    }\n\n    .dataframe thead th {\n        text-align: right;\n    }\n</style>\n<table border=\"1\" class=\"dataframe\">\n  <thead>\n    <tr style=\"text-align: right;\">\n      <th></th>\n      <th>0</th>\n      <th>1</th>\n      <th>2</th>\n      <th>3</th>\n      <th>4</th>\n      <th>5</th>\n    </tr>\n  </thead>\n  <tbody>\n    <tr>\n      <th>0</th>\n      <td>0.443941</td>\n      <td>0.552056</td>\n      <td>0.516651</td>\n      <td>0.226417</td>\n      <td>0.441299</td>\n      <td>0.454620</td>\n    </tr>\n    <tr>\n      <th>1</th>\n      <td>0.599505</td>\n      <td>0.605480</td>\n      <td>0.498358</td>\n      <td>0.235697</td>\n      <td>0.398395</td>\n      <td>0.408828</td>\n    </tr>\n    <tr>\n      <th>2</th>\n      <td>0.448617</td>\n      <td>0.424094</td>\n      <td>0.308239</td>\n      <td>0.296406</td>\n      <td>0.438858</td>\n      <td>0.319723</td>\n    </tr>\n    <tr>\n      <th>3</th>\n      <td>0.193919</td>\n      <td>0.287948</td>\n      <td>0.276298</td>\n      <td>0.000000</td>\n      <td>0.280875</td>\n      <td>0.290966</td>\n    </tr>\n    <tr>\n      <th>4</th>\n      <td>0.129817</td>\n      <td>0.131348</td>\n      <td>0.258672</td>\n      <td>0.154205</td>\n      <td>0.217295</td>\n      <td>0.129325</td>\n    </tr>\n    <tr>\n      <th>5</th>\n      <td>0.234849</td>\n      <td>0.215811</td>\n      <td>0.216600</td>\n      <td>0.297706</td>\n      <td>0.226305</td>\n      <td>0.114112</td>\n    </tr>\n  </tbody>\n</table>\n</div>"
     },
     "execution_count": 26,
     "metadata": {},
     "output_type": "execute_result"
    }
   ],
   "source": [
    "similarities_1_2"
   ],
   "metadata": {
    "collapsed": false,
    "ExecuteTime": {
     "end_time": "2024-03-13T07:20:17.427407Z",
     "start_time": "2024-03-13T07:20:17.406916Z"
    }
   },
   "id": "5ac7917db5669b72"
  },
  {
   "cell_type": "markdown",
   "source": [
    "# 设置阈值"
   ],
   "metadata": {
    "collapsed": false
   },
   "id": "58bde025ee184811"
  },
  {
   "cell_type": "code",
   "execution_count": 78,
   "outputs": [],
   "source": [
    "import numpy as np\n",
    "def find_similar_elements(matrix):\n",
    "    matrix = matrix.to_numpy()\n",
    "    rows, cols = np.where(matrix > 0.1)#设置阈值\n",
    "    values = matrix[rows, cols]\n",
    "    similar_matrix = np.column_stack((rows, cols, values))\n",
    "    return similar_matrix"
   ],
   "metadata": {
    "collapsed": false,
    "ExecuteTime": {
     "end_time": "2024-03-13T07:23:12.488015Z",
     "start_time": "2024-03-13T07:23:12.473506Z"
    }
   },
   "id": "175840173a8afd55"
  },
  {
   "cell_type": "code",
   "execution_count": 79,
   "outputs": [],
   "source": [
    "similar_elements_1_2 = find_similar_elements(similarities_1_2)"
   ],
   "metadata": {
    "collapsed": false,
    "ExecuteTime": {
     "end_time": "2024-03-13T07:23:12.627029Z",
     "start_time": "2024-03-13T07:23:12.618858Z"
    }
   },
   "id": "920002a2d9fcd772"
  },
  {
   "cell_type": "code",
   "execution_count": 80,
   "outputs": [],
   "source": [
    "import pandas as pd\n",
    "# 创建新的 DataFrame\n",
    "similar_elements_1_2_pd = pd.DataFrame(similar_elements_1_2, columns=['Source', 'Target', 'Value'])\n",
    "similar_elements_1_2_pd['Source'] = similar_elements_1_2_pd['Source'].apply(lambda x: 'S' + str(int(x)))\n",
    "similar_elements_1_2_pd['Target'] = similar_elements_1_2_pd['Target'].apply(lambda x: 'M' + str(int(x)))"
   ],
   "metadata": {
    "collapsed": false,
    "ExecuteTime": {
     "end_time": "2024-03-13T07:23:12.781357Z",
     "start_time": "2024-03-13T07:23:12.765219Z"
    }
   },
   "id": "23a5aec576e85081"
  },
  {
   "cell_type": "code",
   "execution_count": 81,
   "outputs": [
    {
     "data": {
      "text/plain": "   Source Target     Value\n0      S0     M0  0.443941\n1      S0     M1  0.552056\n2      S0     M2  0.516651\n3      S0     M3  0.226417\n4      S0     M4  0.441299\n5      S0     M5  0.454620\n6      S1     M0  0.599505\n7      S1     M1  0.605480\n8      S1     M2  0.498358\n9      S1     M3  0.235697\n10     S1     M4  0.398395\n11     S1     M5  0.408828\n12     S2     M0  0.448617\n13     S2     M1  0.424094\n14     S2     M2  0.308239\n15     S2     M3  0.296406\n16     S2     M4  0.438858\n17     S2     M5  0.319723\n18     S3     M0  0.193919\n19     S3     M1  0.287948\n20     S3     M2  0.276298\n21     S3     M4  0.280875\n22     S3     M5  0.290966\n23     S4     M0  0.129817\n24     S4     M1  0.131348\n25     S4     M2  0.258672\n26     S4     M3  0.154205\n27     S4     M4  0.217295\n28     S4     M5  0.129325\n29     S5     M0  0.234849\n30     S5     M1  0.215811\n31     S5     M2  0.216600\n32     S5     M3  0.297706\n33     S5     M4  0.226305\n34     S5     M5  0.114112",
      "text/html": "<div>\n<style scoped>\n    .dataframe tbody tr th:only-of-type {\n        vertical-align: middle;\n    }\n\n    .dataframe tbody tr th {\n        vertical-align: top;\n    }\n\n    .dataframe thead th {\n        text-align: right;\n    }\n</style>\n<table border=\"1\" class=\"dataframe\">\n  <thead>\n    <tr style=\"text-align: right;\">\n      <th></th>\n      <th>Source</th>\n      <th>Target</th>\n      <th>Value</th>\n    </tr>\n  </thead>\n  <tbody>\n    <tr>\n      <th>0</th>\n      <td>S0</td>\n      <td>M0</td>\n      <td>0.443941</td>\n    </tr>\n    <tr>\n      <th>1</th>\n      <td>S0</td>\n      <td>M1</td>\n      <td>0.552056</td>\n    </tr>\n    <tr>\n      <th>2</th>\n      <td>S0</td>\n      <td>M2</td>\n      <td>0.516651</td>\n    </tr>\n    <tr>\n      <th>3</th>\n      <td>S0</td>\n      <td>M3</td>\n      <td>0.226417</td>\n    </tr>\n    <tr>\n      <th>4</th>\n      <td>S0</td>\n      <td>M4</td>\n      <td>0.441299</td>\n    </tr>\n    <tr>\n      <th>5</th>\n      <td>S0</td>\n      <td>M5</td>\n      <td>0.454620</td>\n    </tr>\n    <tr>\n      <th>6</th>\n      <td>S1</td>\n      <td>M0</td>\n      <td>0.599505</td>\n    </tr>\n    <tr>\n      <th>7</th>\n      <td>S1</td>\n      <td>M1</td>\n      <td>0.605480</td>\n    </tr>\n    <tr>\n      <th>8</th>\n      <td>S1</td>\n      <td>M2</td>\n      <td>0.498358</td>\n    </tr>\n    <tr>\n      <th>9</th>\n      <td>S1</td>\n      <td>M3</td>\n      <td>0.235697</td>\n    </tr>\n    <tr>\n      <th>10</th>\n      <td>S1</td>\n      <td>M4</td>\n      <td>0.398395</td>\n    </tr>\n    <tr>\n      <th>11</th>\n      <td>S1</td>\n      <td>M5</td>\n      <td>0.408828</td>\n    </tr>\n    <tr>\n      <th>12</th>\n      <td>S2</td>\n      <td>M0</td>\n      <td>0.448617</td>\n    </tr>\n    <tr>\n      <th>13</th>\n      <td>S2</td>\n      <td>M1</td>\n      <td>0.424094</td>\n    </tr>\n    <tr>\n      <th>14</th>\n      <td>S2</td>\n      <td>M2</td>\n      <td>0.308239</td>\n    </tr>\n    <tr>\n      <th>15</th>\n      <td>S2</td>\n      <td>M3</td>\n      <td>0.296406</td>\n    </tr>\n    <tr>\n      <th>16</th>\n      <td>S2</td>\n      <td>M4</td>\n      <td>0.438858</td>\n    </tr>\n    <tr>\n      <th>17</th>\n      <td>S2</td>\n      <td>M5</td>\n      <td>0.319723</td>\n    </tr>\n    <tr>\n      <th>18</th>\n      <td>S3</td>\n      <td>M0</td>\n      <td>0.193919</td>\n    </tr>\n    <tr>\n      <th>19</th>\n      <td>S3</td>\n      <td>M1</td>\n      <td>0.287948</td>\n    </tr>\n    <tr>\n      <th>20</th>\n      <td>S3</td>\n      <td>M2</td>\n      <td>0.276298</td>\n    </tr>\n    <tr>\n      <th>21</th>\n      <td>S3</td>\n      <td>M4</td>\n      <td>0.280875</td>\n    </tr>\n    <tr>\n      <th>22</th>\n      <td>S3</td>\n      <td>M5</td>\n      <td>0.290966</td>\n    </tr>\n    <tr>\n      <th>23</th>\n      <td>S4</td>\n      <td>M0</td>\n      <td>0.129817</td>\n    </tr>\n    <tr>\n      <th>24</th>\n      <td>S4</td>\n      <td>M1</td>\n      <td>0.131348</td>\n    </tr>\n    <tr>\n      <th>25</th>\n      <td>S4</td>\n      <td>M2</td>\n      <td>0.258672</td>\n    </tr>\n    <tr>\n      <th>26</th>\n      <td>S4</td>\n      <td>M3</td>\n      <td>0.154205</td>\n    </tr>\n    <tr>\n      <th>27</th>\n      <td>S4</td>\n      <td>M4</td>\n      <td>0.217295</td>\n    </tr>\n    <tr>\n      <th>28</th>\n      <td>S4</td>\n      <td>M5</td>\n      <td>0.129325</td>\n    </tr>\n    <tr>\n      <th>29</th>\n      <td>S5</td>\n      <td>M0</td>\n      <td>0.234849</td>\n    </tr>\n    <tr>\n      <th>30</th>\n      <td>S5</td>\n      <td>M1</td>\n      <td>0.215811</td>\n    </tr>\n    <tr>\n      <th>31</th>\n      <td>S5</td>\n      <td>M2</td>\n      <td>0.216600</td>\n    </tr>\n    <tr>\n      <th>32</th>\n      <td>S5</td>\n      <td>M3</td>\n      <td>0.297706</td>\n    </tr>\n    <tr>\n      <th>33</th>\n      <td>S5</td>\n      <td>M4</td>\n      <td>0.226305</td>\n    </tr>\n    <tr>\n      <th>34</th>\n      <td>S5</td>\n      <td>M5</td>\n      <td>0.114112</td>\n    </tr>\n  </tbody>\n</table>\n</div>"
     },
     "execution_count": 81,
     "metadata": {},
     "output_type": "execute_result"
    }
   ],
   "source": [
    "similar_elements_1_2_pd"
   ],
   "metadata": {
    "collapsed": false,
    "ExecuteTime": {
     "end_time": "2024-03-13T07:23:12.922283Z",
     "start_time": "2024-03-13T07:23:12.899454Z"
    }
   },
   "id": "297a61e410e624b8"
  },
  {
   "cell_type": "code",
   "execution_count": 82,
   "outputs": [],
   "source": [
    "similar_elements_2_3 = find_similar_elements(similarities_2_3)"
   ],
   "metadata": {
    "collapsed": false,
    "ExecuteTime": {
     "end_time": "2024-03-13T07:23:13.060429Z",
     "start_time": "2024-03-13T07:23:13.052759Z"
    }
   },
   "id": "80d2fef2ead2236d"
  },
  {
   "cell_type": "code",
   "execution_count": 83,
   "outputs": [],
   "source": [
    "import pandas as pd\n",
    "# 创建新的 DataFrame\n",
    "similar_elements_2_3_pd = pd.DataFrame(similar_elements_2_3, columns=['Source', 'Target', 'Value'])\n",
    "similar_elements_2_3_pd['Source'] = similar_elements_2_3_pd['Source'].apply(lambda x: 'M' + str(int(x)))\n",
    "similar_elements_2_3_pd['Target'] = similar_elements_2_3_pd['Target'].apply(lambda x: 'L' + str(int(x)))"
   ],
   "metadata": {
    "collapsed": false,
    "ExecuteTime": {
     "end_time": "2024-03-13T07:23:13.260078Z",
     "start_time": "2024-03-13T07:23:13.246441Z"
    }
   },
   "id": "8b13edbc3da6465b"
  },
  {
   "cell_type": "code",
   "execution_count": 84,
   "outputs": [],
   "source": [
    "# 桑基图矩阵\n",
    "similar_elements_1_2_3_pd = pd.concat([similar_elements_1_2_pd, similar_elements_2_3_pd])"
   ],
   "metadata": {
    "collapsed": false,
    "ExecuteTime": {
     "end_time": "2024-03-13T07:23:13.290922Z",
     "start_time": "2024-03-13T07:23:13.273879Z"
    }
   },
   "id": "74800564a9a04957"
  },
  {
   "cell_type": "code",
   "execution_count": 85,
   "outputs": [
    {
     "data": {
      "text/plain": "   Source Target     Value\n0      S0     M0  0.443941\n1      S0     M1  0.552056\n2      S0     M2  0.516651\n3      S0     M3  0.226417\n4      S0     M4  0.441299\n..    ...    ...       ...\n25     M5     L1  0.192801\n26     M5     L2  0.197130\n27     M5     L3  0.233165\n28     M5     L4  0.210301\n29     M5     L5  0.200977\n\n[65 rows x 3 columns]",
      "text/html": "<div>\n<style scoped>\n    .dataframe tbody tr th:only-of-type {\n        vertical-align: middle;\n    }\n\n    .dataframe tbody tr th {\n        vertical-align: top;\n    }\n\n    .dataframe thead th {\n        text-align: right;\n    }\n</style>\n<table border=\"1\" class=\"dataframe\">\n  <thead>\n    <tr style=\"text-align: right;\">\n      <th></th>\n      <th>Source</th>\n      <th>Target</th>\n      <th>Value</th>\n    </tr>\n  </thead>\n  <tbody>\n    <tr>\n      <th>0</th>\n      <td>S0</td>\n      <td>M0</td>\n      <td>0.443941</td>\n    </tr>\n    <tr>\n      <th>1</th>\n      <td>S0</td>\n      <td>M1</td>\n      <td>0.552056</td>\n    </tr>\n    <tr>\n      <th>2</th>\n      <td>S0</td>\n      <td>M2</td>\n      <td>0.516651</td>\n    </tr>\n    <tr>\n      <th>3</th>\n      <td>S0</td>\n      <td>M3</td>\n      <td>0.226417</td>\n    </tr>\n    <tr>\n      <th>4</th>\n      <td>S0</td>\n      <td>M4</td>\n      <td>0.441299</td>\n    </tr>\n    <tr>\n      <th>...</th>\n      <td>...</td>\n      <td>...</td>\n      <td>...</td>\n    </tr>\n    <tr>\n      <th>25</th>\n      <td>M5</td>\n      <td>L1</td>\n      <td>0.192801</td>\n    </tr>\n    <tr>\n      <th>26</th>\n      <td>M5</td>\n      <td>L2</td>\n      <td>0.197130</td>\n    </tr>\n    <tr>\n      <th>27</th>\n      <td>M5</td>\n      <td>L3</td>\n      <td>0.233165</td>\n    </tr>\n    <tr>\n      <th>28</th>\n      <td>M5</td>\n      <td>L4</td>\n      <td>0.210301</td>\n    </tr>\n    <tr>\n      <th>29</th>\n      <td>M5</td>\n      <td>L5</td>\n      <td>0.200977</td>\n    </tr>\n  </tbody>\n</table>\n<p>65 rows × 3 columns</p>\n</div>"
     },
     "execution_count": 85,
     "metadata": {},
     "output_type": "execute_result"
    }
   ],
   "source": [
    "similar_elements_1_2_3_pd"
   ],
   "metadata": {
    "collapsed": false,
    "ExecuteTime": {
     "end_time": "2024-03-13T07:23:13.383918Z",
     "start_time": "2024-03-13T07:23:13.373262Z"
    }
   },
   "id": "5271940836663c9d"
  },
  {
   "cell_type": "code",
   "execution_count": 86,
   "outputs": [],
   "source": [
    "import pandas as pd\n",
    "\n",
    "# 合并所有节点\n",
    "nodes = pd.Series(similar_elements_1_2_3_pd['Source'].tolist() + similar_elements_1_2_3_pd['Target'].tolist()).unique()\n",
    "\n",
    "# 为节点分配唯一索引\n",
    "node_index = {node: index for index, node in enumerate(nodes)}\n",
    "\n",
    "# 替换 Source 和 Target 列\n",
    "similar_elements_1_2_3_pd['source'] = similar_elements_1_2_3_pd['Source'].apply(lambda x: node_index[x])\n",
    "similar_elements_1_2_3_pd['target'] = similar_elements_1_2_3_pd['Target'].apply(lambda x: node_index[x])\n",
    "\n",
    "# 转换数据格式\n",
    "links = similar_elements_1_2_3_pd[['source', 'target', 'Value']]"
   ],
   "metadata": {
    "collapsed": false,
    "ExecuteTime": {
     "end_time": "2024-03-13T07:23:14.142441Z",
     "start_time": "2024-03-13T07:23:14.125581Z"
    }
   },
   "id": "adc2c3d58f79858a"
  },
  {
   "cell_type": "code",
   "execution_count": 36,
   "outputs": [
    {
     "data": {
      "text/plain": "'C:\\\\Users\\\\RIC_ZX\\\\Desktop\\\\papers\\\\ZLW\\\\SBERT\\\\TR三维KMeans\\\\SBERT-TextRank\\\\sankey_chart.html'"
     },
     "execution_count": 36,
     "metadata": {},
     "output_type": "execute_result"
    }
   ],
   "source": [
    "from pyecharts.charts import Sankey\n",
    "from pyecharts import options as opts\n",
    "\n",
    "# 从 similar_elements_2_3_pd 中读取数据\n",
    "data = similar_elements_1_2_3_pd.values.tolist()\n",
    "\n",
    "nodes = []\n",
    "links = []\n",
    "\n",
    "for item in data:\n",
    "    source = item[0]\n",
    "    target = item[1]\n",
    "    value = item[2]\n",
    "\n",
    "    if source not in nodes:\n",
    "        nodes.append(source)\n",
    "    if target not in nodes:\n",
    "        nodes.append(target)\n",
    "\n",
    "    links.append({\"source\": source, \"target\": target, \"value\": value})\n",
    "\n",
    "sankey = (\n",
    "    Sankey()\n",
    "    .add(\n",
    "        series_name=\"\",\n",
    "        nodes=[{\"name\": node} for node in nodes],\n",
    "        links=links,\n",
    "        linestyle_opt=opts.LineStyleOpts(opacity=0.5, curve=0.3, color=\"source\"),\n",
    "        #itemstyle_opts=opts.ItemStyleOpts(border_width=1, border_color=\"#aaa\")\n",
    "    )\n",
    "    .set_global_opts(title_opts=opts.TitleOpts(title=\"\"),\n",
    "                     #theme=\"wonderland\" \n",
    "                     )\n",
    "     \n",
    ")\n",
    "\n",
    "sankey.render_notebook()"
   ],
   "metadata": {
    "collapsed": false,
    "ExecuteTime": {
     "end_time": "2024-03-10T10:02:05.776513Z",
     "start_time": "2024-03-10T10:02:05.752898Z"
    }
   },
   "id": "5320b2beb850415e"
  }
 ],
 "metadata": {
  "kernelspec": {
   "display_name": "Python 3",
   "language": "python",
   "name": "python3"
  },
  "language_info": {
   "codemirror_mode": {
    "name": "ipython",
    "version": 2
   },
   "file_extension": ".py",
   "mimetype": "text/x-python",
   "name": "python",
   "nbconvert_exporter": "python",
   "pygments_lexer": "ipython2",
   "version": "2.7.6"
  }
 },
 "nbformat": 4,
 "nbformat_minor": 5
}
