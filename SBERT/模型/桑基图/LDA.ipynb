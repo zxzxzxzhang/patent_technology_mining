{
 "cells": [
  {
   "cell_type": "code",
   "execution_count": null,
   "id": "initial_id",
   "metadata": {
    "collapsed": true
   },
   "outputs": [],
   "source": [
    "from sklearn.decomposition import LatentDirichletAllocation\n",
    "import matplotlib.pyplot as plt\n",
    "\n",
    "# umap_embeddings是你的专利向量化表示\n",
    "data = umap_embeddings\n",
    "\n",
    "# 定义主题数量的范围\n",
    "topic_nums = list(range(1, 10))\n",
    "\n",
    "# 用于存储每个主题数量的困惑度\n",
    "perplexity_values = []\n",
    "\n",
    "for num in topic_nums:\n",
    "    # 创建并拟合LDA模型\n",
    "    lda_model = LatentDirichletAllocation(n_components=num, random_state=0)\n",
    "    lda_model.fit(data)\n",
    "\n",
    "    # 计算并存储困惑度\n",
    "    perplexity_values.append(lda_model.perplexity(data))\n",
    "\n",
    "# 绘制主题数量与困惑度的关系\n",
    "plt.figure(figsize=(10, 5))\n",
    "plt.plot(topic_nums, perplexity_values, marker='o')\n",
    "plt.title('Choosing Optimal LDA Model')\n",
    "plt.xlabel('Num Topics')\n",
    "plt.ylabel('Perplexity')\n",
    "plt.show()"
   ]
  }
 ],
 "metadata": {
  "kernelspec": {
   "display_name": "Python 3",
   "language": "python",
   "name": "python3"
  },
  "language_info": {
   "codemirror_mode": {
    "name": "ipython",
    "version": 2
   },
   "file_extension": ".py",
   "mimetype": "text/x-python",
   "name": "python",
   "nbconvert_exporter": "python",
   "pygments_lexer": "ipython2",
   "version": "2.7.6"
  }
 },
 "nbformat": 4,
 "nbformat_minor": 5
}
