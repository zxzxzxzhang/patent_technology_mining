{
 "cells": [
  {
   "cell_type": "code",
   "id": "initial_id",
   "metadata": {
    "collapsed": true,
    "ExecuteTime": {
     "end_time": "2024-04-22T00:09:04.840004Z",
     "start_time": "2024-04-22T00:09:04.782959Z"
    }
   },
   "source": [
    "import pandas as pd\n",
    "\n",
    "# 读取 Excel 文件\n",
    "df = pd.read_excel(r'C:\\Users\\RIC_ZX\\Desktop\\papers\\ZLW\\SBERT\\TR微调\\SBERT-TextRank - 副本\\all_mpnet_base_v2结果.xlsx')\n",
    "\n",
    "for col in df.columns:\n",
    "    # 如果列是字符串类型，就进行处理\n",
    "    if df[col].dtype == 'object':\n",
    "        # 将该列按逗号分成两列\n",
    "        new_cols = df[col].str.split(',', n=1, expand=True)\n",
    "        df[[f'{col}_part1', f'{col}_part2']] = new_cols\n",
    "\n",
    "        # 删除括号\n",
    "        df[f'{col}_part1'] = df[f'{col}_part1'].str.replace(r'\\(|\\)', '', regex=True)\n",
    "        df[f'{col}_part2'] = df[f'{col}_part2'].str.replace(r'\\(|\\)', '', regex=True)"
   ],
   "execution_count": 10,
   "outputs": []
  },
  {
   "cell_type": "code",
   "source": [
    "df"
   ],
   "metadata": {
    "collapsed": false,
    "ExecuteTime": {
     "end_time": "2024-04-22T00:09:05.415825Z",
     "start_time": "2024-04-22T00:09:05.384913Z"
    }
   },
   "id": "9bec633c754119d",
   "execution_count": 11,
   "outputs": []
  },
  {
   "cell_type": "code",
   "source": [
    "# 保存结果到新的 Excel 文件\n",
    "df.to_excel(r'C:\\Users\\RIC_ZX\\Desktop\\papers\\ZLW\\SBERT\\TR微调\\SBERT-TextRank - 副本\\output.xlsx', index=False)"
   ],
   "metadata": {
    "collapsed": false,
    "ExecuteTime": {
     "end_time": "2024-04-22T00:09:05.760720Z",
     "start_time": "2024-04-22T00:09:05.705443Z"
    }
   },
   "id": "c7421480384f362b",
   "execution_count": 12,
   "outputs": []
  },
  {
   "cell_type": "code",
   "source": [
    "input_string = \"Cambond Ltd | Fraunhofer-Gesellschaft zur Förderung der angewandten Forschung e.V. | University Of Guelph | Csir | FRAUNHOFER-GESELLSCHAFT zur Förderung der angewandten Forschung e.V. | Double Double D, Llc | Ye pingshan | Novadelta - Comércio E Indústria De Cafés, Lda | Smrc Automotive Holdings Netherlands Bv | Hangshi Technology Development Hangzhou Co Ltd | Changzhou Longjun Skypurl Environment Protection Technology Co ltd | Ningbo Baifude Environmental Protection Technology Co ltd | Coda Intellectual Property B V | Coda Intellectual Property B.V. | Beijing University of Chemical Technology | Ric3D S R L | Tchibo GmbH | Sichuan University of Science & Engineering | Suzhou Sairong Architectural Decoration Engineering Co ltd | Shenyang University of Chemical Technology | Hangzhou Mietro New Material Technology Co ltd | Chestnut Natural Capital Ltd | Shaanxi University of Science & Technology |  KINGFA SCI. & TECH. CO., LTD. | Société des Produits Nestlé S.A. | Sulapac Oy | Wuwu Technology Shenzhen Co ltd | Qidong Haizhonggang Building Material Co ltd | Suzhou Hesumei Technology Co., Ltd.\"\n",
    "split_strings = input_string.split(\" | \")\n",
    "num_strings = len(split_strings)\n",
    "print(\"被\\\"|\\\"隔开的字符串数量为：\", num_strings)\n"
   ],
   "metadata": {
    "collapsed": false,
    "ExecuteTime": {
     "end_time": "2024-03-10T12:57:31.549089Z",
     "start_time": "2024-03-10T12:57:31.532704Z"
    }
   },
   "id": "1bde0e81f8cf1fce",
   "execution_count": 6,
   "outputs": []
  },
  {
   "cell_type": "code",
   "source": [
    " "
   ],
   "metadata": {
    "collapsed": false,
    "ExecuteTime": {
     "end_time": "2024-04-22T00:06:51.644179Z",
     "start_time": "2024-04-22T00:06:51.630177Z"
    }
   },
   "id": "533b92b0bbfb28f1",
   "execution_count": null,
   "outputs": []
  },
  {
   "metadata": {},
   "cell_type": "code",
   "execution_count": null,
   "source": "",
   "id": "413353bbf5663f81",
   "outputs": []
  }
 ],
 "metadata": {
  "kernelspec": {
   "display_name": "Python 3",
   "language": "python",
   "name": "python3"
  },
  "language_info": {
   "codemirror_mode": {
    "name": "ipython",
    "version": 2
   },
   "file_extension": ".py",
   "mimetype": "text/x-python",
   "name": "python",
   "nbconvert_exporter": "python",
   "pygments_lexer": "ipython2",
   "version": "2.7.6"
  }
 },
 "nbformat": 4,
 "nbformat_minor": 5
}
