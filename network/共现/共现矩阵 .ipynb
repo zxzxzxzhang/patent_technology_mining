{
 "cells": [
  {
   "metadata": {},
   "cell_type": "markdown",
   "source": "# 必须保存为xlsx不能保存为csv！！！",
   "id": "95e9734eb6850dcc"
  },
  {
   "metadata": {},
   "cell_type": "code",
   "outputs": [],
   "execution_count": null,
   "source": [
    "import pandas as pd\n",
    "import networkx as nx\n",
    "import itertools"
   ],
   "id": "4bf7adb1780c89ee"
  },
  {
   "metadata": {},
   "cell_type": "code",
   "outputs": [],
   "execution_count": null,
   "source": [
    "# 读取指定的工作表\n",
    "df = pd.read_excel('./译2_删除已完成_(整合版).xlsx')\n",
    "# 去除脏数据\n",
    "# 删除行：如果摘要 (en)、标题 (en)中有任一字段的字符数小于或等于1，则移除这些行  \n",
    "df = df[(df['摘要 (en)'].str.len() > 1) & (df['标题 (en)'].str.len() > 1) & (df['发明人 (en)'].str.len() > 1)] \n",
    "# 提取发明人信息\n",
    "inventors = []\n",
    "for i, row in df.iterrows():\n",
    "    names = row[\"[标]原始申请(专利权)人(全英)\"].split(\" | \")\n",
    "    inventors.append(names)\n",
    "\n",
    "# 创建图形对象\n",
    "G = nx.Graph()\n",
    "\n",
    "# 添加节点和边，并加权\n",
    "for i in inventors:\n",
    "    G.add_nodes_from(i)\n",
    "    edges = itertools.combinations(i, 2)\n",
    "    for edge in edges:\n",
    "        if G.has_edge(*edge):\n",
    "            # 如果边已经存在，增加权重\n",
    "            G[edge[0]][edge[1]]['weight'] += 1\n",
    "        else:\n",
    "            # 如果边不存在，设置初始权重为1\n",
    "            G.add_edge(edge[0], edge[1], weight=1)\n",
    "\n",
    "# 生成带权邻接矩阵\n",
    "adj_matrix = nx.to_pandas_adjacency(G, weight='weight')"
   ],
   "id": "7754c9e50d4835d3"
  },
  {
   "metadata": {},
   "cell_type": "code",
   "source": "adj_matrix.to_excel(\"共现邻接矩阵.xlsx\")",
   "id": "9ef0ea2ec89e8768",
   "outputs": [],
   "execution_count": null
  },
  {
   "metadata": {},
   "cell_type": "code",
   "source": [
    "import pandas as pd\n",
    "df = pd.read_excel(\"共现邻接矩阵.xlsx\")\n",
    "df"
   ],
   "id": "471fa8c257e416a6",
   "outputs": [],
   "execution_count": null
  },
  {
   "metadata": {},
   "cell_type": "code",
   "source": "adj_matrix.describe()",
   "id": "a40550d37678512c",
   "outputs": [],
   "execution_count": null
  },
  {
   "metadata": {},
   "cell_type": "code",
   "source": "adj_matrix.describe().loc['max'].max()",
   "id": "bc4c39dad5fb92fe",
   "outputs": [],
   "execution_count": null
  }
 ],
 "metadata": {
  "kernelspec": {
   "display_name": "Python 3",
   "language": "python",
   "name": "python3"
  },
  "language_info": {
   "codemirror_mode": {
    "name": "ipython",
    "version": 2
   },
   "file_extension": ".py",
   "mimetype": "text/x-python",
   "name": "python",
   "nbconvert_exporter": "python",
   "pygments_lexer": "ipython2",
   "version": "2.7.6"
  }
 },
 "nbformat": 4,
 "nbformat_minor": 5
}
