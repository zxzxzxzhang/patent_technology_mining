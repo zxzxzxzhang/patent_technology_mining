{
 "cells": [
  {
   "metadata": {},
   "cell_type": "code",
   "outputs": [],
   "execution_count": null,
   "source": [
    "'''\n",
    "Pre-release Notice\n",
    "\n",
    "This repository contains code associated with our ongoing research project titled \"An insight into the technological landscape and competitive situation of biodegradable PBAT industry based on multidimensional patent analysis\". The code is being made available for **review purposes only** and is subject to the following restrictions:\n",
    "\n",
    "1. Non-commercial use only: This code may only be used for academic or non-commercial purposes.\n",
    "2. No redistribution or modification**: Redistribution or modification of this code is not permitted until the associated research paper has been officially published.\n",
    "3. Temporary access: The code in this repository is subject to updates and may change without notice until the final release.\n",
    "\n",
    "After the publication of the corresponding research paper, we plan to release the code under a more permissive open-source license (e.g., MIT License).\n",
    "\n",
    "For any questions or specific permissions, please contact zhangx2293@gmail.com with the subject \"Pre-release Code Inquiry\".\n",
    "\n",
    "Written by Xiang Zhang\n",
    "'''"
   ],
   "id": "e4f0a36db66c81f0"
  },
  {
   "metadata": {},
   "cell_type": "code",
   "outputs": [],
   "execution_count": null,
   "source": [
    "\n",
    "import pandas as pd\n",
    "import networkx as nx\n",
    "import itertools"
   ],
   "id": "4bf7adb1780c89ee"
  },
  {
   "metadata": {},
   "cell_type": "code",
   "outputs": [],
   "execution_count": null,
   "source": [
    "df = pd.read_excel('data.xlsx')\n",
    "# Remove dirty data\n",
    "df = df[(df['Abstract (en)'].str.len() > 1) & (df['Title (en)'].str.len() > 1) & (df['Inventors (en)'].str.len() > 1)] \n",
    "# Extract inventor information\n",
    "inventors = []\n",
    "for i, row in df.iterrows():\n",
    "    names = row[\"[Tag] Original Applicant (Full English)\"].split(\" | \")\n",
    "    inventors.append(names)\n",
    "\n",
    "# Create a graph object\n",
    "G = nx.Graph()\n",
    "\n",
    "# Add nodes and edges with weights\n",
    "for i in inventors:\n",
    "    G.add_nodes_from(i)\n",
    "    edges = itertools.combinations(i, 2)\n",
    "    for edge in edges:\n",
    "        if G.has_edge(*edge):\n",
    "            # If the edge already exists, increase the weight\n",
    "            G[edge[0]][edge[1]]['weight'] += 1\n",
    "        else:\n",
    "            # If the edge does not exist, set the initial weight to 1\n",
    "            G.add_edge(edge[0], edge[1], weight=1)\n",
    "\n",
    "# Generate a weighted adjacency matrix\n",
    "adj_matrix = nx.to_pandas_adjacency(G, weight='weight')"
   ],
   "id": "7754c9e50d4835d3"
  },
  {
   "metadata": {},
   "cell_type": "code",
   "source": "adj_matrix.to_excel(\"assignees_cooperation.xlsx\")",
   "id": "9ef0ea2ec89e8768",
   "outputs": [],
   "execution_count": null
  }
 ],
 "metadata": {
  "kernelspec": {
   "display_name": "Python 3",
   "language": "python",
   "name": "python3"
  },
  "language_info": {
   "codemirror_mode": {
    "name": "ipython",
    "version": 2
   },
   "file_extension": ".py",
   "mimetype": "text/x-python",
   "name": "python",
   "nbconvert_exporter": "python",
   "pygments_lexer": "ipython2",
   "version": "2.7.6"
  }
 },
 "nbformat": 4,
 "nbformat_minor": 5
}
