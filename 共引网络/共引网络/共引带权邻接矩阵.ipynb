{
 "cells": [
  {
   "cell_type": "code",
   "execution_count": 21,
   "id": "initial_id",
   "metadata": {
    "collapsed": true,
    "ExecuteTime": {
     "end_time": "2024-02-07T16:50:21.618540900Z",
     "start_time": "2024-02-07T16:50:21.345771300Z"
    }
   },
   "outputs": [],
   "source": [
    "import pandas as pd\n",
    "import networkx as nx\n",
    "from collections import Counter\n",
    "\n",
    "# 读取xlsx文件\n",
    "data = pd.read_excel(r'C:\\Users\\RIC_ZX\\Desktop\\papers\\ZLW\\(申请号去重后）美国和欧盟 已筛选TAC_(poly butylene adipate-co-terephthalate) OR TAC_(PBAT).xlsx')"
   ]
  },
  {
   "cell_type": "code",
   "outputs": [
    {
     "data": {
      "text/plain": "       序号          公开(公告)号                                                 标题  \\\n2    1057        US675631A     Thio-urea compound and process of making same.   \n3    1037  US20230250275A1  Algae thermoplastic composition and process of...   \n4    1018  US20230212537A1                   Novel esterases and uses thereof   \n5    1001  US20230127747A1  Biodegradable and Industrially Compostable Inj...   \n6    1017  US20230208143A1  System and method for smoothing photovoltaic g...   \n..    ...              ...                                                ...   \n445    21      EP2294125A2  Starch-containing thermoplastic or elastomer c...   \n446    20      EP2247661A2  Method for preparing thermoplastic composition...   \n447    15      EP2144221B1               Biodegradable film for advertisement   \n448    16      EP2144966A1  Coextrusion binders on a renewable/biodegradab...   \n449    10      EP1685201A1  Use of an aqueous dispersion of at least one b...   \n\n         法律状态/事件         申请日  \\\n2           期限届满  1900-12-31   \n3             公开  2023-03-07   \n4             公开  2022-12-22   \n5    实质审查 | 权利转移  2022-12-23   \n6             公开  2022-12-22   \n..           ...         ...   \n445      撤回-视为撤回  2009-06-12   \n446      撤回-视为撤回  2009-01-29   \n447         权利终止  2009-07-07   \n448           授权  2008-05-14   \n449      撤回-视为撤回  2004-10-29   \n\n                                                   发明人           申请号  \\\n2                         ADOLF ISRAEL | RICHARD KOTHE  US1900041628   \n3                     ZELLER, MARK ASHTON | HUNT, RYAN   US18/180014   \n4    DAVID, BENOÎT | ANDRE, ISABELLE | BEN KHALED, ...   US18/145073   \n5                                       FALKEN, ROBERT   US18/087934   \n6    AREDES, MAURICIO | BARBOSA ROLIM, LUÍS GUILHER...   US18/087199   \n..                                                 ...           ...   \n445  MENTINK, LÉON | GIMENEZ, JÉRÔME | LAGNEAUX, DI...  EP2009761936   \n446  MENTINK, LÉON | LAGNEAUX, DIDIER | GIMENEZ, JÉ...  EP2009705988   \n447                       LEE, IN KEE | KIM, SEONG JIN  EP2009008878   \n448  CHOPINEZ, FABRICE | LAFFARGUE, JOHANN | PRADEL...  EP2008805782   \n449  MENTINK, LÉON | BOUVIER, FRÉDÉRIC | CLABAUX, P...  EP2004805352   \n\n                                                  权利要求  \\\n2    Having now described our invention and in 20 w...   \n3    1. An algae-based thermoplastic composition co...   \n4    1. An esterase which (i) has at least 95% iden...   \n5    1-20. (canceled)_x000D_\\n21. A method for manu...   \n6    1. A system for smoothing photovoltaic generat...   \n..                                                 ...   \n445  REVENDICATIONS_x000D_\\n1. Composition thermopl...   \n446  REVENDICATIONS_x000D_\\n1. Composition à base d...   \n447  1.  A biodegradable film for advertisement, co...   \n448  19_x000D_\\nREVENDICATIONS_x000D_\\n1. Compositi...   \n449  REVENDICATIONS_x000D_\\n1. Utilisation, pour la...   \n\n                                                  简单同族  简单同族成员数量  ...  \\\n2                                            US675631A         1  ...   \n3                                      US20230250275A1         1  ...   \n4    CA3107517A1 | CN112654701A | EP3830254A1 | IN2...        10  ...   \n5    AU2019272664A1 | BR112020023590A2 | CN11251277...        12  ...   \n6                   BR102021026269A2 | US20230208143A1         2  ...   \n..                                                 ...       ...  ...   \n445  AU2009259118A1 | BRPI0914417A2 | CA2726860A1 |...         9  ...   \n446  AU2009208830A1 | AU2009208830B2 | BRPI0907038A...        13  ...   \n447  AT863302T | EP2144221A1 | EP2144221B1 | JP2010...         6  ...   \n448  AT592757T | CN101679731A | CN101679731B | DE60...        13  ...   \n449  CA2546107A1 | EP1685201A1 | FR2862310A1 | FR28...         8  ...   \n\n    优先权国家/地区                                              被引用专利 被引用专利数量  \\\n2          -                                         US5144064A     NaN   \n3         US                                                  -     NaN   \n4         EP                                                  -     NaN   \n5         US                                                  -     NaN   \n6         BR                                                  -     NaN   \n..       ...                                                ...     ...   \n445       FR                                                  -     NaN   \n446       FR                                                  -     NaN   \n447       KR  CN103282589A | CN103282589B | CN105173383A | C...     NaN   \n448  FR | US                                                  -     NaN   \n449  FR | FR                                                  -     NaN   \n\n                                                  引用专利 引用专利数量 非专利引文数量 许可类型  \\\n2                                                    -      0       0    -   \n3                                                    -      0       0    -   \n4                                                    -      0       0    -   \n5                    US20100198133A1 | US20130154143A1      2       0    -   \n6                                                    -      0       0    -   \n..                                                 ...    ...     ...  ...   \n445                                                  -      0       0    -   \n446                                                  -      0       0    -   \n447  EP1116748A1 | JP2004188884A | JP2007262189A | ...      4       1    -   \n448                                                  -      0       0    -   \n449                                                  -      0       0    -   \n\n    5年内被引用次数 诉讼案件数 质押人  \n2          0     0   -  \n3          0     0   -  \n4          0     0   -  \n5          0     0   -  \n6          0     0   -  \n..       ...   ...  ..  \n445        0     0   -  \n446        0     0   -  \n447        5     0   -  \n448        0     0   -  \n449        0     0   -  \n\n[448 rows x 32 columns]",
      "text/html": "<div>\n<style scoped>\n    .dataframe tbody tr th:only-of-type {\n        vertical-align: middle;\n    }\n\n    .dataframe tbody tr th {\n        vertical-align: top;\n    }\n\n    .dataframe thead th {\n        text-align: right;\n    }\n</style>\n<table border=\"1\" class=\"dataframe\">\n  <thead>\n    <tr style=\"text-align: right;\">\n      <th></th>\n      <th>序号</th>\n      <th>公开(公告)号</th>\n      <th>标题</th>\n      <th>法律状态/事件</th>\n      <th>申请日</th>\n      <th>发明人</th>\n      <th>申请号</th>\n      <th>权利要求</th>\n      <th>简单同族</th>\n      <th>简单同族成员数量</th>\n      <th>...</th>\n      <th>优先权国家/地区</th>\n      <th>被引用专利</th>\n      <th>被引用专利数量</th>\n      <th>引用专利</th>\n      <th>引用专利数量</th>\n      <th>非专利引文数量</th>\n      <th>许可类型</th>\n      <th>5年内被引用次数</th>\n      <th>诉讼案件数</th>\n      <th>质押人</th>\n    </tr>\n  </thead>\n  <tbody>\n    <tr>\n      <th>2</th>\n      <td>1057</td>\n      <td>US675631A</td>\n      <td>Thio-urea compound and process of making same.</td>\n      <td>期限届满</td>\n      <td>1900-12-31</td>\n      <td>ADOLF ISRAEL | RICHARD KOTHE</td>\n      <td>US1900041628</td>\n      <td>Having now described our invention and in 20 w...</td>\n      <td>US675631A</td>\n      <td>1</td>\n      <td>...</td>\n      <td>-</td>\n      <td>US5144064A</td>\n      <td>NaN</td>\n      <td>-</td>\n      <td>0</td>\n      <td>0</td>\n      <td>-</td>\n      <td>0</td>\n      <td>0</td>\n      <td>-</td>\n    </tr>\n    <tr>\n      <th>3</th>\n      <td>1037</td>\n      <td>US20230250275A1</td>\n      <td>Algae thermoplastic composition and process of...</td>\n      <td>公开</td>\n      <td>2023-03-07</td>\n      <td>ZELLER, MARK ASHTON | HUNT, RYAN</td>\n      <td>US18/180014</td>\n      <td>1. An algae-based thermoplastic composition co...</td>\n      <td>US20230250275A1</td>\n      <td>1</td>\n      <td>...</td>\n      <td>US</td>\n      <td>-</td>\n      <td>NaN</td>\n      <td>-</td>\n      <td>0</td>\n      <td>0</td>\n      <td>-</td>\n      <td>0</td>\n      <td>0</td>\n      <td>-</td>\n    </tr>\n    <tr>\n      <th>4</th>\n      <td>1018</td>\n      <td>US20230212537A1</td>\n      <td>Novel esterases and uses thereof</td>\n      <td>公开</td>\n      <td>2022-12-22</td>\n      <td>DAVID, BENOÎT | ANDRE, ISABELLE | BEN KHALED, ...</td>\n      <td>US18/145073</td>\n      <td>1. An esterase which (i) has at least 95% iden...</td>\n      <td>CA3107517A1 | CN112654701A | EP3830254A1 | IN2...</td>\n      <td>10</td>\n      <td>...</td>\n      <td>EP</td>\n      <td>-</td>\n      <td>NaN</td>\n      <td>-</td>\n      <td>0</td>\n      <td>0</td>\n      <td>-</td>\n      <td>0</td>\n      <td>0</td>\n      <td>-</td>\n    </tr>\n    <tr>\n      <th>5</th>\n      <td>1001</td>\n      <td>US20230127747A1</td>\n      <td>Biodegradable and Industrially Compostable Inj...</td>\n      <td>实质审查 | 权利转移</td>\n      <td>2022-12-23</td>\n      <td>FALKEN, ROBERT</td>\n      <td>US18/087934</td>\n      <td>1-20. (canceled)_x000D_\\n21. A method for manu...</td>\n      <td>AU2019272664A1 | BR112020023590A2 | CN11251277...</td>\n      <td>12</td>\n      <td>...</td>\n      <td>US</td>\n      <td>-</td>\n      <td>NaN</td>\n      <td>US20100198133A1 | US20130154143A1</td>\n      <td>2</td>\n      <td>0</td>\n      <td>-</td>\n      <td>0</td>\n      <td>0</td>\n      <td>-</td>\n    </tr>\n    <tr>\n      <th>6</th>\n      <td>1017</td>\n      <td>US20230208143A1</td>\n      <td>System and method for smoothing photovoltaic g...</td>\n      <td>公开</td>\n      <td>2022-12-22</td>\n      <td>AREDES, MAURICIO | BARBOSA ROLIM, LUÍS GUILHER...</td>\n      <td>US18/087199</td>\n      <td>1. A system for smoothing photovoltaic generat...</td>\n      <td>BR102021026269A2 | US20230208143A1</td>\n      <td>2</td>\n      <td>...</td>\n      <td>BR</td>\n      <td>-</td>\n      <td>NaN</td>\n      <td>-</td>\n      <td>0</td>\n      <td>0</td>\n      <td>-</td>\n      <td>0</td>\n      <td>0</td>\n      <td>-</td>\n    </tr>\n    <tr>\n      <th>...</th>\n      <td>...</td>\n      <td>...</td>\n      <td>...</td>\n      <td>...</td>\n      <td>...</td>\n      <td>...</td>\n      <td>...</td>\n      <td>...</td>\n      <td>...</td>\n      <td>...</td>\n      <td>...</td>\n      <td>...</td>\n      <td>...</td>\n      <td>...</td>\n      <td>...</td>\n      <td>...</td>\n      <td>...</td>\n      <td>...</td>\n      <td>...</td>\n      <td>...</td>\n      <td>...</td>\n    </tr>\n    <tr>\n      <th>445</th>\n      <td>21</td>\n      <td>EP2294125A2</td>\n      <td>Starch-containing thermoplastic or elastomer c...</td>\n      <td>撤回-视为撤回</td>\n      <td>2009-06-12</td>\n      <td>MENTINK, LÉON | GIMENEZ, JÉRÔME | LAGNEAUX, DI...</td>\n      <td>EP2009761936</td>\n      <td>REVENDICATIONS_x000D_\\n1. Composition thermopl...</td>\n      <td>AU2009259118A1 | BRPI0914417A2 | CA2726860A1 |...</td>\n      <td>9</td>\n      <td>...</td>\n      <td>FR</td>\n      <td>-</td>\n      <td>NaN</td>\n      <td>-</td>\n      <td>0</td>\n      <td>0</td>\n      <td>-</td>\n      <td>0</td>\n      <td>0</td>\n      <td>-</td>\n    </tr>\n    <tr>\n      <th>446</th>\n      <td>20</td>\n      <td>EP2247661A2</td>\n      <td>Method for preparing thermoplastic composition...</td>\n      <td>撤回-视为撤回</td>\n      <td>2009-01-29</td>\n      <td>MENTINK, LÉON | LAGNEAUX, DIDIER | GIMENEZ, JÉ...</td>\n      <td>EP2009705988</td>\n      <td>REVENDICATIONS_x000D_\\n1. Composition à base d...</td>\n      <td>AU2009208830A1 | AU2009208830B2 | BRPI0907038A...</td>\n      <td>13</td>\n      <td>...</td>\n      <td>FR</td>\n      <td>-</td>\n      <td>NaN</td>\n      <td>-</td>\n      <td>0</td>\n      <td>0</td>\n      <td>-</td>\n      <td>0</td>\n      <td>0</td>\n      <td>-</td>\n    </tr>\n    <tr>\n      <th>447</th>\n      <td>15</td>\n      <td>EP2144221B1</td>\n      <td>Biodegradable film for advertisement</td>\n      <td>权利终止</td>\n      <td>2009-07-07</td>\n      <td>LEE, IN KEE | KIM, SEONG JIN</td>\n      <td>EP2009008878</td>\n      <td>1.  A biodegradable film for advertisement, co...</td>\n      <td>AT863302T | EP2144221A1 | EP2144221B1 | JP2010...</td>\n      <td>6</td>\n      <td>...</td>\n      <td>KR</td>\n      <td>CN103282589A | CN103282589B | CN105173383A | C...</td>\n      <td>NaN</td>\n      <td>EP1116748A1 | JP2004188884A | JP2007262189A | ...</td>\n      <td>4</td>\n      <td>1</td>\n      <td>-</td>\n      <td>5</td>\n      <td>0</td>\n      <td>-</td>\n    </tr>\n    <tr>\n      <th>448</th>\n      <td>16</td>\n      <td>EP2144966A1</td>\n      <td>Coextrusion binders on a renewable/biodegradab...</td>\n      <td>授权</td>\n      <td>2008-05-14</td>\n      <td>CHOPINEZ, FABRICE | LAFFARGUE, JOHANN | PRADEL...</td>\n      <td>EP2008805782</td>\n      <td>19_x000D_\\nREVENDICATIONS_x000D_\\n1. Compositi...</td>\n      <td>AT592757T | CN101679731A | CN101679731B | DE60...</td>\n      <td>13</td>\n      <td>...</td>\n      <td>FR | US</td>\n      <td>-</td>\n      <td>NaN</td>\n      <td>-</td>\n      <td>0</td>\n      <td>0</td>\n      <td>-</td>\n      <td>0</td>\n      <td>0</td>\n      <td>-</td>\n    </tr>\n    <tr>\n      <th>449</th>\n      <td>10</td>\n      <td>EP1685201A1</td>\n      <td>Use of an aqueous dispersion of at least one b...</td>\n      <td>撤回-视为撤回</td>\n      <td>2004-10-29</td>\n      <td>MENTINK, LÉON | BOUVIER, FRÉDÉRIC | CLABAUX, P...</td>\n      <td>EP2004805352</td>\n      <td>REVENDICATIONS_x000D_\\n1. Utilisation, pour la...</td>\n      <td>CA2546107A1 | EP1685201A1 | FR2862310A1 | FR28...</td>\n      <td>8</td>\n      <td>...</td>\n      <td>FR | FR</td>\n      <td>-</td>\n      <td>NaN</td>\n      <td>-</td>\n      <td>0</td>\n      <td>0</td>\n      <td>-</td>\n      <td>0</td>\n      <td>0</td>\n      <td>-</td>\n    </tr>\n  </tbody>\n</table>\n<p>448 rows × 32 columns</p>\n</div>"
     },
     "execution_count": 22,
     "metadata": {},
     "output_type": "execute_result"
    }
   ],
   "source": [
    "data['IPC主分类号'] = data['IPC主分类号'].str[:4]\n",
    "data = data.drop([0, 1])\n",
    "data"
   ],
   "metadata": {
    "collapsed": false,
    "ExecuteTime": {
     "end_time": "2024-02-07T16:50:21.653686600Z",
     "start_time": "2024-02-07T16:50:21.620540500Z"
    }
   },
   "id": "94f440ea27b4fc4b",
   "execution_count": 22
  },
  {
   "cell_type": "code",
   "outputs": [],
   "source": [
    "# 构建边列表\n",
    "edges = []\n",
    "for row in data.iterrows():\n",
    "    _, patent = row\n",
    "    cited_patents = patent['引用专利'].split(' | ')\n",
    "    for cited_patent in cited_patents:\n",
    "        if cited_patent != '-':\n",
    "            edges.append((patent['[标]原始申请(专利权)人'], cited_patent))\n",
    "\n",
    "# 统计第二列中每个字符串的数量\n",
    "string_counts = Counter(edge[0] for edge in edges)\n",
    "\n",
    "# 仅保留字符串数量大于等于2的行\n",
    "filtered_edges = [edge for edge in edges if string_counts[edge[0]] >= 100]\n",
    "\n",
    "# 创建有向图\n",
    "G = nx.DiGraph()\n",
    "G.add_edges_from(filtered_edges)\n",
    "\n",
    "# 生成带权邻接矩阵\n",
    "adj_matrix = nx.to_pandas_adjacency(G, weight='weight')\n",
    "\n",
    "# 保存邻接矩阵到CSV文件\n",
    "adj_matrix.to_csv(\"专利引用网络带权邻接矩阵.csv\")"
   ],
   "metadata": {
    "collapsed": false,
    "ExecuteTime": {
     "end_time": "2024-02-07T16:50:22.476733500Z",
     "start_time": "2024-02-07T16:50:21.654696900Z"
    }
   },
   "id": "4f1d2e13df7433d6",
   "execution_count": 23
  },
  {
   "cell_type": "code",
   "outputs": [],
   "source": [],
   "metadata": {
    "collapsed": false,
    "ExecuteTime": {
     "end_time": "2024-02-07T16:50:22.496796800Z",
     "start_time": "2024-02-07T16:50:22.476733500Z"
    }
   },
   "id": "ab699d69eebad7e5",
   "execution_count": 23
  }
 ],
 "metadata": {
  "kernelspec": {
   "display_name": "Python 3",
   "language": "python",
   "name": "python3"
  },
  "language_info": {
   "codemirror_mode": {
    "name": "ipython",
    "version": 2
   },
   "file_extension": ".py",
   "mimetype": "text/x-python",
   "name": "python",
   "nbconvert_exporter": "python",
   "pygments_lexer": "ipython2",
   "version": "2.7.6"
  }
 },
 "nbformat": 4,
 "nbformat_minor": 5
}
