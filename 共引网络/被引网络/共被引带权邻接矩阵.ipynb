{
 "cells": [
  {
   "cell_type": "code",
   "execution_count": 1,
   "id": "initial_id",
   "metadata": {
    "collapsed": true,
    "ExecuteTime": {
     "end_time": "2024-02-20T16:46:24.685667Z",
     "start_time": "2024-02-20T16:46:22.921241100Z"
    }
   },
   "outputs": [],
   "source": [
    "import pandas as pd\n",
    "import networkx as nx\n",
    "from collections import Counter\n",
    "\n",
    "# 读取xlsx文件\n",
    "data = pd.read_excel(r'C:\\Users\\RIC_ZX\\Desktop\\papers\\ZLW\\(申请号去重后）美国和欧盟 已筛选TAC_(poly butylene adipate-co-terephthalate) OR TAC_(PBAT).xlsx')"
   ]
  },
  {
   "cell_type": "code",
   "outputs": [
    {
     "data": {
      "text/plain": "       序号          公开(公告)号                                                 标题  \\\n2    1057        US675631A     Thio-urea compound and process of making same.   \n3    1037  US20230250275A1  Algae thermoplastic composition and process of...   \n4    1018  US20230212537A1                   Novel esterases and uses thereof   \n5    1001  US20230127747A1  Biodegradable and Industrially Compostable Inj...   \n6    1017  US20230208143A1  System and method for smoothing photovoltaic g...   \n..    ...              ...                                                ...   \n445    21      EP2294125A2  Starch-containing thermoplastic or elastomer c...   \n446    20      EP2247661A2  Method for preparing thermoplastic composition...   \n447    15      EP2144221B1               Biodegradable film for advertisement   \n448    16      EP2144966A1  Coextrusion binders on a renewable/biodegradab...   \n449    10      EP1685201A1  Use of an aqueous dispersion of at least one b...   \n\n         法律状态/事件         申请日  \\\n2           期限届满  1900-12-31   \n3             公开  2023-03-07   \n4             公开  2022-12-22   \n5    实质审查 | 权利转移  2022-12-23   \n6             公开  2022-12-22   \n..           ...         ...   \n445      撤回-视为撤回  2009-06-12   \n446      撤回-视为撤回  2009-01-29   \n447         权利终止  2009-07-07   \n448           授权  2008-05-14   \n449      撤回-视为撤回  2004-10-29   \n\n                                                   发明人           申请号  \\\n2                         ADOLF ISRAEL | RICHARD KOTHE  US1900041628   \n3                     ZELLER, MARK ASHTON | HUNT, RYAN   US18/180014   \n4    DAVID, BENOÎT | ANDRE, ISABELLE | BEN KHALED, ...   US18/145073   \n5                                       FALKEN, ROBERT   US18/087934   \n6    AREDES, MAURICIO | BARBOSA ROLIM, LUÍS GUILHER...   US18/087199   \n..                                                 ...           ...   \n445  MENTINK, LÉON | GIMENEZ, JÉRÔME | LAGNEAUX, DI...  EP2009761936   \n446  MENTINK, LÉON | LAGNEAUX, DIDIER | GIMENEZ, JÉ...  EP2009705988   \n447                       LEE, IN KEE | KIM, SEONG JIN  EP2009008878   \n448  CHOPINEZ, FABRICE | LAFFARGUE, JOHANN | PRADEL...  EP2008805782   \n449  MENTINK, LÉON | BOUVIER, FRÉDÉRIC | CLABAUX, P...  EP2004805352   \n\n                                                  权利要求  \\\n2    Having now described our invention and in 20 w...   \n3    1. An algae-based thermoplastic composition co...   \n4    1. An esterase which (i) has at least 95% iden...   \n5    1-20. (canceled)_x000D_\\n21. A method for manu...   \n6    1. A system for smoothing photovoltaic generat...   \n..                                                 ...   \n445  REVENDICATIONS_x000D_\\n1. Composition thermopl...   \n446  REVENDICATIONS_x000D_\\n1. Composition à base d...   \n447  1.  A biodegradable film for advertisement, co...   \n448  19_x000D_\\nREVENDICATIONS_x000D_\\n1. Compositi...   \n449  REVENDICATIONS_x000D_\\n1. Utilisation, pour la...   \n\n                                                  简单同族  简单同族成员数量  ...  \\\n2                                            US675631A         1  ...   \n3                                      US20230250275A1         1  ...   \n4    CA3107517A1 | CN112654701A | EP3830254A1 | IN2...        10  ...   \n5    AU2019272664A1 | BR112020023590A2 | CN11251277...        12  ...   \n6                   BR102021026269A2 | US20230208143A1         2  ...   \n..                                                 ...       ...  ...   \n445  AU2009259118A1 | BRPI0914417A2 | CA2726860A1 |...         9  ...   \n446  AU2009208830A1 | AU2009208830B2 | BRPI0907038A...        13  ...   \n447  AT863302T | EP2144221A1 | EP2144221B1 | JP2010...         6  ...   \n448  AT592757T | CN101679731A | CN101679731B | DE60...        13  ...   \n449  CA2546107A1 | EP1685201A1 | FR2862310A1 | FR28...         8  ...   \n\n    优先权国家/地区                                              被引用专利 被引用专利数量  \\\n2          -                                         US5144064A     NaN   \n3         US                                                  -     NaN   \n4         EP                                                  -     NaN   \n5         US                                                  -     NaN   \n6         BR                                                  -     NaN   \n..       ...                                                ...     ...   \n445       FR                                                  -     NaN   \n446       FR                                                  -     NaN   \n447       KR  CN103282589A | CN103282589B | CN105173383A | C...     NaN   \n448  FR | US                                                  -     NaN   \n449  FR | FR                                                  -     NaN   \n\n                                                  引用专利 引用专利数量 非专利引文数量 许可类型  \\\n2                                                    -      0       0    -   \n3                                                    -      0       0    -   \n4                                                    -      0       0    -   \n5                    US20100198133A1 | US20130154143A1      2       0    -   \n6                                                    -      0       0    -   \n..                                                 ...    ...     ...  ...   \n445                                                  -      0       0    -   \n446                                                  -      0       0    -   \n447  EP1116748A1 | JP2004188884A | JP2007262189A | ...      4       1    -   \n448                                                  -      0       0    -   \n449                                                  -      0       0    -   \n\n    5年内被引用次数 诉讼案件数 质押人  \n2          0     0   -  \n3          0     0   -  \n4          0     0   -  \n5          0     0   -  \n6          0     0   -  \n..       ...   ...  ..  \n445        0     0   -  \n446        0     0   -  \n447        5     0   -  \n448        0     0   -  \n449        0     0   -  \n\n[448 rows x 32 columns]",
      "text/html": "<div>\n<style scoped>\n    .dataframe tbody tr th:only-of-type {\n        vertical-align: middle;\n    }\n\n    .dataframe tbody tr th {\n        vertical-align: top;\n    }\n\n    .dataframe thead th {\n        text-align: right;\n    }\n</style>\n<table border=\"1\" class=\"dataframe\">\n  <thead>\n    <tr style=\"text-align: right;\">\n      <th></th>\n      <th>序号</th>\n      <th>公开(公告)号</th>\n      <th>标题</th>\n      <th>法律状态/事件</th>\n      <th>申请日</th>\n      <th>发明人</th>\n      <th>申请号</th>\n      <th>权利要求</th>\n      <th>简单同族</th>\n      <th>简单同族成员数量</th>\n      <th>...</th>\n      <th>优先权国家/地区</th>\n      <th>被引用专利</th>\n      <th>被引用专利数量</th>\n      <th>引用专利</th>\n      <th>引用专利数量</th>\n      <th>非专利引文数量</th>\n      <th>许可类型</th>\n      <th>5年内被引用次数</th>\n      <th>诉讼案件数</th>\n      <th>质押人</th>\n    </tr>\n  </thead>\n  <tbody>\n    <tr>\n      <th>2</th>\n      <td>1057</td>\n      <td>US675631A</td>\n      <td>Thio-urea compound and process of making same.</td>\n      <td>期限届满</td>\n      <td>1900-12-31</td>\n      <td>ADOLF ISRAEL | RICHARD KOTHE</td>\n      <td>US1900041628</td>\n      <td>Having now described our invention and in 20 w...</td>\n      <td>US675631A</td>\n      <td>1</td>\n      <td>...</td>\n      <td>-</td>\n      <td>US5144064A</td>\n      <td>NaN</td>\n      <td>-</td>\n      <td>0</td>\n      <td>0</td>\n      <td>-</td>\n      <td>0</td>\n      <td>0</td>\n      <td>-</td>\n    </tr>\n    <tr>\n      <th>3</th>\n      <td>1037</td>\n      <td>US20230250275A1</td>\n      <td>Algae thermoplastic composition and process of...</td>\n      <td>公开</td>\n      <td>2023-03-07</td>\n      <td>ZELLER, MARK ASHTON | HUNT, RYAN</td>\n      <td>US18/180014</td>\n      <td>1. An algae-based thermoplastic composition co...</td>\n      <td>US20230250275A1</td>\n      <td>1</td>\n      <td>...</td>\n      <td>US</td>\n      <td>-</td>\n      <td>NaN</td>\n      <td>-</td>\n      <td>0</td>\n      <td>0</td>\n      <td>-</td>\n      <td>0</td>\n      <td>0</td>\n      <td>-</td>\n    </tr>\n    <tr>\n      <th>4</th>\n      <td>1018</td>\n      <td>US20230212537A1</td>\n      <td>Novel esterases and uses thereof</td>\n      <td>公开</td>\n      <td>2022-12-22</td>\n      <td>DAVID, BENOÎT | ANDRE, ISABELLE | BEN KHALED, ...</td>\n      <td>US18/145073</td>\n      <td>1. An esterase which (i) has at least 95% iden...</td>\n      <td>CA3107517A1 | CN112654701A | EP3830254A1 | IN2...</td>\n      <td>10</td>\n      <td>...</td>\n      <td>EP</td>\n      <td>-</td>\n      <td>NaN</td>\n      <td>-</td>\n      <td>0</td>\n      <td>0</td>\n      <td>-</td>\n      <td>0</td>\n      <td>0</td>\n      <td>-</td>\n    </tr>\n    <tr>\n      <th>5</th>\n      <td>1001</td>\n      <td>US20230127747A1</td>\n      <td>Biodegradable and Industrially Compostable Inj...</td>\n      <td>实质审查 | 权利转移</td>\n      <td>2022-12-23</td>\n      <td>FALKEN, ROBERT</td>\n      <td>US18/087934</td>\n      <td>1-20. (canceled)_x000D_\\n21. A method for manu...</td>\n      <td>AU2019272664A1 | BR112020023590A2 | CN11251277...</td>\n      <td>12</td>\n      <td>...</td>\n      <td>US</td>\n      <td>-</td>\n      <td>NaN</td>\n      <td>US20100198133A1 | US20130154143A1</td>\n      <td>2</td>\n      <td>0</td>\n      <td>-</td>\n      <td>0</td>\n      <td>0</td>\n      <td>-</td>\n    </tr>\n    <tr>\n      <th>6</th>\n      <td>1017</td>\n      <td>US20230208143A1</td>\n      <td>System and method for smoothing photovoltaic g...</td>\n      <td>公开</td>\n      <td>2022-12-22</td>\n      <td>AREDES, MAURICIO | BARBOSA ROLIM, LUÍS GUILHER...</td>\n      <td>US18/087199</td>\n      <td>1. A system for smoothing photovoltaic generat...</td>\n      <td>BR102021026269A2 | US20230208143A1</td>\n      <td>2</td>\n      <td>...</td>\n      <td>BR</td>\n      <td>-</td>\n      <td>NaN</td>\n      <td>-</td>\n      <td>0</td>\n      <td>0</td>\n      <td>-</td>\n      <td>0</td>\n      <td>0</td>\n      <td>-</td>\n    </tr>\n    <tr>\n      <th>...</th>\n      <td>...</td>\n      <td>...</td>\n      <td>...</td>\n      <td>...</td>\n      <td>...</td>\n      <td>...</td>\n      <td>...</td>\n      <td>...</td>\n      <td>...</td>\n      <td>...</td>\n      <td>...</td>\n      <td>...</td>\n      <td>...</td>\n      <td>...</td>\n      <td>...</td>\n      <td>...</td>\n      <td>...</td>\n      <td>...</td>\n      <td>...</td>\n      <td>...</td>\n      <td>...</td>\n    </tr>\n    <tr>\n      <th>445</th>\n      <td>21</td>\n      <td>EP2294125A2</td>\n      <td>Starch-containing thermoplastic or elastomer c...</td>\n      <td>撤回-视为撤回</td>\n      <td>2009-06-12</td>\n      <td>MENTINK, LÉON | GIMENEZ, JÉRÔME | LAGNEAUX, DI...</td>\n      <td>EP2009761936</td>\n      <td>REVENDICATIONS_x000D_\\n1. Composition thermopl...</td>\n      <td>AU2009259118A1 | BRPI0914417A2 | CA2726860A1 |...</td>\n      <td>9</td>\n      <td>...</td>\n      <td>FR</td>\n      <td>-</td>\n      <td>NaN</td>\n      <td>-</td>\n      <td>0</td>\n      <td>0</td>\n      <td>-</td>\n      <td>0</td>\n      <td>0</td>\n      <td>-</td>\n    </tr>\n    <tr>\n      <th>446</th>\n      <td>20</td>\n      <td>EP2247661A2</td>\n      <td>Method for preparing thermoplastic composition...</td>\n      <td>撤回-视为撤回</td>\n      <td>2009-01-29</td>\n      <td>MENTINK, LÉON | LAGNEAUX, DIDIER | GIMENEZ, JÉ...</td>\n      <td>EP2009705988</td>\n      <td>REVENDICATIONS_x000D_\\n1. Composition à base d...</td>\n      <td>AU2009208830A1 | AU2009208830B2 | BRPI0907038A...</td>\n      <td>13</td>\n      <td>...</td>\n      <td>FR</td>\n      <td>-</td>\n      <td>NaN</td>\n      <td>-</td>\n      <td>0</td>\n      <td>0</td>\n      <td>-</td>\n      <td>0</td>\n      <td>0</td>\n      <td>-</td>\n    </tr>\n    <tr>\n      <th>447</th>\n      <td>15</td>\n      <td>EP2144221B1</td>\n      <td>Biodegradable film for advertisement</td>\n      <td>权利终止</td>\n      <td>2009-07-07</td>\n      <td>LEE, IN KEE | KIM, SEONG JIN</td>\n      <td>EP2009008878</td>\n      <td>1.  A biodegradable film for advertisement, co...</td>\n      <td>AT863302T | EP2144221A1 | EP2144221B1 | JP2010...</td>\n      <td>6</td>\n      <td>...</td>\n      <td>KR</td>\n      <td>CN103282589A | CN103282589B | CN105173383A | C...</td>\n      <td>NaN</td>\n      <td>EP1116748A1 | JP2004188884A | JP2007262189A | ...</td>\n      <td>4</td>\n      <td>1</td>\n      <td>-</td>\n      <td>5</td>\n      <td>0</td>\n      <td>-</td>\n    </tr>\n    <tr>\n      <th>448</th>\n      <td>16</td>\n      <td>EP2144966A1</td>\n      <td>Coextrusion binders on a renewable/biodegradab...</td>\n      <td>授权</td>\n      <td>2008-05-14</td>\n      <td>CHOPINEZ, FABRICE | LAFFARGUE, JOHANN | PRADEL...</td>\n      <td>EP2008805782</td>\n      <td>19_x000D_\\nREVENDICATIONS_x000D_\\n1. Compositi...</td>\n      <td>AT592757T | CN101679731A | CN101679731B | DE60...</td>\n      <td>13</td>\n      <td>...</td>\n      <td>FR | US</td>\n      <td>-</td>\n      <td>NaN</td>\n      <td>-</td>\n      <td>0</td>\n      <td>0</td>\n      <td>-</td>\n      <td>0</td>\n      <td>0</td>\n      <td>-</td>\n    </tr>\n    <tr>\n      <th>449</th>\n      <td>10</td>\n      <td>EP1685201A1</td>\n      <td>Use of an aqueous dispersion of at least one b...</td>\n      <td>撤回-视为撤回</td>\n      <td>2004-10-29</td>\n      <td>MENTINK, LÉON | BOUVIER, FRÉDÉRIC | CLABAUX, P...</td>\n      <td>EP2004805352</td>\n      <td>REVENDICATIONS_x000D_\\n1. Utilisation, pour la...</td>\n      <td>CA2546107A1 | EP1685201A1 | FR2862310A1 | FR28...</td>\n      <td>8</td>\n      <td>...</td>\n      <td>FR | FR</td>\n      <td>-</td>\n      <td>NaN</td>\n      <td>-</td>\n      <td>0</td>\n      <td>0</td>\n      <td>-</td>\n      <td>0</td>\n      <td>0</td>\n      <td>-</td>\n    </tr>\n  </tbody>\n</table>\n<p>448 rows × 32 columns</p>\n</div>"
     },
     "execution_count": 2,
     "metadata": {},
     "output_type": "execute_result"
    }
   ],
   "source": [
    "data['IPC主分类号'] = data['IPC主分类号'].str[:4]\n",
    "data['[标]原始申请(专利权)人'] = data['[标]原始申请(专利权)人'].str.split('|').str[0]\n",
    "data = data.drop([0, 1])\n",
    "data"
   ],
   "metadata": {
    "collapsed": false,
    "ExecuteTime": {
     "end_time": "2024-02-20T16:46:26.335957300Z",
     "start_time": "2024-02-20T16:46:26.283785800Z"
    }
   },
   "id": "415e4582f3f81064",
   "execution_count": 2
  },
  {
   "cell_type": "code",
   "outputs": [],
   "source": [
    "# 构建边列表\n",
    "edges = []\n",
    "for row in data.iterrows():\n",
    "    _, patent = row\n",
    "    cited_patents = patent['被引用专利'].split(' | ')\n",
    "    for cited_patent in cited_patents:\n",
    "        if cited_patent != '-':\n",
    "            edges.append((patent['[标]原始申请(专利权)人'], cited_patent))\n",
    "\n",
    "# 统计第二列中每个字符串的数量\n",
    "string_counts = Counter(edge[0] for edge in edges)\n",
    "\n",
    "# 仅保留字符串数量大于等于2的行\n",
    "filtered_edges = [edge for edge in edges if string_counts[edge[0]] >= 15]\n",
    "\n",
    "# 创建有向图\n",
    "G = nx.DiGraph()\n",
    "G.add_edges_from(filtered_edges)\n",
    "G_patent = G.reverse()\n",
    "# 生成带权邻接矩阵\n",
    "#adj_matrix = nx.to_pandas_adjacency(G, weight='weight')\n",
    "\n",
    "# 保存邻接矩阵到CSV文件\n",
    "#adj_matrix.to_csv(\"专利被引用网络带权邻接矩阵15专利权人zh.csv\")"
   ],
   "metadata": {
    "collapsed": false,
    "ExecuteTime": {
     "end_time": "2024-02-11T08:26:32.909287700Z",
     "start_time": "2024-02-11T08:26:32.799197800Z"
    }
   },
   "id": "883fd78f1d36661f",
   "execution_count": 4
  },
  {
   "cell_type": "code",
   "outputs": [],
   "source": [
    "betweenness_centrality = nx.betweenness_centrality(G_patent)\n",
    "closeness_centrality = nx.closeness_centrality(G_patent)\n",
    "eigenvector_centrality = nx.eigenvector_centrality(G_patent)\n",
    "clustering_coefficient = nx.average_clustering(G_patent)\n",
    "pagerank_centrality = nx.pagerank(G_patent)\n",
    "\n",
    "# 将指标结果转换为DataFrame\n",
    "bc_df = pd.DataFrame(list(betweenness_centrality.items()), columns=['Node', 'Betweenness Centrality'])\n",
    "cc_df = pd.DataFrame(list(closeness_centrality.items()), columns=['Node', 'Closeness Centrality'])\n",
    "ec_df = pd.DataFrame(list(eigenvector_centrality.items()), columns=['Node', 'Eigenvector Centrality'])\n",
    "ccf_df = pd.DataFrame([clustering_coefficient], columns=['Clustering Coefficient'])\n",
    "pr_df = pd.DataFrame(list(pagerank_centrality.items()), columns=['Node', 'Pagerank Centrality'])\n",
    "\n",
    "# 保存指标结果为CSV文件\n",
    "bc_df.to_csv(\"betweenness_centrality_patent.csv\", index=False)\n",
    "cc_df.to_csv(\"closeness_centrality_patent.csv\", index=False)\n",
    "ec_df.to_csv(\"eigenvector_centrality_patent.csv\", index=False)\n",
    "ccf_df.to_csv(\"clustering_coefficient_patent.csv\", index=False)\n",
    "pr_df.to_csv(\"pagerank_centrality_patent.csv\", index=False)"
   ],
   "metadata": {
    "collapsed": false,
    "ExecuteTime": {
     "end_time": "2024-02-11T08:26:33.909185800Z",
     "start_time": "2024-02-11T08:26:32.861930400Z"
    }
   },
   "id": "96b2553282034aad",
   "execution_count": 5
  },
  {
   "cell_type": "code",
   "outputs": [],
   "source": [
    "# 构建边列表\n",
    "edges = []\n",
    "for row in data.iterrows():\n",
    "    _, patent = row\n",
    "    cited_patents = patent['被引用专利'].split(' | ')\n",
    "    for cited_patent in cited_patents:\n",
    "        if cited_patent != '-':\n",
    "            edges.append((patent['IPC主分类号'], cited_patent))\n",
    "\n",
    "# 统计第二列中每个字符串的数量\n",
    "string_counts = Counter(edge[0] for edge in edges)\n",
    "\n",
    "# 仅保留字符串数量大于等于2的行\n",
    "filtered_edges = [edge for edge in edges if string_counts[edge[0]] >= 15]\n",
    "\n",
    "# 创建有向图\n",
    "G = nx.DiGraph()\n",
    "G.add_edges_from(filtered_edges)\n",
    "G_IPC = G.reverse()\n",
    "# 生成带权邻接矩阵\n",
    "#adj_matrix = nx.to_pandas_adjacency(G, weight='weight')"
   ],
   "metadata": {
    "collapsed": false,
    "ExecuteTime": {
     "end_time": "2024-02-20T16:47:31.832336200Z",
     "start_time": "2024-02-20T16:47:31.779632600Z"
    }
   },
   "id": "10ca1fdd2b11547",
   "execution_count": 4
  },
  {
   "cell_type": "code",
   "outputs": [],
   "source": [
    "# 计算出度中心性和入度中心性\n",
    "out_degree_centrality = nx.out_degree_centrality(G)\n",
    "in_degree_centrality = nx.in_degree_centrality(G)\n",
    "\n",
    "# 创建DataFrame\n",
    "df = pd.DataFrame({\n",
    "    '节点': list(G.nodes),\n",
    "    '出度中心性': [out_degree_centrality[node] for node in G.nodes],\n",
    "    '入度中心性': [in_degree_centrality[node] for node in G.nodes]\n",
    "})\n",
    "\n",
    "# 将DataFrame写入CSV文件\n",
    "df.to_csv('centrality_metrics.csv', index=False, encoding= 'GBK')"
   ],
   "metadata": {
    "collapsed": false,
    "ExecuteTime": {
     "end_time": "2024-02-20T16:47:57.479888900Z",
     "start_time": "2024-02-20T16:47:57.459049100Z"
    }
   },
   "id": "60b3252b4ce2fbda",
   "execution_count": 6
  },
  {
   "cell_type": "code",
   "outputs": [],
   "source": [
    "import pandas as pd\n",
    "\n",
    "# 计算每个节点的入度和出度\n",
    "in_degrees = dict(G.in_degree())\n",
    "out_degrees = dict(G.out_degree())\n",
    "\n",
    "# 将入度和出度转换为 DataFrame\n",
    "degrees_df = pd.DataFrame({'节点': list(G.nodes), '入度': [in_degrees.get(node, 0) for node in G.nodes], '出度': [out_degrees.get(node, 0) for node in G.nodes]})\n",
    "\n",
    "# 将 DataFrame 输出到 CSV 文件\n",
    "degrees_df.to_csv('节点入度出度.csv', index=False, encoding= 'gbk')\n"
   ],
   "metadata": {
    "collapsed": false,
    "ExecuteTime": {
     "end_time": "2024-02-20T15:12:25.912544500Z",
     "start_time": "2024-02-20T15:12:25.876160200Z"
    }
   },
   "id": "71ec759b61acefc2",
   "execution_count": 10
  },
  {
   "cell_type": "code",
   "outputs": [],
   "source": [
    "betweenness_centrality = nx.betweenness_centrality(G_IPC)\n",
    "closeness_centrality = nx.closeness_centrality(G_IPC)\n",
    "eigenvector_centrality = nx.eigenvector_centrality(G_IPC)\n",
    "clustering_coefficient = nx.average_clustering(G_IPC)\n",
    "pagerank_centrality = nx.pagerank(G_IPC)\n",
    "\n",
    "# 将指标结果转换为DataFrame\n",
    "bc_df = pd.DataFrame(list(betweenness_centrality.items()), columns=['Node', 'Betweenness Centrality'])\n",
    "cc_df = pd.DataFrame(list(closeness_centrality.items()), columns=['Node', 'Closeness Centrality'])\n",
    "ec_df = pd.DataFrame(list(eigenvector_centrality.items()), columns=['Node', 'Eigenvector Centrality'])\n",
    "ccf_df = pd.DataFrame([clustering_coefficient], columns=['Clustering Coefficient'])\n",
    "pr_df = pd.DataFrame(list(pagerank_centrality.items()), columns=['Node', 'Pagerank Centrality'])\n",
    "\n",
    "# 保存指标结果为CSV文件\n",
    "bc_df.to_csv(\"IPCbetweenness_centrality.csv\", index=False)\n",
    "cc_df.to_csv(\"IPCcloseness_centrality.csv\", index=False)\n",
    "ec_df.to_csv(\"IPCeigenvector_centrality.csv\", index=False)\n",
    "ccf_df.to_csv(\"IPCclustering_coefficient.csv\", index=False)\n",
    "pr_df.to_csv(\"IPCpagerank_centrality.csv\", index=False)"
   ],
   "metadata": {
    "collapsed": false,
    "ExecuteTime": {
     "end_time": "2024-02-11T08:26:34.953762600Z",
     "start_time": "2024-02-11T08:26:33.976467800Z"
    }
   },
   "id": "4816cf7fd23accf5",
   "execution_count": 7
  },
  {
   "cell_type": "code",
   "outputs": [],
   "source": [
    "degree_centrality = nx.degree_centrality(G)\n",
    "dc_df = pd.DataFrame(list(degree_centrality.items()), columns=['Node', 'degree_centrality'])\n",
    "dc_df.to_csv(\"IPCdegree_centrality.csv\", index=False)"
   ],
   "metadata": {
    "collapsed": false,
    "ExecuteTime": {
     "end_time": "2024-02-20T16:14:45.461868500Z",
     "start_time": "2024-02-20T16:14:45.441206600Z"
    }
   },
   "id": "1ab9fa9429938473",
   "execution_count": 11
  }
 ],
 "metadata": {
  "kernelspec": {
   "display_name": "Python 3",
   "language": "python",
   "name": "python3"
  },
  "language_info": {
   "codemirror_mode": {
    "name": "ipython",
    "version": 2
   },
   "file_extension": ".py",
   "mimetype": "text/x-python",
   "name": "python",
   "nbconvert_exporter": "python",
   "pygments_lexer": "ipython2",
   "version": "2.7.6"
  }
 },
 "nbformat": 4,
 "nbformat_minor": 5
}
