{
 "cells": [
  {
   "cell_type": "code",
   "execution_count": 1,
   "outputs": [],
   "source": [
    "import pandas as pd\n",
    "import networkx as nx\n",
    "import itertools"
   ],
   "metadata": {
    "collapsed": false,
    "ExecuteTime": {
     "end_time": "2024-02-03T09:59:54.215021Z",
     "start_time": "2024-02-03T09:59:53.732475Z"
    }
   },
   "id": "4bf7adb1780c89ee"
  },
  {
   "cell_type": "code",
   "execution_count": 31,
   "outputs": [],
   "source": [
    "# 读取指定的工作表\n",
    "df = pd.read_excel('(申请号去重后）美国和欧盟 已筛选TAC_(poly butylene adipate-co-terephthalate) OR TAC_(PBAT).xlsx', sheet_name='专利权人共现')  # 这里假设要读取的工作表名为\"Sheet1\"\n",
    "\n",
    "# 提取发明人信息\n",
    "inventors = []\n",
    "for i, row in df.iterrows():\n",
    "    names = row[\"[标]原始申请(专利权)人（外文）\"].split(\" | \")\n",
    "    inventors.append(names)\n",
    "\n",
    "# 创建图形对象\n",
    "G = nx.Graph()\n",
    "\n",
    "# 添加节点和边，并加权\n",
    "for i in inventors:\n",
    "    G.add_nodes_from(i)\n",
    "    edges = itertools.combinations(i, 2)\n",
    "    for edge in edges:\n",
    "        if G.has_edge(*edge):\n",
    "            # 如果边已经存在，增加权重\n",
    "            G[edge[0]][edge[1]]['weight'] += 1\n",
    "        else:\n",
    "            # 如果边不存在，设置初始权重为1\n",
    "            G.add_edge(edge[0], edge[1], weight=1)\n",
    "\n",
    "# 生成带权邻接矩阵\n",
    "adj_matrix = nx.to_pandas_adjacency(G, weight='weight')\n",
    "\n",
    "# 保存邻接矩阵到CSV文件\n",
    "adj_matrix.to_csv(\"[标]原始申请(专利权)人带权邻接矩阵.csv\", sep=';')"
   ],
   "metadata": {
    "collapsed": false,
    "ExecuteTime": {
     "end_time": "2024-02-03T09:47:13.644272Z",
     "start_time": "2024-02-03T09:47:13.516946Z"
    }
   },
   "id": "7754c9e50d4835d3"
  },
  {
   "cell_type": "code",
   "execution_count": 2,
   "outputs": [],
   "source": [
    "# 读取指定的工作表\n",
    "df2 = pd.read_excel('(申请号去重后）美国和欧盟 已筛选TAC_(poly butylene adipate-co-terephthalate) OR TAC_(PBAT).xlsx', sheet_name='删除金发后的专利权人共现')  # 这里假设要读取的工作表名为\"Sheet1\"\n",
    "\n",
    "inventors = []\n",
    "for i, row in df2.iterrows():\n",
    "    names = row[\"[标]原始申请(专利权)人（外文）\"].split(\" | \")\n",
    "    inventors.append(names)\n",
    "\n",
    "# 创建图形对象\n",
    "G = nx.Graph()\n",
    "\n",
    "# 添加节点和边，并加权\n",
    "for i in inventors:\n",
    "    G.add_nodes_from(i)\n",
    "    edges = itertools.combinations(i, 2)\n",
    "    for edge in edges:\n",
    "        if G.has_edge(*edge):\n",
    "            # 如果边已经存在，增加权重\n",
    "            G[edge[0]][edge[1]]['weight'] += 1\n",
    "        else:\n",
    "            # 如果边不存在，设置初始权重为1\n",
    "            G.add_edge(edge[0], edge[1], weight=1)\n",
    "\n",
    "# 生成带权邻接矩阵\n",
    "adj_matrix = nx.to_pandas_adjacency(G, weight='weight')\n",
    "\n",
    "# 保存邻接矩阵到CSV文件\n",
    "adj_matrix.to_csv(\"[标]删除金发后的专利权人带权邻接矩阵.csv\", sep=';')"
   ],
   "metadata": {
    "collapsed": false,
    "ExecuteTime": {
     "end_time": "2024-02-03T09:59:58.724180Z",
     "start_time": "2024-02-03T09:59:58.466222Z"
    }
   },
   "id": "1767436e0918c74b"
  },
  {
   "cell_type": "code",
   "execution_count": 3,
   "outputs": [
    {
     "name": "stdout",
     "output_type": "stream",
     "text": [
      "平均度中心性： 0.024004085801838645\n",
      "平均介数中心性： 3.228722717293039e-05\n",
      "平均紧密度： 0.025008512087163797\n",
      "平均聚集系数： 0.5056179775280899\n"
     ]
    }
   ],
   "source": [
    "# 计算度中心性\n",
    "degree_centrality = nx.degree_centrality(G)\n",
    "\n",
    "# 计算平均度中心性\n",
    "avg_degree_centrality = sum(degree_centrality.values()) / len(degree_centrality)\n",
    "\n",
    "# 计算介数中心性\n",
    "betweenness_centrality = nx.betweenness_centrality(G)\n",
    "\n",
    "# 计算平均介数中心性\n",
    "avg_betweenness_centrality = sum(betweenness_centrality.values()) / len(betweenness_centrality)\n",
    "\n",
    "# 计算紧密度\n",
    "closeness_centrality = nx.closeness_centrality(G)\n",
    "\n",
    "# 计算平均紧密度\n",
    "avg_closeness_centrality = sum(closeness_centrality.values()) / len(closeness_centrality)\n",
    "\n",
    "# 计算聚集系数\n",
    "clustering_coefficient = nx.clustering(G)\n",
    "\n",
    "# 计算平均聚集系数\n",
    "avg_clustering_coefficient = sum(clustering_coefficient.values()) / len(clustering_coefficient)\n",
    "\n",
    "# 输出结果\n",
    "print(\"平均度中心性：\", avg_degree_centrality)\n",
    "print(\"平均介数中心性：\", avg_betweenness_centrality)\n",
    "print(\"平均紧密度：\", avg_closeness_centrality)\n",
    "print(\"平均聚集系数：\", avg_clustering_coefficient)"
   ],
   "metadata": {
    "collapsed": false,
    "ExecuteTime": {
     "end_time": "2024-02-03T10:00:01.522111Z",
     "start_time": "2024-02-03T10:00:01.518062Z"
    }
   },
   "id": "277cac57e2e96e3c"
  },
  {
   "cell_type": "code",
   "execution_count": 7,
   "outputs": [
    {
     "name": "stdout",
     "output_type": "stream",
     "text": [
      "度的众数： 0.16666666666666666\n"
     ]
    }
   ],
   "source": [
    "import statistics\n",
    "\n",
    "# 计算度中心性\n",
    "degree_centrality = nx.degree_centrality(G)\n",
    "\n",
    "# 计算度的众数\n",
    "degree_mode = statistics.mode(degree_centrality.values())\n",
    "\n",
    "# 输出结果\n",
    "print(\"度的众数：\", degree_mode)\n",
    "print(\"度中心性：\", degree_centrality)"
   ],
   "metadata": {
    "collapsed": false,
    "ExecuteTime": {
     "end_time": "2024-02-02T16:30:30.636036Z",
     "start_time": "2024-02-02T16:30:30.633271Z"
    }
   },
   "id": "1f7e2fac873f37a3"
  },
  {
   "cell_type": "code",
   "execution_count": 8,
   "outputs": [
    {
     "name": "stdout",
     "output_type": "stream",
     "text": [
      "平均度： 1.1428571428571428\n"
     ]
    }
   ],
   "source": [
    "# 计算所有节点的度\n",
    "degrees = [d for n, d in G.degree()]\n",
    "\n",
    "# 计算平均度\n",
    "avg_degree = sum(degrees) / len(degrees)\n",
    "\n",
    "# 输出结果\n",
    "print(\"平均度：\", avg_degree)\n"
   ],
   "metadata": {
    "collapsed": false,
    "ExecuteTime": {
     "end_time": "2024-02-02T16:31:02.152818Z",
     "start_time": "2024-02-02T16:31:02.143953Z"
    }
   },
   "id": "3ece809b5b023766"
  },
  {
   "cell_type": "code",
   "execution_count": 9,
   "outputs": [
    {
     "name": "stdout",
     "output_type": "stream",
     "text": [
      "平均权重： 2.0\n"
     ]
    }
   ],
   "source": [
    "# 计算所有边的权重\n",
    "weights = [d['weight'] for _, _, d in G.edges(data=True) if 'weight' in d]\n",
    "\n",
    "# 计算平均权重\n",
    "avg_weight = sum(weights) / len(weights)\n",
    "\n",
    "# 输出结果\n",
    "print(\"平均权重：\", avg_weight)"
   ],
   "metadata": {
    "collapsed": false,
    "ExecuteTime": {
     "end_time": "2024-02-02T16:32:06.790068Z",
     "start_time": "2024-02-02T16:32:06.785447Z"
    }
   },
   "id": "577a718821df50fe"
  },
  {
   "cell_type": "code",
   "execution_count": null,
   "outputs": [],
   "source": [],
   "metadata": {
    "collapsed": false
   },
   "id": "d32788546c97918d"
  }
 ],
 "metadata": {
  "kernelspec": {
   "display_name": "Python 3",
   "language": "python",
   "name": "python3"
  },
  "language_info": {
   "codemirror_mode": {
    "name": "ipython",
    "version": 2
   },
   "file_extension": ".py",
   "mimetype": "text/x-python",
   "name": "python",
   "nbconvert_exporter": "python",
   "pygments_lexer": "ipython2",
   "version": "2.7.6"
  }
 },
 "nbformat": 4,
 "nbformat_minor": 5
}
