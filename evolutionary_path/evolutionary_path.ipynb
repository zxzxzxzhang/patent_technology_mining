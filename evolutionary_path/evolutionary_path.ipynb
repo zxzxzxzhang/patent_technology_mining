{
 "cells": [
  {
   "cell_type": "code",
   "metadata": {
    "collapsed": false,
    "jupyter": {
     "outputs_hidden": false
    },
    "ExecuteTime": {
     "end_time": "2024-09-18T14:30:34.155828Z",
     "start_time": "2024-09-18T14:30:34.149360Z"
    }
   },
   "source": [
    "import matplotlib.pyplot as plt\n",
    "import pandas as pd\n",
    "import torch\n",
    "plt.rcParams['figure.dpi'] = 300"
   ],
   "outputs": [],
   "execution_count": 171
  },
  {
   "metadata": {},
   "cell_type": "code",
   "outputs": [],
   "execution_count": null,
   "source": "years = '2021-2024'"
  },
  {
   "cell_type": "code",
   "metadata": {
    "ExecuteTime": {
     "end_time": "2024-09-18T14:30:36.505111Z",
     "start_time": "2024-09-18T14:30:34.432107Z"
    }
   },
   "source": [
    "df = pd.read_excel(f'TAC_{years}.xlsx')\n",
    "df1 = df\n",
    "df"
   ],
   "outputs": [
    {
     "data": {
      "text/plain": [
       "       序号         公开(公告)号                                                 标题  \\\n",
       "0     104   EA202290196A1  КОМПОЗИЦИИ ЖИДКИХ ПОВЯЗОК И ИХ ПРИМЕНЕНИЕ В ВЕ...   \n",
       "1    1688  EG2013111808A0  Jojoba Chitosan films to extend the shelf life...   \n",
       "2    1061  EG2017091597A0                       Agricultural nano fertilizer   \n",
       "3     604  EG2020091493A0  Method for fertilizing tomato plants in the pr...   \n",
       "4    1687        EG27260A  Jojoba Chitosan films in agricultural, industr...   \n",
       "..    ...             ...                                                ...   \n",
       "518  1342    ZA201502696B                          Pesticide nano-suspension   \n",
       "519   778    ZA201907268A                                          Pesticide   \n",
       "520   504    ZA202103919B  Nano-pcr detection kit for infectious bovine r...   \n",
       "521   358    ZA202203073B  Graphene-like biochar loaded with NANO zero-va...   \n",
       "522    42    ZA202401066B  NANO iron-catalyzed biofertilizer and a method...   \n",
       "\n",
       "     专利类型   法律状态/事件         申请日         授权日  \\\n",
       "0    发明申请  撤回-未指定类型  2021-01-20           -   \n",
       "1    实用新型         -  2021-01-22           -   \n",
       "2    实用新型         -  2021-01-22           -   \n",
       "3    实用新型        授权  2021-01-27           -   \n",
       "4    发明申请         -  2021-02-01           -   \n",
       "..    ...       ...         ...         ...   \n",
       "518  授权发明        授权  2024-07-24  2016-06-29   \n",
       "519  发明申请        公开  2024-08-08           -   \n",
       "520  授权发明        授权  2024-08-23  2021-10-27   \n",
       "521  授权发明        授权  2024-08-23  2022-05-25   \n",
       "522  授权发明        授权  2024-08-23  2024-08-28   \n",
       "\n",
       "                                                   发明人  简单同族专利申请数量  \\\n",
       "0    ПАУЭЛЛ ДЖОНАТАН | ФАРИА НУНО | БАСТОС КАРЛОС П...          22   \n",
       "1    Moataz Ahmed El-Sawy Mahmoud | Labiba Ismail H...           1   \n",
       "2      Yasser Abdul Muttalib Abdul Hadi Abdul Muttalib           1   \n",
       "3    Shahira Hosseini Muslim | Ahmed Helmy Mohamed ...           1   \n",
       "4    Prof. Dr. Labiba Ismail Hussein Mohamed | Mr. ...           1   \n",
       "..                                                 ...         ...   \n",
       "518                     MISSELBROOK, JOHN | DUNN, JEFF          17   \n",
       "519                    TEO, ENG SOON | MURPHY, BROOK C          17   \n",
       "520  GUO, LI | WANG, ZHENJUN | ZHAO, LIFENG | LUO, ...           1   \n",
       "521     FANG LIPING | LIU KAI | RAN QIWANG | MA YIBING           1   \n",
       "522  DR. P. BHARATHI PURUSHOTHAMAN | DR. DAYANA RAJ...           1   \n",
       "\n",
       "                                                    摘要  ... 引用专利 引用专利数量  \\\n",
       "0    Описаны композиции жидких повязок для ветерина...  ...    -      0   \n",
       "1    The present invention relates to mixing jojoba...  ...    -      0   \n",
       "2    The subject matter of the invention relates to...  ...    -      0   \n",
       "3    This request relates to a method for fertilizi...  ...    -      0   \n",
       "4    The present invention relates to mixing jojoba...  ...    -      0   \n",
       "..                                                 ...  ...  ...    ...   \n",
       "518  Many active agents, such as insecticides, herb...  ...    -      0   \n",
       "519  The present invention relates to a pesticide n...  ...    -      0   \n",
       "520  The present invention discloses a nano-PCR det...  ...    -      0   \n",
       "521  This invention provides Graphene-like biochar ...  ...    -      0   \n",
       "522  The present invention relates to a novel Nano ...  ...    -      0   \n",
       "\n",
       "    非专利引用文献数量 许可类型 5年内被引用次数 质押人   申请年  \\\n",
       "0           0    -        0   -  2020   \n",
       "1           0    -        0   -  2013   \n",
       "2           0    -        0   -  2017   \n",
       "3           0    -        0   -  2020   \n",
       "4           0    -        0   -  2013   \n",
       "..        ...  ...      ...  ..   ...   \n",
       "518         0    -        0   -  2015   \n",
       "519         0    -        0   -  2019   \n",
       "520         0    -        0   -  2021   \n",
       "521         0    -        0   -  2022   \n",
       "522         0    -        0   -  2024   \n",
       "\n",
       "                                               发明人(全英)  \\\n",
       "0                       ПАУЭЛЛ ДЖОНАТАН | ФАРИА НУНО |   \n",
       "1    Moataz Ahmed El-Sawy Mahmoud | Labiba Ismail H...   \n",
       "2      Yasser Abdul Muttalib Abdul Hadi Abdul Muttalib   \n",
       "3    Shahira Hosseini Muslim | Ahmed Helmy Mohamed ...   \n",
       "4    Prof. Dr. Labiba Ismail Hussein Mohamed | Mr. ...   \n",
       "..                                                 ...   \n",
       "518                     MISSELBROOK, JOHN | DUNN, JEFF   \n",
       "519                    TEO, ENG SOON | MURPHY, BROOK C   \n",
       "520  GUO, LI | WANG, ZHENJUN | ZHAO, LIFENG | LUO, ...   \n",
       "521     FANG LIPING | LIU KAI | RAN QIWANG | MA YIBING   \n",
       "522  DR. P. BHARATHI PURUSHOTHAMAN | DR. DAYANA RAJ...   \n",
       "\n",
       "                                                摘要(全英)  \\\n",
       "0    Veterinary liquid dressing compositions for tr...   \n",
       "1    The present invention relates to mixed jojoba,...   \n",
       "2    The subject of the invention is the production...   \n",
       "3    The petition concerns a method for fertilizing...   \n",
       "4    The present invention relates to mixed jojoba,...   \n",
       "..                                                 ...   \n",
       "518  Many active agents, such as pesticides, herbic...   \n",
       "519  The present invention relates to a pesticide n...   \n",
       "520  The present invention discloses a nano PCR det...   \n",
       "521  The present invention provides a graphene-like...   \n",
       "522  The present invention relates to a novel nano-...   \n",
       "\n",
       "                                                标题(全英)  \n",
       "0    Composition of liquid bandages and their use i...  \n",
       "1    Jojoba chitosan film can extend the shelf life...  \n",
       "2                         Agricultural Nano Fertilizer  \n",
       "3    A method for fertilizing tomato plants with ma...  \n",
       "4    Antibacterial effects of jojoba chitosan films...  \n",
       "..                                                 ...  \n",
       "518                           Pesticide Nanosuspension  \n",
       "519                                          pesticide  \n",
       "520  Infectious bovine rhinotracheitis virus nano-P...  \n",
       "521  Graphene-like biochar loaded with nano zero-va...  \n",
       "522  Nano-iron catalytic biofertilizer and preparat...  \n",
       "\n",
       "[523 rows x 32 columns]"
      ],
      "text/html": [
       "<div>\n",
       "<style scoped>\n",
       "    .dataframe tbody tr th:only-of-type {\n",
       "        vertical-align: middle;\n",
       "    }\n",
       "\n",
       "    .dataframe tbody tr th {\n",
       "        vertical-align: top;\n",
       "    }\n",
       "\n",
       "    .dataframe thead th {\n",
       "        text-align: right;\n",
       "    }\n",
       "</style>\n",
       "<table border=\"1\" class=\"dataframe\">\n",
       "  <thead>\n",
       "    <tr style=\"text-align: right;\">\n",
       "      <th></th>\n",
       "      <th>序号</th>\n",
       "      <th>公开(公告)号</th>\n",
       "      <th>标题</th>\n",
       "      <th>专利类型</th>\n",
       "      <th>法律状态/事件</th>\n",
       "      <th>申请日</th>\n",
       "      <th>授权日</th>\n",
       "      <th>发明人</th>\n",
       "      <th>简单同族专利申请数量</th>\n",
       "      <th>摘要</th>\n",
       "      <th>...</th>\n",
       "      <th>引用专利</th>\n",
       "      <th>引用专利数量</th>\n",
       "      <th>非专利引用文献数量</th>\n",
       "      <th>许可类型</th>\n",
       "      <th>5年内被引用次数</th>\n",
       "      <th>质押人</th>\n",
       "      <th>申请年</th>\n",
       "      <th>发明人(全英)</th>\n",
       "      <th>摘要(全英)</th>\n",
       "      <th>标题(全英)</th>\n",
       "    </tr>\n",
       "  </thead>\n",
       "  <tbody>\n",
       "    <tr>\n",
       "      <th>0</th>\n",
       "      <td>104</td>\n",
       "      <td>EA202290196A1</td>\n",
       "      <td>КОМПОЗИЦИИ ЖИДКИХ ПОВЯЗОК И ИХ ПРИМЕНЕНИЕ В ВЕ...</td>\n",
       "      <td>发明申请</td>\n",
       "      <td>撤回-未指定类型</td>\n",
       "      <td>2021-01-20</td>\n",
       "      <td>-</td>\n",
       "      <td>ПАУЭЛЛ ДЖОНАТАН | ФАРИА НУНО | БАСТОС КАРЛОС П...</td>\n",
       "      <td>22</td>\n",
       "      <td>Описаны композиции жидких повязок для ветерина...</td>\n",
       "      <td>...</td>\n",
       "      <td>-</td>\n",
       "      <td>0</td>\n",
       "      <td>0</td>\n",
       "      <td>-</td>\n",
       "      <td>0</td>\n",
       "      <td>-</td>\n",
       "      <td>2020</td>\n",
       "      <td>ПАУЭЛЛ ДЖОНАТАН | ФАРИА НУНО |</td>\n",
       "      <td>Veterinary liquid dressing compositions for tr...</td>\n",
       "      <td>Composition of liquid bandages and their use i...</td>\n",
       "    </tr>\n",
       "    <tr>\n",
       "      <th>1</th>\n",
       "      <td>1688</td>\n",
       "      <td>EG2013111808A0</td>\n",
       "      <td>Jojoba Chitosan films to extend the shelf life...</td>\n",
       "      <td>实用新型</td>\n",
       "      <td>-</td>\n",
       "      <td>2021-01-22</td>\n",
       "      <td>-</td>\n",
       "      <td>Moataz Ahmed El-Sawy Mahmoud | Labiba Ismail H...</td>\n",
       "      <td>1</td>\n",
       "      <td>The present invention relates to mixing jojoba...</td>\n",
       "      <td>...</td>\n",
       "      <td>-</td>\n",
       "      <td>0</td>\n",
       "      <td>0</td>\n",
       "      <td>-</td>\n",
       "      <td>0</td>\n",
       "      <td>-</td>\n",
       "      <td>2013</td>\n",
       "      <td>Moataz Ahmed El-Sawy Mahmoud | Labiba Ismail H...</td>\n",
       "      <td>The present invention relates to mixed jojoba,...</td>\n",
       "      <td>Jojoba chitosan film can extend the shelf life...</td>\n",
       "    </tr>\n",
       "    <tr>\n",
       "      <th>2</th>\n",
       "      <td>1061</td>\n",
       "      <td>EG2017091597A0</td>\n",
       "      <td>Agricultural nano fertilizer</td>\n",
       "      <td>实用新型</td>\n",
       "      <td>-</td>\n",
       "      <td>2021-01-22</td>\n",
       "      <td>-</td>\n",
       "      <td>Yasser Abdul Muttalib Abdul Hadi Abdul Muttalib</td>\n",
       "      <td>1</td>\n",
       "      <td>The subject matter of the invention relates to...</td>\n",
       "      <td>...</td>\n",
       "      <td>-</td>\n",
       "      <td>0</td>\n",
       "      <td>0</td>\n",
       "      <td>-</td>\n",
       "      <td>0</td>\n",
       "      <td>-</td>\n",
       "      <td>2017</td>\n",
       "      <td>Yasser Abdul Muttalib Abdul Hadi Abdul Muttalib</td>\n",
       "      <td>The subject of the invention is the production...</td>\n",
       "      <td>Agricultural Nano Fertilizer</td>\n",
       "    </tr>\n",
       "    <tr>\n",
       "      <th>3</th>\n",
       "      <td>604</td>\n",
       "      <td>EG2020091493A0</td>\n",
       "      <td>Method for fertilizing tomato plants in the pr...</td>\n",
       "      <td>实用新型</td>\n",
       "      <td>授权</td>\n",
       "      <td>2021-01-27</td>\n",
       "      <td>-</td>\n",
       "      <td>Shahira Hosseini Muslim | Ahmed Helmy Mohamed ...</td>\n",
       "      <td>1</td>\n",
       "      <td>This request relates to a method for fertilizi...</td>\n",
       "      <td>...</td>\n",
       "      <td>-</td>\n",
       "      <td>0</td>\n",
       "      <td>0</td>\n",
       "      <td>-</td>\n",
       "      <td>0</td>\n",
       "      <td>-</td>\n",
       "      <td>2020</td>\n",
       "      <td>Shahira Hosseini Muslim | Ahmed Helmy Mohamed ...</td>\n",
       "      <td>The petition concerns a method for fertilizing...</td>\n",
       "      <td>A method for fertilizing tomato plants with ma...</td>\n",
       "    </tr>\n",
       "    <tr>\n",
       "      <th>4</th>\n",
       "      <td>1687</td>\n",
       "      <td>EG27260A</td>\n",
       "      <td>Jojoba Chitosan films in agricultural, industr...</td>\n",
       "      <td>发明申请</td>\n",
       "      <td>-</td>\n",
       "      <td>2021-02-01</td>\n",
       "      <td>-</td>\n",
       "      <td>Prof. Dr. Labiba Ismail Hussein Mohamed | Mr. ...</td>\n",
       "      <td>1</td>\n",
       "      <td>The present invention relates to mixing jojoba...</td>\n",
       "      <td>...</td>\n",
       "      <td>-</td>\n",
       "      <td>0</td>\n",
       "      <td>0</td>\n",
       "      <td>-</td>\n",
       "      <td>0</td>\n",
       "      <td>-</td>\n",
       "      <td>2013</td>\n",
       "      <td>Prof. Dr. Labiba Ismail Hussein Mohamed | Mr. ...</td>\n",
       "      <td>The present invention relates to mixed jojoba,...</td>\n",
       "      <td>Antibacterial effects of jojoba chitosan films...</td>\n",
       "    </tr>\n",
       "    <tr>\n",
       "      <th>...</th>\n",
       "      <td>...</td>\n",
       "      <td>...</td>\n",
       "      <td>...</td>\n",
       "      <td>...</td>\n",
       "      <td>...</td>\n",
       "      <td>...</td>\n",
       "      <td>...</td>\n",
       "      <td>...</td>\n",
       "      <td>...</td>\n",
       "      <td>...</td>\n",
       "      <td>...</td>\n",
       "      <td>...</td>\n",
       "      <td>...</td>\n",
       "      <td>...</td>\n",
       "      <td>...</td>\n",
       "      <td>...</td>\n",
       "      <td>...</td>\n",
       "      <td>...</td>\n",
       "      <td>...</td>\n",
       "      <td>...</td>\n",
       "      <td>...</td>\n",
       "    </tr>\n",
       "    <tr>\n",
       "      <th>518</th>\n",
       "      <td>1342</td>\n",
       "      <td>ZA201502696B</td>\n",
       "      <td>Pesticide nano-suspension</td>\n",
       "      <td>授权发明</td>\n",
       "      <td>授权</td>\n",
       "      <td>2024-07-24</td>\n",
       "      <td>2016-06-29</td>\n",
       "      <td>MISSELBROOK, JOHN | DUNN, JEFF</td>\n",
       "      <td>17</td>\n",
       "      <td>Many active agents, such as insecticides, herb...</td>\n",
       "      <td>...</td>\n",
       "      <td>-</td>\n",
       "      <td>0</td>\n",
       "      <td>0</td>\n",
       "      <td>-</td>\n",
       "      <td>0</td>\n",
       "      <td>-</td>\n",
       "      <td>2015</td>\n",
       "      <td>MISSELBROOK, JOHN | DUNN, JEFF</td>\n",
       "      <td>Many active agents, such as pesticides, herbic...</td>\n",
       "      <td>Pesticide Nanosuspension</td>\n",
       "    </tr>\n",
       "    <tr>\n",
       "      <th>519</th>\n",
       "      <td>778</td>\n",
       "      <td>ZA201907268A</td>\n",
       "      <td>Pesticide</td>\n",
       "      <td>发明申请</td>\n",
       "      <td>公开</td>\n",
       "      <td>2024-08-08</td>\n",
       "      <td>-</td>\n",
       "      <td>TEO, ENG SOON | MURPHY, BROOK C</td>\n",
       "      <td>17</td>\n",
       "      <td>The present invention relates to a pesticide n...</td>\n",
       "      <td>...</td>\n",
       "      <td>-</td>\n",
       "      <td>0</td>\n",
       "      <td>0</td>\n",
       "      <td>-</td>\n",
       "      <td>0</td>\n",
       "      <td>-</td>\n",
       "      <td>2019</td>\n",
       "      <td>TEO, ENG SOON | MURPHY, BROOK C</td>\n",
       "      <td>The present invention relates to a pesticide n...</td>\n",
       "      <td>pesticide</td>\n",
       "    </tr>\n",
       "    <tr>\n",
       "      <th>520</th>\n",
       "      <td>504</td>\n",
       "      <td>ZA202103919B</td>\n",
       "      <td>Nano-pcr detection kit for infectious bovine r...</td>\n",
       "      <td>授权发明</td>\n",
       "      <td>授权</td>\n",
       "      <td>2024-08-23</td>\n",
       "      <td>2021-10-27</td>\n",
       "      <td>GUO, LI | WANG, ZHENJUN | ZHAO, LIFENG | LUO, ...</td>\n",
       "      <td>1</td>\n",
       "      <td>The present invention discloses a nano-PCR det...</td>\n",
       "      <td>...</td>\n",
       "      <td>-</td>\n",
       "      <td>0</td>\n",
       "      <td>0</td>\n",
       "      <td>-</td>\n",
       "      <td>0</td>\n",
       "      <td>-</td>\n",
       "      <td>2021</td>\n",
       "      <td>GUO, LI | WANG, ZHENJUN | ZHAO, LIFENG | LUO, ...</td>\n",
       "      <td>The present invention discloses a nano PCR det...</td>\n",
       "      <td>Infectious bovine rhinotracheitis virus nano-P...</td>\n",
       "    </tr>\n",
       "    <tr>\n",
       "      <th>521</th>\n",
       "      <td>358</td>\n",
       "      <td>ZA202203073B</td>\n",
       "      <td>Graphene-like biochar loaded with NANO zero-va...</td>\n",
       "      <td>授权发明</td>\n",
       "      <td>授权</td>\n",
       "      <td>2024-08-23</td>\n",
       "      <td>2022-05-25</td>\n",
       "      <td>FANG LIPING | LIU KAI | RAN QIWANG | MA YIBING</td>\n",
       "      <td>1</td>\n",
       "      <td>This invention provides Graphene-like biochar ...</td>\n",
       "      <td>...</td>\n",
       "      <td>-</td>\n",
       "      <td>0</td>\n",
       "      <td>0</td>\n",
       "      <td>-</td>\n",
       "      <td>0</td>\n",
       "      <td>-</td>\n",
       "      <td>2022</td>\n",
       "      <td>FANG LIPING | LIU KAI | RAN QIWANG | MA YIBING</td>\n",
       "      <td>The present invention provides a graphene-like...</td>\n",
       "      <td>Graphene-like biochar loaded with nano zero-va...</td>\n",
       "    </tr>\n",
       "    <tr>\n",
       "      <th>522</th>\n",
       "      <td>42</td>\n",
       "      <td>ZA202401066B</td>\n",
       "      <td>NANO iron-catalyzed biofertilizer and a method...</td>\n",
       "      <td>授权发明</td>\n",
       "      <td>授权</td>\n",
       "      <td>2024-08-23</td>\n",
       "      <td>2024-08-28</td>\n",
       "      <td>DR. P. BHARATHI PURUSHOTHAMAN | DR. DAYANA RAJ...</td>\n",
       "      <td>1</td>\n",
       "      <td>The present invention relates to a novel Nano ...</td>\n",
       "      <td>...</td>\n",
       "      <td>-</td>\n",
       "      <td>0</td>\n",
       "      <td>0</td>\n",
       "      <td>-</td>\n",
       "      <td>0</td>\n",
       "      <td>-</td>\n",
       "      <td>2024</td>\n",
       "      <td>DR. P. BHARATHI PURUSHOTHAMAN | DR. DAYANA RAJ...</td>\n",
       "      <td>The present invention relates to a novel nano-...</td>\n",
       "      <td>Nano-iron catalytic biofertilizer and preparat...</td>\n",
       "    </tr>\n",
       "  </tbody>\n",
       "</table>\n",
       "<p>523 rows × 32 columns</p>\n",
       "</div>"
      ]
     },
     "execution_count": 173,
     "metadata": {},
     "output_type": "execute_result"
    }
   ],
   "execution_count": 173
  },
  {
   "cell_type": "code",
   "metadata": {
    "ExecuteTime": {
     "end_time": "2024-09-18T14:30:36.567454Z",
     "start_time": "2024-09-18T14:30:36.554085Z"
    }
   },
   "source": [
    "df1 = df1[['摘要 (en)']]\n",
    "df1"
   ],
   "outputs": [
    {
     "data": {
      "text/plain": [
       "                                                摘要(全英)\n",
       "0    Veterinary liquid dressing compositions for tr...\n",
       "1    The present invention relates to mixed jojoba,...\n",
       "2    The subject of the invention is the production...\n",
       "3    The petition concerns a method for fertilizing...\n",
       "5    The subject of the invention relates to the pr...\n",
       "..                                                 ...\n",
       "515  The present invention relates to a nanomateria...\n",
       "519  The present invention relates to a pesticide n...\n",
       "520  The present invention discloses a nano PCR det...\n",
       "521  The present invention provides a graphene-like...\n",
       "522  The present invention relates to a novel nano-...\n",
       "\n",
       "[416 rows x 1 columns]"
      ],
      "text/html": [
       "<div>\n",
       "<style scoped>\n",
       "    .dataframe tbody tr th:only-of-type {\n",
       "        vertical-align: middle;\n",
       "    }\n",
       "\n",
       "    .dataframe tbody tr th {\n",
       "        vertical-align: top;\n",
       "    }\n",
       "\n",
       "    .dataframe thead th {\n",
       "        text-align: right;\n",
       "    }\n",
       "</style>\n",
       "<table border=\"1\" class=\"dataframe\">\n",
       "  <thead>\n",
       "    <tr style=\"text-align: right;\">\n",
       "      <th></th>\n",
       "      <th>摘要(全英)</th>\n",
       "    </tr>\n",
       "  </thead>\n",
       "  <tbody>\n",
       "    <tr>\n",
       "      <th>0</th>\n",
       "      <td>Veterinary liquid dressing compositions for tr...</td>\n",
       "    </tr>\n",
       "    <tr>\n",
       "      <th>1</th>\n",
       "      <td>The present invention relates to mixed jojoba,...</td>\n",
       "    </tr>\n",
       "    <tr>\n",
       "      <th>2</th>\n",
       "      <td>The subject of the invention is the production...</td>\n",
       "    </tr>\n",
       "    <tr>\n",
       "      <th>3</th>\n",
       "      <td>The petition concerns a method for fertilizing...</td>\n",
       "    </tr>\n",
       "    <tr>\n",
       "      <th>5</th>\n",
       "      <td>The subject of the invention relates to the pr...</td>\n",
       "    </tr>\n",
       "    <tr>\n",
       "      <th>...</th>\n",
       "      <td>...</td>\n",
       "    </tr>\n",
       "    <tr>\n",
       "      <th>515</th>\n",
       "      <td>The present invention relates to a nanomateria...</td>\n",
       "    </tr>\n",
       "    <tr>\n",
       "      <th>519</th>\n",
       "      <td>The present invention relates to a pesticide n...</td>\n",
       "    </tr>\n",
       "    <tr>\n",
       "      <th>520</th>\n",
       "      <td>The present invention discloses a nano PCR det...</td>\n",
       "    </tr>\n",
       "    <tr>\n",
       "      <th>521</th>\n",
       "      <td>The present invention provides a graphene-like...</td>\n",
       "    </tr>\n",
       "    <tr>\n",
       "      <th>522</th>\n",
       "      <td>The present invention relates to a novel nano-...</td>\n",
       "    </tr>\n",
       "  </tbody>\n",
       "</table>\n",
       "<p>416 rows × 1 columns</p>\n",
       "</div>"
      ]
     },
     "execution_count": 176,
     "metadata": {},
     "output_type": "execute_result"
    }
   ],
   "execution_count": 176
  },
  {
   "cell_type": "code",
   "metadata": {
    "ExecuteTime": {
     "end_time": "2024-09-18T14:30:36.582921Z",
     "start_time": "2024-09-18T14:30:36.568605Z"
    }
   },
   "source": [
    "# Define a function to remove special characters\n",
    "def truncate_text(text, max_length=500, redundancy=20):\n",
    "    if len(text) <= max_length:\n",
    "        return text\n",
    "    \n",
    "    # find the last period within the max length\n",
    "    end_idx_cn = text.rfind('。', 0, max_length)\n",
    "    # find the last period within the max length\n",
    "    end_idx_en = text.rfind('.', 0, max_length)\n",
    "    \n",
    "    end_idx = max(end_idx_cn, end_idx_en)\n",
    "    \n",
    "    if end_idx == -1:\n",
    "        # If no period is found, force the cut and retain the redundancy\n",
    "        start_idx = max_length - redundancy if max_length > redundancy else 0\n",
    "        end_idx = max_length + redundancy if len(text) > max_length + redundancy else len(text)\n",
    "        return text[start_idx:end_idx]\n",
    "    else:\n",
    "        return text[:end_idx + 1]\n",
    "\n",
    "df1['摘要 (en)'] = df1['摘要 (en)'].apply(lambda x: truncate_text(x, max_length=500))"
   ],
   "outputs": [
    {
     "name": "stderr",
     "output_type": "stream",
     "text": [
      "C:\\Users\\RIC_ZX\\AppData\\Local\\Temp\\ipykernel_78352\\2570852981.py:24: SettingWithCopyWarning:\n",
      "\n",
      "\n",
      "A value is trying to be set on a copy of a slice from a DataFrame.\n",
      "Try using .loc[row_indexer,col_indexer] = value instead\n",
      "\n",
      "See the caveats in the documentation: https://pandas.pydata.org/pandas-docs/stable/user_guide/indexing.html#returning-a-view-versus-a-copy\n",
      "\n"
     ]
    }
   ],
   "execution_count": 177
  },
  {
   "metadata": {
    "ExecuteTime": {
     "end_time": "2024-09-18T14:31:31.335097Z",
     "start_time": "2024-09-18T14:30:36.584337Z"
    }
   },
   "cell_type": "code",
   "source": [
    "import torch\n",
    "from transformers import DistilBertTokenizer, DistilBertModel\n",
    "\n",
    "device = torch.device(\"cpu\")\n",
    "\n",
    "# load tokenizer\n",
    "tokenizer = DistilBertTokenizer.from_pretrained(r'distilbert-base-nli-mean-tokens')\n",
    "# load model\n",
    "model_path = 'distilbert.pth'\n",
    "model = DistilBertModel.from_pretrained(r'distilbert-base-nli-mean-tokens')\n",
    "model.load_state_dict(torch.load(model_path, map_location=device))\n",
    "model = model.to(device)\n",
    "\n",
    "# get text embedding\n",
    "def get_text_embedding(text):\n",
    "    inputs = tokenizer(text, padding=True, truncation=True, return_tensors=\"pt\").to(device)\n",
    "    with torch.no_grad():\n",
    "        outputs = model(**inputs)\n",
    "    embedding = outputs.last_hidden_state[:, 0, :] \n",
    "    return embedding\n",
    "\n",
    "text = df1['摘要 (en)'].values.tolist()\n",
    "embeddings = get_text_embedding(text)\n",
    "print(embeddings.shape)"
   ],
   "outputs": [
    {
     "name": "stdout",
     "output_type": "stream",
     "text": [
      "torch.Size([416, 768])\n"
     ]
    }
   ],
   "execution_count": 178
  },
  {
   "metadata": {
    "ExecuteTime": {
     "end_time": "2024-09-18T14:31:31.350860Z",
     "start_time": "2024-09-18T14:31:31.337900Z"
    }
   },
   "cell_type": "code",
   "source": [
    "embeddings = embeddings.detach().cpu().numpy()\n",
    "print(embeddings.shape)"
   ],
   "outputs": [
    {
     "name": "stdout",
     "output_type": "stream",
     "text": [
      "(416, 768)\n"
     ]
    }
   ],
   "execution_count": 179
  },
  {
   "cell_type": "code",
   "metadata": {
    "ExecuteTime": {
     "end_time": "2024-09-18T14:31:32.856488Z",
     "start_time": "2024-09-18T14:31:31.367658Z"
    }
   },
   "source": [
    "import umap\n",
    "\n",
    "# 创建 UMAP 模型\n",
    "umap_model = umap.UMAP(n_components=3, random_state=2022)\n",
    "\n",
    "# 对向量化矩阵进行降维操作，并将结果转换为 NumPy 数组\n",
    "umap_embeddings = umap_model.fit_transform(embeddings)\n",
    "umap_embeddings.shape"
   ],
   "outputs": [
    {
     "name": "stderr",
     "output_type": "stream",
     "text": [
      "C:\\Users\\RIC_ZX\\anaconda3\\envs\\pytorch\\lib\\site-packages\\umap\\umap_.py:1943: UserWarning:\n",
      "\n",
      "n_jobs value -1 overridden to 1 by setting random_state. Use no seed for parallelism.\n",
      "\n"
     ]
    },
    {
     "data": {
      "text/plain": [
       "(416, 3)"
      ]
     },
     "execution_count": 181,
     "metadata": {},
     "output_type": "execute_result"
    }
   ],
   "execution_count": 181
  },
  {
   "cell_type": "code",
   "metadata": {
    "collapsed": false,
    "jupyter": {
     "outputs_hidden": false
    },
    "ExecuteTime": {
     "end_time": "2024-09-18T14:31:32.918489Z",
     "start_time": "2024-09-18T14:31:32.858491Z"
    }
   },
   "source": [
    "import plotly.express as px\n",
    "import pandas as pd\n",
    "\n",
    "# 创建 DataFrame 包含 UMAP 降维后的结果\n",
    "df = pd.DataFrame(umap_embeddings, columns=['X', 'Y', 'Z'])\n",
    "\n",
    "# 可视化 UMAP 结果\n",
    "fig = px.scatter_3d(df, x='X', y='Y', z='Z', opacity=0.7,labels={'x': 'X', 'y': 'Y', 'z': 'Z'},\n",
    "                    title='UMAP Visualization')\n",
    "fig.show()"
   ],
   "outputs": [
    {
     "data": {
      "application/vnd.plotly.v1+json": {
       "data": [
        {
         "hovertemplate": "X=%{x}<br>Y=%{y}<br>Z=%{z}<extra></extra>",
         "legendgroup": "",
         "marker": {
          "color": "#636efa",
          "opacity": 0.7,
          "symbol": "circle"
         },
         "mode": "markers",
         "name": "",
         "scene": "scene",
         "showlegend": false,
         "x": [
          3.1507480144500732,
          2.531099319458008,
          2.724823236465454,
          2.7463741302490234,
          2.8222758769989014,
          2.644611358642578,
          3.017252206802368,
          2.9219162464141846,
          2.001420736312866,
          3.061720609664917,
          2.6395070552825928,
          2.9265379905700684,
          1.6621757745742798,
          3.4588611125946045,
          2.8781847953796387,
          2.666426658630371,
          3.570453405380249,
          1.8732247352600098,
          3.6808021068573,
          3.5183849334716797,
          2.1649394035339355,
          2.5633656978607178,
          2.945729970932007,
          2.4789113998413086,
          1.9662164449691772,
          2.4746017456054688,
          1.089516043663025,
          2.143282651901245,
          3.265152931213379,
          0.8485547304153442,
          3.096410036087036,
          3.071467876434326,
          2.011598587036133,
          3.597510814666748,
          2.4645438194274902,
          2.3114054203033447,
          2.821192979812622,
          3.6329593658447266,
          1.021524429321289,
          1.7590224742889404,
          2.5804004669189453,
          3.1291303634643555,
          3.3899011611938477,
          1.7947356700897217,
          0.754789412021637,
          3.916379451751709,
          3.2360503673553467,
          0.019550388678908348,
          2.5813894271850586,
          0.13510172069072723,
          3.1416428089141846,
          1.854792594909668,
          1.9938596487045288,
          2.713576078414917,
          2.8217973709106445,
          2.896819829940796,
          1.3467401266098022,
          0.5045615434646606,
          0.4692568778991699,
          3.181118965148926,
          1.2762267589569092,
          1.587085247039795,
          1.5824371576309204,
          2.7490622997283936,
          2.9736313819885254,
          3.1171038150787354,
          1.1075159311294556,
          2.562483787536621,
          3.0883684158325195,
          3.068358898162842,
          2.4873239994049072,
          2.0699307918548584,
          2.1571476459503174,
          2.185190200805664,
          2.5148940086364746,
          2.949019193649292,
          3.302769422531128,
          1.5175713300704956,
          2.9603006839752197,
          3.618149518966675,
          3.8012094497680664,
          2.5485427379608154,
          2.1379289627075195,
          1.7862955331802368,
          2.3362367153167725,
          3.2233808040618896,
          2.944042205810547,
          2.224130392074585,
          4.041422367095947,
          4.021885871887207,
          3.1659367084503174,
          2.991187572479248,
          3.656973361968994,
          1.6872010231018066,
          2.466845989227295,
          0.8278065323829651,
          2.3268532752990723,
          2.1951422691345215,
          3.2608659267425537,
          2.937981605529785,
          3.0520832538604736,
          0.11799738556146622,
          1.0401725769042969,
          3.522540807723999,
          3.2633554935455322,
          1.2399966716766357,
          1.7306934595108032,
          3.1312334537506104,
          2.403033494949341,
          3.0839664936065674,
          2.5082461833953857,
          2.7691006660461426,
          3.386139154434204,
          1.9626151323318481,
          2.9693806171417236,
          2.8891470432281494,
          2.6873514652252197,
          2.784945011138916,
          0.24296024441719055,
          3.116013288497925,
          3.216749906539917,
          2.9313607215881348,
          2.866658926010132,
          2.7279212474823,
          2.8170461654663086,
          2.863691806793213,
          1.504028081893921,
          2.689321994781494,
          2.4760630130767822,
          3.1779677867889404,
          3.352865695953369,
          3.0426993370056152,
          3.0367419719696045,
          2.897857189178467,
          3.2320029735565186,
          3.0320963859558105,
          1.1534053087234497,
          3.2907776832580566,
          2.614323616027832,
          1.3007607460021973,
          3.0553855895996094,
          2.6140191555023193,
          2.9472720623016357,
          3.012159585952759,
          3.6722023487091064,
          2.6326797008514404,
          3.0636348724365234,
          0.6414154171943665,
          2.887982130050659,
          3.1865124702453613,
          2.2556917667388916,
          2.924060821533203,
          3.272785186767578,
          4.007695198059082,
          1.7979958057403564,
          2.2055492401123047,
          3.9913272857666016,
          2.1734278202056885,
          1.7662602663040161,
          3.334479331970215,
          3.6801114082336426,
          2.5747599601745605,
          3.048830509185791,
          2.6091487407684326,
          2.4464712142944336,
          3.3786957263946533,
          3.3400497436523438,
          0.09638474136590958,
          2.63432240486145,
          3.4663732051849365,
          3.633162498474121,
          2.993093490600586,
          1.2750041484832764,
          2.93843150138855,
          2.7009899616241455,
          2.1388463973999023,
          2.171269655227661,
          3.2949485778808594,
          3.6208720207214355,
          1.100640892982483,
          3.379098415374756,
          3.0871365070343018,
          1.150514841079712,
          1.2006735801696777,
          2.504606246948242,
          2.4942450523376465,
          2.6205101013183594,
          1.46734619140625,
          2.327768564224243,
          2.7984132766723633,
          3.399151563644409,
          2.7480640411376953,
          1.9581645727157593,
          2.1341910362243652,
          3.069319009780884,
          0.6765625476837158,
          3.5154361724853516,
          2.843106508255005,
          2.666609048843384,
          0.8651384115219116,
          2.2650718688964844,
          1.2038785219192505,
          3.2475638389587402,
          1.6362260580062866,
          2.4940576553344727,
          3.3484463691711426,
          3.105211019515991,
          2.920332670211792,
          3.1721529960632324,
          2.6616249084472656,
          1.0080573558807373,
          1.1333104372024536,
          3.1103146076202393,
          3.1463327407836914,
          1.8269314765930176,
          2.7155561447143555,
          1.588305115699768,
          1.8023287057876587,
          2.4814984798431396,
          1.9672505855560303,
          1.846437692642212,
          3.4761478900909424,
          3.488863229751587,
          2.7695655822753906,
          3.5700528621673584,
          1.4324824810028076,
          1.8958327770233154,
          2.759305238723755,
          3.457690715789795,
          3.4734487533569336,
          2.769913673400879,
          2.966183662414551,
          2.9788784980773926,
          3.0351383686065674,
          3.037557601928711,
          2.977400779724121,
          0.8319305777549744,
          0.6299687623977661,
          2.6773221492767334,
          2.75561261177063,
          2.991896867752075,
          2.9720675945281982,
          3.0802576541900635,
          3.008976936340332,
          3.0309550762176514,
          2.4795708656311035,
          2.306612014770508,
          1.0517327785491943,
          0.7642870545387268,
          1.7210187911987305,
          2.626997709274292,
          0.8830288052558899,
          2.8410167694091797,
          2.8022541999816895,
          2.896651268005371,
          1.140126347541809,
          0.11848055571317673,
          3.5642669200897217,
          2.684704065322876,
          3.1779749393463135,
          2.773974657058716,
          2.6101059913635254,
          1.746030330657959,
          1.8277854919433594,
          1.7080397605895996,
          2.1401681900024414,
          2.714259624481201,
          1.4479182958602905,
          2.6055102348327637,
          2.543111801147461,
          0.7161921262741089,
          1.5304566621780396,
          1.4400025606155396,
          1.5172754526138306,
          2.249574899673462,
          2.588225841522217,
          3.1046578884124756,
          3.043724298477173,
          2.066720485687256,
          1.1572332382202148,
          3.3264479637145996,
          3.758338451385498,
          3.3033268451690674,
          3.1649370193481445,
          2.296217918395996,
          2.472449779510498,
          0.4160310924053192,
          2.3895297050476074,
          3.5620713233947754,
          0.3768154978752136,
          2.5801591873168945,
          0.35995426774024963,
          1.4492086172103882,
          1.363972783088684,
          3.1184942722320557,
          1.8718857765197754,
          2.783369541168213,
          3.6821300983428955,
          2.7419538497924805,
          4.080344200134277,
          3.138373613357544,
          1.5612775087356567,
          2.572521686553955,
          2.999830722808838,
          1.6033439636230469,
          3.45493221282959,
          3.0217056274414062,
          3.3014795780181885,
          3.3878870010375977,
          3.496858835220337,
          3.282731294631958,
          1.8780572414398193,
          1.1262413263320923,
          3.25417423248291,
          3.5090343952178955,
          1.4207838773727417,
          0.5137248039245605,
          3.072772264480591,
          3.2498810291290283,
          3.216315984725952,
          2.3468177318573,
          2.159120559692383,
          1.1206023693084717,
          2.2098052501678467,
          2.586754083633423,
          2.5452377796173096,
          3.4286928176879883,
          2.1396772861480713,
          1.1271343231201172,
          3.130582094192505,
          1.475390911102295,
          3.714705467224121,
          3.9551613330841064,
          2.614687204360962,
          3.388650894165039,
          1.392623782157898,
          0.12026967108249664,
          1.7415138483047485,
          1.773819923400879,
          3.425808906555176,
          3.4167611598968506,
          1.1244124174118042,
          2.7337448596954346,
          3.3820748329162598,
          3.0737874507904053,
          2.099313974380493,
          2.589726448059082,
          3.2055981159210205,
          1.8263005018234253,
          1.5546362400054932,
          2.9169251918792725,
          0.6491060256958008,
          1.9397923946380615,
          2.645418882369995,
          3.2149479389190674,
          2.82401180267334,
          3.8185415267944336,
          2.6534087657928467,
          1.3868072032928467,
          2.5704448223114014,
          1.4945366382598877,
          3.271742582321167,
          2.4057116508483887,
          2.6135733127593994,
          1.3955351114273071,
          2.7422873973846436,
          2.3713314533233643,
          2.339498519897461,
          3.1489226818084717,
          3.141099214553833,
          2.7762584686279297,
          2.7216529846191406,
          3.4169533252716064,
          3.188377857208252,
          1.6729137897491455,
          2.434861421585083,
          0.9758849143981934,
          3.325197458267212,
          1.340627670288086,
          3.6683924198150635,
          3.1429567337036133,
          3.328601121902466,
          1.2052100896835327,
          1.3958996534347534,
          1.5167895555496216,
          1.9151558876037598,
          0.6876292824745178,
          3.555298089981079,
          0.7745774388313293,
          0.7007081508636475,
          1.5838737487792969,
          1.8229856491088867,
          0.6815496683120728,
          1.7308882474899292,
          3.6578898429870605,
          2.9968466758728027,
          1.2866694927215576,
          3.2661304473876953,
          2.5886080265045166,
          3.4798433780670166,
          2.8773882389068604,
          3.6095733642578125,
          1.3226193189620972,
          2.7296013832092285,
          1.0400240421295166,
          3.197415828704834,
          1.1068164110183716,
          1.0503661632537842,
          1.0263502597808838,
          0.9454858303070068,
          0.983023464679718,
          3.2679734230041504,
          0.6937153935432434,
          2.552354097366333,
          2.943678379058838,
          2.736518144607544
         ],
         "y": [
          15.484612464904785,
          15.157571792602539,
          14.852241516113281,
          14.753046035766602,
          14.861257553100586,
          14.305022239685059,
          14.307991027832031,
          15.545814514160156,
          14.990833282470703,
          15.366012573242188,
          14.95759105682373,
          13.791930198669434,
          15.333434104919434,
          14.3118257522583,
          13.899986267089844,
          15.310489654541016,
          14.175288200378418,
          15.343456268310547,
          14.160719871520996,
          14.048571586608887,
          15.162727355957031,
          15.536966323852539,
          15.435342788696289,
          13.779993057250977,
          15.03443431854248,
          13.583515167236328,
          12.65488338470459,
          15.76552963256836,
          14.73408031463623,
          13.08125114440918,
          11.709352493286133,
          15.038097381591797,
          13.055225372314453,
          14.240948677062988,
          15.529678344726562,
          15.273733139038086,
          14.525742530822754,
          15.14077377319336,
          12.539968490600586,
          15.443416595458984,
          15.60532283782959,
          14.704520225524902,
          13.653715133666992,
          14.240419387817383,
          13.608006477355957,
          14.85554027557373,
          14.015029907226562,
          13.421619415283203,
          13.948387145996094,
          13.37276840209961,
          15.504192352294922,
          15.498701095581055,
          15.216043472290039,
          13.548752784729004,
          13.696301460266113,
          13.776883125305176,
          14.89017391204834,
          13.407453536987305,
          13.425593376159668,
          15.476064682006836,
          15.190393447875977,
          15.473186492919922,
          15.02046012878418,
          14.8219575881958,
          13.823878288269043,
          11.640361785888672,
          14.8720121383667,
          15.868341445922852,
          11.715729713439941,
          14.16705322265625,
          13.496295928955078,
          14.28053092956543,
          15.71606159210205,
          15.063298225402832,
          14.427416801452637,
          11.72026252746582,
          14.686057090759277,
          14.987202644348145,
          11.807791709899902,
          15.187896728515625,
          14.153786659240723,
          15.591723442077637,
          15.953286170959473,
          14.864941596984863,
          16.025625228881836,
          15.024538040161133,
          13.738058090209961,
          15.018045425415039,
          14.708741188049316,
          14.804582595825195,
          15.376551628112793,
          12.637598991394043,
          15.37918758392334,
          15.26380729675293,
          16.107528686523438,
          13.122462272644043,
          13.672835350036621,
          15.009540557861328,
          14.134282112121582,
          15.142316818237305,
          14.879392623901367,
          13.296092987060547,
          12.469002723693848,
          15.1926908493042,
          15.407735824584961,
          15.720710754394531,
          14.56684398651123,
          13.472538948059082,
          15.104089736938477,
          14.779369354248047,
          14.24289321899414,
          13.739498138427734,
          14.09201717376709,
          13.320430755615234,
          12.97433090209961,
          12.20488166809082,
          14.24127197265625,
          14.146907806396484,
          13.331583976745605,
          14.784882545471191,
          14.807719230651855,
          12.343530654907227,
          14.373427391052246,
          14.513104438781738,
          13.817530632019043,
          13.99837589263916,
          15.303783416748047,
          14.050833702087402,
          16.07982063293457,
          13.738938331604004,
          15.26540470123291,
          12.985005378723145,
          12.51225471496582,
          13.069442749023438,
          14.325593948364258,
          13.268835067749023,
          14.937212944030762,
          14.406074523925781,
          14.126445770263672,
          15.833616256713867,
          14.358416557312012,
          13.999056816101074,
          13.967559814453125,
          12.417405128479004,
          14.596195220947266,
          15.218423843383789,
          11.709996223449707,
          13.282724380493164,
          14.738114356994629,
          14.690961837768555,
          13.675803184509277,
          11.853445053100586,
          13.534026145935059,
          14.763687133789062,
          15.415190696716309,
          15.949870109558105,
          14.889176368713379,
          14.711562156677246,
          14.491360664367676,
          15.26384162902832,
          15.254073143005371,
          15.611684799194336,
          14.344112396240234,
          14.13820743560791,
          14.81911563873291,
          15.131129264831543,
          13.68828010559082,
          13.334333419799805,
          14.313458442687988,
          14.811200141906738,
          14.229174613952637,
          12.739606857299805,
          14.821417808532715,
          12.32785701751709,
          13.809565544128418,
          14.954538345336914,
          14.929256439208984,
          14.633683204650879,
          13.973593711853027,
          12.518590927124023,
          13.954401969909668,
          12.950263023376465,
          14.951930046081543,
          14.865317344665527,
          13.349347114562988,
          13.874752044677734,
          13.437387466430664,
          14.857421875,
          13.963379859924316,
          14.643082618713379,
          14.196584701538086,
          13.528077125549316,
          14.283905029296875,
          14.122834205627441,
          14.311477661132812,
          13.612909317016602,
          14.217710494995117,
          15.343703269958496,
          15.539664268493652,
          13.583038330078125,
          14.189512252807617,
          13.149734497070312,
          13.839659690856934,
          15.188576698303223,
          13.16510009765625,
          14.646327018737793,
          13.947381973266602,
          13.871562957763672,
          14.122967720031738,
          13.950752258300781,
          15.132616996765137,
          12.434652328491211,
          14.996509552001953,
          14.127483367919922,
          15.503613471984863,
          14.699670791625977,
          14.357150077819824,
          15.251326560974121,
          14.932397842407227,
          15.973469734191895,
          15.60789966583252,
          14.21280574798584,
          14.052331924438477,
          14.46877384185791,
          14.276415824890137,
          15.282570838928223,
          15.119095802307129,
          14.34821605682373,
          14.067548751831055,
          14.28054141998291,
          14.808260917663574,
          14.88437557220459,
          14.878592491149902,
          14.941441535949707,
          14.939688682556152,
          14.880979537963867,
          13.975973129272461,
          13.80243968963623,
          15.23254108428955,
          14.249435424804688,
          14.91677188873291,
          14.856779098510742,
          14.986095428466797,
          14.938881874084473,
          14.938536643981934,
          14.735015869140625,
          15.996395111083984,
          14.328276634216309,
          13.638498306274414,
          15.664673805236816,
          15.545557022094727,
          13.046744346618652,
          14.812321662902832,
          15.07138442993164,
          12.292325973510742,
          14.737772941589355,
          13.357219696044922,
          15.546895980834961,
          14.638071060180664,
          14.81270694732666,
          15.749625205993652,
          14.782197952270508,
          15.54595947265625,
          15.802310943603516,
          15.855968475341797,
          15.233492851257324,
          14.701480865478516,
          15.52564525604248,
          15.639822006225586,
          14.2171049118042,
          13.689417839050293,
          15.153196334838867,
          15.938591957092285,
          15.723462104797363,
          15.841094970703125,
          15.655288696289062,
          13.823371887207031,
          13.914530754089355,
          14.35484790802002,
          14.973152160644531,
          14.268420219421387,
          15.36719799041748,
          14.858673095703125,
          14.782588958740234,
          13.939592361450195,
          13.294524192810059,
          13.648740768432617,
          13.228315353393555,
          15.083452224731445,
          13.612823486328125,
          15.011370658874512,
          13.579458236694336,
          15.093714714050293,
          15.120543479919434,
          15.097977638244629,
          14.170126914978027,
          15.024209022521973,
          15.225637435913086,
          13.567987442016602,
          14.763144493103027,
          15.37578296661377,
          15.176636695861816,
          15.16038990020752,
          13.839282035827637,
          15.481831550598145,
          14.029875755310059,
          13.651196479797363,
          15.235280990600586,
          14.349356651306152,
          14.7000732421875,
          14.77016830444336,
          15.211573600769043,
          12.67686653137207,
          13.978280067443848,
          15.351017951965332,
          15.905715942382812,
          13.449142456054688,
          11.687469482421875,
          14.054760932922363,
          15.569804191589355,
          15.617524147033691,
          15.178077697753906,
          12.245098114013672,
          15.75031852722168,
          15.617924690246582,
          13.332983016967773,
          15.48639965057373,
          15.314623832702637,
          14.886844635009766,
          15.067859649658203,
          15.02920150756836,
          15.160204887390137,
          14.841400146484375,
          14.94569206237793,
          14.181570053100586,
          14.414119720458984,
          13.307364463806152,
          15.052055358886719,
          15.508261680603027,
          14.538994789123535,
          14.7073392868042,
          14.900343894958496,
          13.59384822845459,
          14.877421379089355,
          14.199738502502441,
          15.113357543945312,
          14.952866554260254,
          15.330809593200684,
          15.465065956115723,
          15.486742973327637,
          14.74348258972168,
          14.149980545043945,
          15.426299095153809,
          15.475198745727539,
          15.160293579101562,
          13.869762420654297,
          14.104467391967773,
          15.16464614868164,
          15.464237213134766,
          14.837228775024414,
          15.545451164245605,
          14.498161315917969,
          13.648937225341797,
          13.464975357055664,
          15.946154594421387,
          15.818621635437012,
          15.957319259643555,
          16.01719093322754,
          14.943743705749512,
          15.04281997680664,
          13.79555892944336,
          15.856473922729492,
          15.448372840881348,
          15.372268676757812,
          15.676885604858398,
          13.68698787689209,
          12.487618446350098,
          13.498896598815918,
          15.106046676635742,
          14.395724296569824,
          15.08138656616211,
          15.289484977722168,
          14.852091789245605,
          14.546221733093262,
          14.2926607131958,
          12.974211692810059,
          13.506786346435547,
          15.049138069152832,
          13.437838554382324,
          13.62843132019043,
          13.09495735168457,
          12.909051895141602,
          13.563894271850586,
          13.00224494934082,
          15.366663932800293,
          13.301239013671875,
          15.587214469909668,
          14.445677757263184,
          14.96902847290039,
          14.671740531921387,
          14.766873359680176,
          13.937562942504883,
          15.938837051391602,
          14.3184232711792,
          12.340526580810547,
          14.172613143920898,
          12.176886558532715,
          12.250518798828125,
          12.322979927062988,
          12.343385696411133,
          12.286765098571777,
          14.200955390930176,
          13.557718276977539,
          15.261710166931152,
          13.663311958312988,
          13.961569786071777
         ],
         "z": [
          16.798192977905273,
          17.85883903503418,
          15.191373825073242,
          13.561542510986328,
          15.29885482788086,
          13.849417686462402,
          18.273786544799805,
          17.576915740966797,
          19.10146713256836,
          18.872838973999023,
          18.392248153686523,
          19.929834365844727,
          16.92611312866211,
          12.967397689819336,
          18.293987274169922,
          19.638490676879883,
          19.196338653564453,
          18.728727340698242,
          19.576812744140625,
          19.44798469543457,
          17.99921226501465,
          19.39177894592285,
          19.277908325195312,
          18.56951332092285,
          19.19987678527832,
          19.814849853515625,
          17.186473846435547,
          18.861555099487305,
          13.474040031433105,
          17.971405029296875,
          14.068757057189941,
          12.543909072875977,
          17.35999298095703,
          19.633302688598633,
          19.54315185546875,
          19.36366081237793,
          19.410858154296875,
          19.244985580444336,
          17.50963020324707,
          19.067602157592773,
          19.880136489868164,
          19.432218551635742,
          13.973817825317383,
          18.471555709838867,
          17.09246063232422,
          18.77049446105957,
          18.250930786132812,
          16.472211837768555,
          16.990097045898438,
          16.3762264251709,
          16.799869537353516,
          19.23881721496582,
          19.513694763183594,
          19.803625106811523,
          19.927656173706055,
          17.966047286987305,
          18.57139778137207,
          17.381982803344727,
          17.34034538269043,
          16.852365493774414,
          18.451635360717773,
          18.587278366088867,
          17.700281143188477,
          18.174938201904297,
          18.637691497802734,
          14.043128967285156,
          17.55527687072754,
          18.3385009765625,
          14.081803321838379,
          18.272998809814453,
          19.828977584838867,
          19.708341598510742,
          19.331815719604492,
          19.621623992919922,
          19.67315673828125,
          14.3763427734375,
          13.430771827697754,
          19.285310745239258,
          14.28590202331543,
          19.260791778564453,
          19.47115707397461,
          19.879892349243164,
          17.301483154296875,
          17.866230010986328,
          17.270706176757812,
          17.30613899230957,
          17.632503509521484,
          17.74530029296875,
          18.453128814697266,
          18.542055130004883,
          18.872602462768555,
          13.922076225280762,
          18.941062927246094,
          18.177867889404297,
          17.367048263549805,
          16.913742065429688,
          17.843202590942383,
          14.228075981140137,
          14.379846572875977,
          18.569656372070312,
          13.435647964477539,
          16.320598602294922,
          17.32398796081543,
          18.766094207763672,
          19.020389556884766,
          17.458637237548828,
          19.435861587524414,
          13.715343475341797,
          19.689603805541992,
          14.62182331085205,
          16.945310592651367,
          17.13088035583496,
          14.061840057373047,
          17.481348037719727,
          13.995362281799316,
          14.103116035461426,
          13.540091514587402,
          13.304624557495117,
          16.209117889404297,
          14.52460765838623,
          14.346111297607422,
          13.99899959564209,
          13.949350357055664,
          13.846919059753418,
          16.546693801879883,
          14.001993179321289,
          17.930978775024414,
          14.085890769958496,
          17.190006256103516,
          13.817241668701172,
          18.432336807250977,
          13.724235534667969,
          13.902783393859863,
          13.905055046081543,
          13.823121070861816,
          13.69089412689209,
          17.566669464111328,
          12.605134010314941,
          13.755925178527832,
          17.435014724731445,
          14.45998764038086,
          13.696066856384277,
          13.279414176940918,
          13.933486938476562,
          13.891525268554688,
          17.686800003051758,
          14.106374740600586,
          17.733631134033203,
          19.602516174316406,
          14.151671409606934,
          19.496870040893555,
          14.248101234436035,
          13.779534339904785,
          18.468950271606445,
          19.446918487548828,
          17.176639556884766,
          18.604761123657227,
          19.405092239379883,
          19.432247161865234,
          18.77212905883789,
          18.809711456298828,
          19.890384674072266,
          12.979453086853027,
          13.474535942077637,
          16.988849639892578,
          19.315982818603516,
          14.088541030883789,
          16.366132736206055,
          16.999155044555664,
          17.624189376831055,
          19.526689529418945,
          13.91234302520752,
          16.533832550048828,
          13.987072944641113,
          16.954936981201172,
          14.270832061767578,
          14.213996887207031,
          13.490537643432617,
          19.58490562438965,
          17.3555850982666,
          14.241469383239746,
          14.052017211914062,
          17.57600975036621,
          16.86888885498047,
          19.6860408782959,
          17.1944522857666,
          17.026891708374023,
          18.183185577392578,
          19.870019912719727,
          12.857294082641602,
          13.848915100097656,
          17.81718635559082,
          19.653961181640625,
          19.856739044189453,
          12.883503913879395,
          17.4140567779541,
          13.911050796508789,
          17.917497634887695,
          17.49994659423828,
          17.432727813720703,
          16.755046844482422,
          16.98835563659668,
          13.679412841796875,
          17.913938522338867,
          18.321884155273438,
          17.279687881469727,
          19.60313606262207,
          13.694391250610352,
          14.095078468322754,
          16.998315811157227,
          17.68303680419922,
          17.398616790771484,
          18.457555770874023,
          14.649493217468262,
          19.044633865356445,
          13.01741886138916,
          18.36590003967285,
          17.632673263549805,
          18.218889236450195,
          17.380390167236328,
          19.26634407043457,
          19.675615310668945,
          19.278974533081055,
          12.822061538696289,
          19.01703453063965,
          17.9172420501709,
          17.706161499023438,
          13.295947074890137,
          14.121051788330078,
          13.8020658493042,
          12.61963939666748,
          12.157681465148926,
          12.12402629852295,
          12.10273265838623,
          12.136249542236328,
          12.077713012695312,
          17.04361915588379,
          17.218488693237305,
          13.944705963134766,
          13.734997749328613,
          12.016427040100098,
          12.220877647399902,
          12.004636764526367,
          12.006243705749512,
          12.077265739440918,
          13.840089797973633,
          17.54726219177246,
          16.8717041015625,
          17.065109252929688,
          19.084823608398438,
          17.93585205078125,
          17.9447078704834,
          13.56391716003418,
          17.869625091552734,
          13.959729194641113,
          18.51470947265625,
          16.375690460205078,
          18.649593353271484,
          13.110227584838867,
          13.076788902282715,
          16.58336639404297,
          13.354769706726074,
          17.52279281616211,
          17.382137298583984,
          17.222579956054688,
          17.193220138549805,
          12.72329330444336,
          16.788543701171875,
          16.30579376220703,
          13.466358184814453,
          17.1634521484375,
          16.662792205810547,
          17.49489402770996,
          17.44931411743164,
          17.812597274780273,
          17.434083938598633,
          19.900161743164062,
          13.787398338317871,
          19.409982681274414,
          18.488168716430664,
          13.015726089477539,
          18.977794647216797,
          13.638972282409668,
          14.498372077941895,
          19.939342498779297,
          17.520124435424805,
          16.559289932250977,
          17.460525512695312,
          19.378524780273438,
          16.501283645629883,
          13.811272621154785,
          16.503101348876953,
          19.160863876342773,
          18.809057235717773,
          13.51755428314209,
          18.541540145874023,
          18.002784729003906,
          19.222213745117188,
          18.06496810913086,
          18.554121017456055,
          16.999746322631836,
          16.9740047454834,
          18.941253662109375,
          17.952463150024414,
          18.317203521728516,
          19.606874465942383,
          13.677651405334473,
          19.163782119750977,
          12.760729789733887,
          19.486602783203125,
          13.588150978088379,
          16.87916374206543,
          17.258663177490234,
          18.34548568725586,
          19.399429321289062,
          17.396692276000977,
          17.367467880249023,
          14.099078178405762,
          19.752164840698242,
          19.15208625793457,
          19.614320755004883,
          19.401384353637695,
          17.31462860107422,
          19.369661331176758,
          19.917709350585938,
          17.498929977416992,
          19.312732696533203,
          19.05154800415039,
          18.615171432495117,
          13.483741760253906,
          19.230375289916992,
          19.204252243041992,
          18.72341537475586,
          13.780830383300781,
          18.395641326904297,
          18.338520050048828,
          16.322429656982422,
          19.495525360107422,
          19.15885353088379,
          18.69603157043457,
          13.726459503173828,
          17.54717254638672,
          19.852399826049805,
          17.796968460083008,
          18.406112670898438,
          18.153867721557617,
          18.304227828979492,
          17.011030197143555,
          19.316654205322266,
          18.23065757751465,
          13.062167167663574,
          17.2528018951416,
          19.320554733276367,
          19.128089904785156,
          17.257871627807617,
          18.401826858520508,
          19.49957275390625,
          19.631460189819336,
          18.388620376586914,
          19.635051727294922,
          18.731616973876953,
          12.768226623535156,
          19.826831817626953,
          19.757713317871094,
          17.29353904724121,
          17.28958511352539,
          17.45188331604004,
          17.35171890258789,
          12.716011047363281,
          12.78724479675293,
          18.056671142578125,
          16.759172439575195,
          19.315202713012695,
          17.028249740600586,
          18.248794555664062,
          19.787382125854492,
          17.461387634277344,
          13.73965835571289,
          18.48567008972168,
          19.416648864746094,
          12.606297492980957,
          18.511280059814453,
          18.548002243041992,
          18.565217971801758,
          18.36083984375,
          17.28748321533203,
          17.362586975097656,
          18.48746681213379,
          17.322328567504883,
          17.32896614074707,
          17.219877243041992,
          17.267799377441406,
          17.409374237060547,
          17.263898849487305,
          18.823104858398438,
          13.739303588867188,
          17.540491104125977,
          12.580290794372559,
          13.75528621673584,
          13.826619148254395,
          12.964839935302734,
          19.394550323486328,
          17.740867614746094,
          14.03464412689209,
          17.3566837310791,
          19.586349487304688,
          17.23893928527832,
          17.22957420349121,
          17.22555923461914,
          17.12360382080078,
          17.25292205810547,
          13.653769493103027,
          17.03215789794922,
          18.272445678710938,
          19.627023696899414,
          13.782416343688965
         ],
         "type": "scatter3d"
        }
       ],
       "layout": {
        "template": {
         "data": {
          "histogram2dcontour": [
           {
            "type": "histogram2dcontour",
            "colorbar": {
             "outlinewidth": 0,
             "ticks": ""
            },
            "colorscale": [
             [
              0.0,
              "#0d0887"
             ],
             [
              0.1111111111111111,
              "#46039f"
             ],
             [
              0.2222222222222222,
              "#7201a8"
             ],
             [
              0.3333333333333333,
              "#9c179e"
             ],
             [
              0.4444444444444444,
              "#bd3786"
             ],
             [
              0.5555555555555556,
              "#d8576b"
             ],
             [
              0.6666666666666666,
              "#ed7953"
             ],
             [
              0.7777777777777778,
              "#fb9f3a"
             ],
             [
              0.8888888888888888,
              "#fdca26"
             ],
             [
              1.0,
              "#f0f921"
             ]
            ]
           }
          ],
          "choropleth": [
           {
            "type": "choropleth",
            "colorbar": {
             "outlinewidth": 0,
             "ticks": ""
            }
           }
          ],
          "histogram2d": [
           {
            "type": "histogram2d",
            "colorbar": {
             "outlinewidth": 0,
             "ticks": ""
            },
            "colorscale": [
             [
              0.0,
              "#0d0887"
             ],
             [
              0.1111111111111111,
              "#46039f"
             ],
             [
              0.2222222222222222,
              "#7201a8"
             ],
             [
              0.3333333333333333,
              "#9c179e"
             ],
             [
              0.4444444444444444,
              "#bd3786"
             ],
             [
              0.5555555555555556,
              "#d8576b"
             ],
             [
              0.6666666666666666,
              "#ed7953"
             ],
             [
              0.7777777777777778,
              "#fb9f3a"
             ],
             [
              0.8888888888888888,
              "#fdca26"
             ],
             [
              1.0,
              "#f0f921"
             ]
            ]
           }
          ],
          "heatmap": [
           {
            "type": "heatmap",
            "colorbar": {
             "outlinewidth": 0,
             "ticks": ""
            },
            "colorscale": [
             [
              0.0,
              "#0d0887"
             ],
             [
              0.1111111111111111,
              "#46039f"
             ],
             [
              0.2222222222222222,
              "#7201a8"
             ],
             [
              0.3333333333333333,
              "#9c179e"
             ],
             [
              0.4444444444444444,
              "#bd3786"
             ],
             [
              0.5555555555555556,
              "#d8576b"
             ],
             [
              0.6666666666666666,
              "#ed7953"
             ],
             [
              0.7777777777777778,
              "#fb9f3a"
             ],
             [
              0.8888888888888888,
              "#fdca26"
             ],
             [
              1.0,
              "#f0f921"
             ]
            ]
           }
          ],
          "heatmapgl": [
           {
            "type": "heatmapgl",
            "colorbar": {
             "outlinewidth": 0,
             "ticks": ""
            },
            "colorscale": [
             [
              0.0,
              "#0d0887"
             ],
             [
              0.1111111111111111,
              "#46039f"
             ],
             [
              0.2222222222222222,
              "#7201a8"
             ],
             [
              0.3333333333333333,
              "#9c179e"
             ],
             [
              0.4444444444444444,
              "#bd3786"
             ],
             [
              0.5555555555555556,
              "#d8576b"
             ],
             [
              0.6666666666666666,
              "#ed7953"
             ],
             [
              0.7777777777777778,
              "#fb9f3a"
             ],
             [
              0.8888888888888888,
              "#fdca26"
             ],
             [
              1.0,
              "#f0f921"
             ]
            ]
           }
          ],
          "contourcarpet": [
           {
            "type": "contourcarpet",
            "colorbar": {
             "outlinewidth": 0,
             "ticks": ""
            }
           }
          ],
          "contour": [
           {
            "type": "contour",
            "colorbar": {
             "outlinewidth": 0,
             "ticks": ""
            },
            "colorscale": [
             [
              0.0,
              "#0d0887"
             ],
             [
              0.1111111111111111,
              "#46039f"
             ],
             [
              0.2222222222222222,
              "#7201a8"
             ],
             [
              0.3333333333333333,
              "#9c179e"
             ],
             [
              0.4444444444444444,
              "#bd3786"
             ],
             [
              0.5555555555555556,
              "#d8576b"
             ],
             [
              0.6666666666666666,
              "#ed7953"
             ],
             [
              0.7777777777777778,
              "#fb9f3a"
             ],
             [
              0.8888888888888888,
              "#fdca26"
             ],
             [
              1.0,
              "#f0f921"
             ]
            ]
           }
          ],
          "surface": [
           {
            "type": "surface",
            "colorbar": {
             "outlinewidth": 0,
             "ticks": ""
            },
            "colorscale": [
             [
              0.0,
              "#0d0887"
             ],
             [
              0.1111111111111111,
              "#46039f"
             ],
             [
              0.2222222222222222,
              "#7201a8"
             ],
             [
              0.3333333333333333,
              "#9c179e"
             ],
             [
              0.4444444444444444,
              "#bd3786"
             ],
             [
              0.5555555555555556,
              "#d8576b"
             ],
             [
              0.6666666666666666,
              "#ed7953"
             ],
             [
              0.7777777777777778,
              "#fb9f3a"
             ],
             [
              0.8888888888888888,
              "#fdca26"
             ],
             [
              1.0,
              "#f0f921"
             ]
            ]
           }
          ],
          "mesh3d": [
           {
            "type": "mesh3d",
            "colorbar": {
             "outlinewidth": 0,
             "ticks": ""
            }
           }
          ],
          "scatter": [
           {
            "fillpattern": {
             "fillmode": "overlay",
             "size": 10,
             "solidity": 0.2
            },
            "type": "scatter"
           }
          ],
          "parcoords": [
           {
            "type": "parcoords",
            "line": {
             "colorbar": {
              "outlinewidth": 0,
              "ticks": ""
             }
            }
           }
          ],
          "scatterpolargl": [
           {
            "type": "scatterpolargl",
            "marker": {
             "colorbar": {
              "outlinewidth": 0,
              "ticks": ""
             }
            }
           }
          ],
          "bar": [
           {
            "error_x": {
             "color": "#2a3f5f"
            },
            "error_y": {
             "color": "#2a3f5f"
            },
            "marker": {
             "line": {
              "color": "#E5ECF6",
              "width": 0.5
             },
             "pattern": {
              "fillmode": "overlay",
              "size": 10,
              "solidity": 0.2
             }
            },
            "type": "bar"
           }
          ],
          "scattergeo": [
           {
            "type": "scattergeo",
            "marker": {
             "colorbar": {
              "outlinewidth": 0,
              "ticks": ""
             }
            }
           }
          ],
          "scatterpolar": [
           {
            "type": "scatterpolar",
            "marker": {
             "colorbar": {
              "outlinewidth": 0,
              "ticks": ""
             }
            }
           }
          ],
          "histogram": [
           {
            "marker": {
             "pattern": {
              "fillmode": "overlay",
              "size": 10,
              "solidity": 0.2
             }
            },
            "type": "histogram"
           }
          ],
          "scattergl": [
           {
            "type": "scattergl",
            "marker": {
             "colorbar": {
              "outlinewidth": 0,
              "ticks": ""
             }
            }
           }
          ],
          "scatter3d": [
           {
            "type": "scatter3d",
            "line": {
             "colorbar": {
              "outlinewidth": 0,
              "ticks": ""
             }
            },
            "marker": {
             "colorbar": {
              "outlinewidth": 0,
              "ticks": ""
             }
            }
           }
          ],
          "scattermapbox": [
           {
            "type": "scattermapbox",
            "marker": {
             "colorbar": {
              "outlinewidth": 0,
              "ticks": ""
             }
            }
           }
          ],
          "scatterternary": [
           {
            "type": "scatterternary",
            "marker": {
             "colorbar": {
              "outlinewidth": 0,
              "ticks": ""
             }
            }
           }
          ],
          "scattercarpet": [
           {
            "type": "scattercarpet",
            "marker": {
             "colorbar": {
              "outlinewidth": 0,
              "ticks": ""
             }
            }
           }
          ],
          "carpet": [
           {
            "aaxis": {
             "endlinecolor": "#2a3f5f",
             "gridcolor": "white",
             "linecolor": "white",
             "minorgridcolor": "white",
             "startlinecolor": "#2a3f5f"
            },
            "baxis": {
             "endlinecolor": "#2a3f5f",
             "gridcolor": "white",
             "linecolor": "white",
             "minorgridcolor": "white",
             "startlinecolor": "#2a3f5f"
            },
            "type": "carpet"
           }
          ],
          "table": [
           {
            "cells": {
             "fill": {
              "color": "#EBF0F8"
             },
             "line": {
              "color": "white"
             }
            },
            "header": {
             "fill": {
              "color": "#C8D4E3"
             },
             "line": {
              "color": "white"
             }
            },
            "type": "table"
           }
          ],
          "barpolar": [
           {
            "marker": {
             "line": {
              "color": "#E5ECF6",
              "width": 0.5
             },
             "pattern": {
              "fillmode": "overlay",
              "size": 10,
              "solidity": 0.2
             }
            },
            "type": "barpolar"
           }
          ],
          "pie": [
           {
            "automargin": true,
            "type": "pie"
           }
          ]
         },
         "layout": {
          "autotypenumbers": "strict",
          "colorway": [
           "#636efa",
           "#EF553B",
           "#00cc96",
           "#ab63fa",
           "#FFA15A",
           "#19d3f3",
           "#FF6692",
           "#B6E880",
           "#FF97FF",
           "#FECB52"
          ],
          "font": {
           "color": "#2a3f5f"
          },
          "hovermode": "closest",
          "hoverlabel": {
           "align": "left"
          },
          "paper_bgcolor": "white",
          "plot_bgcolor": "#E5ECF6",
          "polar": {
           "bgcolor": "#E5ECF6",
           "angularaxis": {
            "gridcolor": "white",
            "linecolor": "white",
            "ticks": ""
           },
           "radialaxis": {
            "gridcolor": "white",
            "linecolor": "white",
            "ticks": ""
           }
          },
          "ternary": {
           "bgcolor": "#E5ECF6",
           "aaxis": {
            "gridcolor": "white",
            "linecolor": "white",
            "ticks": ""
           },
           "baxis": {
            "gridcolor": "white",
            "linecolor": "white",
            "ticks": ""
           },
           "caxis": {
            "gridcolor": "white",
            "linecolor": "white",
            "ticks": ""
           }
          },
          "coloraxis": {
           "colorbar": {
            "outlinewidth": 0,
            "ticks": ""
           }
          },
          "colorscale": {
           "sequential": [
            [
             0.0,
             "#0d0887"
            ],
            [
             0.1111111111111111,
             "#46039f"
            ],
            [
             0.2222222222222222,
             "#7201a8"
            ],
            [
             0.3333333333333333,
             "#9c179e"
            ],
            [
             0.4444444444444444,
             "#bd3786"
            ],
            [
             0.5555555555555556,
             "#d8576b"
            ],
            [
             0.6666666666666666,
             "#ed7953"
            ],
            [
             0.7777777777777778,
             "#fb9f3a"
            ],
            [
             0.8888888888888888,
             "#fdca26"
            ],
            [
             1.0,
             "#f0f921"
            ]
           ],
           "sequentialminus": [
            [
             0.0,
             "#0d0887"
            ],
            [
             0.1111111111111111,
             "#46039f"
            ],
            [
             0.2222222222222222,
             "#7201a8"
            ],
            [
             0.3333333333333333,
             "#9c179e"
            ],
            [
             0.4444444444444444,
             "#bd3786"
            ],
            [
             0.5555555555555556,
             "#d8576b"
            ],
            [
             0.6666666666666666,
             "#ed7953"
            ],
            [
             0.7777777777777778,
             "#fb9f3a"
            ],
            [
             0.8888888888888888,
             "#fdca26"
            ],
            [
             1.0,
             "#f0f921"
            ]
           ],
           "diverging": [
            [
             0,
             "#8e0152"
            ],
            [
             0.1,
             "#c51b7d"
            ],
            [
             0.2,
             "#de77ae"
            ],
            [
             0.3,
             "#f1b6da"
            ],
            [
             0.4,
             "#fde0ef"
            ],
            [
             0.5,
             "#f7f7f7"
            ],
            [
             0.6,
             "#e6f5d0"
            ],
            [
             0.7,
             "#b8e186"
            ],
            [
             0.8,
             "#7fbc41"
            ],
            [
             0.9,
             "#4d9221"
            ],
            [
             1,
             "#276419"
            ]
           ]
          },
          "xaxis": {
           "gridcolor": "white",
           "linecolor": "white",
           "ticks": "",
           "title": {
            "standoff": 15
           },
           "zerolinecolor": "white",
           "automargin": true,
           "zerolinewidth": 2
          },
          "yaxis": {
           "gridcolor": "white",
           "linecolor": "white",
           "ticks": "",
           "title": {
            "standoff": 15
           },
           "zerolinecolor": "white",
           "automargin": true,
           "zerolinewidth": 2
          },
          "scene": {
           "xaxis": {
            "backgroundcolor": "#E5ECF6",
            "gridcolor": "white",
            "linecolor": "white",
            "showbackground": true,
            "ticks": "",
            "zerolinecolor": "white",
            "gridwidth": 2
           },
           "yaxis": {
            "backgroundcolor": "#E5ECF6",
            "gridcolor": "white",
            "linecolor": "white",
            "showbackground": true,
            "ticks": "",
            "zerolinecolor": "white",
            "gridwidth": 2
           },
           "zaxis": {
            "backgroundcolor": "#E5ECF6",
            "gridcolor": "white",
            "linecolor": "white",
            "showbackground": true,
            "ticks": "",
            "zerolinecolor": "white",
            "gridwidth": 2
           }
          },
          "shapedefaults": {
           "line": {
            "color": "#2a3f5f"
           }
          },
          "annotationdefaults": {
           "arrowcolor": "#2a3f5f",
           "arrowhead": 0,
           "arrowwidth": 1
          },
          "geo": {
           "bgcolor": "white",
           "landcolor": "#E5ECF6",
           "subunitcolor": "white",
           "showland": true,
           "showlakes": true,
           "lakecolor": "white"
          },
          "title": {
           "x": 0.05
          },
          "mapbox": {
           "style": "light"
          }
         }
        },
        "scene": {
         "domain": {
          "x": [
           0.0,
           1.0
          ],
          "y": [
           0.0,
           1.0
          ]
         },
         "xaxis": {
          "title": {
           "text": "X"
          }
         },
         "yaxis": {
          "title": {
           "text": "Y"
          }
         },
         "zaxis": {
          "title": {
           "text": "Z"
          }
         }
        },
        "legend": {
         "tracegroupgap": 0
        },
        "title": {
         "text": "UMAP Visualization"
        }
       },
       "config": {
        "plotlyServerURL": "https://plot.ly"
       }
      },
      "text/html": [
       "<div>                            <div id=\"a6862733-50f2-43e5-a22e-b65845b73dec\" class=\"plotly-graph-div\" style=\"height:525px; width:100%;\"></div>            <script type=\"text/javascript\">                require([\"plotly\"], function(Plotly) {                    window.PLOTLYENV=window.PLOTLYENV || {};                                    if (document.getElementById(\"a6862733-50f2-43e5-a22e-b65845b73dec\")) {                    Plotly.newPlot(                        \"a6862733-50f2-43e5-a22e-b65845b73dec\",                        [{\"hovertemplate\":\"X=%{x}\\u003cbr\\u003eY=%{y}\\u003cbr\\u003eZ=%{z}\\u003cextra\\u003e\\u003c\\u002fextra\\u003e\",\"legendgroup\":\"\",\"marker\":{\"color\":\"#636efa\",\"opacity\":0.7,\"symbol\":\"circle\"},\"mode\":\"markers\",\"name\":\"\",\"scene\":\"scene\",\"showlegend\":false,\"x\":[3.1507480144500732,2.531099319458008,2.724823236465454,2.7463741302490234,2.8222758769989014,2.644611358642578,3.017252206802368,2.9219162464141846,2.001420736312866,3.061720609664917,2.6395070552825928,2.9265379905700684,1.6621757745742798,3.4588611125946045,2.8781847953796387,2.666426658630371,3.570453405380249,1.8732247352600098,3.6808021068573,3.5183849334716797,2.1649394035339355,2.5633656978607178,2.945729970932007,2.4789113998413086,1.9662164449691772,2.4746017456054688,1.089516043663025,2.143282651901245,3.265152931213379,0.8485547304153442,3.096410036087036,3.071467876434326,2.011598587036133,3.597510814666748,2.4645438194274902,2.3114054203033447,2.821192979812622,3.6329593658447266,1.021524429321289,1.7590224742889404,2.5804004669189453,3.1291303634643555,3.3899011611938477,1.7947356700897217,0.754789412021637,3.916379451751709,3.2360503673553467,0.019550388678908348,2.5813894271850586,0.13510172069072723,3.1416428089141846,1.854792594909668,1.9938596487045288,2.713576078414917,2.8217973709106445,2.896819829940796,1.3467401266098022,0.5045615434646606,0.4692568778991699,3.181118965148926,1.2762267589569092,1.587085247039795,1.5824371576309204,2.7490622997283936,2.9736313819885254,3.1171038150787354,1.1075159311294556,2.562483787536621,3.0883684158325195,3.068358898162842,2.4873239994049072,2.0699307918548584,2.1571476459503174,2.185190200805664,2.5148940086364746,2.949019193649292,3.302769422531128,1.5175713300704956,2.9603006839752197,3.618149518966675,3.8012094497680664,2.5485427379608154,2.1379289627075195,1.7862955331802368,2.3362367153167725,3.2233808040618896,2.944042205810547,2.224130392074585,4.041422367095947,4.021885871887207,3.1659367084503174,2.991187572479248,3.656973361968994,1.6872010231018066,2.466845989227295,0.8278065323829651,2.3268532752990723,2.1951422691345215,3.2608659267425537,2.937981605529785,3.0520832538604736,0.11799738556146622,1.0401725769042969,3.522540807723999,3.2633554935455322,1.2399966716766357,1.7306934595108032,3.1312334537506104,2.403033494949341,3.0839664936065674,2.5082461833953857,2.7691006660461426,3.386139154434204,1.9626151323318481,2.9693806171417236,2.8891470432281494,2.6873514652252197,2.784945011138916,0.24296024441719055,3.116013288497925,3.216749906539917,2.9313607215881348,2.866658926010132,2.7279212474823,2.8170461654663086,2.863691806793213,1.504028081893921,2.689321994781494,2.4760630130767822,3.1779677867889404,3.352865695953369,3.0426993370056152,3.0367419719696045,2.897857189178467,3.2320029735565186,3.0320963859558105,1.1534053087234497,3.2907776832580566,2.614323616027832,1.3007607460021973,3.0553855895996094,2.6140191555023193,2.9472720623016357,3.012159585952759,3.6722023487091064,2.6326797008514404,3.0636348724365234,0.6414154171943665,2.887982130050659,3.1865124702453613,2.2556917667388916,2.924060821533203,3.272785186767578,4.007695198059082,1.7979958057403564,2.2055492401123047,3.9913272857666016,2.1734278202056885,1.7662602663040161,3.334479331970215,3.6801114082336426,2.5747599601745605,3.048830509185791,2.6091487407684326,2.4464712142944336,3.3786957263946533,3.3400497436523438,0.09638474136590958,2.63432240486145,3.4663732051849365,3.633162498474121,2.993093490600586,1.2750041484832764,2.93843150138855,2.7009899616241455,2.1388463973999023,2.171269655227661,3.2949485778808594,3.6208720207214355,1.100640892982483,3.379098415374756,3.0871365070343018,1.150514841079712,1.2006735801696777,2.504606246948242,2.4942450523376465,2.6205101013183594,1.46734619140625,2.327768564224243,2.7984132766723633,3.399151563644409,2.7480640411376953,1.9581645727157593,2.1341910362243652,3.069319009780884,0.6765625476837158,3.5154361724853516,2.843106508255005,2.666609048843384,0.8651384115219116,2.2650718688964844,1.2038785219192505,3.2475638389587402,1.6362260580062866,2.4940576553344727,3.3484463691711426,3.105211019515991,2.920332670211792,3.1721529960632324,2.6616249084472656,1.0080573558807373,1.1333104372024536,3.1103146076202393,3.1463327407836914,1.8269314765930176,2.7155561447143555,1.588305115699768,1.8023287057876587,2.4814984798431396,1.9672505855560303,1.846437692642212,3.4761478900909424,3.488863229751587,2.7695655822753906,3.5700528621673584,1.4324824810028076,1.8958327770233154,2.759305238723755,3.457690715789795,3.4734487533569336,2.769913673400879,2.966183662414551,2.9788784980773926,3.0351383686065674,3.037557601928711,2.977400779724121,0.8319305777549744,0.6299687623977661,2.6773221492767334,2.75561261177063,2.991896867752075,2.9720675945281982,3.0802576541900635,3.008976936340332,3.0309550762176514,2.4795708656311035,2.306612014770508,1.0517327785491943,0.7642870545387268,1.7210187911987305,2.626997709274292,0.8830288052558899,2.8410167694091797,2.8022541999816895,2.896651268005371,1.140126347541809,0.11848055571317673,3.5642669200897217,2.684704065322876,3.1779749393463135,2.773974657058716,2.6101059913635254,1.746030330657959,1.8277854919433594,1.7080397605895996,2.1401681900024414,2.714259624481201,1.4479182958602905,2.6055102348327637,2.543111801147461,0.7161921262741089,1.5304566621780396,1.4400025606155396,1.5172754526138306,2.249574899673462,2.588225841522217,3.1046578884124756,3.043724298477173,2.066720485687256,1.1572332382202148,3.3264479637145996,3.758338451385498,3.3033268451690674,3.1649370193481445,2.296217918395996,2.472449779510498,0.4160310924053192,2.3895297050476074,3.5620713233947754,0.3768154978752136,2.5801591873168945,0.35995426774024963,1.4492086172103882,1.363972783088684,3.1184942722320557,1.8718857765197754,2.783369541168213,3.6821300983428955,2.7419538497924805,4.080344200134277,3.138373613357544,1.5612775087356567,2.572521686553955,2.999830722808838,1.6033439636230469,3.45493221282959,3.0217056274414062,3.3014795780181885,3.3878870010375977,3.496858835220337,3.282731294631958,1.8780572414398193,1.1262413263320923,3.25417423248291,3.5090343952178955,1.4207838773727417,0.5137248039245605,3.072772264480591,3.2498810291290283,3.216315984725952,2.3468177318573,2.159120559692383,1.1206023693084717,2.2098052501678467,2.586754083633423,2.5452377796173096,3.4286928176879883,2.1396772861480713,1.1271343231201172,3.130582094192505,1.475390911102295,3.714705467224121,3.9551613330841064,2.614687204360962,3.388650894165039,1.392623782157898,0.12026967108249664,1.7415138483047485,1.773819923400879,3.425808906555176,3.4167611598968506,1.1244124174118042,2.7337448596954346,3.3820748329162598,3.0737874507904053,2.099313974380493,2.589726448059082,3.2055981159210205,1.8263005018234253,1.5546362400054932,2.9169251918792725,0.6491060256958008,1.9397923946380615,2.645418882369995,3.2149479389190674,2.82401180267334,3.8185415267944336,2.6534087657928467,1.3868072032928467,2.5704448223114014,1.4945366382598877,3.271742582321167,2.4057116508483887,2.6135733127593994,1.3955351114273071,2.7422873973846436,2.3713314533233643,2.339498519897461,3.1489226818084717,3.141099214553833,2.7762584686279297,2.7216529846191406,3.4169533252716064,3.188377857208252,1.6729137897491455,2.434861421585083,0.9758849143981934,3.325197458267212,1.340627670288086,3.6683924198150635,3.1429567337036133,3.328601121902466,1.2052100896835327,1.3958996534347534,1.5167895555496216,1.9151558876037598,0.6876292824745178,3.555298089981079,0.7745774388313293,0.7007081508636475,1.5838737487792969,1.8229856491088867,0.6815496683120728,1.7308882474899292,3.6578898429870605,2.9968466758728027,1.2866694927215576,3.2661304473876953,2.5886080265045166,3.4798433780670166,2.8773882389068604,3.6095733642578125,1.3226193189620972,2.7296013832092285,1.0400240421295166,3.197415828704834,1.1068164110183716,1.0503661632537842,1.0263502597808838,0.9454858303070068,0.983023464679718,3.2679734230041504,0.6937153935432434,2.552354097366333,2.943678379058838,2.736518144607544],\"y\":[15.484612464904785,15.157571792602539,14.852241516113281,14.753046035766602,14.861257553100586,14.305022239685059,14.307991027832031,15.545814514160156,14.990833282470703,15.366012573242188,14.95759105682373,13.791930198669434,15.333434104919434,14.3118257522583,13.899986267089844,15.310489654541016,14.175288200378418,15.343456268310547,14.160719871520996,14.048571586608887,15.162727355957031,15.536966323852539,15.435342788696289,13.779993057250977,15.03443431854248,13.583515167236328,12.65488338470459,15.76552963256836,14.73408031463623,13.08125114440918,11.709352493286133,15.038097381591797,13.055225372314453,14.240948677062988,15.529678344726562,15.273733139038086,14.525742530822754,15.14077377319336,12.539968490600586,15.443416595458984,15.60532283782959,14.704520225524902,13.653715133666992,14.240419387817383,13.608006477355957,14.85554027557373,14.015029907226562,13.421619415283203,13.948387145996094,13.37276840209961,15.504192352294922,15.498701095581055,15.216043472290039,13.548752784729004,13.696301460266113,13.776883125305176,14.89017391204834,13.407453536987305,13.425593376159668,15.476064682006836,15.190393447875977,15.473186492919922,15.02046012878418,14.8219575881958,13.823878288269043,11.640361785888672,14.8720121383667,15.868341445922852,11.715729713439941,14.16705322265625,13.496295928955078,14.28053092956543,15.71606159210205,15.063298225402832,14.427416801452637,11.72026252746582,14.686057090759277,14.987202644348145,11.807791709899902,15.187896728515625,14.153786659240723,15.591723442077637,15.953286170959473,14.864941596984863,16.025625228881836,15.024538040161133,13.738058090209961,15.018045425415039,14.708741188049316,14.804582595825195,15.376551628112793,12.637598991394043,15.37918758392334,15.26380729675293,16.107528686523438,13.122462272644043,13.672835350036621,15.009540557861328,14.134282112121582,15.142316818237305,14.879392623901367,13.296092987060547,12.469002723693848,15.1926908493042,15.407735824584961,15.720710754394531,14.56684398651123,13.472538948059082,15.104089736938477,14.779369354248047,14.24289321899414,13.739498138427734,14.09201717376709,13.320430755615234,12.97433090209961,12.20488166809082,14.24127197265625,14.146907806396484,13.331583976745605,14.784882545471191,14.807719230651855,12.343530654907227,14.373427391052246,14.513104438781738,13.817530632019043,13.99837589263916,15.303783416748047,14.050833702087402,16.07982063293457,13.738938331604004,15.26540470123291,12.985005378723145,12.51225471496582,13.069442749023438,14.325593948364258,13.268835067749023,14.937212944030762,14.406074523925781,14.126445770263672,15.833616256713867,14.358416557312012,13.999056816101074,13.967559814453125,12.417405128479004,14.596195220947266,15.218423843383789,11.709996223449707,13.282724380493164,14.738114356994629,14.690961837768555,13.675803184509277,11.853445053100586,13.534026145935059,14.763687133789062,15.415190696716309,15.949870109558105,14.889176368713379,14.711562156677246,14.491360664367676,15.26384162902832,15.254073143005371,15.611684799194336,14.344112396240234,14.13820743560791,14.81911563873291,15.131129264831543,13.68828010559082,13.334333419799805,14.313458442687988,14.811200141906738,14.229174613952637,12.739606857299805,14.821417808532715,12.32785701751709,13.809565544128418,14.954538345336914,14.929256439208984,14.633683204650879,13.973593711853027,12.518590927124023,13.954401969909668,12.950263023376465,14.951930046081543,14.865317344665527,13.349347114562988,13.874752044677734,13.437387466430664,14.857421875,13.963379859924316,14.643082618713379,14.196584701538086,13.528077125549316,14.283905029296875,14.122834205627441,14.311477661132812,13.612909317016602,14.217710494995117,15.343703269958496,15.539664268493652,13.583038330078125,14.189512252807617,13.149734497070312,13.839659690856934,15.188576698303223,13.16510009765625,14.646327018737793,13.947381973266602,13.871562957763672,14.122967720031738,13.950752258300781,15.132616996765137,12.434652328491211,14.996509552001953,14.127483367919922,15.503613471984863,14.699670791625977,14.357150077819824,15.251326560974121,14.932397842407227,15.973469734191895,15.60789966583252,14.21280574798584,14.052331924438477,14.46877384185791,14.276415824890137,15.282570838928223,15.119095802307129,14.34821605682373,14.067548751831055,14.28054141998291,14.808260917663574,14.88437557220459,14.878592491149902,14.941441535949707,14.939688682556152,14.880979537963867,13.975973129272461,13.80243968963623,15.23254108428955,14.249435424804688,14.91677188873291,14.856779098510742,14.986095428466797,14.938881874084473,14.938536643981934,14.735015869140625,15.996395111083984,14.328276634216309,13.638498306274414,15.664673805236816,15.545557022094727,13.046744346618652,14.812321662902832,15.07138442993164,12.292325973510742,14.737772941589355,13.357219696044922,15.546895980834961,14.638071060180664,14.81270694732666,15.749625205993652,14.782197952270508,15.54595947265625,15.802310943603516,15.855968475341797,15.233492851257324,14.701480865478516,15.52564525604248,15.639822006225586,14.2171049118042,13.689417839050293,15.153196334838867,15.938591957092285,15.723462104797363,15.841094970703125,15.655288696289062,13.823371887207031,13.914530754089355,14.35484790802002,14.973152160644531,14.268420219421387,15.36719799041748,14.858673095703125,14.782588958740234,13.939592361450195,13.294524192810059,13.648740768432617,13.228315353393555,15.083452224731445,13.612823486328125,15.011370658874512,13.579458236694336,15.093714714050293,15.120543479919434,15.097977638244629,14.170126914978027,15.024209022521973,15.225637435913086,13.567987442016602,14.763144493103027,15.37578296661377,15.176636695861816,15.16038990020752,13.839282035827637,15.481831550598145,14.029875755310059,13.651196479797363,15.235280990600586,14.349356651306152,14.7000732421875,14.77016830444336,15.211573600769043,12.67686653137207,13.978280067443848,15.351017951965332,15.905715942382812,13.449142456054688,11.687469482421875,14.054760932922363,15.569804191589355,15.617524147033691,15.178077697753906,12.245098114013672,15.75031852722168,15.617924690246582,13.332983016967773,15.48639965057373,15.314623832702637,14.886844635009766,15.067859649658203,15.02920150756836,15.160204887390137,14.841400146484375,14.94569206237793,14.181570053100586,14.414119720458984,13.307364463806152,15.052055358886719,15.508261680603027,14.538994789123535,14.7073392868042,14.900343894958496,13.59384822845459,14.877421379089355,14.199738502502441,15.113357543945312,14.952866554260254,15.330809593200684,15.465065956115723,15.486742973327637,14.74348258972168,14.149980545043945,15.426299095153809,15.475198745727539,15.160293579101562,13.869762420654297,14.104467391967773,15.16464614868164,15.464237213134766,14.837228775024414,15.545451164245605,14.498161315917969,13.648937225341797,13.464975357055664,15.946154594421387,15.818621635437012,15.957319259643555,16.01719093322754,14.943743705749512,15.04281997680664,13.79555892944336,15.856473922729492,15.448372840881348,15.372268676757812,15.676885604858398,13.68698787689209,12.487618446350098,13.498896598815918,15.106046676635742,14.395724296569824,15.08138656616211,15.289484977722168,14.852091789245605,14.546221733093262,14.2926607131958,12.974211692810059,13.506786346435547,15.049138069152832,13.437838554382324,13.62843132019043,13.09495735168457,12.909051895141602,13.563894271850586,13.00224494934082,15.366663932800293,13.301239013671875,15.587214469909668,14.445677757263184,14.96902847290039,14.671740531921387,14.766873359680176,13.937562942504883,15.938837051391602,14.3184232711792,12.340526580810547,14.172613143920898,12.176886558532715,12.250518798828125,12.322979927062988,12.343385696411133,12.286765098571777,14.200955390930176,13.557718276977539,15.261710166931152,13.663311958312988,13.961569786071777],\"z\":[16.798192977905273,17.85883903503418,15.191373825073242,13.561542510986328,15.29885482788086,13.849417686462402,18.273786544799805,17.576915740966797,19.10146713256836,18.872838973999023,18.392248153686523,19.929834365844727,16.92611312866211,12.967397689819336,18.293987274169922,19.638490676879883,19.196338653564453,18.728727340698242,19.576812744140625,19.44798469543457,17.99921226501465,19.39177894592285,19.277908325195312,18.56951332092285,19.19987678527832,19.814849853515625,17.186473846435547,18.861555099487305,13.474040031433105,17.971405029296875,14.068757057189941,12.543909072875977,17.35999298095703,19.633302688598633,19.54315185546875,19.36366081237793,19.410858154296875,19.244985580444336,17.50963020324707,19.067602157592773,19.880136489868164,19.432218551635742,13.973817825317383,18.471555709838867,17.09246063232422,18.77049446105957,18.250930786132812,16.472211837768555,16.990097045898438,16.3762264251709,16.799869537353516,19.23881721496582,19.513694763183594,19.803625106811523,19.927656173706055,17.966047286987305,18.57139778137207,17.381982803344727,17.34034538269043,16.852365493774414,18.451635360717773,18.587278366088867,17.700281143188477,18.174938201904297,18.637691497802734,14.043128967285156,17.55527687072754,18.3385009765625,14.081803321838379,18.272998809814453,19.828977584838867,19.708341598510742,19.331815719604492,19.621623992919922,19.67315673828125,14.3763427734375,13.430771827697754,19.285310745239258,14.28590202331543,19.260791778564453,19.47115707397461,19.879892349243164,17.301483154296875,17.866230010986328,17.270706176757812,17.30613899230957,17.632503509521484,17.74530029296875,18.453128814697266,18.542055130004883,18.872602462768555,13.922076225280762,18.941062927246094,18.177867889404297,17.367048263549805,16.913742065429688,17.843202590942383,14.228075981140137,14.379846572875977,18.569656372070312,13.435647964477539,16.320598602294922,17.32398796081543,18.766094207763672,19.020389556884766,17.458637237548828,19.435861587524414,13.715343475341797,19.689603805541992,14.62182331085205,16.945310592651367,17.13088035583496,14.061840057373047,17.481348037719727,13.995362281799316,14.103116035461426,13.540091514587402,13.304624557495117,16.209117889404297,14.52460765838623,14.346111297607422,13.99899959564209,13.949350357055664,13.846919059753418,16.546693801879883,14.001993179321289,17.930978775024414,14.085890769958496,17.190006256103516,13.817241668701172,18.432336807250977,13.724235534667969,13.902783393859863,13.905055046081543,13.823121070861816,13.69089412689209,17.566669464111328,12.605134010314941,13.755925178527832,17.435014724731445,14.45998764038086,13.696066856384277,13.279414176940918,13.933486938476562,13.891525268554688,17.686800003051758,14.106374740600586,17.733631134033203,19.602516174316406,14.151671409606934,19.496870040893555,14.248101234436035,13.779534339904785,18.468950271606445,19.446918487548828,17.176639556884766,18.604761123657227,19.405092239379883,19.432247161865234,18.77212905883789,18.809711456298828,19.890384674072266,12.979453086853027,13.474535942077637,16.988849639892578,19.315982818603516,14.088541030883789,16.366132736206055,16.999155044555664,17.624189376831055,19.526689529418945,13.91234302520752,16.533832550048828,13.987072944641113,16.954936981201172,14.270832061767578,14.213996887207031,13.490537643432617,19.58490562438965,17.3555850982666,14.241469383239746,14.052017211914062,17.57600975036621,16.86888885498047,19.6860408782959,17.1944522857666,17.026891708374023,18.183185577392578,19.870019912719727,12.857294082641602,13.848915100097656,17.81718635559082,19.653961181640625,19.856739044189453,12.883503913879395,17.4140567779541,13.911050796508789,17.917497634887695,17.49994659423828,17.432727813720703,16.755046844482422,16.98835563659668,13.679412841796875,17.913938522338867,18.321884155273438,17.279687881469727,19.60313606262207,13.694391250610352,14.095078468322754,16.998315811157227,17.68303680419922,17.398616790771484,18.457555770874023,14.649493217468262,19.044633865356445,13.01741886138916,18.36590003967285,17.632673263549805,18.218889236450195,17.380390167236328,19.26634407043457,19.675615310668945,19.278974533081055,12.822061538696289,19.01703453063965,17.9172420501709,17.706161499023438,13.295947074890137,14.121051788330078,13.8020658493042,12.61963939666748,12.157681465148926,12.12402629852295,12.10273265838623,12.136249542236328,12.077713012695312,17.04361915588379,17.218488693237305,13.944705963134766,13.734997749328613,12.016427040100098,12.220877647399902,12.004636764526367,12.006243705749512,12.077265739440918,13.840089797973633,17.54726219177246,16.8717041015625,17.065109252929688,19.084823608398438,17.93585205078125,17.9447078704834,13.56391716003418,17.869625091552734,13.959729194641113,18.51470947265625,16.375690460205078,18.649593353271484,13.110227584838867,13.076788902282715,16.58336639404297,13.354769706726074,17.52279281616211,17.382137298583984,17.222579956054688,17.193220138549805,12.72329330444336,16.788543701171875,16.30579376220703,13.466358184814453,17.1634521484375,16.662792205810547,17.49489402770996,17.44931411743164,17.812597274780273,17.434083938598633,19.900161743164062,13.787398338317871,19.409982681274414,18.488168716430664,13.015726089477539,18.977794647216797,13.638972282409668,14.498372077941895,19.939342498779297,17.520124435424805,16.559289932250977,17.460525512695312,19.378524780273438,16.501283645629883,13.811272621154785,16.503101348876953,19.160863876342773,18.809057235717773,13.51755428314209,18.541540145874023,18.002784729003906,19.222213745117188,18.06496810913086,18.554121017456055,16.999746322631836,16.9740047454834,18.941253662109375,17.952463150024414,18.317203521728516,19.606874465942383,13.677651405334473,19.163782119750977,12.760729789733887,19.486602783203125,13.588150978088379,16.87916374206543,17.258663177490234,18.34548568725586,19.399429321289062,17.396692276000977,17.367467880249023,14.099078178405762,19.752164840698242,19.15208625793457,19.614320755004883,19.401384353637695,17.31462860107422,19.369661331176758,19.917709350585938,17.498929977416992,19.312732696533203,19.05154800415039,18.615171432495117,13.483741760253906,19.230375289916992,19.204252243041992,18.72341537475586,13.780830383300781,18.395641326904297,18.338520050048828,16.322429656982422,19.495525360107422,19.15885353088379,18.69603157043457,13.726459503173828,17.54717254638672,19.852399826049805,17.796968460083008,18.406112670898438,18.153867721557617,18.304227828979492,17.011030197143555,19.316654205322266,18.23065757751465,13.062167167663574,17.2528018951416,19.320554733276367,19.128089904785156,17.257871627807617,18.401826858520508,19.49957275390625,19.631460189819336,18.388620376586914,19.635051727294922,18.731616973876953,12.768226623535156,19.826831817626953,19.757713317871094,17.29353904724121,17.28958511352539,17.45188331604004,17.35171890258789,12.716011047363281,12.78724479675293,18.056671142578125,16.759172439575195,19.315202713012695,17.028249740600586,18.248794555664062,19.787382125854492,17.461387634277344,13.73965835571289,18.48567008972168,19.416648864746094,12.606297492980957,18.511280059814453,18.548002243041992,18.565217971801758,18.36083984375,17.28748321533203,17.362586975097656,18.48746681213379,17.322328567504883,17.32896614074707,17.219877243041992,17.267799377441406,17.409374237060547,17.263898849487305,18.823104858398438,13.739303588867188,17.540491104125977,12.580290794372559,13.75528621673584,13.826619148254395,12.964839935302734,19.394550323486328,17.740867614746094,14.03464412689209,17.3566837310791,19.586349487304688,17.23893928527832,17.22957420349121,17.22555923461914,17.12360382080078,17.25292205810547,13.653769493103027,17.03215789794922,18.272445678710938,19.627023696899414,13.782416343688965],\"type\":\"scatter3d\"}],                        {\"template\":{\"data\":{\"histogram2dcontour\":[{\"type\":\"histogram2dcontour\",\"colorbar\":{\"outlinewidth\":0,\"ticks\":\"\"},\"colorscale\":[[0.0,\"#0d0887\"],[0.1111111111111111,\"#46039f\"],[0.2222222222222222,\"#7201a8\"],[0.3333333333333333,\"#9c179e\"],[0.4444444444444444,\"#bd3786\"],[0.5555555555555556,\"#d8576b\"],[0.6666666666666666,\"#ed7953\"],[0.7777777777777778,\"#fb9f3a\"],[0.8888888888888888,\"#fdca26\"],[1.0,\"#f0f921\"]]}],\"choropleth\":[{\"type\":\"choropleth\",\"colorbar\":{\"outlinewidth\":0,\"ticks\":\"\"}}],\"histogram2d\":[{\"type\":\"histogram2d\",\"colorbar\":{\"outlinewidth\":0,\"ticks\":\"\"},\"colorscale\":[[0.0,\"#0d0887\"],[0.1111111111111111,\"#46039f\"],[0.2222222222222222,\"#7201a8\"],[0.3333333333333333,\"#9c179e\"],[0.4444444444444444,\"#bd3786\"],[0.5555555555555556,\"#d8576b\"],[0.6666666666666666,\"#ed7953\"],[0.7777777777777778,\"#fb9f3a\"],[0.8888888888888888,\"#fdca26\"],[1.0,\"#f0f921\"]]}],\"heatmap\":[{\"type\":\"heatmap\",\"colorbar\":{\"outlinewidth\":0,\"ticks\":\"\"},\"colorscale\":[[0.0,\"#0d0887\"],[0.1111111111111111,\"#46039f\"],[0.2222222222222222,\"#7201a8\"],[0.3333333333333333,\"#9c179e\"],[0.4444444444444444,\"#bd3786\"],[0.5555555555555556,\"#d8576b\"],[0.6666666666666666,\"#ed7953\"],[0.7777777777777778,\"#fb9f3a\"],[0.8888888888888888,\"#fdca26\"],[1.0,\"#f0f921\"]]}],\"heatmapgl\":[{\"type\":\"heatmapgl\",\"colorbar\":{\"outlinewidth\":0,\"ticks\":\"\"},\"colorscale\":[[0.0,\"#0d0887\"],[0.1111111111111111,\"#46039f\"],[0.2222222222222222,\"#7201a8\"],[0.3333333333333333,\"#9c179e\"],[0.4444444444444444,\"#bd3786\"],[0.5555555555555556,\"#d8576b\"],[0.6666666666666666,\"#ed7953\"],[0.7777777777777778,\"#fb9f3a\"],[0.8888888888888888,\"#fdca26\"],[1.0,\"#f0f921\"]]}],\"contourcarpet\":[{\"type\":\"contourcarpet\",\"colorbar\":{\"outlinewidth\":0,\"ticks\":\"\"}}],\"contour\":[{\"type\":\"contour\",\"colorbar\":{\"outlinewidth\":0,\"ticks\":\"\"},\"colorscale\":[[0.0,\"#0d0887\"],[0.1111111111111111,\"#46039f\"],[0.2222222222222222,\"#7201a8\"],[0.3333333333333333,\"#9c179e\"],[0.4444444444444444,\"#bd3786\"],[0.5555555555555556,\"#d8576b\"],[0.6666666666666666,\"#ed7953\"],[0.7777777777777778,\"#fb9f3a\"],[0.8888888888888888,\"#fdca26\"],[1.0,\"#f0f921\"]]}],\"surface\":[{\"type\":\"surface\",\"colorbar\":{\"outlinewidth\":0,\"ticks\":\"\"},\"colorscale\":[[0.0,\"#0d0887\"],[0.1111111111111111,\"#46039f\"],[0.2222222222222222,\"#7201a8\"],[0.3333333333333333,\"#9c179e\"],[0.4444444444444444,\"#bd3786\"],[0.5555555555555556,\"#d8576b\"],[0.6666666666666666,\"#ed7953\"],[0.7777777777777778,\"#fb9f3a\"],[0.8888888888888888,\"#fdca26\"],[1.0,\"#f0f921\"]]}],\"mesh3d\":[{\"type\":\"mesh3d\",\"colorbar\":{\"outlinewidth\":0,\"ticks\":\"\"}}],\"scatter\":[{\"fillpattern\":{\"fillmode\":\"overlay\",\"size\":10,\"solidity\":0.2},\"type\":\"scatter\"}],\"parcoords\":[{\"type\":\"parcoords\",\"line\":{\"colorbar\":{\"outlinewidth\":0,\"ticks\":\"\"}}}],\"scatterpolargl\":[{\"type\":\"scatterpolargl\",\"marker\":{\"colorbar\":{\"outlinewidth\":0,\"ticks\":\"\"}}}],\"bar\":[{\"error_x\":{\"color\":\"#2a3f5f\"},\"error_y\":{\"color\":\"#2a3f5f\"},\"marker\":{\"line\":{\"color\":\"#E5ECF6\",\"width\":0.5},\"pattern\":{\"fillmode\":\"overlay\",\"size\":10,\"solidity\":0.2}},\"type\":\"bar\"}],\"scattergeo\":[{\"type\":\"scattergeo\",\"marker\":{\"colorbar\":{\"outlinewidth\":0,\"ticks\":\"\"}}}],\"scatterpolar\":[{\"type\":\"scatterpolar\",\"marker\":{\"colorbar\":{\"outlinewidth\":0,\"ticks\":\"\"}}}],\"histogram\":[{\"marker\":{\"pattern\":{\"fillmode\":\"overlay\",\"size\":10,\"solidity\":0.2}},\"type\":\"histogram\"}],\"scattergl\":[{\"type\":\"scattergl\",\"marker\":{\"colorbar\":{\"outlinewidth\":0,\"ticks\":\"\"}}}],\"scatter3d\":[{\"type\":\"scatter3d\",\"line\":{\"colorbar\":{\"outlinewidth\":0,\"ticks\":\"\"}},\"marker\":{\"colorbar\":{\"outlinewidth\":0,\"ticks\":\"\"}}}],\"scattermapbox\":[{\"type\":\"scattermapbox\",\"marker\":{\"colorbar\":{\"outlinewidth\":0,\"ticks\":\"\"}}}],\"scatterternary\":[{\"type\":\"scatterternary\",\"marker\":{\"colorbar\":{\"outlinewidth\":0,\"ticks\":\"\"}}}],\"scattercarpet\":[{\"type\":\"scattercarpet\",\"marker\":{\"colorbar\":{\"outlinewidth\":0,\"ticks\":\"\"}}}],\"carpet\":[{\"aaxis\":{\"endlinecolor\":\"#2a3f5f\",\"gridcolor\":\"white\",\"linecolor\":\"white\",\"minorgridcolor\":\"white\",\"startlinecolor\":\"#2a3f5f\"},\"baxis\":{\"endlinecolor\":\"#2a3f5f\",\"gridcolor\":\"white\",\"linecolor\":\"white\",\"minorgridcolor\":\"white\",\"startlinecolor\":\"#2a3f5f\"},\"type\":\"carpet\"}],\"table\":[{\"cells\":{\"fill\":{\"color\":\"#EBF0F8\"},\"line\":{\"color\":\"white\"}},\"header\":{\"fill\":{\"color\":\"#C8D4E3\"},\"line\":{\"color\":\"white\"}},\"type\":\"table\"}],\"barpolar\":[{\"marker\":{\"line\":{\"color\":\"#E5ECF6\",\"width\":0.5},\"pattern\":{\"fillmode\":\"overlay\",\"size\":10,\"solidity\":0.2}},\"type\":\"barpolar\"}],\"pie\":[{\"automargin\":true,\"type\":\"pie\"}]},\"layout\":{\"autotypenumbers\":\"strict\",\"colorway\":[\"#636efa\",\"#EF553B\",\"#00cc96\",\"#ab63fa\",\"#FFA15A\",\"#19d3f3\",\"#FF6692\",\"#B6E880\",\"#FF97FF\",\"#FECB52\"],\"font\":{\"color\":\"#2a3f5f\"},\"hovermode\":\"closest\",\"hoverlabel\":{\"align\":\"left\"},\"paper_bgcolor\":\"white\",\"plot_bgcolor\":\"#E5ECF6\",\"polar\":{\"bgcolor\":\"#E5ECF6\",\"angularaxis\":{\"gridcolor\":\"white\",\"linecolor\":\"white\",\"ticks\":\"\"},\"radialaxis\":{\"gridcolor\":\"white\",\"linecolor\":\"white\",\"ticks\":\"\"}},\"ternary\":{\"bgcolor\":\"#E5ECF6\",\"aaxis\":{\"gridcolor\":\"white\",\"linecolor\":\"white\",\"ticks\":\"\"},\"baxis\":{\"gridcolor\":\"white\",\"linecolor\":\"white\",\"ticks\":\"\"},\"caxis\":{\"gridcolor\":\"white\",\"linecolor\":\"white\",\"ticks\":\"\"}},\"coloraxis\":{\"colorbar\":{\"outlinewidth\":0,\"ticks\":\"\"}},\"colorscale\":{\"sequential\":[[0.0,\"#0d0887\"],[0.1111111111111111,\"#46039f\"],[0.2222222222222222,\"#7201a8\"],[0.3333333333333333,\"#9c179e\"],[0.4444444444444444,\"#bd3786\"],[0.5555555555555556,\"#d8576b\"],[0.6666666666666666,\"#ed7953\"],[0.7777777777777778,\"#fb9f3a\"],[0.8888888888888888,\"#fdca26\"],[1.0,\"#f0f921\"]],\"sequentialminus\":[[0.0,\"#0d0887\"],[0.1111111111111111,\"#46039f\"],[0.2222222222222222,\"#7201a8\"],[0.3333333333333333,\"#9c179e\"],[0.4444444444444444,\"#bd3786\"],[0.5555555555555556,\"#d8576b\"],[0.6666666666666666,\"#ed7953\"],[0.7777777777777778,\"#fb9f3a\"],[0.8888888888888888,\"#fdca26\"],[1.0,\"#f0f921\"]],\"diverging\":[[0,\"#8e0152\"],[0.1,\"#c51b7d\"],[0.2,\"#de77ae\"],[0.3,\"#f1b6da\"],[0.4,\"#fde0ef\"],[0.5,\"#f7f7f7\"],[0.6,\"#e6f5d0\"],[0.7,\"#b8e186\"],[0.8,\"#7fbc41\"],[0.9,\"#4d9221\"],[1,\"#276419\"]]},\"xaxis\":{\"gridcolor\":\"white\",\"linecolor\":\"white\",\"ticks\":\"\",\"title\":{\"standoff\":15},\"zerolinecolor\":\"white\",\"automargin\":true,\"zerolinewidth\":2},\"yaxis\":{\"gridcolor\":\"white\",\"linecolor\":\"white\",\"ticks\":\"\",\"title\":{\"standoff\":15},\"zerolinecolor\":\"white\",\"automargin\":true,\"zerolinewidth\":2},\"scene\":{\"xaxis\":{\"backgroundcolor\":\"#E5ECF6\",\"gridcolor\":\"white\",\"linecolor\":\"white\",\"showbackground\":true,\"ticks\":\"\",\"zerolinecolor\":\"white\",\"gridwidth\":2},\"yaxis\":{\"backgroundcolor\":\"#E5ECF6\",\"gridcolor\":\"white\",\"linecolor\":\"white\",\"showbackground\":true,\"ticks\":\"\",\"zerolinecolor\":\"white\",\"gridwidth\":2},\"zaxis\":{\"backgroundcolor\":\"#E5ECF6\",\"gridcolor\":\"white\",\"linecolor\":\"white\",\"showbackground\":true,\"ticks\":\"\",\"zerolinecolor\":\"white\",\"gridwidth\":2}},\"shapedefaults\":{\"line\":{\"color\":\"#2a3f5f\"}},\"annotationdefaults\":{\"arrowcolor\":\"#2a3f5f\",\"arrowhead\":0,\"arrowwidth\":1},\"geo\":{\"bgcolor\":\"white\",\"landcolor\":\"#E5ECF6\",\"subunitcolor\":\"white\",\"showland\":true,\"showlakes\":true,\"lakecolor\":\"white\"},\"title\":{\"x\":0.05},\"mapbox\":{\"style\":\"light\"}}},\"scene\":{\"domain\":{\"x\":[0.0,1.0],\"y\":[0.0,1.0]},\"xaxis\":{\"title\":{\"text\":\"X\"}},\"yaxis\":{\"title\":{\"text\":\"Y\"}},\"zaxis\":{\"title\":{\"text\":\"Z\"}}},\"legend\":{\"tracegroupgap\":0},\"title\":{\"text\":\"UMAP Visualization\"}},                        {\"responsive\": true}                    ).then(function(){\n",
       "                            \n",
       "var gd = document.getElementById('a6862733-50f2-43e5-a22e-b65845b73dec');\n",
       "var x = new MutationObserver(function (mutations, observer) {{\n",
       "        var display = window.getComputedStyle(gd).display;\n",
       "        if (!display || display === 'none') {{\n",
       "            console.log([gd, 'removed!']);\n",
       "            Plotly.purge(gd);\n",
       "            observer.disconnect();\n",
       "        }}\n",
       "}});\n",
       "\n",
       "// Listen for the removal of the full notebook cells\n",
       "var notebookContainer = gd.closest('#notebook-container');\n",
       "if (notebookContainer) {{\n",
       "    x.observe(notebookContainer, {childList: true});\n",
       "}}\n",
       "\n",
       "// Listen for the clearing of the current output cell\n",
       "var outputEl = gd.closest('.output');\n",
       "if (outputEl) {{\n",
       "    x.observe(outputEl, {childList: true});\n",
       "}}\n",
       "\n",
       "                        })                };                });            </script>        </div>"
      ]
     },
     "metadata": {},
     "output_type": "display_data"
    }
   ],
   "execution_count": 182
  },
  {
   "cell_type": "code",
   "metadata": {
    "ExecuteTime": {
     "end_time": "2024-09-18T14:31:33.666044Z",
     "start_time": "2024-09-18T14:31:32.921023Z"
    }
   },
   "source": [
    "# 选择拐点最大的位置，一般年份越早聚类数量越少\n",
    "from sklearn.cluster import KMeans  \n",
    "import matplotlib.pyplot as plt  \n",
    "\n",
    "# 计算不同k值对应的SSE  \n",
    "SSE = []  \n",
    "for k in range(1, 20):  \n",
    "    kmeans = KMeans(n_clusters=k)  \n",
    "    kmeans.fit(umap_embeddings)  \n",
    "    SSE.append(kmeans.inertia_)  \n",
    "\n",
    "# 绘制手肘法曲线  \n",
    "plt.figure(figsize=(8, 4))  \n",
    "plt.plot(range(1, 20), SSE, 'o-') \n",
    "plt.xlabel(\"Number of Clusters\")  \n",
    "plt.ylabel(\"SSE\")  \n",
    "plt.title(\"Elbow Method For Optimal k\")  \n",
    "plt.show()"
   ],
   "outputs": [
    {
     "name": "stderr",
     "output_type": "stream",
     "text": [
      "C:\\Users\\RIC_ZX\\anaconda3\\envs\\pytorch\\lib\\site-packages\\sklearn\\cluster\\_kmeans.py:1440: UserWarning:\n",
      "\n",
      "KMeans is known to have a memory leak on Windows with MKL, when there are less chunks than available threads. You can avoid it by setting the environment variable OMP_NUM_THREADS=2.\n",
      "\n",
      "C:\\Users\\RIC_ZX\\anaconda3\\envs\\pytorch\\lib\\site-packages\\sklearn\\cluster\\_kmeans.py:1440: UserWarning:\n",
      "\n",
      "KMeans is known to have a memory leak on Windows with MKL, when there are less chunks than available threads. You can avoid it by setting the environment variable OMP_NUM_THREADS=2.\n",
      "\n",
      "C:\\Users\\RIC_ZX\\anaconda3\\envs\\pytorch\\lib\\site-packages\\sklearn\\cluster\\_kmeans.py:1440: UserWarning:\n",
      "\n",
      "KMeans is known to have a memory leak on Windows with MKL, when there are less chunks than available threads. You can avoid it by setting the environment variable OMP_NUM_THREADS=2.\n",
      "\n",
      "C:\\Users\\RIC_ZX\\anaconda3\\envs\\pytorch\\lib\\site-packages\\sklearn\\cluster\\_kmeans.py:1440: UserWarning:\n",
      "\n",
      "KMeans is known to have a memory leak on Windows with MKL, when there are less chunks than available threads. You can avoid it by setting the environment variable OMP_NUM_THREADS=2.\n",
      "\n",
      "C:\\Users\\RIC_ZX\\anaconda3\\envs\\pytorch\\lib\\site-packages\\sklearn\\cluster\\_kmeans.py:1440: UserWarning:\n",
      "\n",
      "KMeans is known to have a memory leak on Windows with MKL, when there are less chunks than available threads. You can avoid it by setting the environment variable OMP_NUM_THREADS=2.\n",
      "\n",
      "C:\\Users\\RIC_ZX\\anaconda3\\envs\\pytorch\\lib\\site-packages\\sklearn\\cluster\\_kmeans.py:1440: UserWarning:\n",
      "\n",
      "KMeans is known to have a memory leak on Windows with MKL, when there are less chunks than available threads. You can avoid it by setting the environment variable OMP_NUM_THREADS=2.\n",
      "\n",
      "C:\\Users\\RIC_ZX\\anaconda3\\envs\\pytorch\\lib\\site-packages\\sklearn\\cluster\\_kmeans.py:1440: UserWarning:\n",
      "\n",
      "KMeans is known to have a memory leak on Windows with MKL, when there are less chunks than available threads. You can avoid it by setting the environment variable OMP_NUM_THREADS=2.\n",
      "\n",
      "C:\\Users\\RIC_ZX\\anaconda3\\envs\\pytorch\\lib\\site-packages\\sklearn\\cluster\\_kmeans.py:1440: UserWarning:\n",
      "\n",
      "KMeans is known to have a memory leak on Windows with MKL, when there are less chunks than available threads. You can avoid it by setting the environment variable OMP_NUM_THREADS=2.\n",
      "\n",
      "C:\\Users\\RIC_ZX\\anaconda3\\envs\\pytorch\\lib\\site-packages\\sklearn\\cluster\\_kmeans.py:1440: UserWarning:\n",
      "\n",
      "KMeans is known to have a memory leak on Windows with MKL, when there are less chunks than available threads. You can avoid it by setting the environment variable OMP_NUM_THREADS=2.\n",
      "\n"
     ]
    },
    {
     "data": {
      "text/plain": [
       "<Figure size 2400x1200 with 1 Axes>"
      ],
      "image/png": "[encoded data removed]"
     },
     "metadata": {},
     "output_type": "display_data"
    }
   ],
   "execution_count": 183
  },
  {
   "cell_type": "code",
   "metadata": {
    "collapsed": false,
    "jupyter": {
     "outputs_hidden": false
    },
    "ExecuteTime": {
     "end_time": "2024-09-18T14:51:09.433169Z",
     "start_time": "2024-09-18T14:51:09.372956Z"
    }
   },
   "source": [
    "from sklearn.cluster import KMeans\n",
    "\n",
    "# KMeans \n",
    "cluster_num = 4\n",
    "cluster = KMeans(n_clusters=cluster_num, random_state=0).fit(umap_embeddings)\n",
    "labels = cluster.labels_\n",
    "\n",
    "df['cluster'] = labels"
   ],
   "outputs": [
    {
     "name": "stderr",
     "output_type": "stream",
     "text": [
      "C:\\Users\\RIC_ZX\\anaconda3\\envs\\pytorch\\lib\\site-packages\\sklearn\\cluster\\_kmeans.py:1440: UserWarning:\n",
      "\n",
      "KMeans is known to have a memory leak on Windows with MKL, when there are less chunks than available threads. You can avoid it by setting the environment variable OMP_NUM_THREADS=2.\n",
      "\n"
     ]
    }
   ],
   "execution_count": 184
  },
  {
   "metadata": {},
   "cell_type": "code",
   "outputs": [],
   "execution_count": null,
   "source": ""
  },
  {
   "cell_type": "code",
   "metadata": {
    "ExecuteTime": {
     "end_time": "2024-09-18T14:51:10.241607Z",
     "start_time": "2024-09-18T14:51:10.220410Z"
    }
   },
   "source": [
    "df1['cluster'] = cluster.labels_\n",
    "df1.head()"
   ],
   "outputs": [
    {
     "name": "stderr",
     "output_type": "stream",
     "text": [
      "C:\\Users\\RIC_ZX\\AppData\\Local\\Temp\\ipykernel_78352\\351172856.py:2: SettingWithCopyWarning:\n",
      "\n",
      "\n",
      "A value is trying to be set on a copy of a slice from a DataFrame.\n",
      "Try using .loc[row_indexer,col_indexer] = value instead\n",
      "\n",
      "See the caveats in the documentation: https://pandas.pydata.org/pandas-docs/stable/user_guide/indexing.html#returning-a-view-versus-a-copy\n",
      "\n"
     ]
    },
    {
     "data": {
      "text/plain": [
       "                                              摘要(全英)  cluster\n",
       "0  Veterinary liquid dressing compositions for tr...        1\n",
       "1  The present invention relates to mixed jojoba,...        1\n",
       "2  The subject of the invention is the production...        0\n",
       "3  The petition concerns a method for fertilizing...        0\n",
       "5  The subject of the invention relates to the pr...        0"
      ],
      "text/html": [
       "<div>\n",
       "<style scoped>\n",
       "    .dataframe tbody tr th:only-of-type {\n",
       "        vertical-align: middle;\n",
       "    }\n",
       "\n",
       "    .dataframe tbody tr th {\n",
       "        vertical-align: top;\n",
       "    }\n",
       "\n",
       "    .dataframe thead th {\n",
       "        text-align: right;\n",
       "    }\n",
       "</style>\n",
       "<table border=\"1\" class=\"dataframe\">\n",
       "  <thead>\n",
       "    <tr style=\"text-align: right;\">\n",
       "      <th></th>\n",
       "      <th>摘要(全英)</th>\n",
       "      <th>cluster</th>\n",
       "    </tr>\n",
       "  </thead>\n",
       "  <tbody>\n",
       "    <tr>\n",
       "      <th>0</th>\n",
       "      <td>Veterinary liquid dressing compositions for tr...</td>\n",
       "      <td>1</td>\n",
       "    </tr>\n",
       "    <tr>\n",
       "      <th>1</th>\n",
       "      <td>The present invention relates to mixed jojoba,...</td>\n",
       "      <td>1</td>\n",
       "    </tr>\n",
       "    <tr>\n",
       "      <th>2</th>\n",
       "      <td>The subject of the invention is the production...</td>\n",
       "      <td>0</td>\n",
       "    </tr>\n",
       "    <tr>\n",
       "      <th>3</th>\n",
       "      <td>The petition concerns a method for fertilizing...</td>\n",
       "      <td>0</td>\n",
       "    </tr>\n",
       "    <tr>\n",
       "      <th>5</th>\n",
       "      <td>The subject of the invention relates to the pr...</td>\n",
       "      <td>0</td>\n",
       "    </tr>\n",
       "  </tbody>\n",
       "</table>\n",
       "</div>"
      ]
     },
     "execution_count": 185,
     "metadata": {},
     "output_type": "execute_result"
    }
   ],
   "execution_count": 185
  },
  {
   "cell_type": "code",
   "metadata": {
    "ExecuteTime": {
     "end_time": "2024-09-18T14:51:10.866159Z",
     "start_time": "2024-09-18T14:51:10.852871Z"
    }
   },
   "source": "df1['cluster'].value_counts()",
   "outputs": [
    {
     "data": {
      "text/plain": [
       "cluster\n",
       "2    132\n",
       "0    120\n",
       "1    108\n",
       "3     56\n",
       "Name: count, dtype: int64"
      ]
     },
     "execution_count": 186,
     "metadata": {},
     "output_type": "execute_result"
    }
   ],
   "execution_count": 186
  },
  {
   "cell_type": "code",
   "metadata": {
    "collapsed": false,
    "jupyter": {
     "outputs_hidden": false
    },
    "ExecuteTime": {
     "end_time": "2024-09-18T14:51:11.226654Z",
     "start_time": "2024-09-18T14:51:11.170704Z"
    }
   },
   "source": "df1.to_excel(f'cluster_{years}.xlsx',index=False)",
   "outputs": [],
   "execution_count": 187
  },
  {
   "cell_type": "code",
   "metadata": {
    "collapsed": false,
    "jupyter": {
     "outputs_hidden": false
    },
    "ExecuteTime": {
     "end_time": "2024-09-18T14:51:11.538040Z",
     "start_time": "2024-09-18T14:51:11.519350Z"
    }
   },
   "source": [
    "df2 = df1\n",
    "df2"
   ],
   "outputs": [
    {
     "data": {
      "text/plain": [
       "                                                摘要(全英)  cluster\n",
       "0    Veterinary liquid dressing compositions for tr...        1\n",
       "1    The present invention relates to mixed jojoba,...        1\n",
       "2    The subject of the invention is the production...        0\n",
       "3    The petition concerns a method for fertilizing...        0\n",
       "5    The subject of the invention relates to the pr...        0\n",
       "..                                                 ...      ...\n",
       "515  The present invention relates to a nanomateria...        0\n",
       "519  The present invention relates to a pesticide n...        3\n",
       "520  The present invention discloses a nano PCR det...        1\n",
       "521           ting precipitation, and drying. The pres        2\n",
       "522  The present invention relates to a novel nano-...        0\n",
       "\n",
       "[416 rows x 2 columns]"
      ],
      "text/html": [
       "<div>\n",
       "<style scoped>\n",
       "    .dataframe tbody tr th:only-of-type {\n",
       "        vertical-align: middle;\n",
       "    }\n",
       "\n",
       "    .dataframe tbody tr th {\n",
       "        vertical-align: top;\n",
       "    }\n",
       "\n",
       "    .dataframe thead th {\n",
       "        text-align: right;\n",
       "    }\n",
       "</style>\n",
       "<table border=\"1\" class=\"dataframe\">\n",
       "  <thead>\n",
       "    <tr style=\"text-align: right;\">\n",
       "      <th></th>\n",
       "      <th>摘要(全英)</th>\n",
       "      <th>cluster</th>\n",
       "    </tr>\n",
       "  </thead>\n",
       "  <tbody>\n",
       "    <tr>\n",
       "      <th>0</th>\n",
       "      <td>Veterinary liquid dressing compositions for tr...</td>\n",
       "      <td>1</td>\n",
       "    </tr>\n",
       "    <tr>\n",
       "      <th>1</th>\n",
       "      <td>The present invention relates to mixed jojoba,...</td>\n",
       "      <td>1</td>\n",
       "    </tr>\n",
       "    <tr>\n",
       "      <th>2</th>\n",
       "      <td>The subject of the invention is the production...</td>\n",
       "      <td>0</td>\n",
       "    </tr>\n",
       "    <tr>\n",
       "      <th>3</th>\n",
       "      <td>The petition concerns a method for fertilizing...</td>\n",
       "      <td>0</td>\n",
       "    </tr>\n",
       "    <tr>\n",
       "      <th>5</th>\n",
       "      <td>The subject of the invention relates to the pr...</td>\n",
       "      <td>0</td>\n",
       "    </tr>\n",
       "    <tr>\n",
       "      <th>...</th>\n",
       "      <td>...</td>\n",
       "      <td>...</td>\n",
       "    </tr>\n",
       "    <tr>\n",
       "      <th>515</th>\n",
       "      <td>The present invention relates to a nanomateria...</td>\n",
       "      <td>0</td>\n",
       "    </tr>\n",
       "    <tr>\n",
       "      <th>519</th>\n",
       "      <td>The present invention relates to a pesticide n...</td>\n",
       "      <td>3</td>\n",
       "    </tr>\n",
       "    <tr>\n",
       "      <th>520</th>\n",
       "      <td>The present invention discloses a nano PCR det...</td>\n",
       "      <td>1</td>\n",
       "    </tr>\n",
       "    <tr>\n",
       "      <th>521</th>\n",
       "      <td>ting precipitation, and drying. The pres</td>\n",
       "      <td>2</td>\n",
       "    </tr>\n",
       "    <tr>\n",
       "      <th>522</th>\n",
       "      <td>The present invention relates to a novel nano-...</td>\n",
       "      <td>0</td>\n",
       "    </tr>\n",
       "  </tbody>\n",
       "</table>\n",
       "<p>416 rows × 2 columns</p>\n",
       "</div>"
      ]
     },
     "execution_count": 188,
     "metadata": {},
     "output_type": "execute_result"
    }
   ],
   "execution_count": 188
  },
  {
   "cell_type": "code",
   "metadata": {
    "collapsed": false,
    "jupyter": {
     "outputs_hidden": false
    },
    "ExecuteTime": {
     "end_time": "2024-09-18T14:51:19.965493Z",
     "start_time": "2024-09-18T14:51:12.566393Z"
    }
   },
   "source": [
    "import re\n",
    "from nltk.corpus import stopwords\n",
    "\n",
    "# Define a function to filter text\n",
    "def filter_text(text):    \n",
    "    # Remove parentheses and their contents\n",
    "    text = re.sub(r'\\([^)]*\\)', '', text)\n",
    "    # Remove all symbols and numbers\n",
    "    pattern = re.compile(r'[^a-zA-Z\\s]')\n",
    "    text = pattern.sub(' ', text)\n",
    "    # Tokenize the text into words\n",
    "    words = text.split()\n",
    "    # Filter out stopwords, punctuation, pronouns, exclamations, conjunctions, and prepositions\n",
    "    filtered_words = [word for word in words if word not in stopwords.words('english')]\n",
    "\n",
    "    # Join the filtered words back into a single string and return\n",
    "    return ' '.join(filtered_words)\n",
    "\n",
    "# Apply the filter_text function to the '摘要 (en)' column\n",
    "df2['摘要 (en)'] = df2['摘要 (en)'].astype(str)\n",
    "df2['摘要 (en)'] = [filter_text(item) for item in df2['摘要 (en)']]"
   ],
   "outputs": [
    {
     "name": "stderr",
     "output_type": "stream",
     "text": [
      "C:\\Users\\RIC_ZX\\AppData\\Local\\Temp\\ipykernel_78352\\3795899985.py:24: SettingWithCopyWarning:\n",
      "\n",
      "\n",
      "A value is trying to be set on a copy of a slice from a DataFrame.\n",
      "Try using .loc[row_indexer,col_indexer] = value instead\n",
      "\n",
      "See the caveats in the documentation: https://pandas.pydata.org/pandas-docs/stable/user_guide/indexing.html#returning-a-view-versus-a-copy\n",
      "\n",
      "C:\\Users\\RIC_ZX\\AppData\\Local\\Temp\\ipykernel_78352\\3795899985.py:25: SettingWithCopyWarning:\n",
      "\n",
      "\n",
      "A value is trying to be set on a copy of a slice from a DataFrame.\n",
      "Try using .loc[row_indexer,col_indexer] = value instead\n",
      "\n",
      "See the caveats in the documentation: https://pandas.pydata.org/pandas-docs/stable/user_guide/indexing.html#returning-a-view-versus-a-copy\n",
      "\n"
     ]
    }
   ],
   "execution_count": 189
  },
  {
   "cell_type": "code",
   "metadata": {
    "ExecuteTime": {
     "end_time": "2024-09-18T14:51:19.981036Z",
     "start_time": "2024-09-18T14:51:19.968008Z"
    }
   },
   "source": [
    "abstract = df2['摘要 (en)']\n",
    "abstract"
   ],
   "outputs": [
    {
     "data": {
      "text/plain": [
       "0    Veterinary liquid dressing compositions treati...\n",
       "1    The present invention relates mixed jojoba Chi...\n",
       "2    The subject invention production magnetic Vero...\n",
       "3    The petition concerns method fertilizing tomat...\n",
       "5    The subject invention relates production magne...\n",
       "Name: 摘要(全英), dtype: object"
      ]
     },
     "execution_count": 190,
     "metadata": {},
     "output_type": "execute_result"
    }
   ],
   "execution_count": 190
  },
  {
   "cell_type": "code",
   "metadata": {
    "collapsed": false,
    "jupyter": {
     "outputs_hidden": false
    },
    "ExecuteTime": {
     "end_time": "2024-09-18T14:51:20.214769Z",
     "start_time": "2024-09-18T14:51:19.982036Z"
    }
   },
   "source": [
    "import pandas as pd\n",
    "import nltk\n",
    "def seg_depart(sentence):\n",
    "    tokens = nltk.word_tokenize(sentence)\n",
    "    stop_words = set(stopwords.words('english'))\n",
    "    outstr = ''\n",
    "    for word in tokens:\n",
    "        if word.lower() not in stop_words:\n",
    "            outstr += word\n",
    "            outstr += \" \"\n",
    "    return outstr\n",
    "\n",
    "df3 = df2\n",
    "df3['摘要 (en)'] = df3['摘要 (en)'].apply(seg_depart)\n",
    "df3"
   ],
   "outputs": [
    {
     "name": "stderr",
     "output_type": "stream",
     "text": [
      "C:\\Users\\RIC_ZX\\AppData\\Local\\Temp\\ipykernel_78352\\1766107715.py:14: SettingWithCopyWarning:\n",
      "\n",
      "\n",
      "A value is trying to be set on a copy of a slice from a DataFrame.\n",
      "Try using .loc[row_indexer,col_indexer] = value instead\n",
      "\n",
      "See the caveats in the documentation: https://pandas.pydata.org/pandas-docs/stable/user_guide/indexing.html#returning-a-view-versus-a-copy\n",
      "\n"
     ]
    },
    {
     "data": {
      "text/plain": [
       "                                                摘要(全英)  cluster\n",
       "0    Veterinary liquid dressing compositions treati...        1\n",
       "1    present invention relates mixed jojoba Chitosa...        1\n",
       "2    subject invention production magnetic Veronano...        0\n",
       "3    petition concerns method fertilizing tomato pl...        0\n",
       "5    subject invention relates production magnetic ...        0\n",
       "..                                                 ...      ...\n",
       "515  present invention relates nanomaterial compris...        0\n",
       "519  present invention relates pesticide nanoemulsi...        3\n",
       "520  present invention discloses nano PCR detection...        1\n",
       "521                    ting precipitation drying pres         2\n",
       "522  present invention relates novel nano iron cata...        0\n",
       "\n",
       "[416 rows x 2 columns]"
      ],
      "text/html": [
       "<div>\n",
       "<style scoped>\n",
       "    .dataframe tbody tr th:only-of-type {\n",
       "        vertical-align: middle;\n",
       "    }\n",
       "\n",
       "    .dataframe tbody tr th {\n",
       "        vertical-align: top;\n",
       "    }\n",
       "\n",
       "    .dataframe thead th {\n",
       "        text-align: right;\n",
       "    }\n",
       "</style>\n",
       "<table border=\"1\" class=\"dataframe\">\n",
       "  <thead>\n",
       "    <tr style=\"text-align: right;\">\n",
       "      <th></th>\n",
       "      <th>摘要(全英)</th>\n",
       "      <th>cluster</th>\n",
       "    </tr>\n",
       "  </thead>\n",
       "  <tbody>\n",
       "    <tr>\n",
       "      <th>0</th>\n",
       "      <td>Veterinary liquid dressing compositions treati...</td>\n",
       "      <td>1</td>\n",
       "    </tr>\n",
       "    <tr>\n",
       "      <th>1</th>\n",
       "      <td>present invention relates mixed jojoba Chitosa...</td>\n",
       "      <td>1</td>\n",
       "    </tr>\n",
       "    <tr>\n",
       "      <th>2</th>\n",
       "      <td>subject invention production magnetic Veronano...</td>\n",
       "      <td>0</td>\n",
       "    </tr>\n",
       "    <tr>\n",
       "      <th>3</th>\n",
       "      <td>petition concerns method fertilizing tomato pl...</td>\n",
       "      <td>0</td>\n",
       "    </tr>\n",
       "    <tr>\n",
       "      <th>5</th>\n",
       "      <td>subject invention relates production magnetic ...</td>\n",
       "      <td>0</td>\n",
       "    </tr>\n",
       "    <tr>\n",
       "      <th>...</th>\n",
       "      <td>...</td>\n",
       "      <td>...</td>\n",
       "    </tr>\n",
       "    <tr>\n",
       "      <th>515</th>\n",
       "      <td>present invention relates nanomaterial compris...</td>\n",
       "      <td>0</td>\n",
       "    </tr>\n",
       "    <tr>\n",
       "      <th>519</th>\n",
       "      <td>present invention relates pesticide nanoemulsi...</td>\n",
       "      <td>3</td>\n",
       "    </tr>\n",
       "    <tr>\n",
       "      <th>520</th>\n",
       "      <td>present invention discloses nano PCR detection...</td>\n",
       "      <td>1</td>\n",
       "    </tr>\n",
       "    <tr>\n",
       "      <th>521</th>\n",
       "      <td>ting precipitation drying pres</td>\n",
       "      <td>2</td>\n",
       "    </tr>\n",
       "    <tr>\n",
       "      <th>522</th>\n",
       "      <td>present invention relates novel nano iron cata...</td>\n",
       "      <td>0</td>\n",
       "    </tr>\n",
       "  </tbody>\n",
       "</table>\n",
       "<p>416 rows × 2 columns</p>\n",
       "</div>"
      ]
     },
     "execution_count": 191,
     "metadata": {},
     "output_type": "execute_result"
    }
   ],
   "execution_count": 191
  },
  {
   "cell_type": "code",
   "metadata": {
    "ExecuteTime": {
     "end_time": "2024-09-18T14:51:20.230200Z",
     "start_time": "2024-09-18T14:51:20.217764Z"
    }
   },
   "source": [
    "df3['cluster'] = cluster.labels_\n",
    "df3.head()"
   ],
   "outputs": [
    {
     "name": "stderr",
     "output_type": "stream",
     "text": [
      "C:\\Users\\RIC_ZX\\AppData\\Local\\Temp\\ipykernel_78352\\638349853.py:2: SettingWithCopyWarning:\n",
      "\n",
      "\n",
      "A value is trying to be set on a copy of a slice from a DataFrame.\n",
      "Try using .loc[row_indexer,col_indexer] = value instead\n",
      "\n",
      "See the caveats in the documentation: https://pandas.pydata.org/pandas-docs/stable/user_guide/indexing.html#returning-a-view-versus-a-copy\n",
      "\n"
     ]
    },
    {
     "data": {
      "text/plain": [
       "                                              摘要(全英)  cluster\n",
       "0  Veterinary liquid dressing compositions treati...        1\n",
       "1  present invention relates mixed jojoba Chitosa...        1\n",
       "2  subject invention production magnetic Veronano...        0\n",
       "3  petition concerns method fertilizing tomato pl...        0\n",
       "5  subject invention relates production magnetic ...        0"
      ],
      "text/html": [
       "<div>\n",
       "<style scoped>\n",
       "    .dataframe tbody tr th:only-of-type {\n",
       "        vertical-align: middle;\n",
       "    }\n",
       "\n",
       "    .dataframe tbody tr th {\n",
       "        vertical-align: top;\n",
       "    }\n",
       "\n",
       "    .dataframe thead th {\n",
       "        text-align: right;\n",
       "    }\n",
       "</style>\n",
       "<table border=\"1\" class=\"dataframe\">\n",
       "  <thead>\n",
       "    <tr style=\"text-align: right;\">\n",
       "      <th></th>\n",
       "      <th>摘要(全英)</th>\n",
       "      <th>cluster</th>\n",
       "    </tr>\n",
       "  </thead>\n",
       "  <tbody>\n",
       "    <tr>\n",
       "      <th>0</th>\n",
       "      <td>Veterinary liquid dressing compositions treati...</td>\n",
       "      <td>1</td>\n",
       "    </tr>\n",
       "    <tr>\n",
       "      <th>1</th>\n",
       "      <td>present invention relates mixed jojoba Chitosa...</td>\n",
       "      <td>1</td>\n",
       "    </tr>\n",
       "    <tr>\n",
       "      <th>2</th>\n",
       "      <td>subject invention production magnetic Veronano...</td>\n",
       "      <td>0</td>\n",
       "    </tr>\n",
       "    <tr>\n",
       "      <th>3</th>\n",
       "      <td>petition concerns method fertilizing tomato pl...</td>\n",
       "      <td>0</td>\n",
       "    </tr>\n",
       "    <tr>\n",
       "      <th>5</th>\n",
       "      <td>subject invention relates production magnetic ...</td>\n",
       "      <td>0</td>\n",
       "    </tr>\n",
       "  </tbody>\n",
       "</table>\n",
       "</div>"
      ]
     },
     "execution_count": 192,
     "metadata": {},
     "output_type": "execute_result"
    }
   ],
   "execution_count": 192
  },
  {
   "cell_type": "code",
   "metadata": {
    "ExecuteTime": {
     "end_time": "2024-09-18T14:51:20.246227Z",
     "start_time": "2024-09-18T14:51:20.232081Z"
    }
   },
   "source": [
    "cluster0 = df3[df3['cluster']==0]\n",
    "cluster0.head()"
   ],
   "outputs": [
    {
     "data": {
      "text/plain": [
       "                                               摘要(全英)  cluster\n",
       "2   subject invention production magnetic Veronano...        0\n",
       "3   petition concerns method fertilizing tomato pl...        0\n",
       "5   subject invention relates production magnetic ...        0\n",
       "6   petition relates method fertilizing tomato pla...        0\n",
       "14  Thermoplastic product external applications ag...        0"
      ],
      "text/html": [
       "<div>\n",
       "<style scoped>\n",
       "    .dataframe tbody tr th:only-of-type {\n",
       "        vertical-align: middle;\n",
       "    }\n",
       "\n",
       "    .dataframe tbody tr th {\n",
       "        vertical-align: top;\n",
       "    }\n",
       "\n",
       "    .dataframe thead th {\n",
       "        text-align: right;\n",
       "    }\n",
       "</style>\n",
       "<table border=\"1\" class=\"dataframe\">\n",
       "  <thead>\n",
       "    <tr style=\"text-align: right;\">\n",
       "      <th></th>\n",
       "      <th>摘要(全英)</th>\n",
       "      <th>cluster</th>\n",
       "    </tr>\n",
       "  </thead>\n",
       "  <tbody>\n",
       "    <tr>\n",
       "      <th>2</th>\n",
       "      <td>subject invention production magnetic Veronano...</td>\n",
       "      <td>0</td>\n",
       "    </tr>\n",
       "    <tr>\n",
       "      <th>3</th>\n",
       "      <td>petition concerns method fertilizing tomato pl...</td>\n",
       "      <td>0</td>\n",
       "    </tr>\n",
       "    <tr>\n",
       "      <th>5</th>\n",
       "      <td>subject invention relates production magnetic ...</td>\n",
       "      <td>0</td>\n",
       "    </tr>\n",
       "    <tr>\n",
       "      <th>6</th>\n",
       "      <td>petition relates method fertilizing tomato pla...</td>\n",
       "      <td>0</td>\n",
       "    </tr>\n",
       "    <tr>\n",
       "      <th>14</th>\n",
       "      <td>Thermoplastic product external applications ag...</td>\n",
       "      <td>0</td>\n",
       "    </tr>\n",
       "  </tbody>\n",
       "</table>\n",
       "</div>"
      ]
     },
     "execution_count": 193,
     "metadata": {},
     "output_type": "execute_result"
    }
   ],
   "execution_count": 193
  },
  {
   "cell_type": "code",
   "metadata": {
    "ExecuteTime": {
     "end_time": "2024-09-18T14:51:21.768842Z",
     "start_time": "2024-09-18T14:51:20.247548Z"
    }
   },
   "source": [
    "from keybert import KeyBERT\n",
    "\n",
    "def get_top_n_words(text, top_n=10):\n",
    "    model = KeyBERT(r'distilbert-base-nli-mean-tokens')\n",
    "    keywords = model.extract_keywords(text, keyphrase_ngram_range=(1, 1), stop_words=None, top_n=top_n)\n",
    "    return keywords\n",
    "# join text\n",
    "merged_text = ' '.join(cluster0['摘要 (en)'].tolist())\n",
    "\n",
    "# extract keywords\n",
    "keywords = get_top_n_words(merged_text, top_n=10)\n",
    "keywords"
   ],
   "outputs": [
    {
     "data": {
      "text/plain": [
       "[('biotechnologytechnique', 0.4969),\n",
       " ('biofertilizers', 0.4694),\n",
       " ('biofertilizer', 0.4541),\n",
       " ('horticulture', 0.4116),\n",
       " ('nanofertilizers', 0.3763),\n",
       " ('fertilizers', 0.3689),\n",
       " ('herbicides', 0.3683),\n",
       " ('soybean', 0.3668),\n",
       " ('tomato', 0.3557),\n",
       " ('microbiology', 0.3527)]"
      ]
     },
     "execution_count": 194,
     "metadata": {},
     "output_type": "execute_result"
    }
   ],
   "execution_count": 194
  },
  {
   "metadata": {},
   "cell_type": "code",
   "outputs": [],
   "execution_count": null,
   "source": [
    "# initialize an empty list to store all clusters\n",
    "all_clusters = []\n",
    "\n",
    "# get the summary of each cluster\n",
    "for i in range(cluster_num):\n",
    "    cluster = df3[df3['cluster'] == i]\n",
    "    cluster_summary = ' '.join(cluster['摘要 (en)'].tolist())\n",
    "    all_clusters.append(cluster_summary)\n",
    "\n",
    "# save keywords\n",
    "df4 = []\n",
    "\n",
    "for i in range(cluster_num):\n",
    "    common_words = get_top_n_words(all_clusters[i], 10)\n",
    "    df4.append(common_words)\n",
    "\n",
    "df5 = pd.DataFrame(df4).T\n",
    "\n",
    "df5.columns = [f'cluster{i}' for i in range(cluster_num)]\n",
    "\n",
    "df5"
   ]
  },
  {
   "cell_type": "code",
   "metadata": {
    "collapsed": false,
    "jupyter": {
     "outputs_hidden": false
    },
    "ExecuteTime": {
     "end_time": "2024-09-18T14:51:25.713049Z",
     "start_time": "2024-09-18T14:51:25.672126Z"
    }
   },
   "source": "df5.to_excel(f'result_{years}.xlsx',index=False)",
   "outputs": [],
   "execution_count": 197
  }
 ],
 "metadata": {
  "kernelspec": {
   "display_name": "PyTorch",
   "language": "python",
   "name": "pytorch"
  },
  "language_info": {
   "codemirror_mode": {
    "name": "ipython",
    "version": 3
   },
   "file_extension": ".py",
   "mimetype": "text/x-python",
   "name": "python",
   "nbconvert_exporter": "python",
   "pygments_lexer": "ipython3",
   "version": "3.10.13"
  }
 },
 "nbformat": 4,
 "nbformat_minor": 4
}
