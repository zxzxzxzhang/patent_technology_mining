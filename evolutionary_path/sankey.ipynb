{
 "cells": [
  {
   "cell_type": "code",
   "id": "initial_id",
   "metadata": {
    "collapsed": true,
    "ExecuteTime": {
     "end_time": "2024-09-18T14:57:09.638446Z",
     "start_time": "2024-09-18T14:57:08.957406Z"
    }
   },
   "source": [
    "import pandas as pd"
   ],
   "execution_count": 1,
   "outputs": []
  },
  {
   "cell_type": "code",
   "source": "df1 = pd.read_excel(\"TR结果en.xlsx\")",
   "metadata": {
    "collapsed": false,
    "ExecuteTime": {
     "end_time": "2024-09-18T14:57:10.169197Z",
     "start_time": "2024-09-18T14:57:09.639853Z"
    }
   },
   "id": "f7e16b5aa9af347c",
   "execution_count": 2,
   "outputs": []
  },
  {
   "cell_type": "code",
   "source": [
    "import re\n",
    "# 合并df1、df2和df3的值到一个列表中\n",
    "mylist1 = list(df1.values.flatten())\n",
    "# 使用正则表达式提取所有单引号内的内容\n",
    "pattern = re.compile(r\"'(.*?)'\")\n",
    "content_set = set()\n",
    "for item in mylist1:\n",
    "    content_set.update(pattern.findall(item))\n",
    "# 将集合转换为列表\n",
    "content_list = list(content_set)\n",
    "# 打印结果\n",
    "len(content_list)"
   ],
   "metadata": {
    "collapsed": false,
    "ExecuteTime": {
     "end_time": "2024-09-18T14:57:10.184509Z",
     "start_time": "2024-09-18T14:57:10.171383Z"
    }
   },
   "id": "eb8d8de972141fac",
   "execution_count": 3,
   "outputs": []
  },
  {
   "cell_type": "code",
   "source": "content = pd.DataFrame(content_list, columns=['words'])",
   "metadata": {
    "collapsed": false,
    "ExecuteTime": {
     "end_time": "2024-09-18T14:57:10.200691Z",
     "start_time": "2024-09-18T14:57:10.185643Z"
    }
   },
   "id": "8ee5e38635c72135",
   "execution_count": 4,
   "outputs": []
  },
  {
   "cell_type": "code",
   "source": [
    "content[df1.columns] = None"
   ],
   "metadata": {
    "collapsed": false,
    "ExecuteTime": {
     "end_time": "2024-09-18T14:57:10.216243Z",
     "start_time": "2024-09-18T14:57:10.201915Z"
    }
   },
   "id": "6a0e7e905a045efe",
   "execution_count": 5,
   "outputs": []
  },
  {
   "cell_type": "code",
   "source": [
    "# 遍历每一列\n",
    "for j, column in enumerate(df1.columns):\n",
    "    # 获取当前列的数据\n",
    "    column_data = df1[column]\n",
    "    # 遍历每一个元素\n",
    "    for i, value in enumerate(column_data):\n",
    "        pattern = re.compile(r\"'(.*?)'\")\n",
    "        element_list = pattern.findall(value)\n",
    "        element = ''.join(element_list)\n",
    "        pattern2 = re.compile(r', (.*?)\\)')\n",
    "        element_list2 = pattern2.findall(value)\n",
    "        element2 = float(element_list2[0])\n",
    "        # 检查元素是否存在于 content 中\n",
    "        if element in content['words'].tolist():\n",
    "            # 如果存在，则将值追加到对应的列\n",
    "            content.loc[element, df1.columns[j]] = element2"
   ],
   "metadata": {
    "collapsed": false,
    "ExecuteTime": {
     "end_time": "2024-09-18T14:57:10.279678Z",
     "start_time": "2024-09-18T14:57:10.217243Z"
    }
   },
   "id": "cbdc03f27b6ee6c5",
   "execution_count": 6,
   "outputs": []
  },
  {
   "cell_type": "code",
   "source": "content.to_excel(\"content.xlsx\")",
   "metadata": {
    "collapsed": false,
    "ExecuteTime": {
     "end_time": "2024-09-18T14:57:11.211553Z",
     "start_time": "2024-09-18T14:57:11.135867Z"
    }
   },
   "id": "c6e2adcc7416de1a",
   "execution_count": 7,
   "outputs": []
  },
  {
   "metadata": {
    "ExecuteTime": {
     "end_time": "2024-09-18T14:57:13.262727Z",
     "start_time": "2024-09-18T14:57:13.240298Z"
    }
   },
   "cell_type": "code",
   "source": [
    "df2 = content.drop(content.index[0:len(content_list)])\n",
    "df2 = df2.drop(columns=['words'])\n",
    "df2"
   ],
   "id": "ba91033ab5e43efb",
   "execution_count": 8,
   "outputs": []
  },
  {
   "cell_type": "code",
   "source": [
    "from scipy.spatial import distance\n",
    "import pandas as pd\n",
    "\n",
    "# 将缺失值设置为0\n",
    "df2_filled = df2.fillna(0)\n",
    "\n",
    "# 计算两两之间的余弦相似度\n",
    "similarity_matrix = pd.DataFrame(columns=df2_filled.columns, index=df2_filled.columns)\n",
    "for col1 in df2_filled.columns:\n",
    "    for col2 in df2_filled.columns:\n",
    "        if col1 != col2:\n",
    "            vec1 = df2_filled[col1].tolist()\n",
    "            vec2 = df2_filled[col2].tolist()\n",
    "            similarity = 1 - distance.cosine(vec1, vec2)\n",
    "            similarity_matrix.at[col1, col2] = similarity"
   ],
   "metadata": {
    "collapsed": false,
    "ExecuteTime": {
     "end_time": "2024-09-18T14:57:14.615321Z",
     "start_time": "2024-09-18T14:57:14.277708Z"
    }
   },
   "id": "83bb4e8d2309a6bb",
   "execution_count": 9,
   "outputs": []
  },
  {
   "cell_type": "code",
   "source": [
    "similarities_1_2 = similarity_matrix.loc[['A0'], ['B0', 'B1']].reset_index(drop=True)\n",
    "similarities_2_3 = similarity_matrix.loc[['B0', 'B1'], ['C0', 'C1', 'C2']].reset_index(drop=True)\n",
    "similarities_3_4 = similarity_matrix.loc[['C0', 'C1', 'C2'], ['D0', 'D1', 'D2']].reset_index(drop=True)"
   ],
   "metadata": {
    "collapsed": false,
    "ExecuteTime": {
     "end_time": "2024-09-19T16:41:13.410512Z",
     "start_time": "2024-09-19T16:41:12.210475Z"
    }
   },
   "id": "35e456e489622c95",
   "execution_count": 1,
   "outputs": []
  },
  {
   "cell_type": "markdown",
   "source": [
    "# 设置阈值"
   ],
   "metadata": {
    "collapsed": false
   },
   "id": "58bde025ee184811"
  },
  {
   "cell_type": "code",
   "source": [
    "import numpy as np\n",
    "def find_similar_elements(matrix):\n",
    "    matrix = matrix.to_numpy()\n",
    "    rows, cols = np.where(matrix > 0)# set Threshold \n",
    "    values = matrix[rows, cols]\n",
    "    similar_matrix = np.column_stack((rows, cols, values))\n",
    "    return similar_matrix"
   ],
   "metadata": {
    "collapsed": false,
    "ExecuteTime": {
     "end_time": "2024-09-19T16:41:50.572124Z",
     "start_time": "2024-09-19T16:41:50.558534Z"
    }
   },
   "id": "175840173a8afd55",
   "execution_count": 3,
   "outputs": []
  },
  {
   "cell_type": "code",
   "source": [
    "similar_elements_1_2 = find_similar_elements(similarities_1_2)"
   ],
   "metadata": {
    "collapsed": false,
    "ExecuteTime": {
     "end_time": "2024-09-19T16:41:50.866337Z",
     "start_time": "2024-09-19T16:41:50.856340Z"
    }
   },
   "id": "920002a2d9fcd772",
   "execution_count": 4,
   "outputs": []
  },
  {
   "cell_type": "code",
   "source": [
    "import pandas as pd\n",
    "similar_elements_1_2_pd = pd.DataFrame(similar_elements_1_2, columns=['Source', 'Target', 'Value'])\n",
    "similar_elements_1_2_pd['Source'] = similar_elements_1_2_pd['Source'].apply(lambda x: 'A' + str(int(x)))\n",
    "similar_elements_1_2_pd['Target'] = similar_elements_1_2_pd['Target'].apply(lambda x: 'B' + str(int(x)))"
   ],
   "metadata": {
    "collapsed": false,
    "ExecuteTime": {
     "end_time": "2024-09-19T16:41:51.113272Z",
     "start_time": "2024-09-19T16:41:51.105937Z"
    }
   },
   "id": "23a5aec576e85081",
   "execution_count": 5,
   "outputs": []
  },
  {
   "cell_type": "code",
   "source": [
    "similar_elements_1_2_pd"
   ],
   "metadata": {
    "collapsed": false,
    "ExecuteTime": {
     "end_time": "2024-09-19T16:41:51.514295Z",
     "start_time": "2024-09-19T16:41:51.505293Z"
    }
   },
   "id": "297a61e410e624b8",
   "execution_count": 6,
   "outputs": []
  },
  {
   "cell_type": "code",
   "source": [
    "similar_elements_2_3 = find_similar_elements(similarities_2_3)"
   ],
   "metadata": {
    "collapsed": false,
    "ExecuteTime": {
     "end_time": "2024-09-19T16:41:52.636607Z",
     "start_time": "2024-09-19T16:41:52.632439Z"
    }
   },
   "id": "80d2fef2ead2236d",
   "execution_count": 7,
   "outputs": []
  },
  {
   "cell_type": "code",
   "source": [
    "import pandas as pd\n",
    "similar_elements_2_3_pd = pd.DataFrame(similar_elements_2_3, columns=['Source', 'Target', 'Value'])\n",
    "similar_elements_2_3_pd['Source'] = similar_elements_2_3_pd['Source'].apply(lambda x: 'B' + str(int(x)))\n",
    "similar_elements_2_3_pd['Target'] = similar_elements_2_3_pd['Target'].apply(lambda x: 'C' + str(int(x)))\n",
    "similar_elements_2_3_pd"
   ],
   "metadata": {
    "collapsed": false,
    "ExecuteTime": {
     "end_time": "2024-09-19T16:41:53.134058Z",
     "start_time": "2024-09-19T16:41:53.120050Z"
    }
   },
   "id": "8b13edbc3da6465b",
   "execution_count": 8,
   "outputs": []
  },
  {
   "metadata": {
    "ExecuteTime": {
     "end_time": "2024-09-19T16:41:53.461632Z",
     "start_time": "2024-09-19T16:41:53.445816Z"
    }
   },
   "cell_type": "code",
   "source": [
    "similar_elements_3_4 = find_similar_elements(similarities_3_4)\n",
    "# 创建新的 DataFrame\n",
    "\n",
    "similar_elements_3_4_pd = pd.DataFrame(similar_elements_3_4, columns=['Source', 'Target', 'Value'])\n",
    "similar_elements_3_4_pd['Source'] = similar_elements_3_4_pd['Source'].apply(lambda x: 'C' + str(int(x)))\n",
    "similar_elements_3_4_pd['Target'] = similar_elements_3_4_pd['Target'].apply(lambda x: 'D' + str(int(x)))"
   ],
   "id": "940578f71cb3bf2a",
   "execution_count": 9,
   "outputs": []
  },
  {
   "cell_type": "code",
   "source": "similar_elements_1_2_3_pd = pd.concat([similar_elements_1_2_pd, similar_elements_2_3_pd, similar_elements_3_4_pd])",
   "metadata": {
    "collapsed": false,
    "ExecuteTime": {
     "end_time": "2024-09-19T16:41:54.286543Z",
     "start_time": "2024-09-19T16:41:54.272025Z"
    }
   },
   "id": "74800564a9a04957",
   "execution_count": 10,
   "outputs": []
  },
  {
   "cell_type": "code",
   "source": [
    "import pandas as pd\n",
    "\n",
    "nodes = pd.Series(similar_elements_1_2_3_pd['Source'].tolist() + similar_elements_1_2_3_pd['Target'].tolist()).unique()\n",
    "\n",
    "node_index = {node: index for index, node in enumerate(nodes)}\n",
    "\n",
    "similar_elements_1_2_3_pd['source'] = similar_elements_1_2_3_pd['Source'].apply(lambda x: node_index[x])\n",
    "similar_elements_1_2_3_pd['target'] = similar_elements_1_2_3_pd['Target'].apply(lambda x: node_index[x])\n",
    "\n",
    "links = similar_elements_1_2_3_pd[['source', 'target', 'Value']]"
   ],
   "metadata": {
    "collapsed": false,
    "ExecuteTime": {
     "end_time": "2024-09-20T06:28:15.232025Z",
     "start_time": "2024-09-20T06:28:15.209143Z"
    }
   },
   "id": "adc2c3d58f79858a",
   "execution_count": 8,
   "outputs": []
  },
  {
   "cell_type": "code",
   "source": [
    "from pyecharts.charts import Sankey\n",
    "from pyecharts import options as opts\n",
    "from pyecharts.globals import ThemeType\n",
    "data = similar_elements_1_2_3_pd.values.tolist()\n",
    "\n",
    "nodes = []\n",
    "links = []\n",
    "\n",
    "for item in data:\n",
    "    source = item[0]\n",
    "    target = item[1]\n",
    "    value = item[2]\n",
    "\n",
    "    if source not in nodes:\n",
    "        nodes.append(source)\n",
    "    if target not in nodes:\n",
    "        nodes.append(target)\n",
    "\n",
    "    links.append({\"source\": source, \"target\": target, \"value\": value})\n",
    "\n",
    "sankey = (\n",
    "    Sankey(init_opts=opts.InitOpts(theme=ThemeType.LIGHT, bg_color=\"#ffffff\",width=\"2000px\", height=\"800px\"))\n",
    "    .add(\n",
    "        series_name=\"\",\n",
    "        nodes=[{\"name\": node} for node in nodes],\n",
    "        links=links,\n",
    "        linestyle_opt=opts.LineStyleOpts(opacity=0.5, curve=0.3, color=\"source\"),\n",
    "        #itemstyle_opts=opts.ItemStyleOpts(border_width=1, border_color=\"#aaa\")\n",
    "    )\n",
    "    .set_global_opts(title_opts=opts.TitleOpts(title=\"\"),\n",
    "                     #theme=\"wonderland\" \n",
    "                     )\n",
    "     \n",
    ")\n",
    "sankey.render(\"sankey.html\")"
   ],
   "metadata": {
    "collapsed": false,
    "ExecuteTime": {
     "end_time": "2024-09-20T06:28:15.386630Z",
     "start_time": "2024-09-20T06:28:15.361239Z"
    }
   },
   "id": "5320b2beb850415e",
   "execution_count": 9,
   "outputs": []
  },
  {
   "metadata": {
    "ExecuteTime": {
     "end_time": "2024-09-19T07:07:35.966684Z",
     "start_time": "2024-09-19T07:07:35.952477Z"
    }
   },
   "cell_type": "code",
   "source": "",
   "id": "b6c8be1d59a101a0",
   "execution_count": 14,
   "outputs": []
  },
  {
   "metadata": {},
   "cell_type": "code",
   "execution_count": null,
   "source": "",
   "id": "4fd78a7b135649ea",
   "outputs": []
  }
 ],
 "metadata": {
  "kernelspec": {
   "display_name": "Python 3",
   "language": "python",
   "name": "python3"
  },
  "language_info": {
   "codemirror_mode": {
    "name": "ipython",
    "version": 2
   },
   "file_extension": ".py",
   "mimetype": "text/x-python",
   "name": "python",
   "nbconvert_exporter": "python",
   "pygments_lexer": "ipython2",
   "version": "2.7.6"
  }
 },
 "nbformat": 4,
 "nbformat_minor": 5
}
