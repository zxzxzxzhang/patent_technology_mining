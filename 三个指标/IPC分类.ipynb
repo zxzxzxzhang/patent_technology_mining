{
 "cells": [
  {
   "cell_type": "code",
   "execution_count": 1,
   "id": "initial_id",
   "metadata": {
    "collapsed": true,
    "ExecuteTime": {
     "end_time": "2024-01-30T09:32:04.771727700Z",
     "start_time": "2024-01-30T09:32:03.469635300Z"
    }
   },
   "source": [
    "import pandas as pd\n",
    "df = pd.read_excel(r'NEW1.xlsx')\n",
    "df"
   ],
   "outputs": []
  },
  {
   "cell_type": "markdown",
   "source": [
    "# 聚合物及其制造工艺"
   ],
   "metadata": {
    "collapsed": false
   },
   "id": "6555cf46f28970f6"
  },
  {
   "cell_type": "code",
   "source": [
    "# 筛选 IPC 主分类号\n",
    "filtered_df = df[df['IPC主分类号'].isin(['C08L', 'C08J','C08J','C08G','C08K','C07C'])]\n",
    "filtered_df"
   ],
   "metadata": {
    "collapsed": false,
    "ExecuteTime": {
     "end_time": "2024-01-29T13:26:42.417736300Z",
     "start_time": "2024-01-29T13:26:42.395100600Z"
    }
   },
   "id": "bc1d39568a8fec1f",
   "execution_count": 52,
   "outputs": []
  },
  {
   "cell_type": "code",
   "source": [
    "filtered_df.to_excel('聚合物及其制造工艺.xlsx',index=False)"
   ],
   "metadata": {
    "collapsed": false,
    "ExecuteTime": {
     "end_time": "2024-01-29T13:26:42.558602300Z",
     "start_time": "2024-01-29T13:26:42.410723900Z"
    }
   },
   "id": "12faaf93fd1218f1",
   "execution_count": 53,
   "outputs": []
  },
  {
   "cell_type": "markdown",
   "source": [
    "# 薄膜及制品"
   ],
   "metadata": {
    "collapsed": false
   },
   "id": "64e6f03129bbb4eb"
  },
  {
   "cell_type": "code",
   "source": [
    "# 筛选 IPC 主分类号\n",
    "filtered_df = df[df['IPC主分类号'].isin(['B32B','B29C','B65D'])]\n",
    "filtered_df"
   ],
   "metadata": {
    "collapsed": false,
    "ExecuteTime": {
     "end_time": "2024-01-29T13:26:42.600699200Z",
     "start_time": "2024-01-29T13:26:42.471912900Z"
    }
   },
   "id": "9ebd6eaebb6cedec",
   "execution_count": 54,
   "outputs": []
  },
  {
   "cell_type": "code",
   "source": [
    "filtered_df.to_excel('薄膜及制品.xlsx',index=False)"
   ],
   "metadata": {
    "collapsed": false,
    "ExecuteTime": {
     "end_time": "2024-01-29T13:26:42.656210800Z",
     "start_time": "2024-01-29T13:26:42.487128800Z"
    }
   },
   "id": "274ef8930e6217ca",
   "execution_count": 55,
   "outputs": []
  },
  {
   "cell_type": "markdown",
   "source": [
    "# 涂料和粘合剂"
   ],
   "metadata": {
    "collapsed": false
   },
   "id": "48402f028399aa71"
  },
  {
   "cell_type": "code",
   "source": [
    "# 筛选 IPC 主分类号\n",
    "filtered_df = df[df['IPC主分类号'].isin(['C09J','C09D'])]\n",
    "filtered_df"
   ],
   "metadata": {
    "collapsed": false,
    "ExecuteTime": {
     "end_time": "2024-01-29T13:26:42.658436800Z",
     "start_time": "2024-01-29T13:26:42.516725300Z"
    }
   },
   "id": "b62af78e525693cd",
   "execution_count": 56,
   "outputs": []
  },
  {
   "cell_type": "code",
   "source": [
    "filtered_df.to_excel('涂料和粘合剂.xlsx',index=False)"
   ],
   "metadata": {
    "collapsed": false,
    "ExecuteTime": {
     "end_time": "2024-01-29T13:26:42.658436800Z",
     "start_time": "2024-01-29T13:26:42.533949800Z"
    }
   },
   "id": "96e67e9d4eb5db23",
   "execution_count": 57,
   "outputs": []
  },
  {
   "cell_type": "markdown",
   "source": [
    "# 纤维和浆料"
   ],
   "metadata": {
    "collapsed": false
   },
   "id": "f076e2936994f702"
  },
  {
   "cell_type": "code",
   "source": [
    "# 筛选 IPC 主分类号\n",
    "filtered_df = df[df['IPC主分类号'].isin(['D01F','D21H'])]\n",
    "filtered_df"
   ],
   "metadata": {
    "collapsed": false,
    "ExecuteTime": {
     "end_time": "2024-01-29T13:26:42.742102200Z",
     "start_time": "2024-01-29T13:26:42.662438800Z"
    }
   },
   "id": "deebee89293a8bd6",
   "execution_count": 58,
   "outputs": []
  },
  {
   "cell_type": "code",
   "source": [
    "filtered_df.to_excel('纤维和浆料.xlsx',index=False)"
   ],
   "metadata": {
    "collapsed": false,
    "ExecuteTime": {
     "end_time": "2024-01-29T13:26:42.834475500Z",
     "start_time": "2024-01-29T13:26:42.734107100Z"
    }
   },
   "id": "70257512fe578ac5",
   "execution_count": 59,
   "outputs": []
  },
  {
   "cell_type": "markdown",
   "source": [
    "# 微生物或酶、其组合物"
   ],
   "metadata": {
    "collapsed": false
   },
   "id": "3f36fe8b95c06614"
  },
  {
   "cell_type": "code",
   "source": [
    "# 筛选 IPC 主分类号\n",
    "filtered_df = df[df['IPC主分类号'].isin(['C12N'])]\n",
    "filtered_df"
   ],
   "metadata": {
    "collapsed": false,
    "ExecuteTime": {
     "end_time": "2024-01-29T13:26:42.916933200Z",
     "start_time": "2024-01-29T13:26:42.795176800Z"
    }
   },
   "id": "f21b73e44c842edf",
   "execution_count": 60,
   "outputs": []
  },
  {
   "cell_type": "code",
   "source": [
    "filtered_df.to_excel('微生物或酶、其组合物.xlsx',index=False)"
   ],
   "metadata": {
    "collapsed": false,
    "ExecuteTime": {
     "end_time": "2024-01-29T13:26:43.012208100Z",
     "start_time": "2024-01-29T13:26:42.875404400Z"
    }
   },
   "id": "f5367eed81c7e858",
   "execution_count": 61,
   "outputs": []
  },
  {
   "cell_type": "markdown",
   "source": [
    "# 医用、牙科用或化妆用的配制品、雪茄烟或纸烟的烟嘴\t"
   ],
   "metadata": {
    "collapsed": false
   },
   "id": "846f616ba88e7b10"
  },
  {
   "cell_type": "code",
   "source": [
    "# 筛选 IPC 主分类号\n",
    "filtered_df = df[df['IPC主分类号'].isin(['A61K','A24D'])]\n",
    "filtered_df"
   ],
   "metadata": {
    "collapsed": false,
    "ExecuteTime": {
     "end_time": "2024-01-29T13:26:43.035776200Z",
     "start_time": "2024-01-29T13:26:42.955304400Z"
    }
   },
   "id": "2960844d5f89c91e",
   "execution_count": 62,
   "outputs": []
  },
  {
   "cell_type": "code",
   "source": [
    "filtered_df.to_excel('医用、牙科用或化妆用的配制品、雪茄烟或纸烟的烟嘴.xlsx',index=False)"
   ],
   "metadata": {
    "collapsed": false,
    "ExecuteTime": {
     "end_time": "2024-01-29T13:26:43.130901Z",
     "start_time": "2024-01-29T13:26:43.038769900Z"
    }
   },
   "id": "3db3c58c78be6b12",
   "execution_count": 63,
   "outputs": []
  },
  {
   "cell_type": "code",
   "source": [
    "data = {'专利总数': 10, '巴斯夫欧洲公司': 1, '比澳格(香港)有限公司': 1, 'PK MED': 1, '宝洁公司': 2, '南洋理工大学': 1, 'GDK COSMETICS CO LTD': 1, '牛津大学创新公司': 1, 'RUMINANT BIOTECH CORP LTD': 1, '国玺干细胞应用技术股份有限公司': 1}\n",
    "\n",
    "\n",
    "# 按每个公司后面的数字排序\n",
    "sorted_data = sorted(data.items(), key=lambda x: x[1])\n",
    "\n",
    "# 打印排序结果\n",
    "for item in sorted_data:\n",
    "    print(item)\n"
   ],
   "metadata": {
    "collapsed": false,
    "ExecuteTime": {
     "end_time": "2024-01-30T10:03:11.639944100Z",
     "start_time": "2024-01-30T10:03:11.625514600Z"
    }
   },
   "id": "cd0ed103b876bb4f",
   "execution_count": 8,
   "outputs": []
  }
 ],
 "metadata": {
  "kernelspec": {
   "display_name": "Python 3",
   "language": "python",
   "name": "python3"
  },
  "language_info": {
   "codemirror_mode": {
    "name": "ipython",
    "version": 2
   },
   "file_extension": ".py",
   "mimetype": "text/x-python",
   "name": "python",
   "nbconvert_exporter": "python",
   "pygments_lexer": "ipython2",
   "version": "2.7.6"
  }
 },
 "nbformat": 4,
 "nbformat_minor": 5
}
