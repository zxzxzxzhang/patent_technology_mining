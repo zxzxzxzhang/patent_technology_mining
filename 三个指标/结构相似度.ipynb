{
 "cells": [
  {
   "cell_type": "code",
   "execution_count": 6,
   "id": "initial_id",
   "metadata": {
    "collapsed": true,
    "ExecuteTime": {
     "end_time": "2024-01-24T13:52:52.921268300Z",
     "start_time": "2024-01-24T13:52:52.832999500Z"
    }
   },
   "outputs": [],
   "source": [
    "import pandas as pd\n",
    "df = pd.read_excel(r'NEW.xlsx')"
   ]
  },
  {
   "cell_type": "code",
   "outputs": [
    {
     "data": {
      "text/plain": "         公开(公告)号 [标]原始申请(专利权)人  \\\n0    EP1685201A1         罗盖特公司   \n1    EP2144221B1      株式会社LG化学   \n2    EP2144966A1       法国阿科玛公司   \n3    EP2247661A2         罗盖特公司   \n4    EP2294125A2         罗盖特公司   \n..           ...           ...   \n518  US9714341B2       华盛顿州立大学   \n519  US9850362B2   财团法人工业技术研究院   \n520  US9850376B2  钟渊化学工业股份有限公司   \n521  US9896539B2          南京大学   \n522  US9994686B2   美亚无纺布工业有限公司   \n\n                                                    标题 原始申请(专利权)人地址   申请日  \\\n0    Use of an aqueous dispersion of at least one b...           FR  2004   \n1                 Biodegradable film for advertisement           KR  2009   \n2    Coextrusion binders on a renewable/biodegradab...           FR  2008   \n3    Method for preparing thermoplastic composition...           FR  2009   \n4    Starch-containing thermoplastic or elastomer c...           FR  2009   \n..                                                 ...          ...   ...   \n518               Biodegradable polyester-based blends           US  2013   \n519  Modified starch compositions, starch composite...           TW  2014   \n520  Polyester resin composition and method for pro...           JP  2013   \n521  Method for synthesizing poly(butylene adipate-...           CN  2016   \n522                    Biodegradable film and laminate           CN  2013   \n\n    IPC主分类号  \n0      C09D  \n1      G09F  \n2      C08L  \n3      C08L  \n4      C08L  \n..      ...  \n518    C08L  \n519    C08J  \n520    C08G  \n521    C08G  \n522    C08J  \n\n[523 rows x 6 columns]",
      "text/html": "<div>\n<style scoped>\n    .dataframe tbody tr th:only-of-type {\n        vertical-align: middle;\n    }\n\n    .dataframe tbody tr th {\n        vertical-align: top;\n    }\n\n    .dataframe thead th {\n        text-align: right;\n    }\n</style>\n<table border=\"1\" class=\"dataframe\">\n  <thead>\n    <tr style=\"text-align: right;\">\n      <th></th>\n      <th>公开(公告)号</th>\n      <th>[标]原始申请(专利权)人</th>\n      <th>标题</th>\n      <th>原始申请(专利权)人地址</th>\n      <th>申请日</th>\n      <th>IPC主分类号</th>\n    </tr>\n  </thead>\n  <tbody>\n    <tr>\n      <th>0</th>\n      <td>EP1685201A1</td>\n      <td>罗盖特公司</td>\n      <td>Use of an aqueous dispersion of at least one b...</td>\n      <td>FR</td>\n      <td>2004</td>\n      <td>C09D</td>\n    </tr>\n    <tr>\n      <th>1</th>\n      <td>EP2144221B1</td>\n      <td>株式会社LG化学</td>\n      <td>Biodegradable film for advertisement</td>\n      <td>KR</td>\n      <td>2009</td>\n      <td>G09F</td>\n    </tr>\n    <tr>\n      <th>2</th>\n      <td>EP2144966A1</td>\n      <td>法国阿科玛公司</td>\n      <td>Coextrusion binders on a renewable/biodegradab...</td>\n      <td>FR</td>\n      <td>2008</td>\n      <td>C08L</td>\n    </tr>\n    <tr>\n      <th>3</th>\n      <td>EP2247661A2</td>\n      <td>罗盖特公司</td>\n      <td>Method for preparing thermoplastic composition...</td>\n      <td>FR</td>\n      <td>2009</td>\n      <td>C08L</td>\n    </tr>\n    <tr>\n      <th>4</th>\n      <td>EP2294125A2</td>\n      <td>罗盖特公司</td>\n      <td>Starch-containing thermoplastic or elastomer c...</td>\n      <td>FR</td>\n      <td>2009</td>\n      <td>C08L</td>\n    </tr>\n    <tr>\n      <th>...</th>\n      <td>...</td>\n      <td>...</td>\n      <td>...</td>\n      <td>...</td>\n      <td>...</td>\n      <td>...</td>\n    </tr>\n    <tr>\n      <th>518</th>\n      <td>US9714341B2</td>\n      <td>华盛顿州立大学</td>\n      <td>Biodegradable polyester-based blends</td>\n      <td>US</td>\n      <td>2013</td>\n      <td>C08L</td>\n    </tr>\n    <tr>\n      <th>519</th>\n      <td>US9850362B2</td>\n      <td>财团法人工业技术研究院</td>\n      <td>Modified starch compositions, starch composite...</td>\n      <td>TW</td>\n      <td>2014</td>\n      <td>C08J</td>\n    </tr>\n    <tr>\n      <th>520</th>\n      <td>US9850376B2</td>\n      <td>钟渊化学工业股份有限公司</td>\n      <td>Polyester resin composition and method for pro...</td>\n      <td>JP</td>\n      <td>2013</td>\n      <td>C08G</td>\n    </tr>\n    <tr>\n      <th>521</th>\n      <td>US9896539B2</td>\n      <td>南京大学</td>\n      <td>Method for synthesizing poly(butylene adipate-...</td>\n      <td>CN</td>\n      <td>2016</td>\n      <td>C08G</td>\n    </tr>\n    <tr>\n      <th>522</th>\n      <td>US9994686B2</td>\n      <td>美亚无纺布工业有限公司</td>\n      <td>Biodegradable film and laminate</td>\n      <td>CN</td>\n      <td>2013</td>\n      <td>C08J</td>\n    </tr>\n  </tbody>\n</table>\n<p>523 rows × 6 columns</p>\n</div>"
     },
     "execution_count": 7,
     "metadata": {},
     "output_type": "execute_result"
    }
   ],
   "source": [
    "df"
   ],
   "metadata": {
    "collapsed": false,
    "ExecuteTime": {
     "end_time": "2024-01-24T13:52:54.046629700Z",
     "start_time": "2024-01-24T13:52:54.022605800Z"
    }
   },
   "id": "b90af8204a843c58",
   "execution_count": 7
  },
  {
   "cell_type": "code",
   "outputs": [
    {
     "data": {
      "text/plain": "        国家1 国家2    S\nIPC主分类号             \nA61K     FR  KR  0.0\nB09B     FR  KR  NaN\nB26B     FR  KR  NaN\nB29B     FR  KR  NaN\nB29C     FR  KR  0.0\n...      ..  ..  ...\nC08L      -  IN  NaN\nC07C      -  HK  NaN\nC08L      -  HK  NaN\nA61L      -  TN  NaN\nC07C      -  TN  NaN\n\n[8300 rows x 3 columns]",
      "text/html": "<div>\n<style scoped>\n    .dataframe tbody tr th:only-of-type {\n        vertical-align: middle;\n    }\n\n    .dataframe tbody tr th {\n        vertical-align: top;\n    }\n\n    .dataframe thead th {\n        text-align: right;\n    }\n</style>\n<table border=\"1\" class=\"dataframe\">\n  <thead>\n    <tr style=\"text-align: right;\">\n      <th></th>\n      <th>国家1</th>\n      <th>国家2</th>\n      <th>S</th>\n    </tr>\n    <tr>\n      <th>IPC主分类号</th>\n      <th></th>\n      <th></th>\n      <th></th>\n    </tr>\n  </thead>\n  <tbody>\n    <tr>\n      <th>A61K</th>\n      <td>FR</td>\n      <td>KR</td>\n      <td>0.0</td>\n    </tr>\n    <tr>\n      <th>B09B</th>\n      <td>FR</td>\n      <td>KR</td>\n      <td>NaN</td>\n    </tr>\n    <tr>\n      <th>B26B</th>\n      <td>FR</td>\n      <td>KR</td>\n      <td>NaN</td>\n    </tr>\n    <tr>\n      <th>B29B</th>\n      <td>FR</td>\n      <td>KR</td>\n      <td>NaN</td>\n    </tr>\n    <tr>\n      <th>B29C</th>\n      <td>FR</td>\n      <td>KR</td>\n      <td>0.0</td>\n    </tr>\n    <tr>\n      <th>...</th>\n      <td>...</td>\n      <td>...</td>\n      <td>...</td>\n    </tr>\n    <tr>\n      <th>C08L</th>\n      <td>-</td>\n      <td>IN</td>\n      <td>NaN</td>\n    </tr>\n    <tr>\n      <th>C07C</th>\n      <td>-</td>\n      <td>HK</td>\n      <td>NaN</td>\n    </tr>\n    <tr>\n      <th>C08L</th>\n      <td>-</td>\n      <td>HK</td>\n      <td>NaN</td>\n    </tr>\n    <tr>\n      <th>A61L</th>\n      <td>-</td>\n      <td>TN</td>\n      <td>NaN</td>\n    </tr>\n    <tr>\n      <th>C07C</th>\n      <td>-</td>\n      <td>TN</td>\n      <td>NaN</td>\n    </tr>\n  </tbody>\n</table>\n<p>8300 rows × 3 columns</p>\n</div>"
     },
     "execution_count": 4,
     "metadata": {},
     "output_type": "execute_result"
    }
   ],
   "source": [
    "import pandas as pd\n",
    "# 计算每个国家在每个IPC主分类号下的专利数量\n",
    "df_counts = df.groupby(['原始申请(专利权)人地址', 'IPC主分类号']).size().reset_index(name='Pij')\n",
    "# 计算每个国家在每个IPC主分类号的专利总数量\n",
    "df_country_counts = df.groupby(['原始申请(专利权)人地址', 'IPC主分类号']).size().reset_index(name='Pj')\n",
    "# 合并数据框\n",
    "df_merged = pd.merge(df_counts, df_country_counts, on=['原始申请(专利权)人地址', 'IPC主分类号'])\n",
    "# 计算每个国家的结构相似度\n",
    "df_similarity = pd.DataFrame()\n",
    "for j in df['原始申请(专利权)人地址'].unique():\n",
    "    for k in df['原始申请(专利权)人地址'].unique():\n",
    "        if j != k:\n",
    "            df_temp = df_merged[df_merged['原始申请(专利权)人地址'].isin([j, k])]\n",
    "            df_temp_pivoted = df_temp.pivot(index='IPC主分类号', columns='原始申请(专利权)人地址', values=['Pij', 'Pj'])\n",
    "            df_temp_pivoted.columns = ['_'.join(col) for col in df_temp_pivoted.columns]\n",
    "            df_temp_pivoted['S'] = df_temp_pivoted.apply(lambda row: abs(row['Pij_'+j]/row['Pj_'+j] - row['Pij_'+k]/row['Pj_'+k]), axis=1)\n",
    "            df_temp_pivoted['国家1'] = j\n",
    "            df_temp_pivoted['国家2'] = k\n",
    "            df_similarity = pd.concat([df_similarity, df_temp_pivoted[['国家1', '国家2', 'S']]])\n",
    "df_similarity"
   ],
   "metadata": {
    "collapsed": false,
    "ExecuteTime": {
     "end_time": "2024-01-24T13:47:12.556641Z",
     "start_time": "2024-01-24T13:47:09.173212200Z"
    }
   },
   "id": "6a20f2c459882580",
   "execution_count": 4
  },
  {
   "cell_type": "code",
   "outputs": [],
   "source": [
    "df_similarity.to_excel('结构相似度.xlsx')"
   ],
   "metadata": {
    "collapsed": false,
    "ExecuteTime": {
     "end_time": "2024-01-24T13:48:36.571547300Z",
     "start_time": "2024-01-24T13:48:35.619730500Z"
    }
   },
   "id": "dc55d805c536f504",
   "execution_count": 5
  },
  {
   "cell_type": "code",
   "outputs": [
    {
     "data": {
      "text/plain": "                              国家1                 国家2    S\nIPC主分类号                                                   \nB32B                        罗盖特公司            株式会社LG化学  NaN\nC08K                        罗盖特公司            株式会社LG化学  NaN\nC08L                        罗盖特公司            株式会社LG化学  0.0\nC09D                        罗盖特公司            株式会社LG化学  NaN\nG09F                        罗盖特公司            株式会社LG化学  NaN\n...                           ...                 ...  ...\nH02J     FARBENFABEN OF ELBERFELD  巴西石油公司 | 里约热内卢联邦大学  NaN\nC07C     FARBENFABEN OF ELBERFELD         LIN SUN CHE  NaN\nC08J     FARBENFABEN OF ELBERFELD         LIN SUN CHE  NaN\nA61L     FARBENFABEN OF ELBERFELD             伊士曼化工公司  NaN\nC07C     FARBENFABEN OF ELBERFELD             伊士曼化工公司  NaN\n\n[110814 rows x 3 columns]",
      "text/html": "<div>\n<style scoped>\n    .dataframe tbody tr th:only-of-type {\n        vertical-align: middle;\n    }\n\n    .dataframe tbody tr th {\n        vertical-align: top;\n    }\n\n    .dataframe thead th {\n        text-align: right;\n    }\n</style>\n<table border=\"1\" class=\"dataframe\">\n  <thead>\n    <tr style=\"text-align: right;\">\n      <th></th>\n      <th>国家1</th>\n      <th>国家2</th>\n      <th>S</th>\n    </tr>\n    <tr>\n      <th>IPC主分类号</th>\n      <th></th>\n      <th></th>\n      <th></th>\n    </tr>\n  </thead>\n  <tbody>\n    <tr>\n      <th>B32B</th>\n      <td>罗盖特公司</td>\n      <td>株式会社LG化学</td>\n      <td>NaN</td>\n    </tr>\n    <tr>\n      <th>C08K</th>\n      <td>罗盖特公司</td>\n      <td>株式会社LG化学</td>\n      <td>NaN</td>\n    </tr>\n    <tr>\n      <th>C08L</th>\n      <td>罗盖特公司</td>\n      <td>株式会社LG化学</td>\n      <td>0.0</td>\n    </tr>\n    <tr>\n      <th>C09D</th>\n      <td>罗盖特公司</td>\n      <td>株式会社LG化学</td>\n      <td>NaN</td>\n    </tr>\n    <tr>\n      <th>G09F</th>\n      <td>罗盖特公司</td>\n      <td>株式会社LG化学</td>\n      <td>NaN</td>\n    </tr>\n    <tr>\n      <th>...</th>\n      <td>...</td>\n      <td>...</td>\n      <td>...</td>\n    </tr>\n    <tr>\n      <th>H02J</th>\n      <td>FARBENFABEN OF ELBERFELD</td>\n      <td>巴西石油公司 | 里约热内卢联邦大学</td>\n      <td>NaN</td>\n    </tr>\n    <tr>\n      <th>C07C</th>\n      <td>FARBENFABEN OF ELBERFELD</td>\n      <td>LIN SUN CHE</td>\n      <td>NaN</td>\n    </tr>\n    <tr>\n      <th>C08J</th>\n      <td>FARBENFABEN OF ELBERFELD</td>\n      <td>LIN SUN CHE</td>\n      <td>NaN</td>\n    </tr>\n    <tr>\n      <th>A61L</th>\n      <td>FARBENFABEN OF ELBERFELD</td>\n      <td>伊士曼化工公司</td>\n      <td>NaN</td>\n    </tr>\n    <tr>\n      <th>C07C</th>\n      <td>FARBENFABEN OF ELBERFELD</td>\n      <td>伊士曼化工公司</td>\n      <td>NaN</td>\n    </tr>\n  </tbody>\n</table>\n<p>110814 rows × 3 columns</p>\n</div>"
     },
     "execution_count": 9,
     "metadata": {},
     "output_type": "execute_result"
    }
   ],
   "source": [
    "import pandas as pd\n",
    "\n",
    "# 计算每个国家在每个IPC主分类号下的专利数量\n",
    "df_counts = df.groupby(['[标]原始申请(专利权)人', 'IPC主分类号']).size().reset_index(name='Pij')\n",
    "\n",
    "# 计算每个国家在每个IPC主分类号的专利总数量\n",
    "df_country_counts = df.groupby(['[标]原始申请(专利权)人', 'IPC主分类号']).size().reset_index(name='Pj')\n",
    "\n",
    "# 合并数据框\n",
    "df_merged = pd.merge(df_counts, df_country_counts, on=['[标]原始申请(专利权)人', 'IPC主分类号'])\n",
    "\n",
    "# 计算每个国家的结构相似度\n",
    "df_similarity = pd.DataFrame()\n",
    "\n",
    "for j in df['[标]原始申请(专利权)人'].unique():\n",
    "    for k in df['[标]原始申请(专利权)人'].unique():\n",
    "        if j != k:\n",
    "            df_temp = df_merged[df_merged['[标]原始申请(专利权)人'].isin([j, k])]\n",
    "            df_temp_pivoted = df_temp.pivot(index='IPC主分类号', columns='[标]原始申请(专利权)人', values=['Pij', 'Pj'])\n",
    "            df_temp_pivoted.columns = ['_'.join(col) for col in df_temp_pivoted.columns]\n",
    "            df_temp_pivoted['S'] = df_temp_pivoted.apply(lambda row: abs(row['Pij_'+j]/row['Pj_'+j] - row['Pij_'+k]/row['Pj_'+k]), axis=1)\n",
    "            df_temp_pivoted['国家1'] = j\n",
    "            df_temp_pivoted['国家2'] = k\n",
    "            df_similarity = pd.concat([df_similarity, df_temp_pivoted[['国家1', '国家2', 'S']]])\n",
    "\n",
    "df_similarity"
   ],
   "metadata": {
    "collapsed": false,
    "ExecuteTime": {
     "end_time": "2024-01-24T13:57:23.738711400Z",
     "start_time": "2024-01-24T13:54:42.870379400Z"
    }
   },
   "id": "95951227311a6200",
   "execution_count": 9
  },
  {
   "cell_type": "code",
   "outputs": [],
   "source": [
    "df_similarity.to_excel('结构相似度1.xlsx')"
   ],
   "metadata": {
    "collapsed": false,
    "ExecuteTime": {
     "end_time": "2024-01-24T13:58:24.329511500Z",
     "start_time": "2024-01-24T13:58:12.378909500Z"
    }
   },
   "id": "b1d81c3eadfb3d6e",
   "execution_count": 10
  }
 ],
 "metadata": {
  "kernelspec": {
   "display_name": "Python 3",
   "language": "python",
   "name": "python3"
  },
  "language_info": {
   "codemirror_mode": {
    "name": "ipython",
    "version": 2
   },
   "file_extension": ".py",
   "mimetype": "text/x-python",
   "name": "python",
   "nbconvert_exporter": "python",
   "pygments_lexer": "ipython2",
   "version": "2.7.6"
  }
 },
 "nbformat": 4,
 "nbformat_minor": 5
}
