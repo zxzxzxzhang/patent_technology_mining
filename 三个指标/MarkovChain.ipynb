{
 "cells": [
  {
   "cell_type": "code",
   "execution_count": 1,
   "id": "initial_id",
   "metadata": {
    "ExecuteTime": {
     "end_time": "2024-02-22T06:20:03.686280200Z",
     "start_time": "2024-02-22T06:20:02.112024500Z"
    }
   },
   "outputs": [
    {
     "data": {
      "text/plain": "             公开(公告)号             [标]原始申请(专利权)人 原始申请(专利权)人地址   申请日 IPC主分类号  \\\n0       US62875872P0               拜爾拉吉克股份有限公司           US  2019       -   \n1       US62872589P0               拜爾拉吉克股份有限公司           US  2019       -   \n2          US675631A  FARBENFABEN OF ELBERFELD            -  1900    C07C   \n3    US20230250275A1                     ALGIX           US  2023    C08L   \n4    US20230212537A1                   CARBIOS           FR  2022    C12N   \n..               ...                       ...          ...   ...     ...   \n445      EP2294125A2                     罗盖特公司           FR  2009    C08L   \n446      EP2247661A2                     罗盖特公司           FR  2009    C08L   \n447      EP2144221B1                  株式会社LG化学           KR  2009    G09F   \n448      EP2144966A1                   法国阿科玛公司           FR  2008    C08L   \n449      EP1685201A1                     罗盖特公司           FR  2004    C09D   \n\n             类别  Year  \n0           未分类     2  \n1           未分类     2  \n2     聚合物及其制造工艺     1  \n3     聚合物及其制造工艺     3  \n4    微生物或酶、其组合物     3  \n..          ...   ...  \n445   聚合物及其制造工艺     1  \n446   聚合物及其制造工艺     1  \n447         未分类     1  \n448   聚合物及其制造工艺     1  \n449      涂料和粘合剂     1  \n\n[450 rows x 7 columns]",
      "text/html": "<div>\n<style scoped>\n    .dataframe tbody tr th:only-of-type {\n        vertical-align: middle;\n    }\n\n    .dataframe tbody tr th {\n        vertical-align: top;\n    }\n\n    .dataframe thead th {\n        text-align: right;\n    }\n</style>\n<table border=\"1\" class=\"dataframe\">\n  <thead>\n    <tr style=\"text-align: right;\">\n      <th></th>\n      <th>公开(公告)号</th>\n      <th>[标]原始申请(专利权)人</th>\n      <th>原始申请(专利权)人地址</th>\n      <th>申请日</th>\n      <th>IPC主分类号</th>\n      <th>类别</th>\n      <th>Year</th>\n    </tr>\n  </thead>\n  <tbody>\n    <tr>\n      <th>0</th>\n      <td>US62875872P0</td>\n      <td>拜爾拉吉克股份有限公司</td>\n      <td>US</td>\n      <td>2019</td>\n      <td>-</td>\n      <td>未分类</td>\n      <td>2</td>\n    </tr>\n    <tr>\n      <th>1</th>\n      <td>US62872589P0</td>\n      <td>拜爾拉吉克股份有限公司</td>\n      <td>US</td>\n      <td>2019</td>\n      <td>-</td>\n      <td>未分类</td>\n      <td>2</td>\n    </tr>\n    <tr>\n      <th>2</th>\n      <td>US675631A</td>\n      <td>FARBENFABEN OF ELBERFELD</td>\n      <td>-</td>\n      <td>1900</td>\n      <td>C07C</td>\n      <td>聚合物及其制造工艺</td>\n      <td>1</td>\n    </tr>\n    <tr>\n      <th>3</th>\n      <td>US20230250275A1</td>\n      <td>ALGIX</td>\n      <td>US</td>\n      <td>2023</td>\n      <td>C08L</td>\n      <td>聚合物及其制造工艺</td>\n      <td>3</td>\n    </tr>\n    <tr>\n      <th>4</th>\n      <td>US20230212537A1</td>\n      <td>CARBIOS</td>\n      <td>FR</td>\n      <td>2022</td>\n      <td>C12N</td>\n      <td>微生物或酶、其组合物</td>\n      <td>3</td>\n    </tr>\n    <tr>\n      <th>...</th>\n      <td>...</td>\n      <td>...</td>\n      <td>...</td>\n      <td>...</td>\n      <td>...</td>\n      <td>...</td>\n      <td>...</td>\n    </tr>\n    <tr>\n      <th>445</th>\n      <td>EP2294125A2</td>\n      <td>罗盖特公司</td>\n      <td>FR</td>\n      <td>2009</td>\n      <td>C08L</td>\n      <td>聚合物及其制造工艺</td>\n      <td>1</td>\n    </tr>\n    <tr>\n      <th>446</th>\n      <td>EP2247661A2</td>\n      <td>罗盖特公司</td>\n      <td>FR</td>\n      <td>2009</td>\n      <td>C08L</td>\n      <td>聚合物及其制造工艺</td>\n      <td>1</td>\n    </tr>\n    <tr>\n      <th>447</th>\n      <td>EP2144221B1</td>\n      <td>株式会社LG化学</td>\n      <td>KR</td>\n      <td>2009</td>\n      <td>G09F</td>\n      <td>未分类</td>\n      <td>1</td>\n    </tr>\n    <tr>\n      <th>448</th>\n      <td>EP2144966A1</td>\n      <td>法国阿科玛公司</td>\n      <td>FR</td>\n      <td>2008</td>\n      <td>C08L</td>\n      <td>聚合物及其制造工艺</td>\n      <td>1</td>\n    </tr>\n    <tr>\n      <th>449</th>\n      <td>EP1685201A1</td>\n      <td>罗盖特公司</td>\n      <td>FR</td>\n      <td>2004</td>\n      <td>C09D</td>\n      <td>涂料和粘合剂</td>\n      <td>1</td>\n    </tr>\n  </tbody>\n</table>\n<p>450 rows × 7 columns</p>\n</div>"
     },
     "execution_count": 1,
     "metadata": {},
     "output_type": "execute_result"
    }
   ],
   "source": [
    "import pandas as pd\n",
    "df = pd.read_excel(r'NewNewNew.xlsx')\n",
    "df"
   ]
  },
  {
   "cell_type": "code",
   "execution_count": 121,
   "id": "968ebd6db2162b8d",
   "metadata": {
    "collapsed": false,
    "ExecuteTime": {
     "end_time": "2024-02-22T05:18:18.424400300Z",
     "start_time": "2024-02-22T05:18:18.332369100Z"
    }
   },
   "outputs": [
    {
     "data": {
      "text/plain": "IPC主分类号   - A01G A01N A24D A61K A61L A62B A63H B01D B01J  ... D01D D01F D02G  \\\nYear                                                      ...                  \n1        L1   L1   L1   L2   L2   L2   L1   L1   L1   L1  ...   L1   L1   L1   \n2        L2   L2   L1   L2   L3   L1   L1   L2   L1   L2  ...   L1   L3   L2   \n3        L1   L2   L2   L2   L3   L1   L2   L1   L2   L1  ...   L2   L3   L1   \n\nIPC主分类号 D03D D04H D21H F42B G06F G09F H02J  \nYear                                        \n1         L1   L2   L2   L1   L2   L2   L1  \n2         L2   L1   L3   L2   L2   L2   L2  \n3         L2   L2   L2   L1   L1   L1   L2  \n\n[3 rows x 46 columns]",
      "text/html": "<div>\n<style scoped>\n    .dataframe tbody tr th:only-of-type {\n        vertical-align: middle;\n    }\n\n    .dataframe tbody tr th {\n        vertical-align: top;\n    }\n\n    .dataframe thead th {\n        text-align: right;\n    }\n</style>\n<table border=\"1\" class=\"dataframe\">\n  <thead>\n    <tr style=\"text-align: right;\">\n      <th>IPC主分类号</th>\n      <th>-</th>\n      <th>A01G</th>\n      <th>A01N</th>\n      <th>A24D</th>\n      <th>A61K</th>\n      <th>A61L</th>\n      <th>A62B</th>\n      <th>A63H</th>\n      <th>B01D</th>\n      <th>B01J</th>\n      <th>...</th>\n      <th>D01D</th>\n      <th>D01F</th>\n      <th>D02G</th>\n      <th>D03D</th>\n      <th>D04H</th>\n      <th>D21H</th>\n      <th>F42B</th>\n      <th>G06F</th>\n      <th>G09F</th>\n      <th>H02J</th>\n    </tr>\n    <tr>\n      <th>Year</th>\n      <th></th>\n      <th></th>\n      <th></th>\n      <th></th>\n      <th></th>\n      <th></th>\n      <th></th>\n      <th></th>\n      <th></th>\n      <th></th>\n      <th></th>\n      <th></th>\n      <th></th>\n      <th></th>\n      <th></th>\n      <th></th>\n      <th></th>\n      <th></th>\n      <th></th>\n      <th></th>\n      <th></th>\n    </tr>\n  </thead>\n  <tbody>\n    <tr>\n      <th>1</th>\n      <td>L1</td>\n      <td>L1</td>\n      <td>L1</td>\n      <td>L2</td>\n      <td>L2</td>\n      <td>L2</td>\n      <td>L1</td>\n      <td>L1</td>\n      <td>L1</td>\n      <td>L1</td>\n      <td>...</td>\n      <td>L1</td>\n      <td>L1</td>\n      <td>L1</td>\n      <td>L1</td>\n      <td>L2</td>\n      <td>L2</td>\n      <td>L1</td>\n      <td>L2</td>\n      <td>L2</td>\n      <td>L1</td>\n    </tr>\n    <tr>\n      <th>2</th>\n      <td>L2</td>\n      <td>L2</td>\n      <td>L1</td>\n      <td>L2</td>\n      <td>L3</td>\n      <td>L1</td>\n      <td>L1</td>\n      <td>L2</td>\n      <td>L1</td>\n      <td>L2</td>\n      <td>...</td>\n      <td>L1</td>\n      <td>L3</td>\n      <td>L2</td>\n      <td>L2</td>\n      <td>L1</td>\n      <td>L3</td>\n      <td>L2</td>\n      <td>L2</td>\n      <td>L2</td>\n      <td>L2</td>\n    </tr>\n    <tr>\n      <th>3</th>\n      <td>L1</td>\n      <td>L2</td>\n      <td>L2</td>\n      <td>L2</td>\n      <td>L3</td>\n      <td>L1</td>\n      <td>L2</td>\n      <td>L1</td>\n      <td>L2</td>\n      <td>L1</td>\n      <td>...</td>\n      <td>L2</td>\n      <td>L3</td>\n      <td>L1</td>\n      <td>L2</td>\n      <td>L2</td>\n      <td>L2</td>\n      <td>L1</td>\n      <td>L1</td>\n      <td>L1</td>\n      <td>L2</td>\n    </tr>\n  </tbody>\n</table>\n<p>3 rows × 46 columns</p>\n</div>"
     },
     "execution_count": 121,
     "metadata": {},
     "output_type": "execute_result"
    }
   ],
   "source": [
    "import pandas as pd\n",
    "import numpy as np\n",
    "\n",
    "# 将申请日列转换为datetime格式，并提取年份作为新的一列\n",
    "\n",
    "# 按照年份和IPC主分类号分组，统计每个年份和IPC主分类号下的专利数量\n",
    "grouped = df.groupby(['Year', 'IPC主分类号'])['IPC主分类号'].count().reset_index(name='count')\n",
    "\n",
    "# 根据专利数量将数据框分组，并计算每组中的年份数量\n",
    "bins = [-1, 0, 2, 6, 12, 16, np.inf]\n",
    "levels = ['L1', 'L2', 'L3', 'L4', 'L5', 'L6']\n",
    "grouped['label'] = pd.cut(grouped['count'], bins=bins, labels=levels )\n",
    "result = grouped.groupby(['IPC主分类号', 'Year'])['label'].first().unstack(fill_value='L1')\n",
    "result = result.transpose()\n",
    "result"
   ]
  },
  {
   "cell_type": "code",
   "execution_count": 122,
   "id": "bb04ee28d7876982",
   "metadata": {
    "collapsed": false,
    "ExecuteTime": {
     "end_time": "2024-02-22T05:18:18.436298Z",
     "start_time": "2024-02-22T05:18:18.376595Z"
    }
   },
   "outputs": [],
   "source": [
    "result.to_excel('result.xlsx')"
   ]
  },
  {
   "cell_type": "code",
   "execution_count": 123,
   "id": "d043a15f36be7375",
   "metadata": {
    "collapsed": false,
    "ExecuteTime": {
     "end_time": "2024-02-22T05:18:18.506308400Z",
     "start_time": "2024-02-22T05:18:18.424400300Z"
    }
   },
   "outputs": [
    {
     "data": {
      "text/plain": "   Year   - A01G A01N A24D A61K A61L A62B A63H B01D  ... D01D D01F D02G D03D  \\\n0     1  L1   L1   L1   L2   L2   L2   L1   L1   L1  ...   L1   L1   L1   L1   \n1     2  L2   L2   L1   L2   L3   L1   L1   L2   L1  ...   L1   L3   L2   L2   \n2     3  L1   L2   L2   L2   L3   L1   L2   L1   L2  ...   L2   L3   L1   L2   \n\n  D04H D21H F42B G06F G09F H02J  \n0   L2   L2   L1   L2   L2   L1  \n1   L1   L3   L2   L2   L2   L2  \n2   L2   L2   L1   L1   L1   L2  \n\n[3 rows x 47 columns]",
      "text/html": "<div>\n<style scoped>\n    .dataframe tbody tr th:only-of-type {\n        vertical-align: middle;\n    }\n\n    .dataframe tbody tr th {\n        vertical-align: top;\n    }\n\n    .dataframe thead th {\n        text-align: right;\n    }\n</style>\n<table border=\"1\" class=\"dataframe\">\n  <thead>\n    <tr style=\"text-align: right;\">\n      <th></th>\n      <th>Year</th>\n      <th>-</th>\n      <th>A01G</th>\n      <th>A01N</th>\n      <th>A24D</th>\n      <th>A61K</th>\n      <th>A61L</th>\n      <th>A62B</th>\n      <th>A63H</th>\n      <th>B01D</th>\n      <th>...</th>\n      <th>D01D</th>\n      <th>D01F</th>\n      <th>D02G</th>\n      <th>D03D</th>\n      <th>D04H</th>\n      <th>D21H</th>\n      <th>F42B</th>\n      <th>G06F</th>\n      <th>G09F</th>\n      <th>H02J</th>\n    </tr>\n  </thead>\n  <tbody>\n    <tr>\n      <th>0</th>\n      <td>1</td>\n      <td>L1</td>\n      <td>L1</td>\n      <td>L1</td>\n      <td>L2</td>\n      <td>L2</td>\n      <td>L2</td>\n      <td>L1</td>\n      <td>L1</td>\n      <td>L1</td>\n      <td>...</td>\n      <td>L1</td>\n      <td>L1</td>\n      <td>L1</td>\n      <td>L1</td>\n      <td>L2</td>\n      <td>L2</td>\n      <td>L1</td>\n      <td>L2</td>\n      <td>L2</td>\n      <td>L1</td>\n    </tr>\n    <tr>\n      <th>1</th>\n      <td>2</td>\n      <td>L2</td>\n      <td>L2</td>\n      <td>L1</td>\n      <td>L2</td>\n      <td>L3</td>\n      <td>L1</td>\n      <td>L1</td>\n      <td>L2</td>\n      <td>L1</td>\n      <td>...</td>\n      <td>L1</td>\n      <td>L3</td>\n      <td>L2</td>\n      <td>L2</td>\n      <td>L1</td>\n      <td>L3</td>\n      <td>L2</td>\n      <td>L2</td>\n      <td>L2</td>\n      <td>L2</td>\n    </tr>\n    <tr>\n      <th>2</th>\n      <td>3</td>\n      <td>L1</td>\n      <td>L2</td>\n      <td>L2</td>\n      <td>L2</td>\n      <td>L3</td>\n      <td>L1</td>\n      <td>L2</td>\n      <td>L1</td>\n      <td>L2</td>\n      <td>...</td>\n      <td>L2</td>\n      <td>L3</td>\n      <td>L1</td>\n      <td>L2</td>\n      <td>L2</td>\n      <td>L2</td>\n      <td>L1</td>\n      <td>L1</td>\n      <td>L1</td>\n      <td>L2</td>\n    </tr>\n  </tbody>\n</table>\n<p>3 rows × 47 columns</p>\n</div>"
     },
     "execution_count": 123,
     "metadata": {},
     "output_type": "execute_result"
    }
   ],
   "source": [
    "import pandas as pd\n",
    "df = pd.read_excel(r'result.xlsx')\n",
    "df"
   ]
  },
  {
   "cell_type": "code",
   "execution_count": 124,
   "id": "9e0c1e04c71adbdd",
   "metadata": {
    "collapsed": false,
    "ExecuteTime": {
     "end_time": "2024-02-22T05:18:18.619739400Z",
     "start_time": "2024-02-22T05:18:18.455296600Z"
    }
   },
   "outputs": [],
   "source": [
    "# 将year列转换为datetime格式，并提取年份作为新的一列\n",
    "LF = ['L1', 'L2', 'L3', 'L4', 'L5', 'L6']\n",
    "LR = ['L1', 'L2', 'L3', 'L4', 'L5', 'L6']"
   ]
  },
  {
   "cell_type": "code",
   "execution_count": 125,
   "id": "50deba817ea482cd",
   "metadata": {
    "collapsed": false,
    "ExecuteTime": {
     "end_time": "2024-02-22T05:18:18.620739300Z",
     "start_time": "2024-02-22T05:18:18.471803400Z"
    }
   },
   "outputs": [],
   "source": [
    "# 创建转移矩阵\n",
    "transition_matrix = np.zeros((len(levels), len(levels)))"
   ]
  },
  {
   "cell_type": "code",
   "execution_count": 126,
   "id": "be6ffa046247d061",
   "metadata": {
    "collapsed": false,
    "ExecuteTime": {
     "end_time": "2024-02-22T05:18:18.621738600Z",
     "start_time": "2024-02-22T05:18:18.491266Z"
    }
   },
   "outputs": [],
   "source": [
    "import numpy as np\n",
    "# 计算转移概率\n",
    "def compute_transition_matrix(t, T, LF, LR):\n",
    "    transition_matrix = np.zeros((len(LF), len(LR)))\n",
    "    for i in range(len(LF)):\n",
    "        for j in range(len(LR)):\n",
    "            ma = 0\n",
    "            columns = []\n",
    "            for column in df.columns:\n",
    "                if column != 'Year':\n",
    "                    if (df[df['Year'] == t][column] == LF[i]).any():\n",
    "                        ma += 1\n",
    "                        columns.append(column)\n",
    "            mab = 0\n",
    "            for column in columns:\n",
    "                mab += (df[df['Year'] == T][column] == LR[j]).sum()\n",
    "            if ma == 0:\n",
    "                Mab = 0\n",
    "            else:\n",
    "                Mab = mab / ma\n",
    "            transition_matrix[i, j] = Mab\n",
    "    return transition_matrix"
   ]
  },
  {
   "cell_type": "code",
   "execution_count": 127,
   "id": "97b2017d9fd94d27",
   "metadata": {
    "collapsed": false,
    "ExecuteTime": {
     "end_time": "2024-02-22T05:18:19.217610500Z",
     "start_time": "2024-02-22T05:18:18.502312100Z"
    }
   },
   "outputs": [],
   "source": [
    "# 计算转移矩阵\n",
    "t = 1\n",
    "T = 2\n",
    "transition_matrix = compute_transition_matrix(t, T, LF, LR)"
   ]
  },
  {
   "cell_type": "code",
   "execution_count": 128,
   "id": "3304acde7e35e333",
   "metadata": {
    "collapsed": false,
    "ExecuteTime": {
     "end_time": "2024-02-22T05:18:19.219749200Z",
     "start_time": "2024-02-22T05:18:19.174774900Z"
    }
   },
   "outputs": [
    {
     "data": {
      "text/plain": "          L1        L2        L3        L4   L5        L6\nL1  0.250000  0.678571  0.035714  0.035714  0.0  0.000000\nL2  0.214286  0.285714  0.285714  0.142857  0.0  0.071429\nL3  0.000000  0.000000  0.000000  0.333333  0.0  0.666667\nL4  0.000000  0.000000  0.000000  0.000000  0.0  0.000000\nL5  0.000000  0.000000  0.000000  0.000000  0.0  0.000000\nL6  0.000000  0.000000  0.000000  0.000000  0.0  1.000000",
      "text/html": "<div>\n<style scoped>\n    .dataframe tbody tr th:only-of-type {\n        vertical-align: middle;\n    }\n\n    .dataframe tbody tr th {\n        vertical-align: top;\n    }\n\n    .dataframe thead th {\n        text-align: right;\n    }\n</style>\n<table border=\"1\" class=\"dataframe\">\n  <thead>\n    <tr style=\"text-align: right;\">\n      <th></th>\n      <th>L1</th>\n      <th>L2</th>\n      <th>L3</th>\n      <th>L4</th>\n      <th>L5</th>\n      <th>L6</th>\n    </tr>\n  </thead>\n  <tbody>\n    <tr>\n      <th>L1</th>\n      <td>0.250000</td>\n      <td>0.678571</td>\n      <td>0.035714</td>\n      <td>0.035714</td>\n      <td>0.0</td>\n      <td>0.000000</td>\n    </tr>\n    <tr>\n      <th>L2</th>\n      <td>0.214286</td>\n      <td>0.285714</td>\n      <td>0.285714</td>\n      <td>0.142857</td>\n      <td>0.0</td>\n      <td>0.071429</td>\n    </tr>\n    <tr>\n      <th>L3</th>\n      <td>0.000000</td>\n      <td>0.000000</td>\n      <td>0.000000</td>\n      <td>0.333333</td>\n      <td>0.0</td>\n      <td>0.666667</td>\n    </tr>\n    <tr>\n      <th>L4</th>\n      <td>0.000000</td>\n      <td>0.000000</td>\n      <td>0.000000</td>\n      <td>0.000000</td>\n      <td>0.0</td>\n      <td>0.000000</td>\n    </tr>\n    <tr>\n      <th>L5</th>\n      <td>0.000000</td>\n      <td>0.000000</td>\n      <td>0.000000</td>\n      <td>0.000000</td>\n      <td>0.0</td>\n      <td>0.000000</td>\n    </tr>\n    <tr>\n      <th>L6</th>\n      <td>0.000000</td>\n      <td>0.000000</td>\n      <td>0.000000</td>\n      <td>0.000000</td>\n      <td>0.0</td>\n      <td>1.000000</td>\n    </tr>\n  </tbody>\n</table>\n</div>"
     },
     "execution_count": 128,
     "metadata": {},
     "output_type": "execute_result"
    }
   ],
   "source": [
    "Markov_matrix = pd.DataFrame(transition_matrix, index=levels, columns=levels)\n",
    "Markov_matrix"
   ]
  },
  {
   "cell_type": "code",
   "execution_count": 129,
   "id": "65acb0ea-35d1-4c47-8259-bee1f3770fb1",
   "metadata": {
    "ExecuteTime": {
     "end_time": "2024-02-22T05:18:19.227741300Z",
     "start_time": "2024-02-22T05:18:19.191873400Z"
    }
   },
   "outputs": [],
   "source": [
    "Markov_matrix.to_csv('Markov_matrix.csv')"
   ]
  },
  {
   "cell_type": "code",
   "outputs": [
    {
     "ename": "KeyError",
     "evalue": "'L6'",
     "output_type": "error",
     "traceback": [
      "\u001B[1;31m---------------------------------------------------------------------------\u001B[0m",
      "\u001B[1;31mKeyError\u001B[0m                                  Traceback (most recent call last)",
      "Cell \u001B[1;32mIn[130], line 27\u001B[0m\n\u001B[0;32m     23\u001B[0m     \u001B[38;5;28;01mreturn\u001B[39;00m positive_transitions, negative_transitions\n\u001B[0;32m     25\u001B[0m data \u001B[38;5;241m=\u001B[39m pd\u001B[38;5;241m.\u001B[39mread_excel(\u001B[38;5;124m'\u001B[39m\u001B[38;5;124mresult.xlsx\u001B[39m\u001B[38;5;124m'\u001B[39m)\n\u001B[1;32m---> 27\u001B[0m positive, negative \u001B[38;5;241m=\u001B[39m \u001B[43midentify_transitions\u001B[49m\u001B[43m(\u001B[49m\u001B[43mdata\u001B[49m\u001B[43m,\u001B[49m\u001B[43m \u001B[49m\u001B[38;5;241;43m1\u001B[39;49m\u001B[43m,\u001B[49m\u001B[43m \u001B[49m\u001B[38;5;241;43m2\u001B[39;49m\u001B[43m)\u001B[49m\n\u001B[0;32m     29\u001B[0m \u001B[38;5;28mprint\u001B[39m(\u001B[38;5;124m\"\u001B[39m\u001B[38;5;124m正向转移:\u001B[39m\u001B[38;5;124m\"\u001B[39m, positive)\n\u001B[0;32m     30\u001B[0m \u001B[38;5;28mprint\u001B[39m(\u001B[38;5;124m\"\u001B[39m\u001B[38;5;124m负向转移:\u001B[39m\u001B[38;5;124m\"\u001B[39m, negative)\n",
      "Cell \u001B[1;32mIn[130], line 16\u001B[0m, in \u001B[0;36midentify_transitions\u001B[1;34m(df, year1, year2)\u001B[0m\n\u001B[0;32m     14\u001B[0m \u001B[38;5;28;01mfor\u001B[39;00m column \u001B[38;5;129;01min\u001B[39;00m df\u001B[38;5;241m.\u001B[39mcolumns[\u001B[38;5;241m1\u001B[39m:]:\n\u001B[0;32m     15\u001B[0m     level_year1 \u001B[38;5;241m=\u001B[39m levels[df_year1[column]]\n\u001B[1;32m---> 16\u001B[0m     level_year2 \u001B[38;5;241m=\u001B[39m \u001B[43mlevels\u001B[49m\u001B[43m[\u001B[49m\u001B[43mdf_year2\u001B[49m\u001B[43m[\u001B[49m\u001B[43mcolumn\u001B[49m\u001B[43m]\u001B[49m\u001B[43m]\u001B[49m\n\u001B[0;32m     18\u001B[0m     \u001B[38;5;28;01mif\u001B[39;00m level_year1 \u001B[38;5;241m<\u001B[39m level_year2:\n\u001B[0;32m     19\u001B[0m         positive_transitions\u001B[38;5;241m.\u001B[39mappend(\u001B[38;5;124mf\u001B[39m\u001B[38;5;124m\"\u001B[39m\u001B[38;5;132;01m{\u001B[39;00mcolumn\u001B[38;5;132;01m}\u001B[39;00m\u001B[38;5;124m: L\u001B[39m\u001B[38;5;132;01m{\u001B[39;00mlevel_year1\u001B[38;5;132;01m}\u001B[39;00m\u001B[38;5;124m -> L\u001B[39m\u001B[38;5;132;01m{\u001B[39;00mlevel_year2\u001B[38;5;132;01m}\u001B[39;00m\u001B[38;5;124m\"\u001B[39m)\n",
      "\u001B[1;31mKeyError\u001B[0m: 'L6'"
     ]
    }
   ],
   "source": [
    "import pandas as pd\n",
    "\n",
    "def identify_transitions(df, year1, year2):\n",
    "\n",
    "    df_year1 = df[df['Year'] == year1].iloc[0]\n",
    "    df_year2 = df[df['Year'] == year2].iloc[0]\n",
    "\n",
    "    positive_transitions = []\n",
    "    negative_transitions = []\n",
    "\n",
    "    levels = {'L1': 1, 'L2': 2, 'L3': 3, 'L4': 4}\n",
    "\n",
    "\n",
    "    for column in df.columns[1:]:\n",
    "        level_year1 = levels[df_year1[column]]\n",
    "        level_year2 = levels[df_year2[column]]\n",
    "\n",
    "        if level_year1 < level_year2:\n",
    "            positive_transitions.append(f\"{column}: L{level_year1} -> L{level_year2}\")\n",
    "        elif level_year1 > level_year2:\n",
    "            negative_transitions.append(f\"{column}: L{level_year1} -> L{level_year2}\")\n",
    "\n",
    "    return positive_transitions, negative_transitions\n",
    "\n",
    "data = pd.read_excel('result.xlsx')\n",
    "\n",
    "positive, negative = identify_transitions(data, 1, 2)\n",
    "\n",
    "print(\"正向转移:\", positive)\n",
    "print(\"负向转移:\", negative)"
   ],
   "metadata": {
    "collapsed": false,
    "ExecuteTime": {
     "end_time": "2024-02-22T05:18:19.365168500Z",
     "start_time": "2024-02-22T05:18:19.209611400Z"
    }
   },
   "id": "4d4eb277bd8a11d3",
   "execution_count": 130
  },
  {
   "cell_type": "code",
   "outputs": [],
   "source": [],
   "metadata": {
    "collapsed": false,
    "ExecuteTime": {
     "start_time": "2024-02-22T05:18:19.274123300Z"
    }
   },
   "id": "4db3eb097cc576d6",
   "execution_count": null
  }
 ],
 "metadata": {
  "kernelspec": {
   "display_name": "Python 3 (ipykernel)",
   "language": "python",
   "name": "python3"
  },
  "language_info": {
   "codemirror_mode": {
    "name": "ipython",
    "version": 3
   },
   "file_extension": ".py",
   "mimetype": "text/x-python",
   "name": "python",
   "nbconvert_exporter": "python",
   "pygments_lexer": "ipython3",
   "version": "3.9.18"
  }
 },
 "nbformat": 4,
 "nbformat_minor": 5
}
