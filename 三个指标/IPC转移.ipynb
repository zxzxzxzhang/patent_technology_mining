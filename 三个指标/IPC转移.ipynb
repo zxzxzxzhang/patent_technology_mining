{
 "cells": [
  {
   "cell_type": "code",
   "execution_count": 2,
   "id": "initial_id",
   "metadata": {
    "collapsed": true,
    "ExecuteTime": {
     "end_time": "2024-02-22T03:28:35.410850Z",
     "start_time": "2024-02-22T03:28:35.373545Z"
    }
   },
   "outputs": [
    {
     "name": "stdout",
     "output_type": "stream",
     "text": [
      "正向转移: ['A01G: L1 -> L2', 'A24D: L1 -> L2', 'A61K: L2 -> L3', 'B01D: L1 -> L3', 'B26B: L1 -> L2', 'B29B: L1 -> L2', 'B29C: L2 -> L3', 'B32B: L2 -> L3', 'B65D: L1 -> L3', 'C02F: L1 -> L2', 'C08B: L1 -> L2', 'C08F: L1 -> L2', 'C08G: L1 -> L3', 'C08J: L2 -> L4', 'C08K: L3 -> L4', 'C12N: L1 -> L3', 'D01D: L1 -> L2', 'D01F: L1 -> L3']\n",
      "负向转移: ['C08H: L2 -> L1']\n"
     ]
    }
   ],
   "source": [
    "import pandas as pd\n",
    "\n",
    "def identify_transitions(df, year1, year2):\n",
    "    df['year'] = pd.to_datetime(df['year']).dt.year\n",
    "\n",
    "    df_year1 = df[df['year'] == year1].iloc[0]\n",
    "    df_year2 = df[df['year'] == year2].iloc[0]\n",
    "\n",
    "    positive_transitions = []\n",
    "    negative_transitions = []\n",
    "\n",
    "    levels = {'L1': 1, 'L2': 2, 'L3': 3, 'L4': 4}\n",
    "\n",
    "    for column in df.columns[1:]:\n",
    "        level_year1 = levels[df_year1[column]]\n",
    "        level_year2 = levels[df_year2[column]]\n",
    "\n",
    "        if level_year1 < level_year2:\n",
    "            positive_transitions.append(f\"{column}: L{level_year1} -> L{level_year2}\")\n",
    "        elif level_year1 > level_year2:\n",
    "            negative_transitions.append(f\"{column}: L{level_year1} -> L{level_year2}\")\n",
    "\n",
    "    return positive_transitions, negative_transitions\n",
    "\n",
    "data = pd.read_excel('resultIPC.xlsx')\n",
    "\n",
    "positive, negative = identify_transitions(data, 2011, 2020)\n",
    "\n",
    "print(\"正向转移:\", positive)\n",
    "print(\"负向转移:\", negative)"
   ]
  },
  {
   "cell_type": "code",
   "execution_count": null,
   "outputs": [],
   "source": [],
   "metadata": {
    "collapsed": false
   },
   "id": "a046298f6cd8c988"
  }
 ],
 "metadata": {
  "kernelspec": {
   "display_name": "Python 3",
   "language": "python",
   "name": "python3"
  },
  "language_info": {
   "codemirror_mode": {
    "name": "ipython",
    "version": 2
   },
   "file_extension": ".py",
   "mimetype": "text/x-python",
   "name": "python",
   "nbconvert_exporter": "python",
   "pygments_lexer": "ipython2",
   "version": "2.7.6"
  }
 },
 "nbformat": 4,
 "nbformat_minor": 5
}
