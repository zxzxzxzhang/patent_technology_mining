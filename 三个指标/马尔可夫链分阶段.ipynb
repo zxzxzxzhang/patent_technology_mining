{
 "cells": [
  {
   "cell_type": "code",
   "execution_count": 171,
   "outputs": [
    {
     "data": {
      "text/plain": "             公开(公告)号             [标]原始申请(专利权)人 原始申请(专利权)人地址   申请日 IPC主分类号  \\\n0       US62875872P0               拜爾拉吉克股份有限公司           US  2019       -   \n1       US62872589P0               拜爾拉吉克股份有限公司           US  2019       -   \n2          US675631A  FARBENFABEN OF ELBERFELD            -  1900    C07C   \n3    US20230250275A1                     ALGIX           US  2023    C08L   \n4    US20230212537A1                   CARBIOS           FR  2022    C12N   \n..               ...                       ...          ...   ...     ...   \n445      EP2294125A2                     罗盖特公司           FR  2009    C08L   \n446      EP2247661A2                     罗盖特公司           FR  2009    C08L   \n447      EP2144221B1                  株式会社LG化学           KR  2009    G09F   \n448      EP2144966A1                   法国阿科玛公司           FR  2008    C08L   \n449      EP1685201A1                     罗盖特公司           FR  2004    C09D   \n\n             类别  Year  \n0           未分类     2  \n1           未分类     2  \n2     聚合物及其制造工艺     1  \n3     聚合物及其制造工艺     3  \n4    微生物或酶、其组合物     3  \n..          ...   ...  \n445   聚合物及其制造工艺     1  \n446   聚合物及其制造工艺     1  \n447         未分类     1  \n448   聚合物及其制造工艺     1  \n449      涂料和粘合剂     1  \n\n[450 rows x 7 columns]",
      "text/html": "<div>\n<style scoped>\n    .dataframe tbody tr th:only-of-type {\n        vertical-align: middle;\n    }\n\n    .dataframe tbody tr th {\n        vertical-align: top;\n    }\n\n    .dataframe thead th {\n        text-align: right;\n    }\n</style>\n<table border=\"1\" class=\"dataframe\">\n  <thead>\n    <tr style=\"text-align: right;\">\n      <th></th>\n      <th>公开(公告)号</th>\n      <th>[标]原始申请(专利权)人</th>\n      <th>原始申请(专利权)人地址</th>\n      <th>申请日</th>\n      <th>IPC主分类号</th>\n      <th>类别</th>\n      <th>Year</th>\n    </tr>\n  </thead>\n  <tbody>\n    <tr>\n      <th>0</th>\n      <td>US62875872P0</td>\n      <td>拜爾拉吉克股份有限公司</td>\n      <td>US</td>\n      <td>2019</td>\n      <td>-</td>\n      <td>未分类</td>\n      <td>2</td>\n    </tr>\n    <tr>\n      <th>1</th>\n      <td>US62872589P0</td>\n      <td>拜爾拉吉克股份有限公司</td>\n      <td>US</td>\n      <td>2019</td>\n      <td>-</td>\n      <td>未分类</td>\n      <td>2</td>\n    </tr>\n    <tr>\n      <th>2</th>\n      <td>US675631A</td>\n      <td>FARBENFABEN OF ELBERFELD</td>\n      <td>-</td>\n      <td>1900</td>\n      <td>C07C</td>\n      <td>聚合物及其制造工艺</td>\n      <td>1</td>\n    </tr>\n    <tr>\n      <th>3</th>\n      <td>US20230250275A1</td>\n      <td>ALGIX</td>\n      <td>US</td>\n      <td>2023</td>\n      <td>C08L</td>\n      <td>聚合物及其制造工艺</td>\n      <td>3</td>\n    </tr>\n    <tr>\n      <th>4</th>\n      <td>US20230212537A1</td>\n      <td>CARBIOS</td>\n      <td>FR</td>\n      <td>2022</td>\n      <td>C12N</td>\n      <td>微生物或酶、其组合物</td>\n      <td>3</td>\n    </tr>\n    <tr>\n      <th>...</th>\n      <td>...</td>\n      <td>...</td>\n      <td>...</td>\n      <td>...</td>\n      <td>...</td>\n      <td>...</td>\n      <td>...</td>\n    </tr>\n    <tr>\n      <th>445</th>\n      <td>EP2294125A2</td>\n      <td>罗盖特公司</td>\n      <td>FR</td>\n      <td>2009</td>\n      <td>C08L</td>\n      <td>聚合物及其制造工艺</td>\n      <td>1</td>\n    </tr>\n    <tr>\n      <th>446</th>\n      <td>EP2247661A2</td>\n      <td>罗盖特公司</td>\n      <td>FR</td>\n      <td>2009</td>\n      <td>C08L</td>\n      <td>聚合物及其制造工艺</td>\n      <td>1</td>\n    </tr>\n    <tr>\n      <th>447</th>\n      <td>EP2144221B1</td>\n      <td>株式会社LG化学</td>\n      <td>KR</td>\n      <td>2009</td>\n      <td>G09F</td>\n      <td>未分类</td>\n      <td>1</td>\n    </tr>\n    <tr>\n      <th>448</th>\n      <td>EP2144966A1</td>\n      <td>法国阿科玛公司</td>\n      <td>FR</td>\n      <td>2008</td>\n      <td>C08L</td>\n      <td>聚合物及其制造工艺</td>\n      <td>1</td>\n    </tr>\n    <tr>\n      <th>449</th>\n      <td>EP1685201A1</td>\n      <td>罗盖特公司</td>\n      <td>FR</td>\n      <td>2004</td>\n      <td>C09D</td>\n      <td>涂料和粘合剂</td>\n      <td>1</td>\n    </tr>\n  </tbody>\n</table>\n<p>450 rows × 7 columns</p>\n</div>"
     },
     "execution_count": 171,
     "metadata": {},
     "output_type": "execute_result"
    }
   ],
   "source": [
    "import pandas as pd\n",
    "df = pd.read_excel(r'NewNewNew(1).xlsx')\n",
    "df"
   ],
   "metadata": {
    "collapsed": false,
    "ExecuteTime": {
     "end_time": "2024-02-22T06:11:22.995687Z",
     "start_time": "2024-02-22T06:11:22.928845Z"
    }
   },
   "id": "initial_id"
  },
  {
   "cell_type": "code",
   "execution_count": 172,
   "id": "968ebd6db2162b8d",
   "metadata": {
    "collapsed": false,
    "ExecuteTime": {
     "end_time": "2024-02-22T06:11:23.181451Z",
     "start_time": "2024-02-22T06:11:23.157926Z"
    }
   },
   "outputs": [
    {
     "data": {
      "text/plain": "IPC主分类号   - A01G A01N A24D A61K A61L A62B A63H B01D B01J  ... D01D D01F D02G  \\\nyear                                                      ...                  \n1        L1   L1   L1   L3   L3   L2   L1   L1   L1   L1  ...   L1   L1   L1   \n2        L3   L3   L1   L3   L3   L1   L1   L2   L1   L2  ...   L1   L3   L2   \n3        L1   L2   L3   L2   L3   L1   L2   L1   L3   L1  ...   L3   L3   L1   \n\nIPC主分类号 D03D D04H D21H F42B G06F G09F H02J  \nyear                                        \n1         L1   L2   L2   L1   L2   L2   L1  \n2         L2   L1   L3   L2   L3   L3   L2  \n3         L2   L2   L2   L1   L1   L1   L2  \n\n[3 rows x 46 columns]",
      "text/html": "<div>\n<style scoped>\n    .dataframe tbody tr th:only-of-type {\n        vertical-align: middle;\n    }\n\n    .dataframe tbody tr th {\n        vertical-align: top;\n    }\n\n    .dataframe thead th {\n        text-align: right;\n    }\n</style>\n<table border=\"1\" class=\"dataframe\">\n  <thead>\n    <tr style=\"text-align: right;\">\n      <th>IPC主分类号</th>\n      <th>-</th>\n      <th>A01G</th>\n      <th>A01N</th>\n      <th>A24D</th>\n      <th>A61K</th>\n      <th>A61L</th>\n      <th>A62B</th>\n      <th>A63H</th>\n      <th>B01D</th>\n      <th>B01J</th>\n      <th>...</th>\n      <th>D01D</th>\n      <th>D01F</th>\n      <th>D02G</th>\n      <th>D03D</th>\n      <th>D04H</th>\n      <th>D21H</th>\n      <th>F42B</th>\n      <th>G06F</th>\n      <th>G09F</th>\n      <th>H02J</th>\n    </tr>\n    <tr>\n      <th>year</th>\n      <th></th>\n      <th></th>\n      <th></th>\n      <th></th>\n      <th></th>\n      <th></th>\n      <th></th>\n      <th></th>\n      <th></th>\n      <th></th>\n      <th></th>\n      <th></th>\n      <th></th>\n      <th></th>\n      <th></th>\n      <th></th>\n      <th></th>\n      <th></th>\n      <th></th>\n      <th></th>\n      <th></th>\n    </tr>\n  </thead>\n  <tbody>\n    <tr>\n      <th>1</th>\n      <td>L1</td>\n      <td>L1</td>\n      <td>L1</td>\n      <td>L3</td>\n      <td>L3</td>\n      <td>L2</td>\n      <td>L1</td>\n      <td>L1</td>\n      <td>L1</td>\n      <td>L1</td>\n      <td>...</td>\n      <td>L1</td>\n      <td>L1</td>\n      <td>L1</td>\n      <td>L1</td>\n      <td>L2</td>\n      <td>L2</td>\n      <td>L1</td>\n      <td>L2</td>\n      <td>L2</td>\n      <td>L1</td>\n    </tr>\n    <tr>\n      <th>2</th>\n      <td>L3</td>\n      <td>L3</td>\n      <td>L1</td>\n      <td>L3</td>\n      <td>L3</td>\n      <td>L1</td>\n      <td>L1</td>\n      <td>L2</td>\n      <td>L1</td>\n      <td>L2</td>\n      <td>...</td>\n      <td>L1</td>\n      <td>L3</td>\n      <td>L2</td>\n      <td>L2</td>\n      <td>L1</td>\n      <td>L3</td>\n      <td>L2</td>\n      <td>L3</td>\n      <td>L3</td>\n      <td>L2</td>\n    </tr>\n    <tr>\n      <th>3</th>\n      <td>L1</td>\n      <td>L2</td>\n      <td>L3</td>\n      <td>L2</td>\n      <td>L3</td>\n      <td>L1</td>\n      <td>L2</td>\n      <td>L1</td>\n      <td>L3</td>\n      <td>L1</td>\n      <td>...</td>\n      <td>L3</td>\n      <td>L3</td>\n      <td>L1</td>\n      <td>L2</td>\n      <td>L2</td>\n      <td>L2</td>\n      <td>L1</td>\n      <td>L1</td>\n      <td>L1</td>\n      <td>L2</td>\n    </tr>\n  </tbody>\n</table>\n<p>3 rows × 46 columns</p>\n</div>"
     },
     "execution_count": 172,
     "metadata": {},
     "output_type": "execute_result"
    }
   ],
   "source": [
    "import pandas as pd\n",
    "import numpy as np\n",
    "\n",
    "# 将申请日列转换为datetime格式，并提取年份作为新的一列\n",
    "df['year'] = df['Year']\n",
    "\n",
    "# 按照年份和IPC主分类号分组，统计每个年份和IPC主分类号下的专利数量\n",
    "grouped = df.groupby(['year', 'IPC主分类号'])['IPC主分类号'].count().reset_index(name='count')\n",
    "\n",
    "# 根据专利数量将数据框分组，并计算每组中的年份数量\n",
    "bins = [-np.inf, 0, 1, 10, 20, np.inf]\n",
    "levels = ['L1', 'L2', 'L3', 'L4', 'L5']\n",
    "grouped['label'] = pd.cut(grouped['count'], bins=bins, labels=levels)\n",
    "result = grouped.groupby(['IPC主分类号', 'year'])['label'].first().unstack(fill_value='L1')\n",
    "result = result.transpose()\n",
    "result"
   ]
  },
  {
   "cell_type": "code",
   "execution_count": 173,
   "id": "bb04ee28d7876982",
   "metadata": {
    "collapsed": false,
    "ExecuteTime": {
     "end_time": "2024-02-22T06:11:23.437616Z",
     "start_time": "2024-02-22T06:11:23.412956Z"
    }
   },
   "outputs": [],
   "source": [
    "result.to_excel('resultIPC分阶段_5类.xlsx')"
   ]
  },
  {
   "cell_type": "code",
   "execution_count": 174,
   "id": "d043a15f36be7375",
   "metadata": {
    "collapsed": false,
    "ExecuteTime": {
     "end_time": "2024-02-22T06:11:23.574211Z",
     "start_time": "2024-02-22T06:11:23.553685Z"
    }
   },
   "outputs": [
    {
     "data": {
      "text/plain": "   year   - A01G A01N A24D A61K A61L A62B A63H B01D  ... D01D D01F D02G D03D  \\\n0     1  L1   L1   L1   L3   L3   L2   L1   L1   L1  ...   L1   L1   L1   L1   \n1     2  L3   L3   L1   L3   L3   L1   L1   L2   L1  ...   L1   L3   L2   L2   \n2     3  L1   L2   L3   L2   L3   L1   L2   L1   L3  ...   L3   L3   L1   L2   \n\n  D04H D21H F42B G06F G09F H02J  \n0   L2   L2   L1   L2   L2   L1  \n1   L1   L3   L2   L3   L3   L2  \n2   L2   L2   L1   L1   L1   L2  \n\n[3 rows x 47 columns]",
      "text/html": "<div>\n<style scoped>\n    .dataframe tbody tr th:only-of-type {\n        vertical-align: middle;\n    }\n\n    .dataframe tbody tr th {\n        vertical-align: top;\n    }\n\n    .dataframe thead th {\n        text-align: right;\n    }\n</style>\n<table border=\"1\" class=\"dataframe\">\n  <thead>\n    <tr style=\"text-align: right;\">\n      <th></th>\n      <th>year</th>\n      <th>-</th>\n      <th>A01G</th>\n      <th>A01N</th>\n      <th>A24D</th>\n      <th>A61K</th>\n      <th>A61L</th>\n      <th>A62B</th>\n      <th>A63H</th>\n      <th>B01D</th>\n      <th>...</th>\n      <th>D01D</th>\n      <th>D01F</th>\n      <th>D02G</th>\n      <th>D03D</th>\n      <th>D04H</th>\n      <th>D21H</th>\n      <th>F42B</th>\n      <th>G06F</th>\n      <th>G09F</th>\n      <th>H02J</th>\n    </tr>\n  </thead>\n  <tbody>\n    <tr>\n      <th>0</th>\n      <td>1</td>\n      <td>L1</td>\n      <td>L1</td>\n      <td>L1</td>\n      <td>L3</td>\n      <td>L3</td>\n      <td>L2</td>\n      <td>L1</td>\n      <td>L1</td>\n      <td>L1</td>\n      <td>...</td>\n      <td>L1</td>\n      <td>L1</td>\n      <td>L1</td>\n      <td>L1</td>\n      <td>L2</td>\n      <td>L2</td>\n      <td>L1</td>\n      <td>L2</td>\n      <td>L2</td>\n      <td>L1</td>\n    </tr>\n    <tr>\n      <th>1</th>\n      <td>2</td>\n      <td>L3</td>\n      <td>L3</td>\n      <td>L1</td>\n      <td>L3</td>\n      <td>L3</td>\n      <td>L1</td>\n      <td>L1</td>\n      <td>L2</td>\n      <td>L1</td>\n      <td>...</td>\n      <td>L1</td>\n      <td>L3</td>\n      <td>L2</td>\n      <td>L2</td>\n      <td>L1</td>\n      <td>L3</td>\n      <td>L2</td>\n      <td>L3</td>\n      <td>L3</td>\n      <td>L2</td>\n    </tr>\n    <tr>\n      <th>2</th>\n      <td>3</td>\n      <td>L1</td>\n      <td>L2</td>\n      <td>L3</td>\n      <td>L2</td>\n      <td>L3</td>\n      <td>L1</td>\n      <td>L2</td>\n      <td>L1</td>\n      <td>L3</td>\n      <td>...</td>\n      <td>L3</td>\n      <td>L3</td>\n      <td>L1</td>\n      <td>L2</td>\n      <td>L2</td>\n      <td>L2</td>\n      <td>L1</td>\n      <td>L1</td>\n      <td>L1</td>\n      <td>L2</td>\n    </tr>\n  </tbody>\n</table>\n<p>3 rows × 47 columns</p>\n</div>"
     },
     "execution_count": 174,
     "metadata": {},
     "output_type": "execute_result"
    }
   ],
   "source": [
    "import pandas as pd\n",
    "df = pd.read_excel(r'resultIPC分阶段_5类.xlsx')\n",
    "df"
   ]
  },
  {
   "cell_type": "code",
   "execution_count": 175,
   "id": "9e0c1e04c71adbdd",
   "metadata": {
    "collapsed": false,
    "ExecuteTime": {
     "end_time": "2024-02-22T06:11:23.760045Z",
     "start_time": "2024-02-22T06:11:23.738826Z"
    }
   },
   "outputs": [],
   "source": [
    "# 将year列转换为datetime格式，并提取年份作为新的一列\n",
    "LF = ['L1', 'L2', 'L3', 'L4', 'L5']\n",
    "LR = ['L1', 'L2', 'L3', 'L4', 'L5']"
   ]
  },
  {
   "cell_type": "code",
   "execution_count": 176,
   "id": "50deba817ea482cd",
   "metadata": {
    "collapsed": false,
    "ExecuteTime": {
     "end_time": "2024-02-22T06:11:24.364628Z",
     "start_time": "2024-02-22T06:11:24.355257Z"
    }
   },
   "outputs": [],
   "source": [
    "# 创建转移矩阵\n",
    "transition_matrix = np.zeros((len(levels), len(levels)))"
   ]
  },
  {
   "cell_type": "code",
   "execution_count": 177,
   "id": "be6ffa046247d061",
   "metadata": {
    "collapsed": false,
    "ExecuteTime": {
     "end_time": "2024-02-22T06:11:33.677998Z",
     "start_time": "2024-02-22T06:11:33.663335Z"
    }
   },
   "outputs": [],
   "source": [
    "import numpy as np\n",
    "# 计算转移概率\n",
    "def compute_transition_matrix(t, T, LF, LR):\n",
    "    transition_matrix = np.zeros((len(LF), len(LR)))\n",
    "    for i in range(len(LF)):\n",
    "        for j in range(len(LR)):\n",
    "            ma = 0\n",
    "            columns = []\n",
    "            for column in df.columns:\n",
    "                if column != 'year':\n",
    "                    if (df[df['year'] == t][column] == LF[i]).any():\n",
    "                        ma += 1\n",
    "                        columns.append(column)\n",
    "            mab = 0\n",
    "            for column in columns:\n",
    "                mab += (df[df['year'] == T][column] == LR[j]).sum()\n",
    "            if ma == 0:\n",
    "                Mab = 0\n",
    "            else:\n",
    "                Mab = mab / ma\n",
    "            transition_matrix[i, j] = Mab\n",
    "    return transition_matrix"
   ]
  },
  {
   "cell_type": "code",
   "execution_count": 178,
   "id": "97b2017d9fd94d27",
   "metadata": {
    "collapsed": false,
    "ExecuteTime": {
     "end_time": "2024-02-22T06:11:34.150970Z",
     "start_time": "2024-02-22T06:11:33.916710Z"
    }
   },
   "outputs": [],
   "source": [
    "# 计算转移矩阵\n",
    "t = 1\n",
    "T = 2\n",
    "transition_matrix = compute_transition_matrix(t, T, LF, LR)"
   ]
  },
  {
   "cell_type": "code",
   "execution_count": 179,
   "id": "3304acde7e35e333",
   "metadata": {
    "collapsed": false,
    "ExecuteTime": {
     "end_time": "2024-02-22T06:11:34.159312Z",
     "start_time": "2024-02-22T06:11:34.151316Z"
    }
   },
   "outputs": [
    {
     "data": {
      "text/plain": "          L1        L2        L3        L4        L5\nL1  0.250000  0.500000  0.250000  0.000000  0.000000\nL2  0.272727  0.000000  0.545455  0.181818  0.000000\nL3  0.000000  0.166667  0.500000  0.000000  0.333333\nL4  0.000000  0.000000  0.000000  0.000000  1.000000\nL5  0.000000  0.000000  0.000000  0.000000  0.000000",
      "text/html": "<div>\n<style scoped>\n    .dataframe tbody tr th:only-of-type {\n        vertical-align: middle;\n    }\n\n    .dataframe tbody tr th {\n        vertical-align: top;\n    }\n\n    .dataframe thead th {\n        text-align: right;\n    }\n</style>\n<table border=\"1\" class=\"dataframe\">\n  <thead>\n    <tr style=\"text-align: right;\">\n      <th></th>\n      <th>L1</th>\n      <th>L2</th>\n      <th>L3</th>\n      <th>L4</th>\n      <th>L5</th>\n    </tr>\n  </thead>\n  <tbody>\n    <tr>\n      <th>L1</th>\n      <td>0.250000</td>\n      <td>0.500000</td>\n      <td>0.250000</td>\n      <td>0.000000</td>\n      <td>0.000000</td>\n    </tr>\n    <tr>\n      <th>L2</th>\n      <td>0.272727</td>\n      <td>0.000000</td>\n      <td>0.545455</td>\n      <td>0.181818</td>\n      <td>0.000000</td>\n    </tr>\n    <tr>\n      <th>L3</th>\n      <td>0.000000</td>\n      <td>0.166667</td>\n      <td>0.500000</td>\n      <td>0.000000</td>\n      <td>0.333333</td>\n    </tr>\n    <tr>\n      <th>L4</th>\n      <td>0.000000</td>\n      <td>0.000000</td>\n      <td>0.000000</td>\n      <td>0.000000</td>\n      <td>1.000000</td>\n    </tr>\n    <tr>\n      <th>L5</th>\n      <td>0.000000</td>\n      <td>0.000000</td>\n      <td>0.000000</td>\n      <td>0.000000</td>\n      <td>0.000000</td>\n    </tr>\n  </tbody>\n</table>\n</div>"
     },
     "execution_count": 179,
     "metadata": {},
     "output_type": "execute_result"
    }
   ],
   "source": [
    "Markov_matrix = pd.DataFrame(transition_matrix, index=levels, columns=levels)\n",
    "Markov_matrix"
   ]
  },
  {
   "cell_type": "code",
   "execution_count": 180,
   "outputs": [],
   "source": [
    "# 计算转移矩阵\n",
    "t2 = 2\n",
    "T2 = 3\n",
    "transition_matrix2 = compute_transition_matrix(t2, T2, LF, LR)"
   ],
   "metadata": {
    "collapsed": false,
    "ExecuteTime": {
     "end_time": "2024-02-22T06:11:34.732443Z",
     "start_time": "2024-02-22T06:11:34.507617Z"
    }
   },
   "id": "df5038dd196cb8a0"
  },
  {
   "cell_type": "code",
   "execution_count": 181,
   "outputs": [
    {
     "data": {
      "text/plain": "          L1      L2        L3        L4        L5\nL1  0.200000  0.4000  0.400000  0.000000  0.000000\nL2  0.533333  0.4000  0.066667  0.000000  0.000000\nL3  0.375000  0.3125  0.250000  0.062500  0.000000\nL4  0.000000  0.0000  1.000000  0.000000  0.000000\nL5  0.000000  0.0000  0.000000  0.333333  0.666667",
      "text/html": "<div>\n<style scoped>\n    .dataframe tbody tr th:only-of-type {\n        vertical-align: middle;\n    }\n\n    .dataframe tbody tr th {\n        vertical-align: top;\n    }\n\n    .dataframe thead th {\n        text-align: right;\n    }\n</style>\n<table border=\"1\" class=\"dataframe\">\n  <thead>\n    <tr style=\"text-align: right;\">\n      <th></th>\n      <th>L1</th>\n      <th>L2</th>\n      <th>L3</th>\n      <th>L4</th>\n      <th>L5</th>\n    </tr>\n  </thead>\n  <tbody>\n    <tr>\n      <th>L1</th>\n      <td>0.200000</td>\n      <td>0.4000</td>\n      <td>0.400000</td>\n      <td>0.000000</td>\n      <td>0.000000</td>\n    </tr>\n    <tr>\n      <th>L2</th>\n      <td>0.533333</td>\n      <td>0.4000</td>\n      <td>0.066667</td>\n      <td>0.000000</td>\n      <td>0.000000</td>\n    </tr>\n    <tr>\n      <th>L3</th>\n      <td>0.375000</td>\n      <td>0.3125</td>\n      <td>0.250000</td>\n      <td>0.062500</td>\n      <td>0.000000</td>\n    </tr>\n    <tr>\n      <th>L4</th>\n      <td>0.000000</td>\n      <td>0.0000</td>\n      <td>1.000000</td>\n      <td>0.000000</td>\n      <td>0.000000</td>\n    </tr>\n    <tr>\n      <th>L5</th>\n      <td>0.000000</td>\n      <td>0.0000</td>\n      <td>0.000000</td>\n      <td>0.333333</td>\n      <td>0.666667</td>\n    </tr>\n  </tbody>\n</table>\n</div>"
     },
     "execution_count": 181,
     "metadata": {},
     "output_type": "execute_result"
    }
   ],
   "source": [
    "Markov_matrix2 = pd.DataFrame(transition_matrix2, index=levels, columns=levels)\n",
    "Markov_matrix2"
   ],
   "metadata": {
    "collapsed": false,
    "ExecuteTime": {
     "end_time": "2024-02-22T06:11:34.783337Z",
     "start_time": "2024-02-22T06:11:34.776376Z"
    }
   },
   "id": "335522fc6c81ebc0"
  },
  {
   "cell_type": "code",
   "execution_count": 182,
   "id": "65acb0ea-35d1-4c47-8259-bee1f3770fb1",
   "metadata": {
    "ExecuteTime": {
     "end_time": "2024-02-22T06:11:35.318852Z",
     "start_time": "2024-02-22T06:11:35.298555Z"
    }
   },
   "outputs": [],
   "source": [
    "Markov_matrix.to_csv('Markov_matrixIPC分阶段_5类.csv')"
   ]
  },
  {
   "cell_type": "code",
   "execution_count": 183,
   "outputs": [],
   "source": [
    "levels = ['L1', 'L2', 'L3', 'L4', 'L5']\n",
    "\n",
    "columns = ['year', 'L1', 'L2', 'L3', 'L4', 'L5']\n",
    "df2 = pd.DataFrame(columns=columns)\n",
    "\n",
    "for i in range(0,len(df)):\n",
    "    row = df.iloc[i]\n",
    "    year = row.iloc[0]\n",
    "    L1, L2, L3, L4, L5 = 0, 0, 0, 0, 0\n",
    "    for i in range(1,len(row)):\n",
    "        level = row.iloc[i]\n",
    "        if level == levels[0]:\n",
    "            L1 = L1 + 1\n",
    "        if level == levels[1]:\n",
    "            L2 = L2 + 1\n",
    "        if level == levels[2]:\n",
    "            L3 = L3 + 1\n",
    "        if level == levels[3]:\n",
    "            L4 = L4 + 1\n",
    "        if level == levels[4]:\n",
    "            L5 = L5 + 1\n",
    "    new_row = {'year': year, 'L1': L1, 'L2': L2, 'L3': L3, 'L4': L4, 'L5': L5}   \n",
    "    df2 = pd.concat([df2, pd.DataFrame(new_row, index=[0])], ignore_index=True)"
   ],
   "metadata": {
    "collapsed": false,
    "ExecuteTime": {
     "end_time": "2024-02-22T06:11:35.566734Z",
     "start_time": "2024-02-22T06:11:35.561781Z"
    }
   },
   "id": "36d551fb655da5dc"
  },
  {
   "cell_type": "code",
   "execution_count": 184,
   "outputs": [
    {
     "data": {
      "text/plain": "  year  L1  L2  L3 L4 L5\n0    1  28  11   6  1  0\n1    2  10  15  16  2  3\n2    3  16  15  11  2  2",
      "text/html": "<div>\n<style scoped>\n    .dataframe tbody tr th:only-of-type {\n        vertical-align: middle;\n    }\n\n    .dataframe tbody tr th {\n        vertical-align: top;\n    }\n\n    .dataframe thead th {\n        text-align: right;\n    }\n</style>\n<table border=\"1\" class=\"dataframe\">\n  <thead>\n    <tr style=\"text-align: right;\">\n      <th></th>\n      <th>year</th>\n      <th>L1</th>\n      <th>L2</th>\n      <th>L3</th>\n      <th>L4</th>\n      <th>L5</th>\n    </tr>\n  </thead>\n  <tbody>\n    <tr>\n      <th>0</th>\n      <td>1</td>\n      <td>28</td>\n      <td>11</td>\n      <td>6</td>\n      <td>1</td>\n      <td>0</td>\n    </tr>\n    <tr>\n      <th>1</th>\n      <td>2</td>\n      <td>10</td>\n      <td>15</td>\n      <td>16</td>\n      <td>2</td>\n      <td>3</td>\n    </tr>\n    <tr>\n      <th>2</th>\n      <td>3</td>\n      <td>16</td>\n      <td>15</td>\n      <td>11</td>\n      <td>2</td>\n      <td>2</td>\n    </tr>\n  </tbody>\n</table>\n</div>"
     },
     "execution_count": 184,
     "metadata": {},
     "output_type": "execute_result"
    }
   ],
   "source": [
    "df2"
   ],
   "metadata": {
    "collapsed": false,
    "ExecuteTime": {
     "end_time": "2024-02-22T06:11:35.802717Z",
     "start_time": "2024-02-22T06:11:35.792993Z"
    }
   },
   "id": "4a3b65da8553d036"
  },
  {
   "cell_type": "code",
   "execution_count": 185,
   "outputs": [],
   "source": [
    "df2.to_excel('IPC分布分阶段_5类.xlsx')"
   ],
   "metadata": {
    "collapsed": false,
    "ExecuteTime": {
     "end_time": "2024-02-22T06:11:36.019881Z",
     "start_time": "2024-02-22T06:11:35.999714Z"
    }
   },
   "id": "ea98f5543b470156"
  },
  {
   "cell_type": "code",
   "execution_count": 190,
   "outputs": [],
   "source": [
    "def identify_transitions(df, year1, year2):\n",
    "\n",
    "    df_year1 = df[df['year'] == year1].iloc[0]\n",
    "    df_year2 = df[df['year'] == year2].iloc[0]\n",
    "\n",
    "    positive_transitions = []\n",
    "    negative_transitions = []\n",
    "\n",
    "    levels = {'L1': 1, 'L2': 2, 'L3': 3, 'L4': 4, 'L5': 5}\n",
    "\n",
    "    for column in df.columns[1:]:\n",
    "        level_year1 = levels[df_year1[column]]\n",
    "        level_year2 = levels[df_year2[column]]\n",
    "\n",
    "        if level_year1 < level_year2:\n",
    "            positive_transitions.append(f\"{column}: L{level_year1} -> L{level_year2}\")\n",
    "        elif level_year1 > level_year2:\n",
    "            negative_transitions.append(f\"{column}: L{level_year1} -> L{level_year2}\")\n",
    "\n",
    "    return positive_transitions, negative_transitions"
   ],
   "metadata": {
    "collapsed": false,
    "ExecuteTime": {
     "end_time": "2024-02-22T06:11:51.654023Z",
     "start_time": "2024-02-22T06:11:51.638615Z"
    }
   },
   "id": "202479a3dc4bf7dd"
  },
  {
   "cell_type": "code",
   "execution_count": 191,
   "outputs": [
    {
     "data": {
      "text/plain": "   year   - A01G A01N A24D A61K A61L A62B A63H B01D  ... D01D D01F D02G D03D  \\\n0     1  L1   L1   L1   L3   L3   L2   L1   L1   L1  ...   L1   L1   L1   L1   \n1     2  L3   L3   L1   L3   L3   L1   L1   L2   L1  ...   L1   L3   L2   L2   \n2     3  L1   L2   L3   L2   L3   L1   L2   L1   L3  ...   L3   L3   L1   L2   \n\n  D04H D21H F42B G06F G09F H02J  \n0   L2   L2   L1   L2   L2   L1  \n1   L1   L3   L2   L3   L3   L2  \n2   L2   L2   L1   L1   L1   L2  \n\n[3 rows x 47 columns]",
      "text/html": "<div>\n<style scoped>\n    .dataframe tbody tr th:only-of-type {\n        vertical-align: middle;\n    }\n\n    .dataframe tbody tr th {\n        vertical-align: top;\n    }\n\n    .dataframe thead th {\n        text-align: right;\n    }\n</style>\n<table border=\"1\" class=\"dataframe\">\n  <thead>\n    <tr style=\"text-align: right;\">\n      <th></th>\n      <th>year</th>\n      <th>-</th>\n      <th>A01G</th>\n      <th>A01N</th>\n      <th>A24D</th>\n      <th>A61K</th>\n      <th>A61L</th>\n      <th>A62B</th>\n      <th>A63H</th>\n      <th>B01D</th>\n      <th>...</th>\n      <th>D01D</th>\n      <th>D01F</th>\n      <th>D02G</th>\n      <th>D03D</th>\n      <th>D04H</th>\n      <th>D21H</th>\n      <th>F42B</th>\n      <th>G06F</th>\n      <th>G09F</th>\n      <th>H02J</th>\n    </tr>\n  </thead>\n  <tbody>\n    <tr>\n      <th>0</th>\n      <td>1</td>\n      <td>L1</td>\n      <td>L1</td>\n      <td>L1</td>\n      <td>L3</td>\n      <td>L3</td>\n      <td>L2</td>\n      <td>L1</td>\n      <td>L1</td>\n      <td>L1</td>\n      <td>...</td>\n      <td>L1</td>\n      <td>L1</td>\n      <td>L1</td>\n      <td>L1</td>\n      <td>L2</td>\n      <td>L2</td>\n      <td>L1</td>\n      <td>L2</td>\n      <td>L2</td>\n      <td>L1</td>\n    </tr>\n    <tr>\n      <th>1</th>\n      <td>2</td>\n      <td>L3</td>\n      <td>L3</td>\n      <td>L1</td>\n      <td>L3</td>\n      <td>L3</td>\n      <td>L1</td>\n      <td>L1</td>\n      <td>L2</td>\n      <td>L1</td>\n      <td>...</td>\n      <td>L1</td>\n      <td>L3</td>\n      <td>L2</td>\n      <td>L2</td>\n      <td>L1</td>\n      <td>L3</td>\n      <td>L2</td>\n      <td>L3</td>\n      <td>L3</td>\n      <td>L2</td>\n    </tr>\n    <tr>\n      <th>2</th>\n      <td>3</td>\n      <td>L1</td>\n      <td>L2</td>\n      <td>L3</td>\n      <td>L2</td>\n      <td>L3</td>\n      <td>L1</td>\n      <td>L2</td>\n      <td>L1</td>\n      <td>L3</td>\n      <td>...</td>\n      <td>L3</td>\n      <td>L3</td>\n      <td>L1</td>\n      <td>L2</td>\n      <td>L2</td>\n      <td>L2</td>\n      <td>L1</td>\n      <td>L1</td>\n      <td>L1</td>\n      <td>L2</td>\n    </tr>\n  </tbody>\n</table>\n<p>3 rows × 47 columns</p>\n</div>"
     },
     "execution_count": 191,
     "metadata": {},
     "output_type": "execute_result"
    }
   ],
   "source": [
    "df"
   ],
   "metadata": {
    "collapsed": false,
    "ExecuteTime": {
     "end_time": "2024-02-22T06:11:51.804216Z",
     "start_time": "2024-02-22T06:11:51.799510Z"
    }
   },
   "id": "dc7d9a91507cfa25"
  },
  {
   "cell_type": "code",
   "execution_count": 192,
   "outputs": [
    {
     "name": "stdout",
     "output_type": "stream",
     "text": [
      "正向转移: ['-: L1 -> L3', 'A01G: L1 -> L3', 'A63H: L1 -> L2', 'B01J: L1 -> L2', 'B05D: L1 -> L2', 'B09B: L1 -> L2', 'B26B: L1 -> L3', 'B27N: L1 -> L2', 'B29B: L1 -> L2', 'B29C: L2 -> L3', 'B32B: L3 -> L5', 'B65D: L2 -> L4', 'B65F: L1 -> L2', 'C07C: L2 -> L3', 'C07D: L1 -> L3', 'C08B: L1 -> L2', 'C08F: L1 -> L2', 'C08G: L2 -> L4', 'C08J: L3 -> L5', 'C08L: L4 -> L5', 'C09D: L2 -> L3', 'C12N: L1 -> L3', 'C12P: L1 -> L3', 'C23C: L1 -> L2', 'D01F: L1 -> L3', 'D02G: L1 -> L2', 'D03D: L1 -> L2', 'D21H: L2 -> L3', 'F42B: L1 -> L2', 'G06F: L2 -> L3', 'G09F: L2 -> L3', 'H02J: L1 -> L2']\n",
      "负向转移: ['A61L: L2 -> L1', 'C08H: L2 -> L1', 'C09J: L3 -> L2', 'D04H: L2 -> L1']\n"
     ]
    }
   ],
   "source": [
    "data = pd.read_excel('resultIPC分阶段_5类.xlsx')\n",
    "\n",
    "positive, negative = identify_transitions(data, 1, 2)\n",
    "\n",
    "print(\"正向转移:\", positive)\n",
    "print(\"负向转移:\", negative)"
   ],
   "metadata": {
    "collapsed": false,
    "ExecuteTime": {
     "end_time": "2024-02-22T06:11:52.036747Z",
     "start_time": "2024-02-22T06:11:52.022345Z"
    }
   },
   "id": "bf7405f4cd97e364"
  },
  {
   "cell_type": "code",
   "execution_count": 193,
   "outputs": [
    {
     "name": "stdout",
     "output_type": "stream",
     "text": [
      "正向转移: ['A01N: L1 -> L3', 'A62B: L1 -> L2', 'B01D: L1 -> L3', 'B09B: L2 -> L3', 'C02F: L1 -> L2', 'C05F: L1 -> L2', 'C08K: L3 -> L4', 'C09C: L1 -> L3', 'D01D: L1 -> L3', 'D04H: L1 -> L2']\n",
      "负向转移: ['-: L3 -> L1', 'A01G: L3 -> L2', 'A24D: L3 -> L2', 'A63H: L2 -> L1', 'B01J: L2 -> L1', 'B05D: L2 -> L1', 'B26B: L3 -> L2', 'B27N: L2 -> L1', 'B32B: L5 -> L4', 'B65D: L4 -> L3', 'B65F: L2 -> L1', 'C07C: L3 -> L2', 'C07D: L3 -> L1', 'C08G: L4 -> L3', 'C09D: L3 -> L1', 'C12P: L3 -> L1', 'C23C: L2 -> L1', 'D02G: L2 -> L1', 'D21H: L3 -> L2', 'F42B: L2 -> L1', 'G06F: L3 -> L1', 'G09F: L3 -> L1']\n"
     ]
    }
   ],
   "source": [
    "data = pd.read_excel('resultIPC分阶段_5类.xlsx')\n",
    "\n",
    "positive, negative = identify_transitions(data, 2, 3)\n",
    "\n",
    "print(\"正向转移:\", positive)\n",
    "print(\"负向转移:\", negative)"
   ],
   "metadata": {
    "collapsed": false,
    "ExecuteTime": {
     "end_time": "2024-02-22T06:11:52.245908Z",
     "start_time": "2024-02-22T06:11:52.226972Z"
    }
   },
   "id": "911f4e21b60916bd"
  }
 ],
 "metadata": {
  "kernelspec": {
   "display_name": "Python 3 (ipykernel)",
   "language": "python",
   "name": "python3"
  },
  "language_info": {
   "codemirror_mode": {
    "name": "ipython",
    "version": 3
   },
   "file_extension": ".py",
   "mimetype": "text/x-python",
   "name": "python",
   "nbconvert_exporter": "python",
   "pygments_lexer": "ipython3",
   "version": "3.9.18"
  }
 },
 "nbformat": 4,
 "nbformat_minor": 5
}
