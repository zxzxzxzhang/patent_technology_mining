{
 "cells": [
  {
   "cell_type": "code",
   "execution_count": 1,
   "id": "initial_id",
   "metadata": {
    "collapsed": true,
    "ExecuteTime": {
     "end_time": "2024-02-21T14:29:21.888814600Z",
     "start_time": "2024-02-21T14:29:21.161112Z"
    }
   },
   "source": [
    "import pandas as pd\n",
    "df = pd.read_excel(r'C:\\Users\\RIC_ZX\\Desktop\\papers\\ZLW\\(申请号去重后）美国和欧盟 已筛选TAC_(poly butylene adipate-co-terephthalate) OR TAC_(PBAT).xlsx')"
   ],
   "outputs": []
  },
  {
   "cell_type": "code",
   "source": [
    "df = df[['公开(公告)号', '[标]原始申请(专利权)人', '原始申请(专利权)人地址', '申请日', 'IPC主分类号']]\n",
    "df"
   ],
   "metadata": {
    "collapsed": false,
    "ExecuteTime": {
     "end_time": "2024-02-12T08:46:53.858682600Z",
     "start_time": "2024-02-12T08:46:53.799229Z"
    }
   },
   "id": "c1b56190675ecca3",
   "execution_count": 3,
   "outputs": []
  },
  {
   "cell_type": "code",
   "source": [
    "def date(ipc):\n",
    "    return ipc[-2:]\n",
    "\n",
    "def ipc_truncate(ipc):\n",
    "    return ipc[:4]"
   ],
   "metadata": {
    "collapsed": false,
    "ExecuteTime": {
     "end_time": "2024-02-12T08:46:55.793961100Z",
     "start_time": "2024-02-12T08:46:55.770670600Z"
    }
   },
   "id": "9ddbff0995c903b1",
   "execution_count": 4,
   "outputs": []
  },
  {
   "cell_type": "code",
   "source": [
    "df['IPC主分类号'] = df['IPC主分类号'].apply(ipc_truncate)\n",
    "df['申请日'] = df['申请日'].apply(ipc_truncate)\n",
    "df['原始申请(专利权)人地址'] = df['原始申请(专利权)人地址'].apply(date)"
   ],
   "metadata": {
    "collapsed": false,
    "ExecuteTime": {
     "end_time": "2024-02-12T08:46:56.431827800Z",
     "start_time": "2024-02-12T08:46:56.404758200Z"
    }
   },
   "id": "ab1bdddb6f393ae9",
   "execution_count": 5,
   "outputs": []
  },
  {
   "cell_type": "code",
   "source": [
    "df"
   ],
   "metadata": {
    "collapsed": false,
    "ExecuteTime": {
     "end_time": "2024-02-12T08:46:57.338199800Z",
     "start_time": "2024-02-12T08:46:57.304258500Z"
    }
   },
   "id": "ba925f46340b2dbd",
   "execution_count": 6,
   "outputs": []
  },
  {
   "cell_type": "code",
   "source": [
    "df.to_excel(r'Newfile.xlsx', index=False)"
   ],
   "metadata": {
    "collapsed": false,
    "ExecuteTime": {
     "end_time": "2024-02-12T08:47:51.993156400Z",
     "start_time": "2024-02-12T08:47:51.914294300Z"
    }
   },
   "id": "d5b1f6784c3e1671",
   "execution_count": 8,
   "outputs": []
  },
  {
   "cell_type": "code",
   "source": [
    "df1 = pd.read_excel(r'Newfile.xlsx')"
   ],
   "metadata": {
    "collapsed": false,
    "ExecuteTime": {
     "end_time": "2024-02-21T14:29:29.379773900Z",
     "start_time": "2024-02-21T14:29:29.308611200Z"
    }
   },
   "id": "38a98dd79b22f6cc",
   "execution_count": 2,
   "outputs": []
  },
  {
   "cell_type": "code",
   "source": [
    "df1"
   ],
   "metadata": {
    "collapsed": false,
    "ExecuteTime": {
     "end_time": "2024-02-21T14:29:32.133768900Z",
     "start_time": "2024-02-21T14:29:32.097564600Z"
    }
   },
   "id": "8229c48e5844634b",
   "execution_count": 3,
   "outputs": []
  },
  {
   "cell_type": "code",
   "source": [
    "# 定义函数将IPC主分类号映射到对应的类别\n",
    "def map_category(ipc_code):\n",
    "    if ipc_code == 'C08J' or ipc_code == 'C08L' or ipc_code == 'C08G' or ipc_code == 'C08K' or ipc_code == 'C07C':\n",
    "        return '聚合物及其制造工艺'\n",
    "    elif ipc_code == 'B32B' or ipc_code == 'B29C' or ipc_code == 'B65D' :\n",
    "        return '薄膜及制品'\n",
    "    elif ipc_code == 'C09J' or ipc_code == 'C09D':\n",
    "        return '涂料和粘合剂'\n",
    "    elif ipc_code == 'D01F' or ipc_code == 'D21H':\n",
    "        return '纤维和浆料'\n",
    "    elif ipc_code == 'C12N':\n",
    "        return '微生物或酶、其组合物'\n",
    "    elif ipc_code == 'A61K' or ipc_code == 'A24D':\n",
    "        return '医用、牙科用或化妆用的配制品、雪茄烟或纸烟的烟嘴'\n",
    "    else:\n",
    "        return '未分类'"
   ],
   "metadata": {
    "collapsed": false,
    "ExecuteTime": {
     "end_time": "2024-02-21T14:29:54.014616900Z",
     "start_time": "2024-02-21T14:29:54.002620900Z"
    }
   },
   "id": "de50751c044619dc",
   "execution_count": 4,
   "outputs": []
  },
  {
   "cell_type": "code",
   "source": [
    "df1['类别'] = df1['IPC主分类号'].apply(map_category)\n",
    "df1"
   ],
   "metadata": {
    "collapsed": false,
    "ExecuteTime": {
     "end_time": "2024-02-21T14:30:12.451891100Z",
     "start_time": "2024-02-21T14:30:12.433358600Z"
    }
   },
   "id": "c02961045c48452c",
   "execution_count": 5,
   "outputs": []
  },
  {
   "cell_type": "code",
   "source": [
    "df1.to_excel('NewNew.xlsx', index=False)"
   ],
   "metadata": {
    "collapsed": false,
    "ExecuteTime": {
     "end_time": "2024-02-21T14:31:14.472854100Z",
     "start_time": "2024-02-21T14:31:14.400470500Z"
    }
   },
   "id": "a88ea2502472380b",
   "execution_count": 7,
   "outputs": []
  },
  {
   "cell_type": "code",
   "source": [
    "import pandas as pd\n",
    "df1 = pd.read_excel(r'NewNew.xlsx')"
   ],
   "metadata": {
    "collapsed": false,
    "ExecuteTime": {
     "end_time": "2024-02-22T05:06:27.515050700Z",
     "start_time": "2024-02-22T05:06:26.465812Z"
    }
   },
   "id": "5bb12b7de8fe41b",
   "execution_count": 2,
   "outputs": []
  },
  {
   "cell_type": "code",
   "source": [
    "def map_year(year):\n",
    "    if 1900 <= year <= 2011:\n",
    "        return 1\n",
    "    elif 2012 <= year <= 2019:\n",
    "        return 2\n",
    "    elif 2020 <= year <= 2023:\n",
    "        return 3\n",
    "    else:\n",
    "        return None"
   ],
   "metadata": {
    "collapsed": false,
    "ExecuteTime": {
     "end_time": "2024-02-22T05:07:07.116529300Z",
     "start_time": "2024-02-22T05:07:07.097853700Z"
    }
   },
   "id": "142b94db1c83014f",
   "execution_count": 3,
   "outputs": []
  },
  {
   "cell_type": "code",
   "source": [
    "df1['Year'] = df1['申请日'].apply(map_year)\n",
    "df1"
   ],
   "metadata": {
    "collapsed": false,
    "ExecuteTime": {
     "end_time": "2024-02-22T05:07:22.249521800Z",
     "start_time": "2024-02-22T05:07:22.221226500Z"
    }
   },
   "id": "4b11623d00846e16",
   "execution_count": 6,
   "outputs": []
  },
  {
   "cell_type": "code",
   "source": [
    "df1.to_excel('NewNewNew.xlsx', index=False)"
   ],
   "metadata": {
    "collapsed": false,
    "ExecuteTime": {
     "end_time": "2024-02-22T05:07:39.991328800Z",
     "start_time": "2024-02-22T05:07:39.840966Z"
    }
   },
   "id": "20e37b8ecc35c9dc",
   "execution_count": 7,
   "outputs": []
  },
  {
   "cell_type": "code",
   "source": [],
   "metadata": {
    "collapsed": false
   },
   "id": "99a4c0ff1f4ac51d",
   "execution_count": null,
   "outputs": []
  }
 ],
 "metadata": {
  "kernelspec": {
   "display_name": "Python 3",
   "language": "python",
   "name": "python3"
  },
  "language_info": {
   "codemirror_mode": {
    "name": "ipython",
    "version": 2
   },
   "file_extension": ".py",
   "mimetype": "text/x-python",
   "name": "python",
   "nbconvert_exporter": "python",
   "pygments_lexer": "ipython2",
   "version": "2.7.6"
  }
 },
 "nbformat": 4,
 "nbformat_minor": 5
}
