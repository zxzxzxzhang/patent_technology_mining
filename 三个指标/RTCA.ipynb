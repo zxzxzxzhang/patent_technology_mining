{
 "cells": [
  {
   "cell_type": "code",
   "execution_count": 1,
   "id": "initial_id",
   "metadata": {
    "collapsed": true,
    "ExecuteTime": {
     "end_time": "2024-02-21T14:31:26.264296200Z",
     "start_time": "2024-02-21T14:31:25.830363400Z"
    }
   },
   "source": [
    "import pandas as pd\n",
    "df = pd.read_excel(r'NewNew.xlsx')"
   ],
   "outputs": []
  },
  {
   "cell_type": "code",
   "source": [
    "df"
   ],
   "metadata": {
    "collapsed": false,
    "ExecuteTime": {
     "end_time": "2024-02-21T14:31:41.676351900Z",
     "start_time": "2024-02-21T14:31:41.643484900Z"
    }
   },
   "id": "9cb7d6750867c65b",
   "execution_count": 2,
   "outputs": []
  },
  {
   "cell_type": "markdown",
   "source": [
    "# 不区分|"
   ],
   "metadata": {
    "collapsed": false
   },
   "id": "799042f3e14cd510"
  },
  {
   "cell_type": "markdown",
   "source": [
    "# Pij"
   ],
   "metadata": {
    "collapsed": false
   },
   "id": "9b25ba6b3a02e5a3"
  },
  {
   "cell_type": "code",
   "source": [
    "# 统计每个国家在每个IPC主分类号下的专利数量\n",
    "df_counts = df.groupby(['原始申请(专利权)人地址', 'IPC主分类号']).size().reset_index(name='专利数量')\n",
    "\n",
    "df_counts"
   ],
   "metadata": {
    "collapsed": false,
    "ExecuteTime": {
     "end_time": "2024-02-21T14:31:50.162092400Z",
     "start_time": "2024-02-21T14:31:50.118187500Z"
    }
   },
   "id": "d47d2bcfa6a360e2",
   "execution_count": 3,
   "outputs": []
  },
  {
   "cell_type": "markdown",
   "source": [
    "# ∑j Pij"
   ],
   "metadata": {
    "collapsed": false
   },
   "id": "8cdfc6456dc7183b"
  },
  {
   "cell_type": "code",
   "source": [
    "ipc_counts = df['IPC主分类号'].value_counts().to_dict()\n",
    "\n",
    "ipc_counts_df = pd.DataFrame(ipc_counts.items(), columns=['IPC主分类号', '专利数量'])\n",
    "IPC = ipc_counts_df.transpose()\n",
    "IPC.columns = IPC.iloc[0]  # 将第一行作为新的列名\n",
    "IPC = IPC[1:]  # 删除第一行\n",
    "IPC"
   ],
   "metadata": {
    "collapsed": false,
    "ExecuteTime": {
     "end_time": "2024-02-12T08:56:40.927706400Z",
     "start_time": "2024-02-12T08:56:40.889730300Z"
    }
   },
   "id": "740c82e840db61f6",
   "execution_count": 5,
   "outputs": []
  },
  {
   "cell_type": "markdown",
   "source": [
    "# ∑i Pij"
   ],
   "metadata": {
    "collapsed": false
   },
   "id": "d8e37faa10f12"
  },
  {
   "cell_type": "code",
   "source": [
    "country_counts = df['原始申请(专利权)人地址'].value_counts().to_dict()\n",
    "#to df\n",
    "country_counts_df = pd.DataFrame(country_counts.items(), columns=['原始申请(专利权)人地址', '专利数量'])\n",
    "Country_count = country_counts_df.transpose()\n",
    "Country_count.columns = Country_count.iloc[0]  # 将第一行作为新的列名\n",
    "Country_count = Country_count[1:]  # 删除第一行\n",
    "Country_count"
   ],
   "metadata": {
    "collapsed": false,
    "ExecuteTime": {
     "end_time": "2024-02-12T08:57:12.228829500Z",
     "start_time": "2024-02-12T08:57:12.204297900Z"
    }
   },
   "id": "95cf65f587f291d2",
   "execution_count": 9,
   "outputs": []
  },
  {
   "cell_type": "code",
   "source": [
    "Country_count.to_excel(r'C.xlsx')"
   ],
   "metadata": {
    "collapsed": false,
    "ExecuteTime": {
     "end_time": "2024-02-12T08:57:27.387835200Z",
     "start_time": "2024-02-12T08:57:27.341800900Z"
    }
   },
   "id": "63f0e3d12ceb73c9",
   "execution_count": 10,
   "outputs": []
  },
  {
   "cell_type": "code",
   "source": [
    "import pandas as pd\n",
    "\n",
    "# 计算每个国家在每个IPC主分类号下的专利数量\n",
    "df_counts = df.groupby(['原始申请(专利权)人地址', '类别']).size().reset_index(name='Pij')\n",
    "\n",
    "# 计算每个国家的专利总数量\n",
    "df_country_counts = df_counts.groupby('原始申请(专利权)人地址')['Pij'].sum().reset_index(name='Mj')\n",
    "\n",
    "# 合并数据框\n",
    "df_merged = pd.merge(df_counts, df_country_counts, on='原始申请(专利权)人地址')\n",
    "\n",
    "# 计算Qi和Qj\n",
    "df_merged['Qi'] = df_merged.groupby('类别')['Pij'].transform('sum')\n",
    "df_merged['Qj'] = df_merged.groupby('原始申请(专利权)人地址')['Pij'].transform('sum')\n",
    "\n",
    "# 计算RTCA\n",
    "df_merged['RTCA'] = (df_merged['Pij'] / df_merged['Qi']) / (df_merged['Mj'] / 450)\n",
    "# 提取所需的列\n",
    "df_result = df_merged[['原始申请(专利权)人地址', '类别', 'RTCA']].drop_duplicates()"
   ],
   "metadata": {
    "collapsed": false,
    "ExecuteTime": {
     "end_time": "2024-02-21T14:32:26.008438900Z",
     "start_time": "2024-02-21T14:32:25.981466600Z"
    }
   },
   "id": "d9e6b54132bd862f",
   "execution_count": 4,
   "outputs": []
  },
  {
   "cell_type": "code",
   "source": [
    "df_result.to_excel('RTCA类别.xlsx', index=False)"
   ],
   "metadata": {
    "collapsed": false,
    "ExecuteTime": {
     "end_time": "2024-02-21T14:32:26.635438900Z",
     "start_time": "2024-02-21T14:32:26.594498500Z"
    }
   },
   "id": "4e6273c22bb22651",
   "execution_count": 5,
   "outputs": []
  },
  {
   "cell_type": "code",
   "source": [],
   "metadata": {
    "collapsed": false
   },
   "id": "c2f6522165b0cf8b",
   "execution_count": null,
   "outputs": []
  }
 ],
 "metadata": {
  "kernelspec": {
   "display_name": "Python 3",
   "language": "python",
   "name": "python3"
  },
  "language_info": {
   "codemirror_mode": {
    "name": "ipython",
    "version": 2
   },
   "file_extension": ".py",
   "mimetype": "text/x-python",
   "name": "python",
   "nbconvert_exporter": "python",
   "pygments_lexer": "ipython2",
   "version": "2.7.6"
  }
 },
 "nbformat": 4,
 "nbformat_minor": 5
}
