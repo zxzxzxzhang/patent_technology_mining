{
 "cells": [
  {
   "cell_type": "code",
   "id": "82b63a3a9bc19648",
   "metadata": {},
   "source": [
    "import pandas as pd\n",
    "import matplotlib.pyplot as plt\n",
    "plt.rcParams['figure.dpi'] = 200\n",
    "plt.rcParams['font.sans-serif']=['SimHei'] #用来正常显示中文标签\n",
    "plt.rcParams['axes.unicode_minus']=False #用来正常显示负号\n",
    "df = pd.read_excel(r'data.xlsx')\n",
    "df"
   ],
   "outputs": [],
   "execution_count": null
  },
  {
   "cell_type": "code",
   "id": "9607dc13b7e3f023",
   "metadata": {},
   "source": [
    "patent_counts = df['国家全称'].value_counts()\n",
    "patent_counts"
   ],
   "outputs": [],
   "execution_count": null
  },
  {
   "cell_type": "code",
   "id": "108a514c044ca041",
   "metadata": {},
   "source": [
    "df2 = pd.read_csv('stm_all.csv')\n",
    "df2"
   ],
   "outputs": [],
   "execution_count": null
  },
  {
   "cell_type": "code",
   "id": "d30d6f84f7c7d7bd",
   "metadata": {},
   "source": [
    "df2['topic'] = df2.idxmax(axis=1)\n",
    "df2"
   ],
   "outputs": [],
   "execution_count": null
  },
  {
   "cell_type": "code",
   "id": "6ff02588eef3b44b",
   "metadata": {},
   "source": [
    "df2['国家全称'] = df['国家全称']\n",
    "df2['摘要(全英)'] = df['摘要(全英)']\n",
    "df2['申请日'] = df['申请年']\n",
    "df2"
   ],
   "outputs": [],
   "execution_count": null
  },
  {
   "cell_type": "code",
   "id": "77fa6b438a6f6c06",
   "metadata": {},
   "source": [
    "df2.to_excel('stm概率分布.xlsx')"
   ],
   "outputs": [],
   "execution_count": null
  },
  {
   "cell_type": "code",
   "id": "9b451b81e1ad60ac",
   "metadata": {},
   "source": [
    "import pandas as pd\n",
    "countries_counts = pd.DataFrame()\n",
    "\n",
    "for country in ['United States', 'China', 'India', 'Israel', 'Swizerland']:\n",
    "    counts = df2[df2['国家全称'] == country]['topic'].value_counts()\n",
    "    countries_counts[country] = counts\n",
    "\n",
    "\n",
    "countries_counts.reset_index(inplace=True)\n",
    "countries_counts.rename(columns={'index': 'topic'}, inplace=True)\n",
    "\n",
    "countries_counts.fillna(0, inplace=True)\n",
    "\n",
    "countries_counts"
   ],
   "outputs": [],
   "execution_count": null
  },
  {
   "cell_type": "code",
   "id": "e507d08f8a71ebc",
   "metadata": {},
   "source": [
    "topic_counts = df2['topic'].value_counts()\n",
    "\n",
    "topics_in_df_order = countries_counts['topic'].unique()\n",
    "topic_counts = topic_counts.reindex(topics_in_df_order)\n",
    "topic_counts"
   ],
   "outputs": [],
   "execution_count": null
  },
  {
   "cell_type": "code",
   "id": "64b6b3444d6e8971",
   "metadata": {},
   "source": [
    "topic_counts.to_csv('topic_counts.csv')\n",
    "topic_counts = pd.read_csv('topic_counts.csv')\n",
    "topic_counts"
   ],
   "outputs": [],
   "execution_count": null
  },
  {
   "cell_type": "code",
   "id": "e83964a627c83e32",
   "metadata": {},
   "source": [
    "countries_counts['总量'] = topic_counts['count']\n",
    "countries_counts['总量']"
   ],
   "outputs": [],
   "execution_count": null
  },
  {
   "cell_type": "code",
   "id": "58b5e7eba5c9304d",
   "metadata": {},
   "source": [
    "import pandas as pd\n",
    "import numpy as np\n",
    "import matplotlib.pyplot as plt\n",
    "from math import pi\n",
    "\n",
    "countries_counts['China_指数'] = countries_counts['China'] / countries_counts['总量']\n",
    "countries_counts['India_指数'] = countries_counts['India'] / countries_counts['总量']\n",
    "countries_counts['Israel_指数'] = countries_counts['Israel'] / countries_counts['总量']\n",
    "countries_counts['United States_指数'] = countries_counts['United States'] / countries_counts['总量']\n",
    "countries_counts['Swizerland_指数'] = countries_counts['Swizerland'] / countries_counts['总量']\n",
    "\n",
    "categories = list(countries_counts['topic'])\n",
    "N = len(categories)\n",
    "\n",
    "\n",
    "angles = [n / float(N) * 2 * pi for n in range(N)]\n",
    "angles += angles[:1]\n",
    "\n",
    "\n",
    "ax = plt.subplot(111, polar=True)\n",
    "\n",
    "values = countries_counts['China_指数'].tolist()\n",
    "values += values[:1]\n",
    "ax.plot(angles, values, linewidth=1, linestyle='solid', label='中国')\n",
    "ax.fill(angles, values, 'b', alpha=0.1)\n",
    "\n",
    "values = countries_counts['India_指数'].tolist()\n",
    "values += values[:1]\n",
    "ax.plot(angles, values, linewidth=1, linestyle='solid', label='印度')\n",
    "ax.fill(angles, values, 'r', alpha=0.1)\n",
    "\n",
    "values = countries_counts['Israel_指数'].tolist()\n",
    "values += values[:1]\n",
    "ax.plot(angles, values, linewidth=1, linestyle='solid', label='以色列')\n",
    "ax.fill(angles, values, 'g', alpha=0.1)\n",
    "\n",
    "values = countries_counts['United States_指数'].tolist()\n",
    "values += values[:1]\n",
    "ax.plot(angles, values, linewidth=1, linestyle='solid', label='美国')\n",
    "ax.fill(angles, values, 'g', alpha=0.1)\n",
    "\n",
    "plt.xticks(angles[:-1], categories)\n",
    "\n",
    "plt.legend(loc='upper right', bbox_to_anchor=(0.1, 0.1))\n",
    "plt.savefig('雷达图.jpeg', dpi=1000)\n",
    "\n",
    "plt.show()"
   ],
   "outputs": [],
   "execution_count": null
  },
  {
   "cell_type": "code",
   "id": "df76510097b38daf",
   "metadata": {},
   "source": [
    "fig, axes = plt.subplots(2, 2, figsize=(15, 15), subplot_kw=dict(polar=True))\n",
    "\n",
    "values = countries_counts['China_指数'].tolist()\n",
    "values += values[:1]\n",
    "axes[0, 0].plot(angles, values, linewidth=1, linestyle='solid', label='中国')\n",
    "axes[0, 0].fill(angles, values, 'b', alpha=0.1)\n",
    "axes[0, 0].set_xticks(angles[:-1])\n",
    "axes[0, 0].set_xticklabels(categories)\n",
    "axes[0, 0].set_title('中国')\n",
    "\n",
    "values = countries_counts['India_指数'].tolist()\n",
    "values += values[:1]\n",
    "axes[0, 1].plot(angles, values, linewidth=1, linestyle='solid', label='印度')\n",
    "axes[0, 1].fill(angles, values, 'r', alpha=0.1)\n",
    "axes[0, 1].set_xticks(angles[:-1])\n",
    "axes[0, 1].set_xticklabels(categories)\n",
    "axes[0, 1].set_title('印度')\n",
    "\n",
    "values = countries_counts['Israel_指数'].tolist()\n",
    "values += values[:1]\n",
    "axes[1, 0].plot(angles, values, linewidth=1, linestyle='solid', label='以色列')\n",
    "axes[1, 0].fill(angles, values, 'g', alpha=0.1)\n",
    "axes[1, 0].set_xticks(angles[:-1])\n",
    "axes[1, 0].set_xticklabels(categories)\n",
    "axes[1, 0].set_title('以色列')\n",
    "\n",
    "values = countries_counts['United States_指数'].tolist()\n",
    "values += values[:1]\n",
    "axes[1, 1].plot(angles, values, linewidth=1, linestyle='solid', label='美国')\n",
    "axes[1, 1].fill(angles, values, 'y', alpha=0.1)\n",
    "axes[1, 1].set_xticks(angles[:-1])\n",
    "axes[1, 1].set_xticklabels(categories)\n",
    "axes[1, 1].set_title('美国')\n",
    "fig.delaxes(axes[1, 2])\n",
    "\n",
    "plt.tight_layout()\n",
    "plt.show()"
   ],
   "outputs": [],
   "execution_count": null
  },
  {
   "metadata": {},
   "cell_type": "code",
   "source": [
    "fig, axes = plt.subplots(2, 2, figsize=(15, 15), subplot_kw=dict(polar=True))\n",
    "\n",
    "max_value = max(countries_counts[['China_指数', 'India_指数', 'Israel_指数', 'United States_指数']].max())\n",
    "\n",
    "values = countries_counts['China_指数'].tolist()\n",
    "values += values[:1]\n",
    "axes[0, 0].plot(angles, values, linewidth=1, linestyle='solid', label='中国')\n",
    "axes[0, 0].fill(angles, values, 'b', alpha=0.1)\n",
    "axes[0, 0].set_xticks(angles[:-1])\n",
    "axes[0, 0].set_xticklabels(categories)\n",
    "axes[0, 0].set_title('中国')\n",
    "axes[0, 0].set_ylim(0, max_value)\n",
    "\n",
    "values = countries_counts['India_指数'].tolist()\n",
    "values += values[:1]\n",
    "axes[0, 1].plot(angles, values, linewidth=1, linestyle='solid', label='印度')\n",
    "axes[0, 1].fill(angles, values, 'r', alpha=0.1)\n",
    "axes[0, 1].set_xticks(angles[:-1])\n",
    "axes[0, 1].set_xticklabels(categories)\n",
    "axes[0, 1].set_title('印度')\n",
    "axes[0, 1].set_ylim(0, max_value)\n",
    "\n",
    "values = countries_counts['Israel_指数'].tolist()\n",
    "values += values[:1]\n",
    "axes[1, 0].plot(angles, values, linewidth=1, linestyle='solid', label='以色列')\n",
    "axes[1, 0].fill(angles, values, 'g', alpha=0.1)\n",
    "axes[1, 0].set_xticks(angles[:-1])\n",
    "axes[1, 0].set_xticklabels(categories)\n",
    "axes[1, 0].set_title('以色列')\n",
    "axes[1, 0].set_ylim(0, max_value)\n",
    "\n",
    "values = countries_counts['United States_指数'].tolist()\n",
    "values += values[:1]\n",
    "axes[1, 1].plot(angles, values, linewidth=1, linestyle='solid', label='美国')\n",
    "axes[1, 1].fill(angles, values, 'y', alpha=0.1)\n",
    "axes[1, 1].set_xticks(angles[:-1])\n",
    "axes[1, 1].set_xticklabels(categories)\n",
    "axes[1, 1].set_title('美国')\n",
    "axes[1, 1].set_ylim(0, max_value)\n",
    "\n",
    "plt.tight_layout()\n",
    "plt.show()"
   ],
   "id": "26ef016897356a83",
   "outputs": [],
   "execution_count": null
  }
 ],
 "metadata": {
  "kernelspec": {
   "display_name": "Python 3 (ipykernel)",
   "language": "python",
   "name": "python3"
  },
  "language_info": {
   "codemirror_mode": {
    "name": "ipython",
    "version": 3
   },
   "file_extension": ".py",
   "mimetype": "text/x-python",
   "name": "python",
   "nbconvert_exporter": "python",
   "pygments_lexer": "ipython3",
   "version": "3.9.18"
  }
 },
 "nbformat": 4,
 "nbformat_minor": 5
}
