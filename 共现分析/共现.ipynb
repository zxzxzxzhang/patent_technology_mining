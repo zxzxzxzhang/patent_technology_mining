{
 "cells": [
  {
   "cell_type": "code",
   "id": "initial_id",
   "metadata": {
    "collapsed": true,
    "ExecuteTime": {
     "end_time": "2024-05-04T11:40:48.123896Z",
     "start_time": "2024-05-04T11:40:46.430624Z"
    }
   },
   "source": [
    "import networkx as nx\n",
    "import pandas as pd\n",
    "import itertools\n",
    "\n",
    "# 读取指定的工作表\n",
    "df2 = pd.read_excel('(申请号去重后）美国和欧盟 已筛选TAC_(poly butylene adipate-co-terephthalate) OR TAC_(PBAT).xlsx', sheet_name='删除金发后的专利权人共现')\n",
    "\n",
    "inventors = []\n",
    "for i, row in df2.iterrows():\n",
    "    names = row[\"[标]原始申请(专利权)人（外文）\"].split(\" | \")\n",
    "    inventors.append(names)\n",
    "\n",
    "# 创建图形对象\n",
    "G = nx.Graph()\n",
    "\n",
    "# 添加节点和边，并加权\n",
    "for i in inventors:\n",
    "    if len(i) == 1:\n",
    "        # 如果只有一个专利权人，将其作为单独的节点添加到图形中\n",
    "        G.add_node(i[0])\n",
    "    else:\n",
    "        G.add_nodes_from(i)\n",
    "        edges = itertools.combinations(i, 2)\n",
    "        for edge in edges:\n",
    "            if G.has_edge(*edge):\n",
    "                # 如果边已经存在，增加权重\n",
    "                G[edge[0]][edge[1]]['weight'] += 1\n",
    "            else:\n",
    "                # 如果边不存在，设置初始权重为1\n",
    "                G.add_edge(edge[0], edge[1], weight=1)\n",
    "# 计算节点之间的距离\n",
    "shortest_paths = dict(nx.all_pairs_shortest_path_length(G))\n",
    "# 将带权邻接矩阵保存为 CSV 文件\n",
    "adjacency_matrix = nx.to_pandas_adjacency(G, weight='weight')\n",
    "adjacency_matrix.to_csv('weighted_adjacency_matrix.csv', sep=';')\n",
    "\n",
    "print(\"带权邻接矩阵已保存为 weighted_adjacency_matrix.csv 文件。\")"
   ],
   "outputs": [
    {
     "name": "stdout",
     "output_type": "stream",
     "text": [
      "带权邻接矩阵已保存为 weighted_adjacency_matrix.csv 文件。\n"
     ]
    }
   ],
   "execution_count": 1
  },
  {
   "cell_type": "code",
   "source": [
    "# 计算联系数（边的总数）\n",
    "number_of_ties = G.number_of_edges()\n",
    "\n",
    "# 计算网络密度\n",
    "network_density = nx.density(G)\n",
    "\n",
    "# 计算网络中心化程度\n",
    "network_centralization = nx.degree_centrality(G)\n",
    "max_degree = max(network_centralization.values())\n",
    "network_centralization = sum([(max_degree - degree) / (len(G)-1) for degree in network_centralization.values()])\n",
    "\n",
    "print(\"Number of ties:\", number_of_ties)\n",
    "print(\"Network density:\", network_density)\n",
    "print(\"Network centralization:\", network_centralization)"
   ],
   "metadata": {
    "collapsed": false,
    "ExecuteTime": {
     "end_time": "2024-05-04T11:40:48.139820Z",
     "start_time": "2024-05-04T11:40:48.125796Z"
    }
   },
   "id": "841c020dc690314f",
   "outputs": [
    {
     "name": "stdout",
     "output_type": "stream",
     "text": [
      "Number of ties: 87\n",
      "Network density: 0.028237585199610515\n",
      "Network centralization: 0.0363247863247863\n"
     ]
    }
   ],
   "execution_count": 2
  },
  {
   "cell_type": "code",
   "source": [
    "# 计算节点的度\n",
    "degrees = dict(G.degree())\n",
    "\n",
    "# 计算节点之间的距离\n",
    "shortest_paths = dict(nx.all_pairs_shortest_path_length(G))\n",
    "\n",
    "# 计算基于距离的凝聚性\n",
    "total_distance = sum(sum(length for length in paths.values()) for paths in shortest_paths.values())\n",
    "distance_based_cohesion = total_distance / (len(G)*(len(G)-1))\n",
    "\n",
    "# print(\"Degrees:\", degrees)\n",
    "print(\"Distance-based cohesion:\", distance_based_cohesion)"
   ],
   "metadata": {
    "collapsed": false,
    "ExecuteTime": {
     "end_time": "2024-05-04T11:42:23.469965Z",
     "start_time": "2024-05-04T11:42:23.454699Z"
    }
   },
   "id": "819dcc22ac1106f9",
   "outputs": [
    {
     "name": "stdout",
     "output_type": "stream",
     "text": [
      "Distance-based cohesion: 0.03213242453748783\n"
     ]
    }
   ],
   "execution_count": 9
  },
  {
   "cell_type": "code",
   "source": [
    "def distance_based_agglomeration(G):\n",
    "    # 初始化凝聚性度量\n",
    "    total_agglomeration = 0\n",
    "    \n",
    "    # 获取图中所有节点对之间的最短路径长度\n",
    "    shortest_paths = dict(nx.all_pairs_shortest_path_length(G))\n",
    "    \n",
    "    # 遍历图中的每一对节点\n",
    "    for u in G.nodes():\n",
    "        for v in G.nodes():\n",
    "            if u != v:  # 排除自身节点\n",
    "                # 获取节点u和v之间的最短路径长度\n",
    "                if v in shortest_paths[u]:\n",
    "                    distance_uv = shortest_paths[u][v]\n",
    "                else:\n",
    "                    # 如果不存在路径，则将距离设置为无穷大\n",
    "                    distance_uv = float('inf')\n",
    "                \n",
    "                # 计算节点之间的凝聚性\n",
    "                agglomeration_uv = 1 / (1 + distance_uv)\n",
    "                \n",
    "                # 更新总的凝聚性度量\n",
    "                total_agglomeration += agglomeration_uv\n",
    "    \n",
    "    # 返回平均凝聚性\n",
    "    num_nodes = len(G.nodes())\n",
    "    return total_agglomeration / (num_nodes * (num_nodes - 1))\n",
    "\n",
    "# 计算基于距离的凝聚性\n",
    "agglomeration = distance_based_agglomeration(G)\n",
    "print(\"基于距离的凝聚性:\", agglomeration)"
   ],
   "metadata": {
    "collapsed": false,
    "ExecuteTime": {
     "end_time": "2024-05-04T11:42:24.151249Z",
     "start_time": "2024-05-04T11:42:24.138593Z"
    }
   },
   "id": "1ba7179a751b4ec6",
   "outputs": [
    {
     "name": "stdout",
     "output_type": "stream",
     "text": [
      "基于距离的凝聚性: 0.014767932489451477\n"
     ]
    }
   ],
   "execution_count": 10
  },
  {
   "metadata": {},
   "cell_type": "code",
   "outputs": [],
   "execution_count": null,
   "source": "",
   "id": "993facf065e9e7d1"
  }
 ],
 "metadata": {
  "kernelspec": {
   "display_name": "Python 3",
   "language": "python",
   "name": "python3"
  },
  "language_info": {
   "codemirror_mode": {
    "name": "ipython",
    "version": 2
   },
   "file_extension": ".py",
   "mimetype": "text/x-python",
   "name": "python",
   "nbconvert_exporter": "python",
   "pygments_lexer": "ipython2",
   "version": "2.7.6"
  }
 },
 "nbformat": 4,
 "nbformat_minor": 5
}
