{
 "cells": [
  {
   "cell_type": "code",
   "execution_count": 26,
   "id": "initial_id",
   "metadata": {
    "collapsed": true,
    "ExecuteTime": {
     "end_time": "2024-01-07T17:01:37.719688600Z",
     "start_time": "2024-01-07T17:01:37.422793Z"
    }
   },
   "outputs": [
    {
     "data": {
      "text/plain": "       序号      公开(公告)号                                                 标题  \\\n0      10  EP1685201A1  Use of an aqueous dispersion of at least one b...   \n1      15  EP2144221B1               Biodegradable film for advertisement   \n2      16  EP2144966A1  Coextrusion binders on a renewable/biodegradab...   \n3      20  EP2247661A2  Method for preparing thermoplastic composition...   \n4      21  EP2294125A2  Starch-containing thermoplastic or elastomer c...   \n..    ...          ...                                                ...   \n518  1102  US9714341B2               Biodegradable polyester-based blends   \n519  1108  US9850362B2  Modified starch compositions, starch composite...   \n520  1109  US9850376B2  Polyester resin composition and method for pro...   \n521  1110  US9896539B2  Method for synthesizing poly(butylene adipate-...   \n522  1111  US9994686B2                    Biodegradable film and laminate   \n\n            申请日                                                发明人  \\\n0    2004-10-29  MENTINK, LÉON | BOUVIER, FRÉDÉRIC | CLABAUX, P...   \n1    2009-07-07                       LEE, IN KEE | KIM, SEONG JIN   \n2    2008-05-14  CHOPINEZ, FABRICE | LAFFARGUE, JOHANN | PRADEL...   \n3    2009-01-29  MENTINK, LÉON | LAGNEAUX, DIDIER | GIMENEZ, JÉ...   \n4    2009-06-12  MENTINK, LÉON | GIMENEZ, JÉRÔME | LAGNEAUX, DI...   \n..          ...                                                ...   \n518  2013-03-18                       LIU, HONGZHI | ZHANG, JINWEN   \n519  2014-07-11  LIAO, SHENG-JU | CHANG, CHIH-JEN | LIU, YEN-PO...   \n520  2013-10-01                     OKURA, TETSUO | KOYAMA, RYOHEI   \n521  2016-09-12  LI, HONG | ZHANG, QUANXING | SUN, XIANGQIAN | ...   \n522  2013-02-18           WONG, CHO KEE | WADSWORTH, LARRY CLIFTON   \n\n                                                    摘要 [标]当前申请(专利权)人  \\\n0    The invention relates to the preparation of an...         罗盖特公司   \n1    The present invention relates to a biodegradab...      株式会社LG化学   \n2    The invention relates to coextrusion binders i...       法国阿科玛公司   \n3    The subject matter of the present invention is...         罗盖特公司   \n4    The invention relates to a thermoplastic and/o...         罗盖特公司   \n..                                                 ...           ...   \n518  Compositions of biodegradable polymer blends a...       华盛顿州立大学   \n519  The present disclosure provides a modified sta...   财团法人工业技术研究院   \n520  A resin composition for producing a film or sh...  钟渊化学工业股份有限公司   \n521  A method for synthesizing poly(butylene adipat...          南京大学   \n522  Disclosed are a biodegradable film and an enha...   美亚无纺布工业有限公司   \n\n    [标]原始申请(专利权)人                                                关键词  \n0           罗盖特公司                                  aqueous|dry|phase  \n1        株式会社LG化学                    biodegradable|materials|present  \n2         法国阿科玛公司  renewable|polymer|biodegradable|optionally|str...  \n3           罗盖特公司     composition|starch|plasticizer|obtained|weight  \n4           罗盖特公司       mixed|nanometric|composition|cationic|weight  \n..            ...                                                ...  \n518       华盛顿州立大学   polymer|biodegradable|present|strength|catalytic  \n519   财团法人工业技术研究院                                       starch|parts  \n520  钟渊化学工业股份有限公司      polyester|weight|composition|aliphatic|amount  \n521          南京大学            yield|solid|main|cocatalyst|weight|melt  \n522   美亚无纺布工业有限公司                        biodegradable|pbat|good|pla  \n\n[523 rows x 9 columns]",
      "text/html": "<div>\n<style scoped>\n    .dataframe tbody tr th:only-of-type {\n        vertical-align: middle;\n    }\n\n    .dataframe tbody tr th {\n        vertical-align: top;\n    }\n\n    .dataframe thead th {\n        text-align: right;\n    }\n</style>\n<table border=\"1\" class=\"dataframe\">\n  <thead>\n    <tr style=\"text-align: right;\">\n      <th></th>\n      <th>序号</th>\n      <th>公开(公告)号</th>\n      <th>标题</th>\n      <th>申请日</th>\n      <th>发明人</th>\n      <th>摘要</th>\n      <th>[标]当前申请(专利权)人</th>\n      <th>[标]原始申请(专利权)人</th>\n      <th>关键词</th>\n    </tr>\n  </thead>\n  <tbody>\n    <tr>\n      <th>0</th>\n      <td>10</td>\n      <td>EP1685201A1</td>\n      <td>Use of an aqueous dispersion of at least one b...</td>\n      <td>2004-10-29</td>\n      <td>MENTINK, LÉON | BOUVIER, FRÉDÉRIC | CLABAUX, P...</td>\n      <td>The invention relates to the preparation of an...</td>\n      <td>罗盖特公司</td>\n      <td>罗盖特公司</td>\n      <td>aqueous|dry|phase</td>\n    </tr>\n    <tr>\n      <th>1</th>\n      <td>15</td>\n      <td>EP2144221B1</td>\n      <td>Biodegradable film for advertisement</td>\n      <td>2009-07-07</td>\n      <td>LEE, IN KEE | KIM, SEONG JIN</td>\n      <td>The present invention relates to a biodegradab...</td>\n      <td>株式会社LG化学</td>\n      <td>株式会社LG化学</td>\n      <td>biodegradable|materials|present</td>\n    </tr>\n    <tr>\n      <th>2</th>\n      <td>16</td>\n      <td>EP2144966A1</td>\n      <td>Coextrusion binders on a renewable/biodegradab...</td>\n      <td>2008-05-14</td>\n      <td>CHOPINEZ, FABRICE | LAFFARGUE, JOHANN | PRADEL...</td>\n      <td>The invention relates to coextrusion binders i...</td>\n      <td>法国阿科玛公司</td>\n      <td>法国阿科玛公司</td>\n      <td>renewable|polymer|biodegradable|optionally|str...</td>\n    </tr>\n    <tr>\n      <th>3</th>\n      <td>20</td>\n      <td>EP2247661A2</td>\n      <td>Method for preparing thermoplastic composition...</td>\n      <td>2009-01-29</td>\n      <td>MENTINK, LÉON | LAGNEAUX, DIDIER | GIMENEZ, JÉ...</td>\n      <td>The subject matter of the present invention is...</td>\n      <td>罗盖特公司</td>\n      <td>罗盖特公司</td>\n      <td>composition|starch|plasticizer|obtained|weight</td>\n    </tr>\n    <tr>\n      <th>4</th>\n      <td>21</td>\n      <td>EP2294125A2</td>\n      <td>Starch-containing thermoplastic or elastomer c...</td>\n      <td>2009-06-12</td>\n      <td>MENTINK, LÉON | GIMENEZ, JÉRÔME | LAGNEAUX, DI...</td>\n      <td>The invention relates to a thermoplastic and/o...</td>\n      <td>罗盖特公司</td>\n      <td>罗盖特公司</td>\n      <td>mixed|nanometric|composition|cationic|weight</td>\n    </tr>\n    <tr>\n      <th>...</th>\n      <td>...</td>\n      <td>...</td>\n      <td>...</td>\n      <td>...</td>\n      <td>...</td>\n      <td>...</td>\n      <td>...</td>\n      <td>...</td>\n      <td>...</td>\n    </tr>\n    <tr>\n      <th>518</th>\n      <td>1102</td>\n      <td>US9714341B2</td>\n      <td>Biodegradable polyester-based blends</td>\n      <td>2013-03-18</td>\n      <td>LIU, HONGZHI | ZHANG, JINWEN</td>\n      <td>Compositions of biodegradable polymer blends a...</td>\n      <td>华盛顿州立大学</td>\n      <td>华盛顿州立大学</td>\n      <td>polymer|biodegradable|present|strength|catalytic</td>\n    </tr>\n    <tr>\n      <th>519</th>\n      <td>1108</td>\n      <td>US9850362B2</td>\n      <td>Modified starch compositions, starch composite...</td>\n      <td>2014-07-11</td>\n      <td>LIAO, SHENG-JU | CHANG, CHIH-JEN | LIU, YEN-PO...</td>\n      <td>The present disclosure provides a modified sta...</td>\n      <td>财团法人工业技术研究院</td>\n      <td>财团法人工业技术研究院</td>\n      <td>starch|parts</td>\n    </tr>\n    <tr>\n      <th>520</th>\n      <td>1109</td>\n      <td>US9850376B2</td>\n      <td>Polyester resin composition and method for pro...</td>\n      <td>2013-10-01</td>\n      <td>OKURA, TETSUO | KOYAMA, RYOHEI</td>\n      <td>A resin composition for producing a film or sh...</td>\n      <td>钟渊化学工业股份有限公司</td>\n      <td>钟渊化学工业股份有限公司</td>\n      <td>polyester|weight|composition|aliphatic|amount</td>\n    </tr>\n    <tr>\n      <th>521</th>\n      <td>1110</td>\n      <td>US9896539B2</td>\n      <td>Method for synthesizing poly(butylene adipate-...</td>\n      <td>2016-09-12</td>\n      <td>LI, HONG | ZHANG, QUANXING | SUN, XIANGQIAN | ...</td>\n      <td>A method for synthesizing poly(butylene adipat...</td>\n      <td>南京大学</td>\n      <td>南京大学</td>\n      <td>yield|solid|main|cocatalyst|weight|melt</td>\n    </tr>\n    <tr>\n      <th>522</th>\n      <td>1111</td>\n      <td>US9994686B2</td>\n      <td>Biodegradable film and laminate</td>\n      <td>2013-02-18</td>\n      <td>WONG, CHO KEE | WADSWORTH, LARRY CLIFTON</td>\n      <td>Disclosed are a biodegradable film and an enha...</td>\n      <td>美亚无纺布工业有限公司</td>\n      <td>美亚无纺布工业有限公司</td>\n      <td>biodegradable|pbat|good|pla</td>\n    </tr>\n  </tbody>\n</table>\n<p>523 rows × 9 columns</p>\n</div>"
     },
     "execution_count": 26,
     "metadata": {},
     "output_type": "execute_result"
    }
   ],
   "source": [
    "import pandas as pd\n",
    "\n",
    "# 读取Excel文件\n",
    "df = pd.read_excel('PBAT关键词矩阵.xlsx')\n",
    "# 删除关键词列中每行开头第前两个字符和最后两个字符\n",
    "df['关键词'] = df['关键词'].str[2:-2]\n",
    "df['关键词'] = df['关键词'].str.replace(\"'\", \"\")\n",
    "df['关键词'] = df['关键词'].str.replace(\",\", '|')\n",
    "df['关键词'] = df['关键词'].str.replace(\" \", \"\")\n",
    "df.to_excel('PBAT关键词.xlsx')\n",
    "df"
   ]
  },
  {
   "cell_type": "code",
   "outputs": [
    {
     "name": "stdout",
     "output_type": "stream",
     "text": [
      "关键词: aqueous，专利权人: 罗盖特公司\n",
      "关键词: dry，专利权人: 罗盖特公司\n",
      "关键词: phase，专利权人: 罗盖特公司\n",
      "关键词: biodegradable，专利权人: 株式会社LG化学\n",
      "关键词: materials，专利权人: 株式会社LG化学\n"
     ]
    }
   ],
   "source": [
    "import pandas as pd\n",
    "import ast\n",
    "from collections import Counter\n",
    "\n",
    "# 读取数据\n",
    "data = pd.read_excel('PBAT关键词矩阵.xlsx')\n",
    "\n",
    "# 提取关键词列表\n",
    "keywords = []\n",
    "for keyword_string in data['关键词']:\n",
    "    keyword_list = ast.literal_eval(keyword_string)\n",
    "    keywords.extend(keyword_list)\n",
    "\n",
    "# 统计每个关键词的出现频率\n",
    "keyword_counts = Counter(keywords)\n",
    "\n",
    "# 计算每个关键词的burst值\n",
    "burst_values = {}\n",
    "for keyword in keyword_counts:\n",
    "    keyword_count = keyword_counts[keyword]\n",
    "    total_count = len(keywords)\n",
    "    burst_value = (keyword_count / total_count) / (keyword_counts[keyword] / total_count)\n",
    "    burst_values[keyword] = burst_value\n",
    "\n",
    "# 根据burst值降序排列关键词\n",
    "sorted_burst_values = sorted(burst_values.items(), key=lambda x: x[1], reverse=True)\n",
    "\n",
    "# 输出前几个具有最高burst值的关键词和对应的专利权人\n",
    "top_keywords = 5  # 设置要输出的前几个关键词\n",
    "for i in range(top_keywords):\n",
    "    keyword = sorted_burst_values[i][0]\n",
    "    patent_owner = data[data['关键词'].apply(lambda x: keyword in ast.literal_eval(x))]['[标]原始申请(专利权)人'].values[0]\n",
    "    print(f\"关键词: {keyword}，专利权人: {patent_owner}\")\n"
   ],
   "metadata": {
    "collapsed": false,
    "ExecuteTime": {
     "end_time": "2024-01-07T16:45:41.681628Z",
     "start_time": "2024-01-07T16:45:41.509277200Z"
    }
   },
   "id": "47ab521acc39299",
   "execution_count": 11
  },
  {
   "cell_type": "code",
   "outputs": [
    {
     "ename": "AttributeError",
     "evalue": "'float' object has no attribute 'split'",
     "output_type": "error",
     "traceback": [
      "\u001B[1;31m---------------------------------------------------------------------------\u001B[0m",
      "\u001B[1;31mAttributeError\u001B[0m                            Traceback (most recent call last)",
      "Cell \u001B[1;32mIn[5], line 13\u001B[0m\n\u001B[0;32m     11\u001B[0m word_counts \u001B[38;5;241m=\u001B[39m {}\n\u001B[0;32m     12\u001B[0m \u001B[38;5;28;01mfor\u001B[39;00m keyword_list \u001B[38;5;129;01min\u001B[39;00m keywords:\n\u001B[1;32m---> 13\u001B[0m     \u001B[38;5;28;01mfor\u001B[39;00m keyword \u001B[38;5;129;01min\u001B[39;00m \u001B[43mkeyword_list\u001B[49m\u001B[38;5;241;43m.\u001B[39;49m\u001B[43msplit\u001B[49m(\u001B[38;5;124m\"\u001B[39m\u001B[38;5;124m|\u001B[39m\u001B[38;5;124m\"\u001B[39m):\n\u001B[0;32m     14\u001B[0m         \u001B[38;5;28;01mif\u001B[39;00m keyword \u001B[38;5;129;01mnot\u001B[39;00m \u001B[38;5;129;01min\u001B[39;00m word_counts:\n\u001B[0;32m     15\u001B[0m             word_counts[keyword] \u001B[38;5;241m=\u001B[39m \u001B[38;5;241m0\u001B[39m\n",
      "\u001B[1;31mAttributeError\u001B[0m: 'float' object has no attribute 'split'"
     ]
    }
   ],
   "source": [
    "import pandas as pd\n",
    "from datetime import datetime\n",
    "\n",
    "# 读取Excel文件\n",
    "df = pd.read_excel(\"PBAT关键词.xlsx\")\n",
    "\n",
    "# 提取关键词数据\n",
    "keywords = df[\"关键词\"].tolist()\n",
    "\n",
    "# 词频统计\n",
    "word_counts = {}\n",
    "for keyword_list in keywords:\n",
    "    for keyword in keyword_list.split(\"|\"):\n",
    "        if keyword not in word_counts:\n",
    "            word_counts[keyword] = 0\n",
    "        word_counts[keyword] += 1\n",
    "\n",
    "# 计算频次变化率\n",
    "change_rates = {}\n",
    "prev_counts = {}\n",
    "for keyword, count in word_counts.items():\n",
    "    if keyword not in prev_counts:\n",
    "        prev_counts[keyword] = count\n",
    "        continue\n",
    "    change_rate = (count - prev_counts[keyword]) / prev_counts[keyword]\n",
    "    change_rates[keyword] = change_rate\n",
    "    prev_counts[keyword] = count\n",
    "\n",
    "# 筛选出频次变化率高的词作为burst term\n",
    "threshold = 0.5  # 频次变化率阈值，可以根据实际情况调整\n",
    "burst_terms = [keyword for keyword, rate in change_rates.items() if rate > threshold]\n",
    "\n",
    "# 计算每个专利权人的突现强度和开始突现的时间\n",
    "patent_owners = df[\"[标]原始申请(专利权)人\"].tolist()\n",
    "burst_intensities = {}\n",
    "burst_start_times = {}\n",
    "for i, keyword_list in enumerate(keywords):\n",
    "    for burst_term in burst_terms:\n",
    "        if burst_term in keyword_list:\n",
    "            patent_owner = patent_owners[i]\n",
    "            if patent_owner not in burst_intensities:\n",
    "                burst_intensities[patent_owner] = 0\n",
    "                burst_start_times[patent_owner] = datetime.now()\n",
    "            burst_intensities[patent_owner] += 1\n",
    "\n",
    "# 输出结果\n",
    "print(\"Burst Terms:\")\n",
    "for burst_term in burst_terms:\n",
    "    print(burst_term)\n",
    "\n",
    "print(\"\\nBurst Intensities:\")\n",
    "for patent_owner, intensity in burst_intensities.items():\n",
    "    print(f\"{patent_owner}: {intensity}\")\n",
    "\n",
    "print(\"\\nBurst Start Times:\")\n",
    "for patent_owner, start_time in burst_start_times.items():\n",
    "    print(f\"{patent_owner}: {start_time}\")\n"
   ],
   "metadata": {
    "collapsed": false,
    "ExecuteTime": {
     "end_time": "2024-01-07T17:19:39.233280900Z",
     "start_time": "2024-01-07T17:19:39.030078700Z"
    }
   },
   "id": "776e402622a340e",
   "execution_count": 5
  }
 ],
 "metadata": {
  "kernelspec": {
   "name": "pytorch",
   "language": "python",
   "display_name": "PyTorch"
  },
  "language_info": {
   "codemirror_mode": {
    "name": "ipython",
    "version": 2
   },
   "file_extension": ".py",
   "mimetype": "text/x-python",
   "name": "python",
   "nbconvert_exporter": "python",
   "pygments_lexer": "ipython2",
   "version": "2.7.6"
  }
 },
 "nbformat": 4,
 "nbformat_minor": 5
}
