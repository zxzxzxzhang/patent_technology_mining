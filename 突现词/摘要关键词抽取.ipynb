{
 "cells": [
  {
   "cell_type": "code",
   "id": "initial_id",
   "metadata": {
    "collapsed": true,
    "ExecuteTime": {
     "end_time": "2024-04-22T08:03:56.546687Z",
     "start_time": "2024-04-22T08:03:55.942826Z"
    }
   },
   "source": [
    "import pandas as pd"
   ],
   "execution_count": 1,
   "outputs": []
  },
  {
   "cell_type": "code",
   "source": [
    "df = pd.read_excel(r'C:\\Users\\RIC_ZX\\Desktop\\papers\\ZLW\\(申请号去重后）美国和欧盟 已筛选TAC_(poly butylene adipate-co-terephthalate) OR TAC_(PBAT).xlsx')\n",
    "df"
   ],
   "metadata": {
    "collapsed": false,
    "ExecuteTime": {
     "end_time": "2024-04-22T08:03:57.214745Z",
     "start_time": "2024-04-22T08:03:56.548699Z"
    }
   },
   "id": "2d4cf18e13ea5bc8",
   "execution_count": 2,
   "outputs": []
  },
  {
   "cell_type": "code",
   "source": [
    "import re\n",
    "from nltk.corpus import stopwords\n",
    "def filter_text(text):    \n",
    "    text = text.lower()\n",
    "    # 去除括号及其内部内容\n",
    "    text = re.sub(r'\\([^)]*\\)', '', text)\n",
    "    # 去除所有符号和数字\n",
    "    pattern = re.compile(r'[^a-zA-Z\\s]')\n",
    "    text = pattern.sub(' ', text)\n",
    "    words = text.split()\n",
    "    # 过滤停用词、标点符号以及人称代词、感叹词、连接词和介词\n",
    "    filtered_words = [word for word in words if word not in stopwords.words('english')]\n",
    "    # 拼接过滤后的单词并返回\n",
    "    return ' '.join(filtered_words)\n",
    "df['摘要'] = df['摘要'].astype(str).apply(filter_text)"
   ],
   "metadata": {
    "collapsed": false,
    "ExecuteTime": {
     "end_time": "2024-04-22T08:04:09.589831Z",
     "start_time": "2024-04-22T08:03:57.216745Z"
    }
   },
   "id": "45cb83482a4a3325",
   "execution_count": 3,
   "outputs": []
  },
  {
   "cell_type": "code",
   "source": [
    "df"
   ],
   "metadata": {
    "collapsed": false,
    "ExecuteTime": {
     "end_time": "2024-04-22T08:04:09.620846Z",
     "start_time": "2024-04-22T08:04:09.591488Z"
    }
   },
   "id": "541064b5ace50965",
   "execution_count": 4,
   "outputs": []
  },
  {
   "cell_type": "code",
   "source": [
    "def removes(text):\n",
    "    text = text.replace(\"polyesters\", \"polyester\").replace(\"polymers\", \"polymer\").replace(\"blends\", \"blend\").replace(\"organisms\", \"organism\").replace(\"materials\", \"material\").replace(\"layers\", \"layer\").replace(\"laminates\", \"laminate\").replace(\"composites\", \"composite\").replace(\"additives\", \"additive\").replace(\"biodégradable\", \"biodegradable\").replace(\"biodégradables\", \"biodegradable\").replace(\"biodégradables\", \"biodegradable\").replace(\"biodégradable\", \"biodegradable\").replace(\"compounds\", \"compound\").replace(\"sheets\", \"sheet\").replace(\"accessories\", \"accessory\").replace(\"layered\", \"layer\").replace(\"components\", \"component\").replace(\"plastics\", \"plastic\").replace(\"polyesteramides\", \"polyesteramid\").replace(\"Polymère\", \"polymer\").replace(\"poly \", \"polymer\").replace(\"polym \", \"polymer\").replace('polymers', 'polymer').replace('ppm', '')\n",
    "    return text\n",
    "df['摘要'] = df['摘要'].apply(removes)"
   ],
   "metadata": {
    "collapsed": false,
    "ExecuteTime": {
     "end_time": "2024-04-22T08:04:09.636845Z",
     "start_time": "2024-04-22T08:04:09.623844Z"
    }
   },
   "id": "19c0afa90cc9aae0",
   "execution_count": 5,
   "outputs": []
  },
  {
   "cell_type": "code",
   "source": [
    "df['摘要'] = df['摘要'].apply(removes)\n",
    "df.head(10)"
   ],
   "metadata": {
    "collapsed": false,
    "ExecuteTime": {
     "end_time": "2024-04-22T08:04:09.667207Z",
     "start_time": "2024-04-22T08:04:09.638271Z"
    }
   },
   "id": "a3af10714394e456",
   "execution_count": 6,
   "outputs": []
  },
  {
   "cell_type": "code",
   "source": [
    "import torch\n",
    "from keybert import KeyBERT\n",
    "from transformers import MPNetTokenizer, MPNetModel\n",
    "from transformers import DistilBertTokenizer, DistilBertModel\n",
    "# 加载微调后的模型\n",
    "device = torch.device(\"cuda\")\n",
    "# 加载微调后的模型\n",
    "#model_path = r'C:\\Users\\RIC_ZX\\Desktop\\papers\\ZLW\\SBERT\\TR微调\\distilbert_model.pth' # 请替换为您的模型路径\n",
    "model = DistilBertModel.from_pretrained(r'C:\\Users\\RIC_ZX\\Desktop\\papers\\ZLW\\SBERT\\TR微调\\distilbert-base-nli-mean-tokens')\n",
    "#model.load_state_dict(torch.load(model_path, map_location=device))\n",
    "model = model.to(device)\n",
    "\n",
    "# 确保模型和分词器是匹配的，如果它们不匹配，您可能需要调整代码以确保它们能够正确工作\n",
    "def get_top_n_words(text, top_n=3):\n",
    "    kw_model = KeyBERT(model)\n",
    "    keywords = kw_model.extract_keywords(text, keyphrase_ngram_range=(1, 1), stop_words=None, top_n=top_n)\n",
    "    return keywords"
   ],
   "metadata": {
    "collapsed": false,
    "ExecuteTime": {
     "end_time": "2024-04-22T08:04:16.300312Z",
     "start_time": "2024-04-22T08:04:09.668924Z"
    }
   },
   "id": "7a259ee521617689",
   "execution_count": 7,
   "outputs": []
  },
  {
   "cell_type": "code",
   "source": "df['关键词3'] = df['摘要'].apply(get_top_n_words)",
   "metadata": {
    "collapsed": false,
    "ExecuteTime": {
     "end_time": "2024-04-22T08:18:09.750974Z",
     "start_time": "2024-04-22T08:04:16.301474Z"
    }
   },
   "id": "2c87f2365a2eba5a",
   "execution_count": 8,
   "outputs": []
  },
  {
   "cell_type": "code",
   "source": [
    "df"
   ],
   "metadata": {
    "collapsed": false,
    "ExecuteTime": {
     "end_time": "2024-04-22T08:18:09.781436Z",
     "start_time": "2024-04-22T08:18:09.752521Z"
    }
   },
   "id": "856146a185105c51",
   "execution_count": 9,
   "outputs": []
  },
  {
   "cell_type": "code",
   "source": [
    "import pandas as pd\n",
    "import re\n",
    "\n",
    "# 定义函数去除括号和数字\n",
    "# 定义函数去除方括号、小括号和数字\n",
    "def remove(text):\n",
    "    text = re.sub(r'[\\[\\]\\(\\)\\d\\.\\']', '', text)  # 去除方括号、小括号、数字、句点和单引号\n",
    "    return text"
   ],
   "metadata": {
    "collapsed": false,
    "ExecuteTime": {
     "end_time": "2024-04-22T08:18:09.796661Z",
     "start_time": "2024-04-22T08:18:09.783628Z"
    }
   },
   "id": "aa8f02f3347ac86b",
   "execution_count": 10,
   "outputs": []
  },
  {
   "cell_type": "code",
   "source": [
    "def remove_one(text):\n",
    "    text = text.replace(', , ', ';')  # 只替换第一个逗号\n",
    "    return text"
   ],
   "metadata": {
    "collapsed": false,
    "ExecuteTime": {
     "end_time": "2024-04-22T08:18:09.812651Z",
     "start_time": "2024-04-22T08:18:09.798658Z"
    }
   },
   "id": "1b17295946a6391d",
   "execution_count": 11,
   "outputs": []
  },
  {
   "cell_type": "code",
   "source": [
    "df['关键词3'] = df['关键词3'].astype(str).apply(remove).apply(remove_one).apply(lambda x: x[:-2])\n",
    "df"
   ],
   "metadata": {
    "collapsed": false,
    "ExecuteTime": {
     "end_time": "2024-04-22T08:18:09.844076Z",
     "start_time": "2024-04-22T08:18:09.814661Z"
    }
   },
   "id": "63764277823bf1a2",
   "execution_count": 12,
   "outputs": []
  },
  {
   "metadata": {
    "ExecuteTime": {
     "end_time": "2024-04-22T08:18:10.281439Z",
     "start_time": "2024-04-22T08:18:09.845270Z"
    }
   },
   "cell_type": "code",
   "source": "df.to_excel('关键词抽取distil未微调.xlsx', index=False)",
   "id": "27d3ba7bc312b56",
   "execution_count": 13,
   "outputs": []
  },
  {
   "metadata": {
    "ExecuteTime": {
     "end_time": "2024-04-22T08:18:10.879436Z",
     "start_time": "2024-04-22T08:18:10.283447Z"
    }
   },
   "cell_type": "code",
   "source": [
    "import torch\n",
    "from keybert import KeyBERT\n",
    "from transformers import MPNetTokenizer, MPNetModel\n",
    "from transformers import DistilBertTokenizer, DistilBertModel\n",
    "# 加载微调后的模型\n",
    "device = torch.device(\"cuda\")\n",
    "# 加载微调后的模型\n",
    "model_path = r'C:\\Users\\RIC_ZX\\Desktop\\papers\\ZLW\\SBERT\\TR微调\\distilbert_model.pth' # 请替换为您的模型路径\n",
    "model = DistilBertModel.from_pretrained(r'C:\\Users\\RIC_ZX\\Desktop\\papers\\ZLW\\SBERT\\TR微调\\distilbert-base-nli-mean-tokens')\n",
    "model.load_state_dict(torch.load(model_path, map_location=device))\n",
    "model = model.to(device)\n",
    "\n",
    "# 确保模型和分词器是匹配的，如果它们不匹配，您可能需要调整代码以确保它们能够正确工作\n",
    "def get_top_n_words(text, top_n=3):\n",
    "    kw_model = KeyBERT(model)\n",
    "    keywords = kw_model.extract_keywords(text, keyphrase_ngram_range=(1, 1), stop_words=None, top_n=top_n)\n",
    "    return keywords"
   ],
   "id": "9bf3958963b059fb",
   "execution_count": 14,
   "outputs": []
  },
  {
   "metadata": {
    "ExecuteTime": {
     "end_time": "2024-04-22T08:25:49.015448Z",
     "start_time": "2024-04-22T08:18:10.881752Z"
    }
   },
   "cell_type": "code",
   "source": "df['关键词3无'] = df['摘要'].apply(get_top_n_words)",
   "id": "4769287c72cac72c",
   "execution_count": 15,
   "outputs": []
  },
  {
   "metadata": {
    "ExecuteTime": {
     "end_time": "2024-04-22T08:25:49.018565Z",
     "start_time": "2024-04-22T08:25:49.017563Z"
    }
   },
   "cell_type": "code",
   "source": [
    "df['关键词3无'] = df['关键词3无'].astype(str).apply(remove).apply(remove_one).apply(lambda x: x[:-2])\n",
    "df"
   ],
   "id": "e39a49ec9f7ba48a",
   "execution_count": null,
   "outputs": []
  },
  {
   "metadata": {
    "ExecuteTime": {
     "end_time": "2024-04-22T08:25:49.019569Z",
     "start_time": "2024-04-22T08:25:49.019569Z"
    }
   },
   "cell_type": "code",
   "source": "df.to_excel('关键词抽取3distil微调.xlsx', index=False)",
   "id": "49b3e806755f4996",
   "execution_count": null,
   "outputs": []
  },
  {
   "metadata": {
    "ExecuteTime": {
     "end_time": "2024-04-22T08:25:53.232693Z",
     "start_time": "2024-04-22T08:25:53.223482Z"
    }
   },
   "cell_type": "code",
   "source": [
    "import pandas as pd\n",
    "\n",
    "# 原始词汇\n",
    "words = [\n",
    "    \"starch\", \"sheet\", \"resin\", \"ppm\", \"polymeric\", \"polymer\", \"polylactide\", \n",
    "    \"polyethylene\", \"polycarbonate\", \"polybutylene\", \"plastic\", \"packaging\", \n",
    "    \"organism\", \"layer\", \"invention\", \"foam\", \"cyclopentanone\", \"copolymer\", \n",
    "    \"copolyester\", \"composite\", \"biopolymer\", \"bioplastic\", \"biodegradation\"\n",
    "]\n",
    "\n",
    "# 翻译后的词汇\n",
    "translations = [\n",
    "    \"淀粉\", \"片\", \"树脂\", \"ppm\", \"聚合物的\", \"聚合物\", \"聚乳酸\", \n",
    "    \"聚乙烯\", \"聚碳酸酯\", \"聚丁烯\", \"塑料\", \"包装\", \n",
    "    \"有机体\", \"层\", \"发明\", \"泡沫\", \"环戊酮\", \"共聚物\", \n",
    "    \"共聚酯\", \"复合材料\", \"生物聚合物\", \"生物塑料\", \"生物降解\"\n",
    "]\n",
    "\n",
    "# 创建DataFrame\n",
    "df = pd.DataFrame({\"英文\": words, \"中文\": translations})\n"
   ],
   "id": "bc88a8fc68b88274",
   "execution_count": 16,
   "outputs": []
  },
  {
   "metadata": {
    "ExecuteTime": {
     "end_time": "2024-04-22T08:26:43.173611Z",
     "start_time": "2024-04-22T08:26:43.148842Z"
    }
   },
   "cell_type": "code",
   "source": "df.to_excel('chinese、eng.xlsx', index=False)",
   "id": "2a083ff4a89d4943",
   "execution_count": 19,
   "outputs": []
  },
  {
   "metadata": {},
   "cell_type": "code",
   "execution_count": null,
   "source": "",
   "id": "d2415f1defa6e4a0",
   "outputs": []
  }
 ],
 "metadata": {
  "kernelspec": {
   "display_name": "Python 3",
   "language": "python",
   "name": "python3"
  },
  "language_info": {
   "codemirror_mode": {
    "name": "ipython",
    "version": 2
   },
   "file_extension": ".py",
   "mimetype": "text/x-python",
   "name": "python",
   "nbconvert_exporter": "python",
   "pygments_lexer": "ipython2",
   "version": "2.7.6"
  }
 },
 "nbformat": 4,
 "nbformat_minor": 5
}
