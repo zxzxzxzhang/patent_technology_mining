{
 "cells": [
  {
   "cell_type": "code",
   "id": "initial_id",
   "metadata": {
    "collapsed": true,
    "ExecuteTime": {
     "end_time": "2024-04-18T15:02:34.348517Z",
     "start_time": "2024-04-18T15:02:33.295105Z"
    }
   },
   "source": [
    "import pandas as pd\n",
    "\n",
    "# 读取Excel文件\n",
    "df = pd.read_excel(r'C:\\Users\\RIC_ZX\\Desktop\\papers\\ZLW\\美国和欧盟 已筛选TAC_(poly butylene adipate-co-terephthalate) OR TAC_(PBAT).xlsx')"
   ],
   "execution_count": 1,
   "outputs": []
  },
  {
   "cell_type": "code",
   "source": [
    "def ipc_truncate(ipc):\n",
    "    return ipc[:4]"
   ],
   "metadata": {
    "collapsed": false,
    "ExecuteTime": {
     "end_time": "2024-04-18T15:02:34.363652Z",
     "start_time": "2024-04-18T15:02:34.350516Z"
    }
   },
   "id": "e4528ca2e1b5c702",
   "execution_count": 2,
   "outputs": []
  },
  {
   "cell_type": "code",
   "source": [
    "df['IPC主分类号'] = df['IPC主分类号'].apply(ipc_truncate)\n",
    "df"
   ],
   "metadata": {
    "collapsed": false,
    "ExecuteTime": {
     "end_time": "2024-04-18T15:02:34.409583Z",
     "start_time": "2024-04-18T15:02:34.365179Z"
    }
   },
   "id": "f4fb072a002a47ca",
   "execution_count": 3,
   "outputs": []
  },
  {
   "cell_type": "code",
   "source": [
    "# 定义函数将IPC主分类号映射到对应的类别\n",
    "def map_category(ipc_code):\n",
    "    if ipc_code == 'C08J' or ipc_code == 'C08L' or ipc_code == 'C08G' or ipc_code == 'C08K' or ipc_code == 'C07C':\n",
    "        return '聚合物及其制造工艺'\n",
    "    elif ipc_code == 'B32B' or ipc_code == 'B29C' or ipc_code == 'B65D' :\n",
    "        return '薄膜及制品'\n",
    "    elif ipc_code == 'C09J' or ipc_code == 'C09D':\n",
    "        return '涂料和粘合剂'\n",
    "    elif ipc_code == 'D01F' or ipc_code == 'D21H':\n",
    "        return '纤维和浆料'\n",
    "    elif ipc_code == 'C12N':\n",
    "        return '微生物或酶、其组合物'\n",
    "    elif ipc_code == 'A61K' or ipc_code == 'A24D':\n",
    "        return '医用、牙科用或化妆用的配制品、雪茄烟或纸烟的烟嘴'\n",
    "    else:\n",
    "        return '未分类'"
   ],
   "metadata": {
    "collapsed": false,
    "ExecuteTime": {
     "end_time": "2024-04-18T15:02:34.425784Z",
     "start_time": "2024-04-18T15:02:34.411584Z"
    }
   },
   "id": "a7efefe3e065d2c3",
   "execution_count": 4,
   "outputs": []
  },
  {
   "cell_type": "code",
   "source": [
    "# 添加新列存储类别信息\n",
    "df['类别'] = df['IPC主分类号'].apply(map_category)"
   ],
   "metadata": {
    "collapsed": false,
    "ExecuteTime": {
     "end_time": "2024-04-18T15:02:34.441999Z",
     "start_time": "2024-04-18T15:02:34.428353Z"
    }
   },
   "id": "843883a6ef7f894",
   "execution_count": 5,
   "outputs": []
  },
  {
   "cell_type": "code",
   "source": [
    "df"
   ],
   "metadata": {
    "collapsed": false,
    "ExecuteTime": {
     "end_time": "2024-04-18T15:02:36.558897Z",
     "start_time": "2024-04-18T15:02:36.518404Z"
    }
   },
   "id": "fb2c2cb38dd40f41",
   "execution_count": 6,
   "outputs": []
  },
  {
   "cell_type": "code",
   "source": [
    "df.to_excel('TAC分类后.xlsx',index=False)"
   ],
   "metadata": {
    "collapsed": false,
    "ExecuteTime": {
     "end_time": "2024-04-18T15:02:38.441603Z",
     "start_time": "2024-04-18T15:02:37.413743Z"
    }
   },
   "id": "769a17b03902f432",
   "execution_count": 7,
   "outputs": []
  },
  {
   "cell_type": "code",
   "source": [
    "data = {'专利总数': 15, '巴斯夫欧洲公司': 1, '英美烟草(投资)有限公司': 3, '比澳格(香港)有限公司': 1, 'PK MED': 1, '宝洁公司': 2, '南洋理工大学': 1, 'GDK COSMETICS CO LTD': 1, '牛津大学创新公司': 1, 'RUMINANT BIOTECH CORP LTD': 1, 'RUSHFORTH DAVID': 1, '国玺干细胞应用技术股份有限公司': 1, '菲利普莫里斯生产公司': 1}\n",
    "sorted_data = dict(sorted(data.items(), key=lambda x: x[1], reverse=True))\n",
    "\n",
    "print(sorted_data)\n"
   ],
   "metadata": {
    "collapsed": false,
    "ExecuteTime": {
     "end_time": "2024-02-15T15:57:21.721629200Z",
     "start_time": "2024-02-15T15:57:21.700511200Z"
    }
   },
   "id": "67c905fe842b8503",
   "execution_count": 25,
   "outputs": []
  }
 ],
 "metadata": {
  "kernelspec": {
   "display_name": "Python 3",
   "language": "python",
   "name": "python3"
  },
  "language_info": {
   "codemirror_mode": {
    "name": "ipython",
    "version": 2
   },
   "file_extension": ".py",
   "mimetype": "text/x-python",
   "name": "python",
   "nbconvert_exporter": "python",
   "pygments_lexer": "ipython2",
   "version": "2.7.6"
  }
 },
 "nbformat": 4,
 "nbformat_minor": 5
}
