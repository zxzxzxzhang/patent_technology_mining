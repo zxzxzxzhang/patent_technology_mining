{
 "cells": [
  {
   "cell_type": "code",
   "id": "initial_id",
   "metadata": {
    "collapsed": true
   },
   "source": [
    "import pandas as pd\n",
    "\n",
    "# 读取全部数据\n",
    "df = pd.read_excel('国家全称_译_删除已完成_(整合版)-00.xlsx')\n",
    "df"
   ],
   "outputs": [],
   "execution_count": null
  },
  {
   "metadata": {},
   "cell_type": "code",
   "source": [
    "df_bc = pd.read_csv('./network/被引/betweenness_centrality_patent.csv')\n",
    "df_bc"
   ],
   "id": "2dc7df2b8fcc8b28",
   "outputs": [],
   "execution_count": null
  },
  {
   "metadata": {},
   "cell_type": "code",
   "source": [
    "bc = df_bc.sort_values(by='Betweenness Centrality', ascending=False).head(10).reset_index(drop=True)\n",
    "bc"
   ],
   "id": "e297eb4947037d28",
   "outputs": [],
   "execution_count": null
  },
  {
   "metadata": {},
   "cell_type": "code",
   "source": [
    "df_cc = pd.read_csv('./network/被引/closeness_centrality_patent.csv')\n",
    "df_cc"
   ],
   "id": "aee93eeec7b64724",
   "outputs": [],
   "execution_count": null
  },
  {
   "metadata": {},
   "cell_type": "code",
   "source": [
    "cc = df_cc.sort_values(by='Closeness Centrality', ascending=False).head(10).reset_index(drop=True)\n",
    "cc"
   ],
   "id": "b37ed4645c87172f",
   "outputs": [],
   "execution_count": null
  },
  {
   "metadata": {},
   "cell_type": "code",
   "source": [
    "df1 = df[['公开(公告)号','IPC主分类号','标题']]\n",
    "df1['IPC主分类号'] = df1['IPC主分类号'].str[:4]"
   ],
   "id": "1027f4c6f0bc203c",
   "outputs": [],
   "execution_count": null
  },
  {
   "metadata": {},
   "cell_type": "code",
   "source": [
    "bc_df = df1[df1['公开(公告)号'].isin(bc)]\n",
    "bc_df['公开(公告)号'] = pd.Categorical(bc_df['公开(公告)号'], categories=bc, ordered=True)\n",
    "\n",
    "# 按照'公开(公告)号'列排序\n",
    "bc_df = bc_df.sort_values('公开(公告)号')\n",
    "bc_df"
   ],
   "id": "6c02ca29d383dbfc",
   "outputs": [],
   "execution_count": null
  },
  {
   "metadata": {},
   "cell_type": "code",
   "source": "bc_df.to_excel('bc_top10.xlsx', index=False)",
   "id": "2e489dea87f1fa22",
   "outputs": [],
   "execution_count": null
  },
  {
   "metadata": {},
   "cell_type": "code",
   "source": [
    "cc_df = df1[df1['公开(公告)号'].isin(cc)]\n",
    "# 使用pd.Categorical设置df的顺序\n",
    "cc_df['公开(公告)号'] = pd.Categorical(cc_df['公开(公告)号'], categories=cc, ordered=True)\n",
    "\n",
    "# 按照'公开(公告)号'列排序\n",
    "cc_df = cc_df.sort_values('公开(公告)号')\n",
    "cc_df"
   ],
   "id": "dc5ab47ebb28e946",
   "outputs": [],
   "execution_count": null
  },
  {
   "metadata": {},
   "cell_type": "code",
   "source": "cc_df.to_excel('cc_top10.xlsx', index=False)",
   "id": "384230e913a0eb92",
   "outputs": [],
   "execution_count": null
  }
 ],
 "metadata": {
  "kernelspec": {
   "display_name": "Python 3",
   "language": "python",
   "name": "python3"
  },
  "language_info": {
   "codemirror_mode": {
    "name": "ipython",
    "version": 2
   },
   "file_extension": ".py",
   "mimetype": "text/x-python",
   "name": "python",
   "nbconvert_exporter": "python",
   "pygments_lexer": "ipython2",
   "version": "2.7.6"
  }
 },
 "nbformat": 4,
 "nbformat_minor": 5
}
